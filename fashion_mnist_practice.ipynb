{
  "metadata": {
    "language_info": {
      "pygments_lexer": "ipython3",
      "nbconvert_exporter": "python",
      "version": "3.6.4",
      "file_extension": ".py",
      "codemirror_mode": {
        "name": "ipython",
        "version": 3
      },
      "name": "python",
      "mimetype": "text/x-python"
    },
    "kernelspec": {
      "language": "python",
      "display_name": "Python 3",
      "name": "python3"
    },
    "colab": {
      "name": "fashion-mnist-practice.ipynb",
      "provenance": [],
      "include_colab_link": true
    }
  },
  "nbformat_minor": 0,
  "nbformat": 4,
  "cells": [
    {
      "cell_type": "markdown",
      "metadata": {
        "id": "view-in-github",
        "colab_type": "text"
      },
      "source": [
        "<a href=\"https://colab.research.google.com/github/ejrtks1020/Deep_Learning/blob/main/fashion_mnist_practice.ipynb\" target=\"_parent\"><img src=\"https://colab.research.google.com/assets/colab-badge.svg\" alt=\"Open In Colab\"/></a>"
      ]
    },
    {
      "cell_type": "code",
      "source": [
        "# This Python 3 environment comes with many helpful analytics libraries installed\n",
        "# It is defined by the kaggle/python Docker image: https://github.com/kaggle/docker-python\n",
        "# For example, here's several helpful packages to load\n",
        "\n",
        "import numpy as np # linear algebra\n",
        "import pandas as pd # data processing, CSV file I/O (e.g. pd.read_csv)\n"
      ],
      "metadata": {
        "_uuid": "8f2839f25d086af736a60e9eeb907d3b93b6e0e5",
        "_cell_guid": "b1076dfc-b9ad-4769-8c92-a6c4dae69d19",
        "trusted": true,
        "id": "P4_6CXgKQmFQ"
      },
      "execution_count": 1,
      "outputs": []
    },
    {
      "cell_type": "markdown",
      "source": [
        "### Keras fashion mnist dataset을 다운로드\n",
        "* 5만개의 학습용, 1만개의 테스트용 grayscale image array를 다운로드"
      ],
      "metadata": {
        "id": "O0O3nIAnQmFU"
      }
    },
    {
      "cell_type": "code",
      "source": [
        "from tensorflow.keras.datasets import fashion_mnist\n",
        "\n",
        "# 전체 6만개 데이터 중, 5만개는 학습 데이터용, 1만개는 테스트 데이터용으로 분리\n",
        "(train_images, train_labels), (test_images, test_labels) = fashion_mnist.load_data()\n",
        "# image size는 28x28의 grayscale 2차원 데이터\n",
        "print(\"train dataset shape:\", train_images.shape, train_labels.shape)\n",
        "print(\"test dataset shape:\", test_images.shape, test_labels.shape)"
      ],
      "metadata": {
        "trusted": true,
        "colab": {
          "base_uri": "https://localhost:8080/"
        },
        "id": "WXX38ulHQmFV",
        "outputId": "e3577b08-4299-4ad7-829b-705a5968c7d0"
      },
      "execution_count": 2,
      "outputs": [
        {
          "output_type": "stream",
          "name": "stdout",
          "text": [
            "Downloading data from https://storage.googleapis.com/tensorflow/tf-keras-datasets/train-labels-idx1-ubyte.gz\n",
            "32768/29515 [=================================] - 0s 0us/step\n",
            "40960/29515 [=========================================] - 0s 0us/step\n",
            "Downloading data from https://storage.googleapis.com/tensorflow/tf-keras-datasets/train-images-idx3-ubyte.gz\n",
            "26427392/26421880 [==============================] - 0s 0us/step\n",
            "26435584/26421880 [==============================] - 0s 0us/step\n",
            "Downloading data from https://storage.googleapis.com/tensorflow/tf-keras-datasets/t10k-labels-idx1-ubyte.gz\n",
            "16384/5148 [===============================================================================================] - 0s 0us/step\n",
            "Downloading data from https://storage.googleapis.com/tensorflow/tf-keras-datasets/t10k-images-idx3-ubyte.gz\n",
            "4423680/4422102 [==============================] - 0s 0us/step\n",
            "4431872/4422102 [==============================] - 0s 0us/step\n",
            "train dataset shape: (60000, 28, 28) (60000,)\n",
            "test dataset shape: (10000, 28, 28) (10000,)\n"
          ]
        }
      ]
    },
    {
      "cell_type": "markdown",
      "source": [
        "### MNIST image array 시각화"
      ],
      "metadata": {
        "id": "RyRf2GL-QmFW"
      }
    },
    {
      "cell_type": "code",
      "source": [
        "import matplotlib.pyplot as plt\n",
        "%matplotlib inline\n",
        "\n",
        "plt.imshow(train_images[0], cmap='gray')\n",
        "plt.title(train_labels[0])"
      ],
      "metadata": {
        "trusted": true,
        "colab": {
          "base_uri": "https://localhost:8080/",
          "height": 300
        },
        "id": "K9A01pvqQmFX",
        "outputId": "7242f290-56de-44ac-925f-09fd9c500651"
      },
      "execution_count": 3,
      "outputs": [
        {
          "output_type": "execute_result",
          "data": {
            "text/plain": [
              "Text(0.5, 1.0, '9')"
            ]
          },
          "metadata": {},
          "execution_count": 3
        },
        {
          "output_type": "display_data",
          "data": {
            "image/png": "[encoded data removed]",
            "text/plain": [
              "<Figure size 432x288 with 1 Axes>"
            ]
          },
          "metadata": {
            "needs_background": "light"
          }
        }
      ]
    },
    {
      "cell_type": "code",
      "source": [
        "train_images[0, :, :], train_labels[0]"
      ],
      "metadata": {
        "trusted": true,
        "colab": {
          "base_uri": "https://localhost:8080/"
        },
        "id": "7vl6ABDgQmFY",
        "outputId": "3099b561-8501-450b-b826-f4f7bcbf93e8"
      },
      "execution_count": 4,
      "outputs": [
        {
          "output_type": "execute_result",
          "data": {
            "text/plain": [
              "(array([[  0,   0,   0,   0,   0,   0,   0,   0,   0,   0,   0,   0,   0,\n",
              "           0,   0,   0,   0,   0,   0,   0,   0,   0,   0,   0,   0,   0,\n",
              "           0,   0],\n",
              "        [  0,   0,   0,   0,   0,   0,   0,   0,   0,   0,   0,   0,   0,\n",
              "           0,   0,   0,   0,   0,   0,   0,   0,   0,   0,   0,   0,   0,\n",
              "           0,   0],\n",
              "        [  0,   0,   0,   0,   0,   0,   0,   0,   0,   0,   0,   0,   0,\n",
              "           0,   0,   0,   0,   0,   0,   0,   0,   0,   0,   0,   0,   0,\n",
              "           0,   0],\n",
              "        [  0,   0,   0,   0,   0,   0,   0,   0,   0,   0,   0,   0,   1,\n",
              "           0,   0,  13,  73,   0,   0,   1,   4,   0,   0,   0,   0,   1,\n",
              "           1,   0],\n",
              "        [  0,   0,   0,   0,   0,   0,   0,   0,   0,   0,   0,   0,   3,\n",
              "           0,  36, 136, 127,  62,  54,   0,   0,   0,   1,   3,   4,   0,\n",
              "           0,   3],\n",
              "        [  0,   0,   0,   0,   0,   0,   0,   0,   0,   0,   0,   0,   6,\n",
              "           0, 102, 204, 176, 134, 144, 123,  23,   0,   0,   0,   0,  12,\n",
              "          10,   0],\n",
              "        [  0,   0,   0,   0,   0,   0,   0,   0,   0,   0,   0,   0,   0,\n",
              "           0, 155, 236, 207, 178, 107, 156, 161, 109,  64,  23,  77, 130,\n",
              "          72,  15],\n",
              "        [  0,   0,   0,   0,   0,   0,   0,   0,   0,   0,   0,   1,   0,\n",
              "          69, 207, 223, 218, 216, 216, 163, 127, 121, 122, 146, 141,  88,\n",
              "         172,  66],\n",
              "        [  0,   0,   0,   0,   0,   0,   0,   0,   0,   1,   1,   1,   0,\n",
              "         200, 232, 232, 233, 229, 223, 223, 215, 213, 164, 127, 123, 196,\n",
              "         229,   0],\n",
              "        [  0,   0,   0,   0,   0,   0,   0,   0,   0,   0,   0,   0,   0,\n",
              "         183, 225, 216, 223, 228, 235, 227, 224, 222, 224, 221, 223, 245,\n",
              "         173,   0],\n",
              "        [  0,   0,   0,   0,   0,   0,   0,   0,   0,   0,   0,   0,   0,\n",
              "         193, 228, 218, 213, 198, 180, 212, 210, 211, 213, 223, 220, 243,\n",
              "         202,   0],\n",
              "        [  0,   0,   0,   0,   0,   0,   0,   0,   0,   1,   3,   0,  12,\n",
              "         219, 220, 212, 218, 192, 169, 227, 208, 218, 224, 212, 226, 197,\n",
              "         209,  52],\n",
              "        [  0,   0,   0,   0,   0,   0,   0,   0,   0,   0,   6,   0,  99,\n",
              "         244, 222, 220, 218, 203, 198, 221, 215, 213, 222, 220, 245, 119,\n",
              "         167,  56],\n",
              "        [  0,   0,   0,   0,   0,   0,   0,   0,   0,   4,   0,   0,  55,\n",
              "         236, 228, 230, 228, 240, 232, 213, 218, 223, 234, 217, 217, 209,\n",
              "          92,   0],\n",
              "        [  0,   0,   1,   4,   6,   7,   2,   0,   0,   0,   0,   0, 237,\n",
              "         226, 217, 223, 222, 219, 222, 221, 216, 223, 229, 215, 218, 255,\n",
              "          77,   0],\n",
              "        [  0,   3,   0,   0,   0,   0,   0,   0,   0,  62, 145, 204, 228,\n",
              "         207, 213, 221, 218, 208, 211, 218, 224, 223, 219, 215, 224, 244,\n",
              "         159,   0],\n",
              "        [  0,   0,   0,   0,  18,  44,  82, 107, 189, 228, 220, 222, 217,\n",
              "         226, 200, 205, 211, 230, 224, 234, 176, 188, 250, 248, 233, 238,\n",
              "         215,   0],\n",
              "        [  0,  57, 187, 208, 224, 221, 224, 208, 204, 214, 208, 209, 200,\n",
              "         159, 245, 193, 206, 223, 255, 255, 221, 234, 221, 211, 220, 232,\n",
              "         246,   0],\n",
              "        [  3, 202, 228, 224, 221, 211, 211, 214, 205, 205, 205, 220, 240,\n",
              "          80, 150, 255, 229, 221, 188, 154, 191, 210, 204, 209, 222, 228,\n",
              "         225,   0],\n",
              "        [ 98, 233, 198, 210, 222, 229, 229, 234, 249, 220, 194, 215, 217,\n",
              "         241,  65,  73, 106, 117, 168, 219, 221, 215, 217, 223, 223, 224,\n",
              "         229,  29],\n",
              "        [ 75, 204, 212, 204, 193, 205, 211, 225, 216, 185, 197, 206, 198,\n",
              "         213, 240, 195, 227, 245, 239, 223, 218, 212, 209, 222, 220, 221,\n",
              "         230,  67],\n",
              "        [ 48, 203, 183, 194, 213, 197, 185, 190, 194, 192, 202, 214, 219,\n",
              "         221, 220, 236, 225, 216, 199, 206, 186, 181, 177, 172, 181, 205,\n",
              "         206, 115],\n",
              "        [  0, 122, 219, 193, 179, 171, 183, 196, 204, 210, 213, 207, 211,\n",
              "         210, 200, 196, 194, 191, 195, 191, 198, 192, 176, 156, 167, 177,\n",
              "         210,  92],\n",
              "        [  0,   0,  74, 189, 212, 191, 175, 172, 175, 181, 185, 188, 189,\n",
              "         188, 193, 198, 204, 209, 210, 210, 211, 188, 188, 194, 192, 216,\n",
              "         170,   0],\n",
              "        [  2,   0,   0,   0,  66, 200, 222, 237, 239, 242, 246, 243, 244,\n",
              "         221, 220, 193, 191, 179, 182, 182, 181, 176, 166, 168,  99,  58,\n",
              "           0,   0],\n",
              "        [  0,   0,   0,   0,   0,   0,   0,  40,  61,  44,  72,  41,  35,\n",
              "           0,   0,   0,   0,   0,   0,   0,   0,   0,   0,   0,   0,   0,\n",
              "           0,   0],\n",
              "        [  0,   0,   0,   0,   0,   0,   0,   0,   0,   0,   0,   0,   0,\n",
              "           0,   0,   0,   0,   0,   0,   0,   0,   0,   0,   0,   0,   0,\n",
              "           0,   0],\n",
              "        [  0,   0,   0,   0,   0,   0,   0,   0,   0,   0,   0,   0,   0,\n",
              "           0,   0,   0,   0,   0,   0,   0,   0,   0,   0,   0,   0,   0,\n",
              "           0,   0]], dtype=uint8), 9)"
            ]
          },
          "metadata": {},
          "execution_count": 4
        }
      ]
    },
    {
      "cell_type": "code",
      "source": [
        "import matplotlib.pyplot as plt\n",
        "%matplotlib inline \n",
        "\n",
        "class_names = ['T-shirt/top', 'Trouser', 'Pullover', 'Dress', 'Coat','Sandal', 'Shirt', 'Sneaker', 'Bag', 'Ankle boot']\n",
        "\n",
        "def show_images(images, labels, ncols=8):\n",
        "    figure, axs = plt.subplots(figsize=(22, 6), nrows=1, ncols=ncols)\n",
        "    for i in range(ncols):\n",
        "        axs[i].imshow(images[i], cmap='gray')\n",
        "        axs[i].set_title(class_names[labels[i]])\n",
        "        \n",
        "show_images(train_images[:8], train_labels[:8], ncols=8)\n",
        "show_images(train_images[8:16], train_labels[8:16], ncols=8)"
      ],
      "metadata": {
        "trusted": true,
        "colab": {
          "base_uri": "https://localhost:8080/",
          "height": 257
        },
        "id": "WHaKOCXGQmFZ",
        "outputId": "ae224d75-f72b-4997-baf1-5a48cae572b3"
      },
      "execution_count": 5,
      "outputs": [
        {
          "output_type": "display_data",
          "data": {
            "image/png": "[encoded data removed]",
            "text/plain": [
              "<Figure size 1584x432 with 8 Axes>"
            ]
          },
          "metadata": {
            "needs_background": "light"
          }
        },
        {
          "output_type": "display_data",
          "data": {
            "image/png": "[encoded data removed]",
            "text/plain": [
              "<Figure size 1584x432 with 8 Axes>"
            ]
          },
          "metadata": {
            "needs_background": "light"
          }
        }
      ]
    },
    {
      "cell_type": "markdown",
      "source": [
        "### 데이터 전처리 수행. \n",
        "* 0 ~ 255 사이의 픽셀값을 0 ~ 1 사이 값으로 변환. \n",
        "* array type은 float 32"
      ],
      "metadata": {
        "id": "io6bcvDmQmFa"
      }
    },
    {
      "cell_type": "code",
      "source": [
        "(train_images, train_labels), (test_images, test_labels) = fashion_mnist.load_data()\n",
        "\n",
        "def get_preprocessed_data(images, labels):\n",
        "    \n",
        "    # 학습과 테스트 이미지 array를 0~1 사이값으로 scale 및 float32 형 변형. \n",
        "    images = np.array(images/255.0, dtype=np.float32)\n",
        "    labels = np.array(labels, dtype=np.float32)\n",
        "    \n",
        "    return images, labels\n",
        "\n",
        "train_images, train_labels = get_preprocessed_data(train_images, train_labels)\n",
        "test_images, test_labels = get_preprocessed_data(test_images, test_labels)\n",
        "\n",
        "print(\"train dataset shape:\", train_images.shape, train_labels.shape)\n",
        "print(\"test dataset shape:\", test_images.shape, test_labels.shape)\n"
      ],
      "metadata": {
        "trusted": true,
        "colab": {
          "base_uri": "https://localhost:8080/"
        },
        "id": "o7FSHlMXQmFa",
        "outputId": "e77492c5-1ad7-48a3-92f3-3da15bb87f57"
      },
      "execution_count": 6,
      "outputs": [
        {
          "output_type": "stream",
          "name": "stdout",
          "text": [
            "train dataset shape: (60000, 28, 28) (60000,)\n",
            "test dataset shape: (10000, 28, 28) (10000,)\n"
          ]
        }
      ]
    },
    {
      "cell_type": "code",
      "source": [
        "train_images[0]"
      ],
      "metadata": {
        "trusted": true,
        "id": "gRNIYeKLQmFb"
      },
      "execution_count": null,
      "outputs": []
    },
    {
      "cell_type": "markdown",
      "source": [
        "### Dense Layer를 기반으로 모델을 생성"
      ],
      "metadata": {
        "id": "qiGY36VcQmFb"
      }
    },
    {
      "cell_type": "code",
      "source": [
        "INPUT_SIZE = 28"
      ],
      "metadata": {
        "trusted": true,
        "id": "Hr0yWk0-QmFc"
      },
      "execution_count": 8,
      "outputs": []
    },
    {
      "cell_type": "code",
      "source": [
        "from tensorflow.keras.layers import Dense, Flatten\n",
        "from tensorflow.keras.models import Sequential\n",
        "\n",
        "model = Sequential([\n",
        "    Flatten(input_shape=(INPUT_SIZE, INPUT_SIZE)),\n",
        "    Dense(100, activation='relu'),\n",
        "    Dense(30, activation='relu'),\n",
        "    Dense(10, activation='softmax')\n",
        "])\n",
        "\n",
        "model.summary()\n"
      ],
      "metadata": {
        "trusted": true,
        "colab": {
          "base_uri": "https://localhost:8080/"
        },
        "id": "TYnISt9EQmFc",
        "outputId": "26b80a27-d4ea-454f-b291-381eead2602f"
      },
      "execution_count": 9,
      "outputs": [
        {
          "output_type": "stream",
          "name": "stdout",
          "text": [
            "Model: \"sequential\"\n",
            "_________________________________________________________________\n",
            " Layer (type)                Output Shape              Param #   \n",
            "=================================================================\n",
            " flatten (Flatten)           (None, 784)               0         \n",
            "                                                                 \n",
            " dense (Dense)               (None, 100)               78500     \n",
            "                                                                 \n",
            " dense_1 (Dense)             (None, 30)                3030      \n",
            "                                                                 \n",
            " dense_2 (Dense)             (None, 10)                310       \n",
            "                                                                 \n",
            "=================================================================\n",
            "Total params: 81,840\n",
            "Trainable params: 81,840\n",
            "Non-trainable params: 0\n",
            "_________________________________________________________________\n"
          ]
        }
      ]
    },
    {
      "cell_type": "markdown",
      "source": [
        "### 모델의 Loss와 Optimizer 설정하고 학습 수행\n",
        "* loss는 categorical_crossentropy로, optimizer는 Adam으로 설정\n",
        "* categorical crossentropy를 위해서 Lable을 OHE(One Hot Encoding) 로 변경\n",
        "* OHE를 사용하지 않을거라면 Sparse Cartegorical Crossentropy 사용"
      ],
      "metadata": {
        "id": "XFcAyh6ZQmFc"
      }
    },
    {
      "cell_type": "code",
      "source": [
        "from tensorflow.keras.optimizers import Adam\n",
        "from tensorflow.keras.losses import CategoricalCrossentropy\n",
        "from tensorflow.keras.metrics import Accuracy\n",
        "\n",
        "model.compile(optimizer=Adam(0.001), loss='categorical_crossentropy', metrics=['accuracy'])"
      ],
      "metadata": {
        "trusted": true,
        "id": "KW65Og6DQmFd"
      },
      "execution_count": 10,
      "outputs": []
    },
    {
      "cell_type": "code",
      "source": [
        "from tensorflow.keras.utils import to_categorical\n",
        "\n",
        "train_oh_labels = to_categorical(train_labels)\n",
        "test_oh_labels = to_categorical(test_labels)\n",
        "\n",
        "print(train_oh_labels.shape, test_oh_labels.shape)"
      ],
      "metadata": {
        "trusted": true,
        "colab": {
          "base_uri": "https://localhost:8080/"
        },
        "id": "LufjnbgIQmFd",
        "outputId": "5f052218-6bbc-49c5-921f-b18992075dd0"
      },
      "execution_count": 11,
      "outputs": [
        {
          "output_type": "stream",
          "name": "stdout",
          "text": [
            "(60000, 10) (10000, 10)\n"
          ]
        }
      ]
    },
    {
      "cell_type": "code",
      "source": [
        "train_images.shape"
      ],
      "metadata": {
        "trusted": true,
        "colab": {
          "base_uri": "https://localhost:8080/"
        },
        "id": "Y6rDepMTQmFe",
        "outputId": "01ccd526-874a-4988-82ea-57f04b5842c9"
      },
      "execution_count": 12,
      "outputs": [
        {
          "output_type": "execute_result",
          "data": {
            "text/plain": [
              "(60000, 28, 28)"
            ]
          },
          "metadata": {},
          "execution_count": 12
        }
      ]
    },
    {
      "cell_type": "code",
      "source": [
        "history = model.fit(x=train_images, y=train_oh_labels, batch_size=32, epochs=20, verbose=1)"
      ],
      "metadata": {
        "trusted": true,
        "colab": {
          "base_uri": "https://localhost:8080/"
        },
        "id": "R80mZ5eiQmFe",
        "outputId": "8583a1f7-6b3b-4f97-d102-7e1131bb8a96"
      },
      "execution_count": 13,
      "outputs": [
        {
          "output_type": "stream",
          "name": "stdout",
          "text": [
            "Epoch 1/20\n",
            "1875/1875 [==============================] - 4s 2ms/step - loss: 0.5213 - accuracy: 0.8164\n",
            "Epoch 2/20\n",
            "1875/1875 [==============================] - 4s 2ms/step - loss: 0.3781 - accuracy: 0.8618\n",
            "Epoch 3/20\n",
            "1875/1875 [==============================] - 4s 2ms/step - loss: 0.3424 - accuracy: 0.8752\n",
            "Epoch 4/20\n",
            "1875/1875 [==============================] - 4s 2ms/step - loss: 0.3216 - accuracy: 0.8815\n",
            "Epoch 5/20\n",
            "1875/1875 [==============================] - 4s 2ms/step - loss: 0.3017 - accuracy: 0.8878\n",
            "Epoch 6/20\n",
            "1875/1875 [==============================] - 4s 2ms/step - loss: 0.2884 - accuracy: 0.8935\n",
            "Epoch 7/20\n",
            "1875/1875 [==============================] - 4s 2ms/step - loss: 0.2774 - accuracy: 0.8973\n",
            "Epoch 8/20\n",
            "1875/1875 [==============================] - 4s 2ms/step - loss: 0.2657 - accuracy: 0.9005\n",
            "Epoch 9/20\n",
            "1875/1875 [==============================] - 4s 2ms/step - loss: 0.2569 - accuracy: 0.9031\n",
            "Epoch 10/20\n",
            "1875/1875 [==============================] - 4s 2ms/step - loss: 0.2495 - accuracy: 0.9059\n",
            "Epoch 11/20\n",
            "1875/1875 [==============================] - 4s 2ms/step - loss: 0.2406 - accuracy: 0.9097\n",
            "Epoch 12/20\n",
            "1875/1875 [==============================] - 4s 2ms/step - loss: 0.2359 - accuracy: 0.9110\n",
            "Epoch 13/20\n",
            "1875/1875 [==============================] - 4s 2ms/step - loss: 0.2273 - accuracy: 0.9140\n",
            "Epoch 14/20\n",
            "1875/1875 [==============================] - 4s 2ms/step - loss: 0.2218 - accuracy: 0.9153\n",
            "Epoch 15/20\n",
            "1875/1875 [==============================] - 4s 2ms/step - loss: 0.2163 - accuracy: 0.9190\n",
            "Epoch 16/20\n",
            "1875/1875 [==============================] - 4s 2ms/step - loss: 0.2126 - accuracy: 0.9191\n",
            "Epoch 17/20\n",
            "1875/1875 [==============================] - 4s 2ms/step - loss: 0.2044 - accuracy: 0.9222\n",
            "Epoch 18/20\n",
            "1875/1875 [==============================] - 4s 2ms/step - loss: 0.2027 - accuracy: 0.9240\n",
            "Epoch 19/20\n",
            "1875/1875 [==============================] - 4s 2ms/step - loss: 0.1954 - accuracy: 0.9267\n",
            "Epoch 20/20\n",
            "1875/1875 [==============================] - 4s 2ms/step - loss: 0.1926 - accuracy: 0.9269\n"
          ]
        }
      ]
    },
    {
      "cell_type": "code",
      "source": [
        "print(history.history['loss'])\n",
        "print(history.history['accuracy'])\n"
      ],
      "metadata": {
        "trusted": true,
        "colab": {
          "base_uri": "https://localhost:8080/"
        },
        "id": "oxgOQ6FdQmFe",
        "outputId": "43559b12-8c0a-4534-8b98-4beb8be859b7"
      },
      "execution_count": 14,
      "outputs": [
        {
          "output_type": "stream",
          "name": "stdout",
          "text": [
            "[0.5213015079498291, 0.3781217634677887, 0.342426061630249, 0.32155078649520874, 0.3016594648361206, 0.2884361445903778, 0.2774319350719452, 0.26566842198371887, 0.2569391131401062, 0.24946609139442444, 0.24063566327095032, 0.23591363430023193, 0.2272687554359436, 0.2218334972858429, 0.21625863015651703, 0.21260319650173187, 0.20440302789211273, 0.20271609723567963, 0.19538214802742004, 0.19263488054275513]\n",
            "[0.8164166808128357, 0.8618333339691162, 0.8751500248908997, 0.8815000057220459, 0.8878166675567627, 0.8935166597366333, 0.8973000049591064, 0.9005333185195923, 0.9031000137329102, 0.9058833122253418, 0.9097333550453186, 0.9110000133514404, 0.9139999747276306, 0.9153333306312561, 0.9189666509628296, 0.9190666675567627, 0.9221500158309937, 0.9240166544914246, 0.9266833066940308, 0.9269499778747559]\n"
          ]
        }
      ]
    },
    {
      "cell_type": "markdown",
      "source": [
        "### 테스트 데이터를 기반으로 Label 값 예측\n",
        "* model.predict()를 이용하여 label값 예측\n",
        "* predict()의 인자로 입력되는 feature array는 학습의 feature array와 shape가 동일해야함. \n",
        "* fit() 시 3차원(28x28 2차원 array가 여러개 존재) array 입력 했으므로 predict()도 동일한 3차원 데이터 입력\n",
        "* 특히 한건만 predict() 할때도 3차원 데이터여야 함. 이를 위해 expand_dims()로 2차원 image 배열을 3차원으로 변경"
      ],
      "metadata": {
        "id": "6x4L70_sQmFe"
      }
    },
    {
      "cell_type": "code",
      "source": [
        "test_images.shape"
      ],
      "metadata": {
        "trusted": true,
        "colab": {
          "base_uri": "https://localhost:8080/"
        },
        "id": "0HMsjx4WQmFf",
        "outputId": "dc0eb06b-2885-440f-9270-89d447b43ef4"
      },
      "execution_count": 18,
      "outputs": [
        {
          "output_type": "execute_result",
          "data": {
            "text/plain": [
              "(10000, 28, 28)"
            ]
          },
          "metadata": {},
          "execution_count": 18
        }
      ]
    },
    {
      "cell_type": "code",
      "source": [
        "pred_proba = model.predict(test_images)\n",
        "print(pred_proba.shape)"
      ],
      "metadata": {
        "trusted": true,
        "colab": {
          "base_uri": "https://localhost:8080/"
        },
        "id": "LIyDcpVsQmFf",
        "outputId": "2b287ea4-94f2-424c-e641-0f451a86027f"
      },
      "execution_count": 19,
      "outputs": [
        {
          "output_type": "stream",
          "name": "stdout",
          "text": [
            "(10000, 10)\n"
          ]
        }
      ]
    },
    {
      "cell_type": "code",
      "source": [
        "np.expand_dims(test_images[0], axis=0).shape"
      ],
      "metadata": {
        "trusted": true,
        "colab": {
          "base_uri": "https://localhost:8080/"
        },
        "id": "_UMS_CcWQmFf",
        "outputId": "64f06094-caf5-4333-f1fe-bd3d4ad2c757"
      },
      "execution_count": 20,
      "outputs": [
        {
          "output_type": "execute_result",
          "data": {
            "text/plain": [
              "(1, 28, 28)"
            ]
          },
          "metadata": {},
          "execution_count": 20
        }
      ]
    },
    {
      "cell_type": "code",
      "source": [
        "# 모델의 input shape는 2차원, 학습은 3차원(배치포함), 따라서 테스트도 3차원으로 진행해야함\n",
        "pred_proba = model.predict(np.expand_dims(test_images[0], axis=0))\n",
        "print('softmax output:', pred_proba)\n",
        "pred = np.argmax(np.squeeze(pred_proba))\n",
        "print('predicted class value:', pred)\n"
      ],
      "metadata": {
        "trusted": true,
        "colab": {
          "base_uri": "https://localhost:8080/"
        },
        "id": "KRem6Q-MQmFf",
        "outputId": "39994966-d44b-4e29-8f87-6d67d56c602c"
      },
      "execution_count": 21,
      "outputs": [
        {
          "output_type": "stream",
          "name": "stdout",
          "text": [
            "softmax output: [[1.2007147e-08 4.6006216e-13 4.7665869e-12 4.1993378e-09 4.2375816e-12\n",
            "  3.2962082e-05 2.7953886e-09 2.1479102e-03 6.7466623e-09 9.9781907e-01]]\n",
            "predicted class value: 9\n"
          ]
        }
      ]
    },
    {
      "cell_type": "code",
      "source": [
        "class_names = ['T-shirt/top', 'Trouser', 'Pullover', 'Dress', 'Coat','Sandal', 'Shirt', 'Sneaker', 'Bag', 'Ankle boot']\n",
        "print('target class value:', test_labels[0], 'predicted class value:', pred)"
      ],
      "metadata": {
        "trusted": true,
        "colab": {
          "base_uri": "https://localhost:8080/"
        },
        "id": "DoOqcQScQmFg",
        "outputId": "d4508ac5-d6bb-4ea0-f92d-095d381f5880"
      },
      "execution_count": 22,
      "outputs": [
        {
          "output_type": "stream",
          "name": "stdout",
          "text": [
            "target class value: 9.0 predicted class value: 9\n"
          ]
        }
      ]
    },
    {
      "cell_type": "markdown",
      "source": [
        "### 테스트 데이터 세트로 모델 성능 검증"
      ],
      "metadata": {
        "id": "_3S5ihXsQmFg"
      }
    },
    {
      "cell_type": "code",
      "source": [
        "model.evaluate(test_images, test_oh_labels, batch_size=64)"
      ],
      "metadata": {
        "trusted": true,
        "colab": {
          "base_uri": "https://localhost:8080/"
        },
        "id": "Jeufy9WVQmFg",
        "outputId": "3b9c0b65-d7c2-4a45-ed8d-7e7e09347107"
      },
      "execution_count": 23,
      "outputs": [
        {
          "output_type": "stream",
          "name": "stdout",
          "text": [
            "157/157 [==============================] - 0s 2ms/step - loss: 0.3790 - accuracy: 0.8783\n"
          ]
        },
        {
          "output_type": "execute_result",
          "data": {
            "text/plain": [
              "[0.37896278500556946, 0.8783000111579895]"
            ]
          },
          "metadata": {},
          "execution_count": 23
        }
      ]
    },
    {
      "cell_type": "markdown",
      "source": [
        "### 검증 데이터 세트를 이용하여 학습 수행. \n",
        "* 일반적으로 fit() 수행시 별도의 검증 데이터 세트를 이용하여 학습 시 과적합(Overfitting)이 발생하는지 모니터링\n",
        "* fit()을 수행하면 iteration을 반복하기 때문에 중간에 하이퍼파라미터 변경(예: Learning Rate)등의 작업이 어려움. \n",
        "* fit() iteration시 여러 작업을 하기 위해 Callback 객체를 가짐. \n",
        "* 검증 데이터 세트를 fit() 시 적용하여 과적합이나 더이상 검증 데이터 성능이 좋아 지지 않을 때 Callback을 사용하여 Learning Rate 보정 작업등을 수행 가능"
      ],
      "metadata": {
        "id": "nXw8S_6YQmFg"
      }
    },
    {
      "cell_type": "code",
      "source": [
        "import numpy as np \n",
        "import pandas as pd\n",
        "from tensorflow.keras.datasets import fashion_mnist\n",
        "\n",
        "(train_images, train_labels), (test_images, test_labels) = fashion_mnist.load_data()\n",
        "\n",
        "def get_preprocessed_data(images, labels):\n",
        "    \n",
        "    # 학습과 테스트 이미지 array를 0~1 사이값으로 scale 및 float32 형 변형. \n",
        "    images = np.array(images/255.0, dtype=np.float32)\n",
        "    labels = np.array(labels, dtype=np.float32)\n",
        "    \n",
        "    return images, labels\n",
        "\n",
        "train_images, train_labels = get_preprocessed_data(train_images, train_labels)\n",
        "test_images, test_labels = get_preprocessed_data(test_images, test_labels)"
      ],
      "metadata": {
        "trusted": true,
        "id": "B_3mBBx1QmFg"
      },
      "execution_count": 24,
      "outputs": []
    },
    {
      "cell_type": "code",
      "source": [
        "from sklearn.model_selection import train_test_split\n",
        "from tensorflow.keras.utils import to_categorical\n",
        "\n",
        "# 기존 학습 데이터를 다시 학습과 검증 데이터 세트로 분리\n",
        "tr_images, val_images, tr_labels, val_labels = train_test_split(train_images, train_labels, test_size=0.15, random_state=2021)\n",
        "print('train과 validation shape:', tr_images.shape, tr_labels.shape, val_images.shape, val_labels.shape)\n",
        "\n",
        "# OHE 적용\n",
        "tr_oh_labels = to_categorical(tr_labels)\n",
        "val_oh_labels = to_categorical(val_labels)\n",
        "\n",
        "print('after OHE:', tr_oh_labels.shape, val_oh_labels.shape)"
      ],
      "metadata": {
        "trusted": true,
        "colab": {
          "base_uri": "https://localhost:8080/"
        },
        "id": "A301rRhJQmFh",
        "outputId": "8b975829-e758-40ec-d7cb-9ea0de538db7"
      },
      "execution_count": 25,
      "outputs": [
        {
          "output_type": "stream",
          "name": "stdout",
          "text": [
            "train과 validation shape: (51000, 28, 28) (51000,) (9000, 28, 28) (9000,)\n",
            "after OHE: (51000, 10) (9000, 10)\n"
          ]
        }
      ]
    },
    {
      "cell_type": "markdown",
      "source": [
        "### 검증 데이터 세트를 적용하여 학습 수행. "
      ],
      "metadata": {
        "id": "EhcOIDupQmFh"
      }
    },
    {
      "cell_type": "code",
      "source": [
        "from tensorflow.keras.layers import Dense, Flatten\n",
        "from tensorflow.keras.models import Sequential\n",
        "from tensorflow.keras.optimizers import Adam\n",
        "\n",
        "INPUT_SIZE = 28\n",
        "model = Sequential([\n",
        "    Flatten(input_shape=(INPUT_SIZE, INPUT_SIZE)),\n",
        "    Dense(100, activation='relu'),\n",
        "    Dense(30, activation='relu'),\n",
        "    Dense(10, activation='softmax')\n",
        "])\n",
        "\n",
        "model.compile(optimizer=Adam(0.001), loss='categorical_crossentropy', metrics=['accuracy'])"
      ],
      "metadata": {
        "trusted": true,
        "id": "_MwrdrXkQmFh"
      },
      "execution_count": 26,
      "outputs": []
    },
    {
      "cell_type": "code",
      "source": [
        "history = model.fit(x=tr_images, y=tr_oh_labels, batch_size=128, validation_data=(val_images, val_oh_labels), \n",
        "                    epochs=20, verbose=1)"
      ],
      "metadata": {
        "trusted": true,
        "colab": {
          "base_uri": "https://localhost:8080/"
        },
        "id": "9GSM__riQmFh",
        "outputId": "833e4c65-5665-4a6d-eb89-bb1757754ac2"
      },
      "execution_count": 27,
      "outputs": [
        {
          "output_type": "stream",
          "name": "stdout",
          "text": [
            "Epoch 1/20\n",
            "399/399 [==============================] - 2s 4ms/step - loss: 0.5909 - accuracy: 0.7967 - val_loss: 0.4591 - val_accuracy: 0.8384\n",
            "Epoch 2/20\n",
            "399/399 [==============================] - 1s 4ms/step - loss: 0.4086 - accuracy: 0.8567 - val_loss: 0.4131 - val_accuracy: 0.8479\n",
            "Epoch 3/20\n",
            "399/399 [==============================] - 1s 4ms/step - loss: 0.3691 - accuracy: 0.8690 - val_loss: 0.3720 - val_accuracy: 0.8652\n",
            "Epoch 4/20\n",
            "399/399 [==============================] - 1s 4ms/step - loss: 0.3421 - accuracy: 0.8765 - val_loss: 0.3843 - val_accuracy: 0.8612\n",
            "Epoch 5/20\n",
            "399/399 [==============================] - 1s 3ms/step - loss: 0.3242 - accuracy: 0.8819 - val_loss: 0.3696 - val_accuracy: 0.8674\n",
            "Epoch 6/20\n",
            "399/399 [==============================] - 1s 3ms/step - loss: 0.3072 - accuracy: 0.8875 - val_loss: 0.3358 - val_accuracy: 0.8793\n",
            "Epoch 7/20\n",
            "399/399 [==============================] - 1s 4ms/step - loss: 0.2952 - accuracy: 0.8924 - val_loss: 0.3444 - val_accuracy: 0.8734\n",
            "Epoch 8/20\n",
            "399/399 [==============================] - 1s 4ms/step - loss: 0.2822 - accuracy: 0.8972 - val_loss: 0.3302 - val_accuracy: 0.8772\n",
            "Epoch 9/20\n",
            "399/399 [==============================] - 1s 4ms/step - loss: 0.2735 - accuracy: 0.8995 - val_loss: 0.3264 - val_accuracy: 0.8801\n",
            "Epoch 10/20\n",
            "399/399 [==============================] - 1s 3ms/step - loss: 0.2665 - accuracy: 0.9020 - val_loss: 0.3133 - val_accuracy: 0.8866\n",
            "Epoch 11/20\n",
            "399/399 [==============================] - 1s 4ms/step - loss: 0.2567 - accuracy: 0.9048 - val_loss: 0.3192 - val_accuracy: 0.8832\n",
            "Epoch 12/20\n",
            "399/399 [==============================] - 1s 3ms/step - loss: 0.2510 - accuracy: 0.9073 - val_loss: 0.3165 - val_accuracy: 0.8888\n",
            "Epoch 13/20\n",
            "399/399 [==============================] - 1s 3ms/step - loss: 0.2380 - accuracy: 0.9132 - val_loss: 0.3214 - val_accuracy: 0.8848\n",
            "Epoch 14/20\n",
            "399/399 [==============================] - 1s 4ms/step - loss: 0.2340 - accuracy: 0.9131 - val_loss: 0.3171 - val_accuracy: 0.8866\n",
            "Epoch 15/20\n",
            "399/399 [==============================] - 1s 3ms/step - loss: 0.2290 - accuracy: 0.9152 - val_loss: 0.3406 - val_accuracy: 0.8780\n",
            "Epoch 16/20\n",
            "399/399 [==============================] - 1s 4ms/step - loss: 0.2233 - accuracy: 0.9187 - val_loss: 0.3172 - val_accuracy: 0.8878\n",
            "Epoch 17/20\n",
            "399/399 [==============================] - 1s 4ms/step - loss: 0.2195 - accuracy: 0.9186 - val_loss: 0.3281 - val_accuracy: 0.8869\n",
            "Epoch 18/20\n",
            "399/399 [==============================] - 1s 3ms/step - loss: 0.2126 - accuracy: 0.9210 - val_loss: 0.3197 - val_accuracy: 0.8861\n",
            "Epoch 19/20\n",
            "399/399 [==============================] - 1s 4ms/step - loss: 0.2073 - accuracy: 0.9230 - val_loss: 0.3275 - val_accuracy: 0.8858\n",
            "Epoch 20/20\n",
            "399/399 [==============================] - 1s 3ms/step - loss: 0.2005 - accuracy: 0.9265 - val_loss: 0.3295 - val_accuracy: 0.8873\n"
          ]
        }
      ]
    },
    {
      "cell_type": "code",
      "source": [
        "print(history.history['loss'])\n",
        "print(history.history['accuracy'])\n",
        "print(history.history['val_loss'])\n",
        "print(history.history['val_accuracy'])"
      ],
      "metadata": {
        "trusted": true,
        "colab": {
          "base_uri": "https://localhost:8080/"
        },
        "id": "enM8llIiQmFh",
        "outputId": "dcd6d8c5-a9da-4507-99d1-869dbe627e9f"
      },
      "execution_count": 28,
      "outputs": [
        {
          "output_type": "stream",
          "name": "stdout",
          "text": [
            "[0.5908641219139099, 0.4086112082004547, 0.3690655529499054, 0.3420960605144501, 0.3242325782775879, 0.30721357464790344, 0.2951543927192688, 0.2822238504886627, 0.27354177832603455, 0.2664751410484314, 0.25673434138298035, 0.25104716420173645, 0.2380281537771225, 0.2340305596590042, 0.22902794182300568, 0.22334881126880646, 0.2195347547531128, 0.21262964606285095, 0.20732919871807098, 0.2005188763141632]\n",
            "[0.7967451214790344, 0.856705904006958, 0.8690392374992371, 0.8765293955802917, 0.88188236951828, 0.887509822845459, 0.8924117684364319, 0.8971960544586182, 0.8994901776313782, 0.9020392298698425, 0.9047843217849731, 0.9073333144187927, 0.9132353067398071, 0.9130980372428894, 0.9152156710624695, 0.9186862707138062, 0.9186078310012817, 0.9209803938865662, 0.9230391979217529, 0.9265490174293518]\n",
            "[0.45909130573272705, 0.41310685873031616, 0.3720285892486572, 0.3843359351158142, 0.36959248781204224, 0.3358219265937805, 0.3444114327430725, 0.33022597432136536, 0.3263908326625824, 0.3133162260055542, 0.31923171877861023, 0.31646037101745605, 0.3213914632797241, 0.31714874505996704, 0.3406194746494293, 0.3172141909599304, 0.32811012864112854, 0.3196638524532318, 0.32751011848449707, 0.3294943571090698]\n",
            "[0.8384444713592529, 0.8478888869285583, 0.8652222156524658, 0.8612222075462341, 0.8674444556236267, 0.8793333172798157, 0.8734444379806519, 0.8772222399711609, 0.8801110982894897, 0.886555552482605, 0.883222222328186, 0.8887777924537659, 0.8847777843475342, 0.886555552482605, 0.878000020980835, 0.8877778053283691, 0.886888861656189, 0.8861111402511597, 0.8857777714729309, 0.887333333492279]\n"
          ]
        }
      ]
    },
    {
      "cell_type": "code",
      "source": [
        "import matplotlib.pyplot as plt\n",
        "%matplotlib inline\n",
        "\n",
        "plt.plot(history.history['accuracy'], label='train')\n",
        "plt.plot(history.history['val_accuracy'], label='valid')\n",
        "plt.legend()"
      ],
      "metadata": {
        "trusted": true,
        "colab": {
          "base_uri": "https://localhost:8080/",
          "height": 283
        },
        "id": "eFXJu8SeQmFi",
        "outputId": "3f3e20b0-7dae-4f9b-c005-d4b9ba3d87b9"
      },
      "execution_count": 29,
      "outputs": [
        {
          "output_type": "execute_result",
          "data": {
            "text/plain": [
              "<matplotlib.legend.Legend at 0x7f0ac5129390>"
            ]
          },
          "metadata": {},
          "execution_count": 29
        },
        {
          "output_type": "display_data",
          "data": {
            "image/png": "[encoded data removed]",
            "text/plain": [
              "<Figure size 432x288 with 1 Axes>"
            ]
          },
          "metadata": {
            "needs_background": "light"
          }
        }
      ]
    },
    {
      "cell_type": "markdown",
      "source": [
        "### Functional API"
      ],
      "metadata": {
        "id": "nbEDTqvFQmFi"
      }
    },
    {
      "cell_type": "code",
      "source": [
        "# Sequential Model을 이용하여 Keras 모델 생성 \n",
        "from tensorflow.keras.layers import Dense, Flatten\n",
        "from tensorflow.keras.models import Sequential\n",
        "\n",
        "INPUT_SIZE = 28\n",
        "\n",
        "model = Sequential([\n",
        "    Flatten(input_shape=(INPUT_SIZE, INPUT_SIZE)),\n",
        "    Dense(100, activation='relu'),\n",
        "    Dense(30, activation='relu'),\n",
        "    Dense(10, activation='softmax')\n",
        "])\n",
        "\n",
        "model.summary()\n",
        "\n",
        "model1 = Sequential()\n",
        "model1.add(Flatten(input_shape=(INPUT_SIZE, INPUT_SIZE)))\n",
        "model1.add(Dense(100, activation='relu'))\n",
        "model1.add(Dense(30, activation='relu'))\n",
        "model1.add(Dense(10, activation='softmax'))\n",
        "\n",
        "model1.summary()\n"
      ],
      "metadata": {
        "trusted": true,
        "colab": {
          "base_uri": "https://localhost:8080/"
        },
        "id": "7FZDReyZQmFi",
        "outputId": "dd24f2e5-959c-4e94-8548-0cc0c37ec662"
      },
      "execution_count": 30,
      "outputs": [
        {
          "output_type": "stream",
          "name": "stdout",
          "text": [
            "Model: \"sequential_2\"\n",
            "_________________________________________________________________\n",
            " Layer (type)                Output Shape              Param #   \n",
            "=================================================================\n",
            " flatten_2 (Flatten)         (None, 784)               0         \n",
            "                                                                 \n",
            " dense_6 (Dense)             (None, 100)               78500     \n",
            "                                                                 \n",
            " dense_7 (Dense)             (None, 30)                3030      \n",
            "                                                                 \n",
            " dense_8 (Dense)             (None, 10)                310       \n",
            "                                                                 \n",
            "=================================================================\n",
            "Total params: 81,840\n",
            "Trainable params: 81,840\n",
            "Non-trainable params: 0\n",
            "_________________________________________________________________\n",
            "Model: \"sequential_3\"\n",
            "_________________________________________________________________\n",
            " Layer (type)                Output Shape              Param #   \n",
            "=================================================================\n",
            " flatten_3 (Flatten)         (None, 784)               0         \n",
            "                                                                 \n",
            " dense_9 (Dense)             (None, 100)               78500     \n",
            "                                                                 \n",
            " dense_10 (Dense)            (None, 30)                3030      \n",
            "                                                                 \n",
            " dense_11 (Dense)            (None, 10)                310       \n",
            "                                                                 \n",
            "=================================================================\n",
            "Total params: 81,840\n",
            "Trainable params: 81,840\n",
            "Non-trainable params: 0\n",
            "_________________________________________________________________\n"
          ]
        }
      ]
    },
    {
      "cell_type": "code",
      "source": [
        "from tensorflow.keras.layers import Input, Flatten, Dense\n",
        "from tensorflow.keras.models import Model\n",
        "\n",
        "input_tensor = Input(shape=(INPUT_SIZE, INPUT_SIZE))\n",
        "x = Flatten()(input_tensor)\n",
        "x = Dense(100, activation='relu')(x)\n",
        "x = Dense(30, activation='relu')(x)\n",
        "output = Dense(10, activation='softmax')(x)\n",
        "\n",
        "model = Model(inputs=input_tensor, outputs=output)\n",
        "\n",
        "model.summary()"
      ],
      "metadata": {
        "trusted": true,
        "colab": {
          "base_uri": "https://localhost:8080/"
        },
        "id": "Zj9gkwqtQmFi",
        "outputId": "b4de228b-850b-48f3-f133-840098b41f54"
      },
      "execution_count": 31,
      "outputs": [
        {
          "output_type": "stream",
          "name": "stdout",
          "text": [
            "Model: \"model\"\n",
            "_________________________________________________________________\n",
            " Layer (type)                Output Shape              Param #   \n",
            "=================================================================\n",
            " input_1 (InputLayer)        [(None, 28, 28)]          0         \n",
            "                                                                 \n",
            " flatten_4 (Flatten)         (None, 784)               0         \n",
            "                                                                 \n",
            " dense_12 (Dense)            (None, 100)               78500     \n",
            "                                                                 \n",
            " dense_13 (Dense)            (None, 30)                3030      \n",
            "                                                                 \n",
            " dense_14 (Dense)            (None, 10)                310       \n",
            "                                                                 \n",
            "=================================================================\n",
            "Total params: 81,840\n",
            "Trainable params: 81,840\n",
            "Non-trainable params: 0\n",
            "_________________________________________________________________\n"
          ]
        }
      ]
    },
    {
      "cell_type": "markdown",
      "source": [
        "### Custom한 Dense Layer 생성하기"
      ],
      "metadata": {
        "id": "yPht1mFZQmFi"
      }
    },
    {
      "cell_type": "code",
      "source": [
        "from tensorflow.keras.layers import Layer, Input\n",
        "from tensorflow.keras.models import Model\n",
        "import tensorflow as tf\n",
        "\n",
        "class CustomDense(tf.keras.layers.Layer):\n",
        "    # CustomDense 객체 생성시 입력되는 초기화 parameter 처리\n",
        "    def __init__(self, units=32):\n",
        "        super(CustomDense, self).__init__()\n",
        "        self.units = units\n",
        "\n",
        "    def build(self, input_shape):\n",
        "        self.w = self.add_weight(\n",
        "            shape=(input_shape[-1], self.units),\n",
        "            initializer=\"random_normal\",\n",
        "            trainable=True,\n",
        "        )\n",
        "        self.b = self.add_weight(\n",
        "            shape=(self.units,), initializer=\"random_normal\", trainable=True\n",
        "        )\n",
        "        \n",
        "    # CustomDense 객체에 callable로 입력된 입력 데이터 처리. \n",
        "    def call(self, inputs):\n",
        "        return tf.matmul(inputs, self.w) + self.b\n",
        "\n",
        "# input 값을 4개의 원소를 가지는 1차원으로 생성. \n",
        "inputs = Input((4,))\n",
        "# 10개의 unit을 가지는 CustomDense 객체를 생성 후 callable로 inputs값 입력 \n",
        "outputs = CustomDense(10)(inputs)\n",
        "\n",
        "# inputs와 outputs로 model 생성. \n",
        "model = Model(inputs, outputs)\n",
        "model.summary()\n"
      ],
      "metadata": {
        "trusted": true,
        "colab": {
          "base_uri": "https://localhost:8080/"
        },
        "id": "-NkEY8pdQmFj",
        "outputId": "f5a54beb-c793-4444-8edd-337887f2f697"
      },
      "execution_count": 33,
      "outputs": [
        {
          "output_type": "stream",
          "name": "stdout",
          "text": [
            "Model: \"model_1\"\n",
            "_________________________________________________________________\n",
            " Layer (type)                Output Shape              Param #   \n",
            "=================================================================\n",
            " input_3 (InputLayer)        [(None, 4)]               0         \n",
            "                                                                 \n",
            " custom_dense (CustomDense)  (None, 10)                50        \n",
            "                                                                 \n",
            "=================================================================\n",
            "Total params: 50\n",
            "Trainable params: 50\n",
            "Non-trainable params: 0\n",
            "_________________________________________________________________\n"
          ]
        }
      ]
    },
    {
      "cell_type": "markdown",
      "source": [
        "### Functional API는 객체 생성 부분과 Callable 인자 입력 부분을 별도로 수행해도 무방. "
      ],
      "metadata": {
        "id": "JmYLC4toQmFj"
      }
    },
    {
      "cell_type": "code",
      "source": [
        "inputs = Input((4,))\n",
        "# 10개의 unit을 가지는 CustomDense 객체를 생성 후 callable로 inputs값 입력 \n",
        "my_layer = CustomDense(10)\n",
        "outputs = my_layer(inputs)\n",
        "\n",
        "# inputs와 outputs로 model 생성. \n",
        "model = Model(inputs, outputs)\n",
        "model.summary()"
      ],
      "metadata": {
        "trusted": true,
        "colab": {
          "base_uri": "https://localhost:8080/"
        },
        "id": "lv0ewmf7QmFj",
        "outputId": "9e18dfa3-d8f7-4630-e9b8-36bd307edbc5"
      },
      "execution_count": 34,
      "outputs": [
        {
          "output_type": "stream",
          "name": "stdout",
          "text": [
            "Model: \"model_2\"\n",
            "_________________________________________________________________\n",
            " Layer (type)                Output Shape              Param #   \n",
            "=================================================================\n",
            " input_4 (InputLayer)        [(None, 4)]               0         \n",
            "                                                                 \n",
            " custom_dense_1 (CustomDense  (None, 10)               50        \n",
            " )                                                               \n",
            "                                                                 \n",
            "=================================================================\n",
            "Total params: 50\n",
            "Trainable params: 50\n",
            "Non-trainable params: 0\n",
            "_________________________________________________________________\n"
          ]
        }
      ]
    },
    {
      "cell_type": "markdown",
      "source": [
        "### Sequential Model 생성은 단지 Functional API Layer들을 iteration 하면서 연결한 것을 model로 만든 것임"
      ],
      "metadata": {
        "id": "xjW81IMNQmFj"
      }
    },
    {
      "cell_type": "code",
      "source": [
        "from tensorflow.keras.models import Sequential\n",
        "\n",
        "model = Sequential([Input((4,)),\n",
        "                   CustomDense(10),\n",
        "                   CustomDense(8), \n",
        "                   tf.keras.layers.ReLU()])\n",
        "model.summary()"
      ],
      "metadata": {
        "trusted": true,
        "colab": {
          "base_uri": "https://localhost:8080/"
        },
        "id": "hRyIynpoQmFj",
        "outputId": "b7f450ec-93fa-4c0c-8c34-4aa26b5c1f0d"
      },
      "execution_count": 35,
      "outputs": [
        {
          "output_type": "stream",
          "name": "stdout",
          "text": [
            "Model: \"sequential_4\"\n",
            "_________________________________________________________________\n",
            " Layer (type)                Output Shape              Param #   \n",
            "=================================================================\n",
            " custom_dense_2 (CustomDense  (None, 10)               50        \n",
            " )                                                               \n",
            "                                                                 \n",
            " custom_dense_3 (CustomDense  (None, 8)                88        \n",
            " )                                                               \n",
            "                                                                 \n",
            " re_lu (ReLU)                (None, 8)                 0         \n",
            "                                                                 \n",
            "=================================================================\n",
            "Total params: 138\n",
            "Trainable params: 138\n",
            "Non-trainable params: 0\n",
            "_________________________________________________________________\n"
          ]
        }
      ]
    },
    {
      "cell_type": "markdown",
      "source": [
        "### Sequential Model을 Functional 객체를 For loop 반복 호출하여 작성."
      ],
      "metadata": {
        "id": "7TxKly1wQmFj"
      }
    },
    {
      "cell_type": "code",
      "source": [
        "layers_list = [Input((4,)), CustomDense(10), CustomDense(8), tf.keras.layers.ReLU()]\n",
        "\n",
        "for index, layer in enumerate(layers_list):\n",
        "        print(index, layer)"
      ],
      "metadata": {
        "trusted": true,
        "colab": {
          "base_uri": "https://localhost:8080/"
        },
        "id": "nemyWoQmQmFj",
        "outputId": "a436a74f-1866-4fa6-9f81-26f4c16d5a03"
      },
      "execution_count": 36,
      "outputs": [
        {
          "output_type": "stream",
          "name": "stdout",
          "text": [
            "0 KerasTensor(type_spec=TensorSpec(shape=(None, 4), dtype=tf.float32, name='input_6'), name='input_6', description=\"created by layer 'input_6'\")\n",
            "1 <__main__.CustomDense object at 0x7f0ac281f810>\n",
            "2 <__main__.CustomDense object at 0x7f0ac2898790>\n",
            "3 <keras.layers.advanced_activations.ReLU object at 0x7f0ac2898e50>\n"
          ]
        }
      ]
    },
    {
      "cell_type": "code",
      "source": [
        "layers_list = [Input((4,)), CustomDense(10), CustomDense(8), tf.keras.layers.ReLU()]\n",
        "\n",
        "inputs = None\n",
        "callable_inputs = None\n",
        "outputs = None\n",
        "# layers_list에 있는 Functional 객체를 iteration 수행하면서 적용. \n",
        "for index, layer in enumerate(layers_list):\n",
        "    # layers_list의 첫번째 인자는 Input 간주. \n",
        "    if index == 0:\n",
        "        inputs = layer\n",
        "        callable_inputs = layer\n",
        "    # Functional 객체에 callable 인자로 callable_inputs를 입력하고 반환 결과 값을 다시 callable_inputs로 할당.     \n",
        "    else: \n",
        "        callable_inputs = layer(callable_inputs)\n",
        "    \n",
        "outputs = callable_inputs\n",
        "model = Model(inputs, outputs)\n",
        "model.summary()\n"
      ],
      "metadata": {
        "trusted": true,
        "colab": {
          "base_uri": "https://localhost:8080/"
        },
        "id": "TqpalFnEQmFk",
        "outputId": "0e83a440-f74d-40c0-8f00-109e0ce7f3ce"
      },
      "execution_count": 37,
      "outputs": [
        {
          "output_type": "stream",
          "name": "stdout",
          "text": [
            "Model: \"model_3\"\n",
            "_________________________________________________________________\n",
            " Layer (type)                Output Shape              Param #   \n",
            "=================================================================\n",
            " input_7 (InputLayer)        [(None, 4)]               0         \n",
            "                                                                 \n",
            " custom_dense_6 (CustomDense  (None, 10)               50        \n",
            " )                                                               \n",
            "                                                                 \n",
            " custom_dense_7 (CustomDense  (None, 8)                88        \n",
            " )                                                               \n",
            "                                                                 \n",
            " re_lu_2 (ReLU)              (None, 8)                 0         \n",
            "                                                                 \n",
            "=================================================================\n",
            "Total params: 138\n",
            "Trainable params: 138\n",
            "Non-trainable params: 0\n",
            "_________________________________________________________________\n"
          ]
        }
      ]
    },
    {
      "cell_type": "markdown",
      "source": [
        "### 앞에서 생성한 로직들을 함수화 \n",
        "* Functional API로 모델 만들기\n",
        "* pixel값 1 ~ 255를 0 ~ 1사이값 Float 32로 만들기\n",
        "* One Hot Encoding Label에 적용하기\n",
        "* 학습과 검증 데이터로 나누기.\n",
        "* compile, 학습/예측/평가"
      ],
      "metadata": {
        "id": "gNnmo0DOQmFk"
      }
    },
    {
      "cell_type": "code",
      "source": [
        "from tensorflow.keras.layers import Layer, Input, Dense, Flatten\n",
        "from tensorflow.keras.models import Model\n",
        "import tensorflow as tf\n",
        "\n",
        "INPUT_SIZE = 28\n",
        "def create_model():\n",
        "  #처음 모델 설계는 사이즈만, 배치는 나중에 케라스 프레임워크가\n",
        "  input_tensor = Input(shape = (INPUT_SIZE, INPUT_SIZE))\n",
        "  x = Flatten()(input_tensor)\n",
        "  x = Dense(100, activation = 'relu')(x)\n",
        "  x = Dense(30 , activation = 'relu')(x)\n",
        "  output = Dense(10, activation = 'softmax')(x)\n",
        "\n",
        "  model = Model(inputs = input_tensor, outputs = output)\n",
        "  return model\n",
        "\n",
        "model = create_model()\n",
        "model.summary()"
      ],
      "metadata": {
        "colab": {
          "base_uri": "https://localhost:8080/"
        },
        "id": "1LPp_pDyie9a",
        "outputId": "098cc535-0952-4d87-cb55-a443f1af1c30"
      },
      "execution_count": 3,
      "outputs": [
        {
          "output_type": "stream",
          "name": "stdout",
          "text": [
            "Model: \"model_1\"\n",
            "_________________________________________________________________\n",
            " Layer (type)                Output Shape              Param #   \n",
            "=================================================================\n",
            " input_2 (InputLayer)        [(None, 28, 28)]          0         \n",
            "                                                                 \n",
            " flatten_1 (Flatten)         (None, 784)               0         \n",
            "                                                                 \n",
            " dense_3 (Dense)             (None, 100)               78500     \n",
            "                                                                 \n",
            " dense_4 (Dense)             (None, 30)                3030      \n",
            "                                                                 \n",
            " dense_5 (Dense)             (None, 10)                310       \n",
            "                                                                 \n",
            "=================================================================\n",
            "Total params: 81,840\n",
            "Trainable params: 81,840\n",
            "Non-trainable params: 0\n",
            "_________________________________________________________________\n"
          ]
        }
      ]
    },
    {
      "cell_type": "code",
      "source": [
        "import numpy as np\n",
        "from tensorflow.keras.utils import to_categorical\n",
        "from sklearn.model_selection import train_test_split\n",
        "\n",
        "# 0 ~ 1사이값의 float32로 변경하는 함수\n",
        "def get_preprocessed_data(images, labels):\n",
        "    \n",
        "    # 학습과 테스트 이미지 array를 0~1 사이값으로 scale 및 float32 형 변형. \n",
        "    images = np.array(images/255.0, dtype=np.float32)\n",
        "    labels = np.array(labels, dtype=np.float32)\n",
        "    \n",
        "    return images, labels\n",
        "\n",
        "# 0 ~ 1사이값 float32로 변경하는 함수 호출 한 뒤 OHE 적용 \n",
        "def get_preprocessed_ohe(images, labels):\n",
        "    images, labels = get_preprocessed_data(images, labels)\n",
        "    # OHE 적용 \n",
        "    oh_labels = to_categorical(labels)\n",
        "    return images, oh_labels\n",
        "\n",
        "# 학습/검증/테스트 데이터 세트에 전처리 및 OHE 적용한 뒤 반환 \n",
        "def get_train_valid_test_set(train_images, train_labels, test_images, test_labels, valid_size=0.15, random_state=2021):\n",
        "    # 학습 및 테스트 데이터 세트를  0 ~ 1사이값 float32로 변경 및 OHE 적용. \n",
        "    train_images, train_oh_labels = get_preprocessed_ohe(train_images, train_labels)\n",
        "    test_images, test_oh_labels = get_preprocessed_ohe(test_images, test_labels)\n",
        "    \n",
        "    # 학습 데이터를 검증 데이터 세트로 다시 분리\n",
        "    tr_images, val_images, tr_oh_labels, val_oh_labels = train_test_split(train_images, train_oh_labels, test_size=valid_size, random_state=random_state)\n",
        "    \n",
        "    return (tr_images, tr_oh_labels), (val_images, val_oh_labels), (test_images, test_oh_labels ) \n"
      ],
      "metadata": {
        "trusted": true,
        "id": "SYXfksogQmFk"
      },
      "execution_count": 5,
      "outputs": []
    },
    {
      "cell_type": "code",
      "source": [
        "from tensorflow.keras.datasets import fashion_mnist\n",
        "# Fashion MNIST 데이터 재 로딩 및 전처리 적용하여 학습/검증/데이터 세트 생성. \n",
        "\n",
        "(train_images, train_labels), (test_images, test_labels) = fashion_mnist.load_data()\n",
        "print(train_images.shape, train_labels.shape, test_images.shape, test_labels.shape)\n",
        "(tr_images, tr_oh_labels), (val_images, val_oh_labels), (test_images, test_oh_labels) = \\\n",
        "    get_train_valid_test_set(train_images, train_labels, test_images, test_labels, valid_size=0.15, random_state=2021)\n",
        "print(tr_images.shape, tr_oh_labels.shape, val_images.shape, val_oh_labels.shape, test_images.shape, test_labels.shape)\n"
      ],
      "metadata": {
        "trusted": true,
        "colab": {
          "base_uri": "https://localhost:8080/"
        },
        "id": "PfgSQcnLQmFk",
        "outputId": "69d721c8-2d5d-4738-99d1-2f4cc198f0e9"
      },
      "execution_count": 9,
      "outputs": [
        {
          "output_type": "stream",
          "name": "stdout",
          "text": [
            "(60000, 28, 28) (60000,) (10000, 28, 28) (10000,)\n",
            "(51000, 28, 28) (51000, 10) (9000, 28, 28) (9000, 10) (10000, 28, 28) (10000,)\n"
          ]
        }
      ]
    },
    {
      "cell_type": "code",
      "source": [
        "from tensorflow.keras.optimizers import Adam\n",
        "\n",
        "# Model 생성 및 optimizer, loss, metric 적용\n",
        "model = create_model()\n",
        "model.summary()\n",
        "\n",
        "model.compile(optimizer=Adam(0.001), loss='categorical_crossentropy', metrics=['accuracy'])\n"
      ],
      "metadata": {
        "trusted": true,
        "colab": {
          "base_uri": "https://localhost:8080/"
        },
        "id": "jxINhDG9QmFl",
        "outputId": "ebb7f273-f0eb-48f2-df61-e99ba9838f53"
      },
      "execution_count": 10,
      "outputs": [
        {
          "output_type": "stream",
          "name": "stdout",
          "text": [
            "Model: \"model_2\"\n",
            "_________________________________________________________________\n",
            " Layer (type)                Output Shape              Param #   \n",
            "=================================================================\n",
            " input_3 (InputLayer)        [(None, 28, 28)]          0         \n",
            "                                                                 \n",
            " flatten_2 (Flatten)         (None, 784)               0         \n",
            "                                                                 \n",
            " dense_6 (Dense)             (None, 100)               78500     \n",
            "                                                                 \n",
            " dense_7 (Dense)             (None, 30)                3030      \n",
            "                                                                 \n",
            " dense_8 (Dense)             (None, 10)                310       \n",
            "                                                                 \n",
            "=================================================================\n",
            "Total params: 81,840\n",
            "Trainable params: 81,840\n",
            "Non-trainable params: 0\n",
            "_________________________________________________________________\n"
          ]
        }
      ]
    },
    {
      "cell_type": "code",
      "source": [
        "# 학습 수행. \n",
        "history = model.fit(x=tr_images, y=tr_oh_labels, batch_size=128, epochs=20, validation_data=(val_images, val_oh_labels))\n"
      ],
      "metadata": {
        "trusted": true,
        "colab": {
          "base_uri": "https://localhost:8080/"
        },
        "id": "2eYoj1xRQmFl",
        "outputId": "b14bc782-2534-4f52-855c-06b1ca4b31da"
      },
      "execution_count": 11,
      "outputs": [
        {
          "output_type": "stream",
          "name": "stdout",
          "text": [
            "Epoch 1/20\n",
            "399/399 [==============================] - 9s 19ms/step - loss: 0.6022 - accuracy: 0.7915 - val_loss: 0.4507 - val_accuracy: 0.8434\n",
            "Epoch 2/20\n",
            "399/399 [==============================] - 6s 14ms/step - loss: 0.4193 - accuracy: 0.8528 - val_loss: 0.4007 - val_accuracy: 0.8598\n",
            "Epoch 3/20\n",
            "399/399 [==============================] - 6s 16ms/step - loss: 0.3686 - accuracy: 0.8698 - val_loss: 0.3924 - val_accuracy: 0.8599\n",
            "Epoch 4/20\n",
            "399/399 [==============================] - 6s 15ms/step - loss: 0.3441 - accuracy: 0.8767 - val_loss: 0.3658 - val_accuracy: 0.8673\n",
            "Epoch 5/20\n",
            "399/399 [==============================] - 6s 14ms/step - loss: 0.3237 - accuracy: 0.8830 - val_loss: 0.3611 - val_accuracy: 0.8681\n",
            "Epoch 6/20\n",
            "399/399 [==============================] - 4s 9ms/step - loss: 0.3084 - accuracy: 0.8875 - val_loss: 0.3446 - val_accuracy: 0.8719\n",
            "Epoch 7/20\n",
            "399/399 [==============================] - 3s 9ms/step - loss: 0.3004 - accuracy: 0.8910 - val_loss: 0.3354 - val_accuracy: 0.8772\n",
            "Epoch 8/20\n",
            "399/399 [==============================] - 3s 9ms/step - loss: 0.2871 - accuracy: 0.8952 - val_loss: 0.3275 - val_accuracy: 0.8782\n",
            "Epoch 9/20\n",
            "399/399 [==============================] - 3s 9ms/step - loss: 0.2765 - accuracy: 0.8987 - val_loss: 0.3292 - val_accuracy: 0.8844\n",
            "Epoch 10/20\n",
            "399/399 [==============================] - 3s 8ms/step - loss: 0.2674 - accuracy: 0.9010 - val_loss: 0.3400 - val_accuracy: 0.8753\n",
            "Epoch 11/20\n",
            "399/399 [==============================] - 3s 9ms/step - loss: 0.2593 - accuracy: 0.9036 - val_loss: 0.3349 - val_accuracy: 0.8789\n",
            "Epoch 12/20\n",
            "399/399 [==============================] - 3s 8ms/step - loss: 0.2517 - accuracy: 0.9076 - val_loss: 0.3303 - val_accuracy: 0.8818\n",
            "Epoch 13/20\n",
            "399/399 [==============================] - 3s 8ms/step - loss: 0.2453 - accuracy: 0.9085 - val_loss: 0.3207 - val_accuracy: 0.8844\n",
            "Epoch 14/20\n",
            "399/399 [==============================] - 3s 9ms/step - loss: 0.2374 - accuracy: 0.9117 - val_loss: 0.3370 - val_accuracy: 0.8792\n",
            "Epoch 15/20\n",
            "399/399 [==============================] - 3s 9ms/step - loss: 0.2321 - accuracy: 0.9147 - val_loss: 0.3263 - val_accuracy: 0.8850\n",
            "Epoch 16/20\n",
            "399/399 [==============================] - 3s 8ms/step - loss: 0.2298 - accuracy: 0.9137 - val_loss: 0.3420 - val_accuracy: 0.8816\n",
            "Epoch 17/20\n",
            "399/399 [==============================] - 3s 8ms/step - loss: 0.2209 - accuracy: 0.9178 - val_loss: 0.3162 - val_accuracy: 0.8893\n",
            "Epoch 18/20\n",
            "399/399 [==============================] - 3s 8ms/step - loss: 0.2166 - accuracy: 0.9199 - val_loss: 0.3426 - val_accuracy: 0.8812\n",
            "Epoch 19/20\n",
            "399/399 [==============================] - 3s 8ms/step - loss: 0.2141 - accuracy: 0.9197 - val_loss: 0.3108 - val_accuracy: 0.8907\n",
            "Epoch 20/20\n",
            "399/399 [==============================] - 3s 8ms/step - loss: 0.2114 - accuracy: 0.9208 - val_loss: 0.3415 - val_accuracy: 0.8827\n"
          ]
        }
      ]
    },
    {
      "cell_type": "code",
      "source": [
        "import matplotlib.pyplot as plt\n",
        "%matplotlib inline\n",
        "\n",
        "def show_history(history):\n",
        "    plt.plot(history.history['accuracy'], label='train')\n",
        "    plt.plot(history.history['val_accuracy'], label='valid')\n",
        "    plt.legend()\n",
        "    \n",
        "show_history(history)"
      ],
      "metadata": {
        "trusted": true,
        "colab": {
          "base_uri": "https://localhost:8080/",
          "height": 265
        },
        "id": "tTMu8pKKQmFl",
        "outputId": "df65a59c-ad28-487a-bf35-da1f486ea18e"
      },
      "execution_count": 12,
      "outputs": [
        {
          "output_type": "display_data",
          "data": {
            "image/png": "[encoded data removed]",
            "text/plain": [
              "<Figure size 432x288 with 1 Axes>"
            ]
          },
          "metadata": {
            "needs_background": "light"
          }
        }
      ]
    },
    {
      "cell_type": "code",
      "source": [
        "# 테스트 데이터 세트로 모델 성능 검증\n",
        "model.evaluate(test_images, test_oh_labels, batch_size=256, verbose=1)\n"
      ],
      "metadata": {
        "trusted": true,
        "colab": {
          "base_uri": "https://localhost:8080/"
        },
        "id": "npqBT9-oQmFl",
        "outputId": "8f1eb5e4-a681-4129-d6f5-8b213b57dadd"
      },
      "execution_count": 13,
      "outputs": [
        {
          "output_type": "stream",
          "name": "stdout",
          "text": [
            "40/40 [==============================] - 0s 5ms/step - loss: 0.3590 - accuracy: 0.8796\n"
          ]
        },
        {
          "output_type": "execute_result",
          "data": {
            "text/plain": [
              "[0.35904598236083984, 0.8795999884605408]"
            ]
          },
          "metadata": {},
          "execution_count": 13
        }
      ]
    },
    {
      "cell_type": "markdown",
      "source": [
        "### Callback "
      ],
      "metadata": {
        "id": "ORCmhNzDQmFl"
      }
    },
    {
      "cell_type": "markdown",
      "source": [
        "#### ModelCheckpoint(filepath, monitor='val_loss', verbose=0, save_best_only=False, save_weights_only=False, mode='auto', period=1)\n",
        "* 특정 조건에 맞춰서 모델을 파일로 저장\n",
        "* filepath: filepath는 (on_epoch_end에서 전달되는) epoch의 값과 logs의 키로 채워진 이름 형식 옵션을 가질 수 있음.\n",
        "예를 들어 filepath가 weights.{epoch:02d}-{val_loss:.2f}.hdf5라면, 파일 이름에 세대 번호와 검증 손실을 넣어 모델의 체크포인트가 저장 \n",
        "* monitor: 모니터할 지표(loss 또는 평가 지표) \n",
        "* save_best_only: 가장 좋은 성능을 나타내는 모델만 저장할 여부\n",
        "* save_weights_only: Weights만 저장할 지 여부 \n",
        "* mode: {auto, min, max} 중 하나. monitor 지표가 감소해야 좋을 경우 min, 증가해야 좋을 경우 max, auto는 monitor 이름에서 자동으로 유추. "
      ],
      "metadata": {
        "id": "SycVSo1iQmFl"
      }
    },
    {
      "cell_type": "code",
      "source": [
        "!pwd"
      ],
      "metadata": {
        "trusted": true,
        "colab": {
          "base_uri": "https://localhost:8080/"
        },
        "id": "aPCWt9_UQmFm",
        "outputId": "a0e730d2-1b34-4be9-998f-e0f618ab215a"
      },
      "execution_count": 14,
      "outputs": [
        {
          "output_type": "stream",
          "name": "stdout",
          "text": [
            "/content\n"
          ]
        }
      ]
    },
    {
      "cell_type": "code",
      "source": [
        "from tensorflow.keras.callbacks import ModelCheckpoint\n",
        "\n",
        "model = create_model()\n",
        "model.compile(optimizer=Adam(0.001), loss='categorical_crossentropy', metrics=['accuracy'])\n",
        "\n",
        "mcp_cb = ModelCheckpoint(filepath='/content/model/weights.{epoch:02d}-{val_loss:.2f}.hdf5', monitor='val_loss', \n",
        "                         save_best_only=True, save_weights_only=True, mode='min', period=3, verbose=1)\n",
        "history = model.fit(x=tr_images, y=tr_oh_labels, batch_size=128, epochs=10, validation_data=(val_images, val_oh_labels),\n",
        "                   callbacks=[mcp_cb])"
      ],
      "metadata": {
        "trusted": true,
        "colab": {
          "base_uri": "https://localhost:8080/"
        },
        "id": "d8_M3aOWQmFm",
        "outputId": "697063ea-2dfc-44e7-d62e-9dfc6628336b"
      },
      "execution_count": 15,
      "outputs": [
        {
          "output_type": "stream",
          "name": "stdout",
          "text": [
            "WARNING:tensorflow:`period` argument is deprecated. Please use `save_freq` to specify the frequency in number of batches seen.\n",
            "Epoch 1/10\n",
            "399/399 [==============================] - 4s 8ms/step - loss: 0.5899 - accuracy: 0.7995 - val_loss: 0.4656 - val_accuracy: 0.8302\n",
            "Epoch 2/10\n",
            "399/399 [==============================] - 2s 6ms/step - loss: 0.4171 - accuracy: 0.8541 - val_loss: 0.4111 - val_accuracy: 0.8537\n",
            "Epoch 3/10\n",
            "398/399 [============================>.] - ETA: 0s - loss: 0.3790 - accuracy: 0.8659\n",
            "Epoch 00003: val_loss improved from inf to 0.39344, saving model to /content/model/weights.03-0.39.hdf5\n",
            "399/399 [==============================] - 3s 7ms/step - loss: 0.3789 - accuracy: 0.8660 - val_loss: 0.3934 - val_accuracy: 0.8530\n",
            "Epoch 4/10\n",
            "399/399 [==============================] - 3s 7ms/step - loss: 0.3533 - accuracy: 0.8749 - val_loss: 0.3776 - val_accuracy: 0.8652\n",
            "Epoch 5/10\n",
            "399/399 [==============================] - 3s 7ms/step - loss: 0.3340 - accuracy: 0.8796 - val_loss: 0.3564 - val_accuracy: 0.8716\n",
            "Epoch 6/10\n",
            "393/399 [============================>.] - ETA: 0s - loss: 0.3170 - accuracy: 0.8845\n",
            "Epoch 00006: val_loss improved from 0.39344 to 0.36496, saving model to /content/model/weights.06-0.36.hdf5\n",
            "399/399 [==============================] - 3s 8ms/step - loss: 0.3173 - accuracy: 0.8843 - val_loss: 0.3650 - val_accuracy: 0.8679\n",
            "Epoch 7/10\n",
            "399/399 [==============================] - 3s 8ms/step - loss: 0.3063 - accuracy: 0.8876 - val_loss: 0.3390 - val_accuracy: 0.8744\n",
            "Epoch 8/10\n",
            "399/399 [==============================] - 3s 7ms/step - loss: 0.2940 - accuracy: 0.8935 - val_loss: 0.3374 - val_accuracy: 0.8762\n",
            "Epoch 9/10\n",
            "393/399 [============================>.] - ETA: 0s - loss: 0.2857 - accuracy: 0.8960\n",
            "Epoch 00009: val_loss improved from 0.36496 to 0.32201, saving model to /content/model/weights.09-0.32.hdf5\n",
            "399/399 [==============================] - 3s 7ms/step - loss: 0.2851 - accuracy: 0.8962 - val_loss: 0.3220 - val_accuracy: 0.8841\n",
            "Epoch 10/10\n",
            "399/399 [==============================] - 3s 6ms/step - loss: 0.2777 - accuracy: 0.8986 - val_loss: 0.3269 - val_accuracy: 0.8806\n"
          ]
        }
      ]
    },
    {
      "cell_type": "code",
      "source": [
        "!ls -lia\n",
        "#!rm -rf weight*\n",
        "#!ls -lia\n"
      ],
      "metadata": {
        "trusted": true,
        "colab": {
          "base_uri": "https://localhost:8080/"
        },
        "id": "l0Js4MRCQmFm",
        "outputId": "cc99bef2-939d-484b-c32d-aab729df9024"
      },
      "execution_count": 16,
      "outputs": [
        {
          "output_type": "stream",
          "name": "stdout",
          "text": [
            "total 24\n",
            "4194327 drwxr-xr-x 1 root root 4096 Jan  2 16:49 .\n",
            "3408103 drwxr-xr-x 1 root root 4096 Jan  2 16:14 ..\n",
            "4849680 drwxr-xr-x 4 root root 4096 Dec  3 14:33 .config\n",
            "3407891 drwxr-xr-x 2 root root 4096 Jan  2 16:49 .ipynb_checkpoints\n",
            "3407890 drwxr-xr-x 2 root root 4096 Jan  2 16:50 model\n",
            "4194328 drwxr-xr-x 1 root root 4096 Dec  3 14:33 sample_data\n"
          ]
        }
      ]
    },
    {
      "cell_type": "markdown",
      "source": [
        "#### ReduceLROnPlateau(monitor='val_loss', factor=0.1, patience=10, verbose=0, mode='auto', min_delta=0.0001, cooldown=0, min_lr=0)\n",
        "* 특정 epochs 횟수동안 성능이 개선 되지 않을 시 Learning rate를 동적으로 감소 시킴 \n",
        "* monitor: 모니터할 지표(loss 또는 평가 지표) \n",
        "* factor: 학습 속도를 줄일 인수. new_lr = lr * factor \n",
        "* patience: Learing Rate를 줄이기 전에 monitor할 epochs 횟수. \n",
        "* mode: {auto, min, max} 중 하나. monitor 지표가 감소해야 좋을 경우 min, 증가해야 좋을 경우 max, auto는 monitor 이름에서 유추. "
      ],
      "metadata": {
        "id": "tZ7tMmvFQmFm"
      }
    },
    {
      "cell_type": "code",
      "source": [
        "from tensorflow.keras.callbacks import ReduceLROnPlateau\n",
        "\n",
        "model = create_model()\n",
        "model.compile(optimizer=Adam(0.001), loss='categorical_crossentropy', metrics=['accuracy'])\n",
        "\n",
        "rlr_cb = ReduceLROnPlateau(monitor='val_loss', factor=0.3, patience=3, mode='min', verbose=1)\n",
        "history = model.fit(x=tr_images, y=tr_oh_labels, batch_size=128, epochs=30, validation_data=(val_images, val_oh_labels),\n",
        "                   callbacks=[rlr_cb])"
      ],
      "metadata": {
        "trusted": true,
        "colab": {
          "base_uri": "https://localhost:8080/"
        },
        "id": "zbzKqxIgQmFm",
        "outputId": "ce29c34b-188a-46cd-929f-a51ab8aa7298"
      },
      "execution_count": 17,
      "outputs": [
        {
          "output_type": "stream",
          "name": "stdout",
          "text": [
            "Epoch 1/30\n",
            "399/399 [==============================] - 3s 7ms/step - loss: 0.6030 - accuracy: 0.7899 - val_loss: 0.4605 - val_accuracy: 0.8353 - lr: 0.0010\n",
            "Epoch 2/30\n",
            "399/399 [==============================] - 2s 6ms/step - loss: 0.4076 - accuracy: 0.8559 - val_loss: 0.4181 - val_accuracy: 0.8511 - lr: 0.0010\n",
            "Epoch 3/30\n",
            "399/399 [==============================] - 2s 6ms/step - loss: 0.3706 - accuracy: 0.8676 - val_loss: 0.3707 - val_accuracy: 0.8673 - lr: 0.0010\n",
            "Epoch 4/30\n",
            "399/399 [==============================] - 3s 6ms/step - loss: 0.3455 - accuracy: 0.8763 - val_loss: 0.3992 - val_accuracy: 0.8540 - lr: 0.0010\n",
            "Epoch 5/30\n",
            "399/399 [==============================] - 2s 5ms/step - loss: 0.3305 - accuracy: 0.8805 - val_loss: 0.3491 - val_accuracy: 0.8750 - lr: 0.0010\n",
            "Epoch 6/30\n",
            "399/399 [==============================] - 2s 5ms/step - loss: 0.3101 - accuracy: 0.8865 - val_loss: 0.3383 - val_accuracy: 0.8784 - lr: 0.0010\n",
            "Epoch 7/30\n",
            "399/399 [==============================] - 2s 6ms/step - loss: 0.2980 - accuracy: 0.8913 - val_loss: 0.3387 - val_accuracy: 0.8756 - lr: 0.0010\n",
            "Epoch 8/30\n",
            "399/399 [==============================] - 2s 6ms/step - loss: 0.2883 - accuracy: 0.8946 - val_loss: 0.3415 - val_accuracy: 0.8744 - lr: 0.0010\n",
            "Epoch 9/30\n",
            "399/399 [==============================] - 2s 6ms/step - loss: 0.2788 - accuracy: 0.8968 - val_loss: 0.3230 - val_accuracy: 0.8832 - lr: 0.0010\n",
            "Epoch 10/30\n",
            "399/399 [==============================] - 2s 6ms/step - loss: 0.2724 - accuracy: 0.8987 - val_loss: 0.3221 - val_accuracy: 0.8837 - lr: 0.0010\n",
            "Epoch 11/30\n",
            "399/399 [==============================] - 3s 6ms/step - loss: 0.2607 - accuracy: 0.9030 - val_loss: 0.3132 - val_accuracy: 0.8882 - lr: 0.0010\n",
            "Epoch 12/30\n",
            "399/399 [==============================] - 2s 6ms/step - loss: 0.2552 - accuracy: 0.9062 - val_loss: 0.3200 - val_accuracy: 0.8849 - lr: 0.0010\n",
            "Epoch 13/30\n",
            "399/399 [==============================] - 2s 6ms/step - loss: 0.2489 - accuracy: 0.9087 - val_loss: 0.3191 - val_accuracy: 0.8886 - lr: 0.0010\n",
            "Epoch 14/30\n",
            "399/399 [==============================] - 2s 6ms/step - loss: 0.2428 - accuracy: 0.9099 - val_loss: 0.3112 - val_accuracy: 0.8894 - lr: 0.0010\n",
            "Epoch 15/30\n",
            "399/399 [==============================] - 2s 6ms/step - loss: 0.2365 - accuracy: 0.9132 - val_loss: 0.3124 - val_accuracy: 0.8868 - lr: 0.0010\n",
            "Epoch 16/30\n",
            "399/399 [==============================] - 3s 7ms/step - loss: 0.2304 - accuracy: 0.9141 - val_loss: 0.3133 - val_accuracy: 0.8904 - lr: 0.0010\n",
            "Epoch 17/30\n",
            "398/399 [============================>.] - ETA: 0s - loss: 0.2236 - accuracy: 0.9173\n",
            "Epoch 00017: ReduceLROnPlateau reducing learning rate to 0.0003000000142492354.\n",
            "399/399 [==============================] - 3s 7ms/step - loss: 0.2236 - accuracy: 0.9173 - val_loss: 0.3272 - val_accuracy: 0.8878 - lr: 0.0010\n",
            "Epoch 18/30\n",
            "399/399 [==============================] - 3s 7ms/step - loss: 0.1956 - accuracy: 0.9283 - val_loss: 0.3044 - val_accuracy: 0.8916 - lr: 3.0000e-04\n",
            "Epoch 19/30\n",
            "399/399 [==============================] - 3s 7ms/step - loss: 0.1905 - accuracy: 0.9302 - val_loss: 0.3081 - val_accuracy: 0.8936 - lr: 3.0000e-04\n",
            "Epoch 20/30\n",
            "399/399 [==============================] - 3s 6ms/step - loss: 0.1879 - accuracy: 0.9309 - val_loss: 0.3021 - val_accuracy: 0.8943 - lr: 3.0000e-04\n",
            "Epoch 21/30\n",
            "399/399 [==============================] - 3s 7ms/step - loss: 0.1848 - accuracy: 0.9325 - val_loss: 0.2975 - val_accuracy: 0.8983 - lr: 3.0000e-04\n",
            "Epoch 22/30\n",
            "399/399 [==============================] - 3s 7ms/step - loss: 0.1825 - accuracy: 0.9335 - val_loss: 0.3051 - val_accuracy: 0.8932 - lr: 3.0000e-04\n",
            "Epoch 23/30\n",
            "399/399 [==============================] - 2s 6ms/step - loss: 0.1812 - accuracy: 0.9335 - val_loss: 0.3070 - val_accuracy: 0.8938 - lr: 3.0000e-04\n",
            "Epoch 24/30\n",
            "395/399 [============================>.] - ETA: 0s - loss: 0.1781 - accuracy: 0.9344\n",
            "Epoch 00024: ReduceLROnPlateau reducing learning rate to 9.000000427477062e-05.\n",
            "399/399 [==============================] - 3s 6ms/step - loss: 0.1787 - accuracy: 0.9343 - val_loss: 0.3033 - val_accuracy: 0.8959 - lr: 3.0000e-04\n",
            "Epoch 25/30\n",
            "399/399 [==============================] - 3s 6ms/step - loss: 0.1676 - accuracy: 0.9397 - val_loss: 0.2992 - val_accuracy: 0.8957 - lr: 9.0000e-05\n",
            "Epoch 26/30\n",
            "399/399 [==============================] - 2s 6ms/step - loss: 0.1659 - accuracy: 0.9401 - val_loss: 0.3022 - val_accuracy: 0.8953 - lr: 9.0000e-05\n",
            "Epoch 27/30\n",
            "394/399 [============================>.] - ETA: 0s - loss: 0.1644 - accuracy: 0.9407\n",
            "Epoch 00027: ReduceLROnPlateau reducing learning rate to 2.700000040931627e-05.\n",
            "399/399 [==============================] - 2s 6ms/step - loss: 0.1649 - accuracy: 0.9406 - val_loss: 0.3023 - val_accuracy: 0.8949 - lr: 9.0000e-05\n",
            "Epoch 28/30\n",
            "399/399 [==============================] - 3s 6ms/step - loss: 0.1620 - accuracy: 0.9418 - val_loss: 0.3008 - val_accuracy: 0.8961 - lr: 2.7000e-05\n",
            "Epoch 29/30\n",
            "399/399 [==============================] - 3s 6ms/step - loss: 0.1614 - accuracy: 0.9419 - val_loss: 0.3006 - val_accuracy: 0.8944 - lr: 2.7000e-05\n",
            "Epoch 30/30\n",
            "394/399 [============================>.] - ETA: 0s - loss: 0.1612 - accuracy: 0.9420\n",
            "Epoch 00030: ReduceLROnPlateau reducing learning rate to 8.100000013655517e-06.\n",
            "399/399 [==============================] - 3s 6ms/step - loss: 0.1611 - accuracy: 0.9421 - val_loss: 0.3001 - val_accuracy: 0.8950 - lr: 2.7000e-05\n"
          ]
        }
      ]
    },
    {
      "cell_type": "markdown",
      "source": [
        "#### EarlyStopping(monitor='val_loss', min_delta=0, patience=0, verbose=0, mode='auto', baseline=None, restore_best_weights=False)\n",
        "* 특정 epochs 동안 성능이 개선되지 않을 시 학습을 조기에 중단\n",
        "* monitor: 모니터할 지표(loss 또는 평가 지표) \n",
        "* patience: Early Stopping 적용 전에 monitor할 epochs 횟수. \n",
        "* mode: {auto, min, max} 중 하나. monitor 지표가 감소해야 좋을 경우 min, 증가해야 좋을 경우 max, auto는 monitor 이름에서 유추. "
      ],
      "metadata": {
        "id": "UDR3yshNQmFn"
      }
    },
    {
      "cell_type": "code",
      "source": [
        "from tensorflow.keras.callbacks import EarlyStopping\n",
        "\n",
        "model = create_model()\n",
        "model.compile(optimizer=Adam(0.001), loss='categorical_crossentropy', metrics=['accuracy'])\n",
        "\n",
        "ely_cb = EarlyStopping(monitor='val_loss', patience=3, mode='min', verbose=1)\n",
        "history = model.fit(x=tr_images, y=tr_oh_labels, batch_size=128, epochs=30, validation_data=(val_images, val_oh_labels),\n",
        "                   callbacks=[ely_cb])"
      ],
      "metadata": {
        "trusted": true,
        "id": "ozmMxPBwQmFn"
      },
      "execution_count": null,
      "outputs": []
    },
    {
      "cell_type": "code",
      "source": [
        "%cd model\n",
        "!rm weigh*"
      ],
      "metadata": {
        "trusted": true,
        "colab": {
          "base_uri": "https://localhost:8080/"
        },
        "id": "2JIC0daIQmFn",
        "outputId": "e59221b1-11ff-4306-db26-f905ddf07353"
      },
      "execution_count": 18,
      "outputs": [
        {
          "output_type": "stream",
          "name": "stdout",
          "text": [
            "/content/model\n"
          ]
        }
      ]
    },
    {
      "cell_type": "code",
      "source": [
        "from tensorflow.keras.callbacks import ModelCheckpoint, ReduceLROnPlateau, EarlyStopping\n",
        "\n",
        "model = create_model()\n",
        "model.compile(optimizer=Adam(0.001), loss='categorical_crossentropy', metrics=['accuracy'])\n",
        "\n",
        "mcp_cb = ModelCheckpoint(filepath='/kaggle/working/weights.{epoch:02d}-{val_loss:.2f}.hdf5', monitor='val_loss', \n",
        "                         save_best_only=True, save_weights_only=True, mode='min', period=1, verbose=0)\n",
        "rlr_cb = ReduceLROnPlateau(monitor='val_loss', factor=0.3, patience=5, mode='min', verbose=1)\n",
        "ely_cb = EarlyStopping(monitor='val_loss', patience=7, mode='min', verbose=1)\n",
        "\n",
        "history = model.fit(x=tr_images, y=tr_oh_labels, batch_size=128, epochs=40, validation_data=(val_images, val_oh_labels),\n",
        "                   callbacks=[mcp_cb, rlr_cb, ely_cb])"
      ],
      "metadata": {
        "trusted": true,
        "id": "UAgCa9CrQmFn"
      },
      "execution_count": null,
      "outputs": []
    },
    {
      "cell_type": "code",
      "source": [
        "!ls -lia"
      ],
      "metadata": {
        "trusted": true,
        "id": "CYI4S1QIQmFn"
      },
      "execution_count": null,
      "outputs": []
    },
    {
      "cell_type": "code",
      "source": [
        ""
      ],
      "metadata": {
        "trusted": true,
        "id": "Q_04L9OSQmFn"
      },
      "execution_count": null,
      "outputs": []
    }
  ]
}