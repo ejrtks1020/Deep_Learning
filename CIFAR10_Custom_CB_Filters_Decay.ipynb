{
  "cells": [
    {
      "cell_type": "markdown",
      "metadata": {
        "id": "view-in-github",
        "colab_type": "text"
      },
      "source": [
        "<a href=\"https://colab.research.google.com/github/ejrtks1020/Deep_Learning/blob/main/CIFAR10_Custom_CB_Filters_Decay.ipynb\" target=\"_parent\"><img src=\"https://colab.research.google.com/assets/colab-badge.svg\" alt=\"Open In Colab\"/></a>"
      ]
    },
    {
      "metadata": {
        "id": "emR8FRh2AjDW"
      },
      "cell_type": "markdown",
      "source": [
        "### 데이터 전처리 수행.\n",
        "* 학습/검증/테스트 데이터 세트로 나누고 원-핫 인코딩 수행"
      ]
    },
    {
      "metadata": {
        "_uuid": "8f2839f25d086af736a60e9eeb907d3b93b6e0e5",
        "_cell_guid": "b1076dfc-b9ad-4769-8c92-a6c4dae69d19",
        "trusted": true,
        "colab": {
          "base_uri": "https://localhost:8080/"
        },
        "id": "pTz7Kia3AjDb",
        "outputId": "f3b4301e-028d-4a6c-cd78-31c4fa4eec0b"
      },
      "cell_type": "code",
      "source": [
        "import tensorflow as tf\n",
        "import numpy as np\n",
        "import pandas as pd\n",
        "\n",
        "import random as python_random\n",
        "from tensorflow.keras.utils import to_categorical\n",
        "from sklearn.model_selection import train_test_split\n",
        "from tensorflow.keras.datasets import cifar10\n",
        "\n",
        "# seed 를 설정해서 학습시마다 동일한 결과 유도. 불행히도 의도한 대로 동작하지 않음. \n",
        "def set_random_seed(seed_value):\n",
        "    np.random.seed(seed_value)\n",
        "    python_random.seed(seed_value)\n",
        "    tf.random.set_seed(seed_value)\n",
        "\n",
        "# 0 ~ 1사이값의 float32로 변경하는 함수\n",
        "def get_preprocessed_data(images, labels):\n",
        "    \n",
        "    # 학습과 테스트 이미지 array를 0~1 사이값으로 scale 및 float32 형 변형. \n",
        "    images = np.array(images/255.0, dtype=np.float32)\n",
        "    labels = np.array(labels, dtype=np.float32)\n",
        "    \n",
        "    return images, labels\n",
        "\n",
        "# 0 ~ 1사이값 float32로 변경하는 함수 호출 한 뒤 OHE 적용 \n",
        "def get_preprocessed_ohe(images, labels):\n",
        "    images, labels = get_preprocessed_data(images, labels)\n",
        "    # OHE 적용 \n",
        "    oh_labels = to_categorical(labels)\n",
        "    return images, oh_labels\n",
        "\n",
        "# 학습/검증/테스트 데이터 세트에 전처리 및 OHE 적용한 뒤 반환 \n",
        "def get_train_valid_test_set(train_images, train_labels, test_images, test_labels, valid_size=0.15, random_state=2021):\n",
        "    # 학습 및 테스트 데이터 세트를  0 ~ 1사이값 float32로 변경 및 OHE 적용. \n",
        "    train_images, train_oh_labels = get_preprocessed_ohe(train_images, train_labels)\n",
        "    test_images, test_oh_labels = get_preprocessed_ohe(test_images, test_labels)\n",
        "    \n",
        "    # 학습 데이터를 검증 데이터 세트로 다시 분리\n",
        "    tr_images, val_images, tr_oh_labels, val_oh_labels = train_test_split(train_images, train_oh_labels, test_size=valid_size, random_state=random_state)\n",
        "    \n",
        "    return (tr_images, tr_oh_labels), (val_images, val_oh_labels), (test_images, test_oh_labels ) \n",
        "\n",
        "\n",
        "# random seed는 2021로 고정.\n",
        "set_random_seed(2021)\n",
        "# CIFAR10 데이터 재 로딩 및 Scaling/OHE 전처리 적용하여 학습/검증/데이터 세트 생성. \n",
        "(train_images, train_labels), (test_images, test_labels) = cifar10.load_data()\n",
        "print(train_images.shape, train_labels.shape, test_images.shape, test_labels.shape)\n",
        "(tr_images, tr_oh_labels), (val_images, val_oh_labels), (test_images, test_oh_labels) = \\\n",
        "    get_train_valid_test_set(train_images, train_labels, test_images, test_labels, valid_size=0.15, random_state=2021)\n",
        "\n",
        "print(tr_images.shape, tr_oh_labels.shape, val_images.shape, val_oh_labels.shape, test_images.shape, test_oh_labels.shape)"
      ],
      "execution_count": 1,
      "outputs": [
        {
          "output_type": "stream",
          "name": "stdout",
          "text": [
            "Downloading data from https://www.cs.toronto.edu/~kriz/cifar-10-python.tar.gz\n",
            "170500096/170498071 [==============================] - 11s 0us/step\n",
            "170508288/170498071 [==============================] - 11s 0us/step\n",
            "(50000, 32, 32, 3) (50000, 1) (10000, 32, 32, 3) (10000, 1)\n",
            "(42500, 32, 32, 3) (42500, 10) (7500, 32, 32, 3) (7500, 10) (10000, 32, 32, 3) (10000, 10)\n"
          ]
        }
      ]
    },
    {
      "metadata": {
        "trusted": true,
        "id": "qWZo28v4AjDd"
      },
      "cell_type": "code",
      "source": [
        "IMAGE_SIZE = 32"
      ],
      "execution_count": 2,
      "outputs": []
    },
    {
      "metadata": {
        "id": "MpmdZq6vAjDe"
      },
      "cell_type": "markdown",
      "source": [
        "### 모델 생성 함수 생성"
      ]
    },
    {
      "metadata": {
        "trusted": true,
        "id": "wZkeYLRyAjDf"
      },
      "cell_type": "code",
      "source": [
        "from tensorflow.keras.models import Sequential, Model\n",
        "from tensorflow.keras.layers import Input, Dense , Conv2D , Dropout , Flatten , Activation, MaxPooling2D , GlobalAveragePooling2D\n",
        "from tensorflow.keras.optimizers import Adam , RMSprop \n",
        "from tensorflow.keras.layers import BatchNormalization\n",
        "from tensorflow.keras.callbacks import ReduceLROnPlateau , EarlyStopping , ModelCheckpoint , LearningRateScheduler\n",
        "\n",
        "def create_model(verbose=False):\n",
        "    input_tensor = Input(shape=(IMAGE_SIZE, IMAGE_SIZE, 3))\n",
        "\n",
        "    #x = Conv2D(filters=32, kernel_size=(5, 5), padding='valid', activation='relu')(input_tensor)\n",
        "    x = Conv2D(filters=32, kernel_size=(3, 3), padding='same')(input_tensor)\n",
        "    x = BatchNormalization()(x)\n",
        "    x = Activation('relu')(x)\n",
        "\n",
        "    x = Conv2D(filters=32, kernel_size=(3, 3), padding='same')(x)\n",
        "    x = BatchNormalization()(x)\n",
        "    x = Activation('relu')(x)\n",
        "    x = MaxPooling2D(pool_size=(2, 2))(x)\n",
        "\n",
        "    x = Conv2D(filters=64, kernel_size=3, padding='same')(x)\n",
        "    x = BatchNormalization()(x)\n",
        "    x = Activation('relu')(x)\n",
        "\n",
        "    x = Conv2D(filters=64, kernel_size=3, padding='same')(x)\n",
        "    x = Activation('relu')(x)\n",
        "    x = Activation('relu')(x)\n",
        "    x = MaxPooling2D(pool_size=2)(x)\n",
        "\n",
        "    x = Conv2D(filters=128, kernel_size=3, padding='same')(x)\n",
        "    x = BatchNormalization()(x)\n",
        "    x = Activation('relu')(x)\n",
        "\n",
        "    x = Conv2D(filters=128, kernel_size=3, padding='same')(x)\n",
        "    x = BatchNormalization()(x)\n",
        "    x = Activation('relu')(x)\n",
        "    x = MaxPooling2D(pool_size=2)(x)\n",
        "\n",
        "    # cifar10의 클래스가 10개 이므로 마지막 classification의 Dense layer units갯수는 10\n",
        "    x = Flatten(name='flatten')(x)\n",
        "    x = Dropout(rate=0.5)(x)\n",
        "    x = Dense(300, activation='relu', name='fc1')(x)\n",
        "    x = Dropout(rate=0.3)(x)\n",
        "    output = Dense(10, activation='softmax', name='output')(x)\n",
        "\n",
        "    model = Model(inputs=input_tensor, outputs=output)\n",
        "    \n",
        "    if verbose:\n",
        "        model.summary()\n",
        "    \n",
        "    return model"
      ],
      "execution_count": 3,
      "outputs": []
    },
    {
      "metadata": {
        "trusted": true,
        "colab": {
          "base_uri": "https://localhost:8080/"
        },
        "id": "SRNcl4HOAjDg",
        "outputId": "37a54594-5224-4b54-9a77-80246c3d75c5"
      },
      "cell_type": "code",
      "source": [
        "create_model(verbose=True)"
      ],
      "execution_count": 4,
      "outputs": [
        {
          "output_type": "stream",
          "name": "stdout",
          "text": [
            "Model: \"model\"\n",
            "_________________________________________________________________\n",
            " Layer (type)                Output Shape              Param #   \n",
            "=================================================================\n",
            " input_1 (InputLayer)        [(None, 32, 32, 3)]       0         \n",
            "                                                                 \n",
            " conv2d (Conv2D)             (None, 32, 32, 32)        896       \n",
            "                                                                 \n",
            " batch_normalization (BatchN  (None, 32, 32, 32)       128       \n",
            " ormalization)                                                   \n",
            "                                                                 \n",
            " activation (Activation)     (None, 32, 32, 32)        0         \n",
            "                                                                 \n",
            " conv2d_1 (Conv2D)           (None, 32, 32, 32)        9248      \n",
            "                                                                 \n",
            " batch_normalization_1 (Batc  (None, 32, 32, 32)       128       \n",
            " hNormalization)                                                 \n",
            "                                                                 \n",
            " activation_1 (Activation)   (None, 32, 32, 32)        0         \n",
            "                                                                 \n",
            " max_pooling2d (MaxPooling2D  (None, 16, 16, 32)       0         \n",
            " )                                                               \n",
            "                                                                 \n",
            " conv2d_2 (Conv2D)           (None, 16, 16, 64)        18496     \n",
            "                                                                 \n",
            " batch_normalization_2 (Batc  (None, 16, 16, 64)       256       \n",
            " hNormalization)                                                 \n",
            "                                                                 \n",
            " activation_2 (Activation)   (None, 16, 16, 64)        0         \n",
            "                                                                 \n",
            " conv2d_3 (Conv2D)           (None, 16, 16, 64)        36928     \n",
            "                                                                 \n",
            " activation_3 (Activation)   (None, 16, 16, 64)        0         \n",
            "                                                                 \n",
            " activation_4 (Activation)   (None, 16, 16, 64)        0         \n",
            "                                                                 \n",
            " max_pooling2d_1 (MaxPooling  (None, 8, 8, 64)         0         \n",
            " 2D)                                                             \n",
            "                                                                 \n",
            " conv2d_4 (Conv2D)           (None, 8, 8, 128)         73856     \n",
            "                                                                 \n",
            " batch_normalization_3 (Batc  (None, 8, 8, 128)        512       \n",
            " hNormalization)                                                 \n",
            "                                                                 \n",
            " activation_5 (Activation)   (None, 8, 8, 128)         0         \n",
            "                                                                 \n",
            " conv2d_5 (Conv2D)           (None, 8, 8, 128)         147584    \n",
            "                                                                 \n",
            " batch_normalization_4 (Batc  (None, 8, 8, 128)        512       \n",
            " hNormalization)                                                 \n",
            "                                                                 \n",
            " activation_6 (Activation)   (None, 8, 8, 128)         0         \n",
            "                                                                 \n",
            " max_pooling2d_2 (MaxPooling  (None, 4, 4, 128)        0         \n",
            " 2D)                                                             \n",
            "                                                                 \n",
            " flatten (Flatten)           (None, 2048)              0         \n",
            "                                                                 \n",
            " dropout (Dropout)           (None, 2048)              0         \n",
            "                                                                 \n",
            " fc1 (Dense)                 (None, 300)               614700    \n",
            "                                                                 \n",
            " dropout_1 (Dropout)         (None, 300)               0         \n",
            "                                                                 \n",
            " output (Dense)              (None, 10)                3010      \n",
            "                                                                 \n",
            "=================================================================\n",
            "Total params: 906,254\n",
            "Trainable params: 905,486\n",
            "Non-trainable params: 768\n",
            "_________________________________________________________________\n"
          ]
        },
        {
          "output_type": "execute_result",
          "data": {
            "text/plain": [
              "<keras.engine.functional.Functional at 0x7f45c00d4190>"
            ]
          },
          "metadata": {},
          "execution_count": 4
        }
      ]
    },
    {
      "metadata": {
        "id": "roRYA3mIAjDg"
      },
      "cell_type": "markdown",
      "source": [
        "### Learning Rate와 Early Stopping을 위한 Callback 생성 \n",
        "* Learning rate 동적 변경은 ReduceLROnPlateau,  모델 Ealry Stopping은 EarlyStopping Callback을 이용.  "
      ]
    },
    {
      "metadata": {
        "trusted": true,
        "colab": {
          "base_uri": "https://localhost:8080/"
        },
        "id": "TwEy04KyAjDh",
        "outputId": "2e574066-e2b1-439f-a3c1-e8e699918bbe"
      },
      "cell_type": "code",
      "source": [
        "# ModelCheckpoint를 동작시키기 전에 기존 저장된 모델은 모두 삭제 \n",
        "!rm *.hdf5"
      ],
      "execution_count": 5,
      "outputs": [
        {
          "output_type": "stream",
          "name": "stdout",
          "text": [
            "rm: cannot remove '*.hdf5': No such file or directory\n"
          ]
        }
      ]
    },
    {
      "cell_type": "code",
      "source": [
        "!mkdir /content/models"
      ],
      "metadata": {
        "id": "Axdt6rz1FITa"
      },
      "execution_count": 7,
      "outputs": []
    },
    {
      "metadata": {
        "trusted": true,
        "colab": {
          "base_uri": "https://localhost:8080/"
        },
        "id": "dt_h2I43AjDi",
        "outputId": "bd65dbe9-0036-4649-b0d3-daafe4bed9a8"
      },
      "cell_type": "code",
      "source": [
        "from tensorflow.keras.callbacks import ReduceLROnPlateau\n",
        "from tensorflow.keras.callbacks import EarlyStopping, ModelCheckpoint\n",
        "\n",
        "model = create_model()\n",
        "model.compile(optimizer=Adam(lr=0.001), loss='categorical_crossentropy', metrics=['accuracy'])\n",
        "\n",
        "# validation loss가 향상되는 모델만 저장.\n",
        "mcp_cb = ModelCheckpoint(filepath='/content/models/weights.{epoch:02d}-{val_loss:.2f}.hdf5', monitor='val_loss', \n",
        "                         save_best_only=True, save_weights_only=True, mode='min', period=1, verbose=0)\n",
        "\n",
        "# 5번 iteration내에 validation loss가 향상되지 않으면 learning rate을 기존 learning rate * 0.2로 줄임.  \n",
        "rlr_cb = ReduceLROnPlateau(monitor='val_loss', factor=0.2, patience=5, mode='min', verbose=1)\n",
        "# 10번 iteration내에 validation loss가 향상되지 않으면 더 이상 학습하지 않고 종료\n",
        "ely_cb = EarlyStopping(monitor='val_loss', patience=10, mode='min', verbose=1)\n",
        "\n",
        "\n",
        "history = model.fit(x=tr_images, y=tr_oh_labels, batch_size=32, epochs=30, shuffle=True,\n",
        "                    validation_data=(val_images, val_oh_labels),  \n",
        "                    callbacks=[mcp_cb, rlr_cb, ely_cb] )"
      ],
      "execution_count": 9,
      "outputs": [
        {
          "output_type": "stream",
          "name": "stdout",
          "text": [
            "WARNING:tensorflow:`period` argument is deprecated. Please use `save_freq` to specify the frequency in number of batches seen.\n"
          ]
        },
        {
          "output_type": "stream",
          "name": "stderr",
          "text": [
            "/usr/local/lib/python3.7/dist-packages/keras/optimizer_v2/adam.py:105: UserWarning: The `lr` argument is deprecated, use `learning_rate` instead.\n",
            "  super(Adam, self).__init__(name, **kwargs)\n"
          ]
        },
        {
          "output_type": "stream",
          "name": "stdout",
          "text": [
            "Epoch 1/30\n",
            "1329/1329 [==============================] - 11s 8ms/step - loss: 1.5535 - accuracy: 0.4367 - val_loss: 1.3539 - val_accuracy: 0.5213 - lr: 0.0010\n",
            "Epoch 2/30\n",
            "1329/1329 [==============================] - 10s 8ms/step - loss: 1.1275 - accuracy: 0.5968 - val_loss: 1.0031 - val_accuracy: 0.6495 - lr: 0.0010\n",
            "Epoch 3/30\n",
            "1329/1329 [==============================] - 10s 7ms/step - loss: 0.9293 - accuracy: 0.6748 - val_loss: 0.8959 - val_accuracy: 0.6976 - lr: 0.0010\n",
            "Epoch 4/30\n",
            "1329/1329 [==============================] - 10s 8ms/step - loss: 0.8199 - accuracy: 0.7148 - val_loss: 0.8980 - val_accuracy: 0.7068 - lr: 0.0010\n",
            "Epoch 5/30\n",
            "1329/1329 [==============================] - 10s 8ms/step - loss: 0.7346 - accuracy: 0.7471 - val_loss: 0.6751 - val_accuracy: 0.7717 - lr: 0.0010\n",
            "Epoch 6/30\n",
            "1329/1329 [==============================] - 10s 7ms/step - loss: 0.6606 - accuracy: 0.7726 - val_loss: 0.7461 - val_accuracy: 0.7483 - lr: 0.0010\n",
            "Epoch 7/30\n",
            "1329/1329 [==============================] - 10s 7ms/step - loss: 0.6030 - accuracy: 0.7949 - val_loss: 0.7077 - val_accuracy: 0.7675 - lr: 0.0010\n",
            "Epoch 8/30\n",
            "1329/1329 [==============================] - 9s 7ms/step - loss: 0.5499 - accuracy: 0.8140 - val_loss: 0.5791 - val_accuracy: 0.8111 - lr: 0.0010\n",
            "Epoch 9/30\n",
            "1329/1329 [==============================] - 9s 7ms/step - loss: 0.5046 - accuracy: 0.8311 - val_loss: 0.6196 - val_accuracy: 0.7988 - lr: 0.0010\n",
            "Epoch 10/30\n",
            "1329/1329 [==============================] - 9s 7ms/step - loss: 0.4643 - accuracy: 0.8439 - val_loss: 0.5810 - val_accuracy: 0.8032 - lr: 0.0010\n",
            "Epoch 11/30\n",
            "1329/1329 [==============================] - 9s 7ms/step - loss: 0.4232 - accuracy: 0.8547 - val_loss: 0.6537 - val_accuracy: 0.7869 - lr: 0.0010\n",
            "Epoch 12/30\n",
            "1329/1329 [==============================] - 9s 7ms/step - loss: 0.3930 - accuracy: 0.8656 - val_loss: 0.6603 - val_accuracy: 0.7988 - lr: 0.0010\n",
            "Epoch 13/30\n",
            "1329/1329 [==============================] - 9s 7ms/step - loss: 0.3628 - accuracy: 0.8772 - val_loss: 0.5693 - val_accuracy: 0.8137 - lr: 0.0010\n",
            "Epoch 14/30\n",
            "1329/1329 [==============================] - 10s 7ms/step - loss: 0.3339 - accuracy: 0.8853 - val_loss: 0.7128 - val_accuracy: 0.7975 - lr: 0.0010\n",
            "Epoch 15/30\n",
            "1329/1329 [==============================] - 10s 7ms/step - loss: 0.3131 - accuracy: 0.8931 - val_loss: 0.5410 - val_accuracy: 0.8307 - lr: 0.0010\n",
            "Epoch 16/30\n",
            "1329/1329 [==============================] - 10s 7ms/step - loss: 0.2971 - accuracy: 0.8969 - val_loss: 0.6945 - val_accuracy: 0.8012 - lr: 0.0010\n",
            "Epoch 17/30\n",
            "1329/1329 [==============================] - 9s 7ms/step - loss: 0.2734 - accuracy: 0.9065 - val_loss: 0.6118 - val_accuracy: 0.8167 - lr: 0.0010\n",
            "Epoch 18/30\n",
            "1329/1329 [==============================] - 10s 7ms/step - loss: 0.2592 - accuracy: 0.9108 - val_loss: 0.6464 - val_accuracy: 0.8161 - lr: 0.0010\n",
            "Epoch 19/30\n",
            "1329/1329 [==============================] - 10s 7ms/step - loss: 0.2446 - accuracy: 0.9148 - val_loss: 0.5485 - val_accuracy: 0.8387 - lr: 0.0010\n",
            "Epoch 20/30\n",
            "1323/1329 [============================>.] - ETA: 0s - loss: 0.2302 - accuracy: 0.9206\n",
            "Epoch 00020: ReduceLROnPlateau reducing learning rate to 0.00020000000949949026.\n",
            "1329/1329 [==============================] - 10s 7ms/step - loss: 0.2304 - accuracy: 0.9204 - val_loss: 0.6042 - val_accuracy: 0.8249 - lr: 0.0010\n",
            "Epoch 21/30\n",
            "1329/1329 [==============================] - 10s 7ms/step - loss: 0.1490 - accuracy: 0.9481 - val_loss: 0.5082 - val_accuracy: 0.8596 - lr: 2.0000e-04\n",
            "Epoch 22/30\n",
            "1329/1329 [==============================] - 10s 7ms/step - loss: 0.1190 - accuracy: 0.9590 - val_loss: 0.5661 - val_accuracy: 0.8555 - lr: 2.0000e-04\n",
            "Epoch 23/30\n",
            "1329/1329 [==============================] - 9s 7ms/step - loss: 0.1003 - accuracy: 0.9642 - val_loss: 0.5571 - val_accuracy: 0.8632 - lr: 2.0000e-04\n",
            "Epoch 24/30\n",
            "1329/1329 [==============================] - 10s 7ms/step - loss: 0.0938 - accuracy: 0.9666 - val_loss: 0.5569 - val_accuracy: 0.8607 - lr: 2.0000e-04\n",
            "Epoch 25/30\n",
            "1329/1329 [==============================] - 9s 7ms/step - loss: 0.0817 - accuracy: 0.9712 - val_loss: 0.5898 - val_accuracy: 0.8607 - lr: 2.0000e-04\n",
            "Epoch 26/30\n",
            "1323/1329 [============================>.] - ETA: 0s - loss: 0.0789 - accuracy: 0.9730\n",
            "Epoch 00026: ReduceLROnPlateau reducing learning rate to 4.0000001899898055e-05.\n",
            "1329/1329 [==============================] - 9s 7ms/step - loss: 0.0790 - accuracy: 0.9730 - val_loss: 0.5925 - val_accuracy: 0.8619 - lr: 2.0000e-04\n",
            "Epoch 27/30\n",
            "1329/1329 [==============================] - 10s 7ms/step - loss: 0.0660 - accuracy: 0.9771 - val_loss: 0.5991 - val_accuracy: 0.8641 - lr: 4.0000e-05\n",
            "Epoch 28/30\n",
            "1329/1329 [==============================] - 10s 7ms/step - loss: 0.0601 - accuracy: 0.9795 - val_loss: 0.5983 - val_accuracy: 0.8627 - lr: 4.0000e-05\n",
            "Epoch 29/30\n",
            "1329/1329 [==============================] - 10s 7ms/step - loss: 0.0574 - accuracy: 0.9805 - val_loss: 0.6050 - val_accuracy: 0.8645 - lr: 4.0000e-05\n",
            "Epoch 30/30\n",
            "1329/1329 [==============================] - 10s 7ms/step - loss: 0.0553 - accuracy: 0.9801 - val_loss: 0.6134 - val_accuracy: 0.8644 - lr: 4.0000e-05\n"
          ]
        }
      ]
    },
    {
      "metadata": {
        "trusted": true,
        "colab": {
          "base_uri": "https://localhost:8080/"
        },
        "id": "QICvT7dvAjDj",
        "outputId": "8885f7e0-0baf-450f-b6c9-107218f705ba"
      },
      "cell_type": "code",
      "source": [
        "model.evaluate(test_images, test_oh_labels)"
      ],
      "execution_count": 10,
      "outputs": [
        {
          "output_type": "stream",
          "name": "stdout",
          "text": [
            "313/313 [==============================] - 1s 4ms/step - loss: 0.6674 - accuracy: 0.8534\n"
          ]
        },
        {
          "output_type": "execute_result",
          "data": {
            "text/plain": [
              "[0.6673737168312073, 0.8533999919891357]"
            ]
          },
          "metadata": {},
          "execution_count": 10
        }
      ]
    },
    {
      "metadata": {
        "trusted": true,
        "colab": {
          "base_uri": "https://localhost:8080/"
        },
        "id": "reDlgeGQAjDj",
        "outputId": "61b2bee2-f7fd-409c-a8f8-0952e6f51f6b"
      },
      "cell_type": "code",
      "source": [
        "%cd models\n",
        "!ls -lia"
      ],
      "execution_count": 13,
      "outputs": [
        {
          "output_type": "stream",
          "name": "stdout",
          "text": [
            "/content/models\n",
            "total 28808\n",
            "5242898 drwxr-xr-x 2 root root    4096 Jan  5 21:25 .\n",
            "3280209 drwxr-xr-x 1 root root    4096 Jan  5 21:21 ..\n",
            "5242899 -rw-r--r-- 1 root root 3685760 Jan  5 21:21 weights.01-1.35.hdf5\n",
            "5242900 -rw-r--r-- 1 root root 3685760 Jan  5 21:22 weights.02-1.00.hdf5\n",
            "5242901 -rw-r--r-- 1 root root 3685760 Jan  5 21:22 weights.03-0.90.hdf5\n",
            "5242902 -rw-r--r-- 1 root root 3685760 Jan  5 21:22 weights.05-0.68.hdf5\n",
            "5242903 -rw-r--r-- 1 root root 3685760 Jan  5 21:22 weights.08-0.58.hdf5\n",
            "5242904 -rw-r--r-- 1 root root 3685760 Jan  5 21:23 weights.13-0.57.hdf5\n",
            "5242905 -rw-r--r-- 1 root root 3685760 Jan  5 21:24 weights.15-0.54.hdf5\n",
            "5242906 -rw-r--r-- 1 root root 3685760 Jan  5 21:25 weights.21-0.51.hdf5\n"
          ]
        }
      ]
    },
    {
      "metadata": {
        "id": "rKf3szUYAjDj"
      },
      "cell_type": "markdown",
      "source": [
        "### 최적 weight를 모델로 재 로딩한 다음에 테스트 데이터로 다시 평가"
      ]
    },
    {
      "metadata": {
        "trusted": true,
        "colab": {
          "base_uri": "https://localhost:8080/"
        },
        "id": "sgUzGhU1AjDk",
        "outputId": "08a15534-54a4-4cdb-edc9-eed12b8440f1"
      },
      "cell_type": "code",
      "source": [
        "model = create_model()\n",
        "model.compile(optimizer=Adam(lr=0.001), loss='categorical_crossentropy', metrics=['accuracy'])\n",
        "model.load_weights('/content/models/weights.21-0.51.hdf5')"
      ],
      "execution_count": 15,
      "outputs": [
        {
          "output_type": "stream",
          "name": "stderr",
          "text": [
            "/usr/local/lib/python3.7/dist-packages/keras/optimizer_v2/adam.py:105: UserWarning: The `lr` argument is deprecated, use `learning_rate` instead.\n",
            "  super(Adam, self).__init__(name, **kwargs)\n"
          ]
        }
      ]
    },
    {
      "metadata": {
        "trusted": true,
        "colab": {
          "base_uri": "https://localhost:8080/"
        },
        "id": "B1xMildlAjDk",
        "outputId": "0e21ddc3-fb40-4654-ce73-6147df7e00ab"
      },
      "cell_type": "code",
      "source": [
        "model.evaluate(test_images, test_oh_labels)"
      ],
      "execution_count": 16,
      "outputs": [
        {
          "output_type": "stream",
          "name": "stdout",
          "text": [
            "313/313 [==============================] - 2s 4ms/step - loss: 0.5604 - accuracy: 0.8472\n"
          ]
        },
        {
          "output_type": "execute_result",
          "data": {
            "text/plain": [
              "[0.5603950023651123, 0.8471999764442444]"
            ]
          },
          "metadata": {},
          "execution_count": 16
        }
      ]
    },
    {
      "metadata": {
        "trusted": true,
        "colab": {
          "base_uri": "https://localhost:8080/",
          "height": 265
        },
        "id": "_kGiiczqAjDk",
        "outputId": "8e6fc97c-b8c7-422e-da19-83265a350315"
      },
      "cell_type": "code",
      "source": [
        "import matplotlib.pyplot as plt\n",
        "%matplotlib inline\n",
        "\n",
        "def show_history(history):\n",
        "    plt.figure(figsize=(8, 4))\n",
        "    plt.yticks(np.arange(0, 1, 0.05))\n",
        "    plt.xticks(np.arange(0, 30, 2))\n",
        "    plt.plot(history.history['accuracy'], label='train')\n",
        "    plt.plot(history.history['val_accuracy'], label='valid')\n",
        "    plt.legend()\n",
        "    \n",
        "show_history(history)"
      ],
      "execution_count": 17,
      "outputs": [
        {
          "output_type": "display_data",
          "data": {
            "image/png": "[encoded data removed]",
            "text/plain": [
              "<Figure size 576x288 with 1 Axes>"
            ]
          },
          "metadata": {
            "needs_background": "light"
          }
        }
      ]
    },
    {
      "metadata": {
        "id": "wE2LIJaxAjDl"
      },
      "cell_type": "markdown",
      "source": [
        "### 필터의 개수를 증가시켜 테스트\n",
        "* Conv Layer의 필터를 기존보다 2배씩 증가\n",
        "* 맨 마지막 Conv는 512로 대폭 증가"
      ]
    },
    {
      "metadata": {
        "trusted": true,
        "colab": {
          "base_uri": "https://localhost:8080/"
        },
        "id": "VlI16GMsAjDl",
        "outputId": "20350127-21ee-4095-d425-eed4b2f71a95"
      },
      "cell_type": "code",
      "source": [
        "from tensorflow.keras.models import Sequential, Model\n",
        "from tensorflow.keras.layers import Input, Dense , Conv2D , Dropout , Flatten , Activation, MaxPooling2D , GlobalAveragePooling2D\n",
        "from tensorflow.keras.optimizers import Adam , RMSprop \n",
        "from tensorflow.keras.layers import BatchNormalization\n",
        "from tensorflow.keras.callbacks import ReduceLROnPlateau , EarlyStopping , ModelCheckpoint , LearningRateScheduler\n",
        "\n",
        "input_tensor = Input(shape=(IMAGE_SIZE, IMAGE_SIZE, 3))\n",
        "\n",
        "#x = Conv2D(filters=32, kernel_size=(5, 5), padding='valid', activation='relu')(input_tensor)\n",
        "x = Conv2D(filters=64, kernel_size=(3, 3), padding='same')(input_tensor)\n",
        "x = BatchNormalization()(x)\n",
        "x = Activation('relu')(x)\n",
        "\n",
        "x = Conv2D(filters=64, kernel_size=(3, 3), padding='same')(x)\n",
        "x = BatchNormalization()(x)\n",
        "x = Activation('relu')(x)\n",
        "x = MaxPooling2D(pool_size=(2, 2))(x)\n",
        "\n",
        "x = Conv2D(filters=128, kernel_size=3, padding='same')(x)\n",
        "x = BatchNormalization()(x)\n",
        "x = Activation('relu')(x)\n",
        "\n",
        "x = Conv2D(filters=128, kernel_size=3, padding='same')(x)\n",
        "x = Activation('relu')(x)\n",
        "x = Activation('relu')(x)\n",
        "x = MaxPooling2D(pool_size=2)(x)\n",
        "\n",
        "x = Conv2D(filters=256, kernel_size=3, padding='same')(x)\n",
        "x = BatchNormalization()(x)\n",
        "x = Activation('relu')(x)\n",
        "\n",
        "x = Conv2D(filters=256, kernel_size=3, padding='same')(x)\n",
        "x = BatchNormalization()(x)\n",
        "x = Activation('relu')(x)\n",
        "\n",
        "# 512 filters Conv layer 추가\n",
        "x = Conv2D(filters=512, kernel_size=3, padding='same')(x)\n",
        "x = BatchNormalization()(x)\n",
        "x = Activation('relu')(x)\n",
        "\n",
        "x = MaxPooling2D(pool_size=2)(x)\n",
        "\n",
        "# cifar10의 클래스가 10개 이므로 마지막 classification의 Dense layer units갯수는 10\n",
        "x = Flatten(name='flatten')(x)\n",
        "x = Dropout(rate=0.5)(x)\n",
        "x = Dense(300, activation='relu', name='fc1')(x)\n",
        "x = Dropout(rate=0.3)(x)\n",
        "output = Dense(10, activation='softmax', name='output')(x)\n",
        "\n",
        "model = Model(inputs=input_tensor, outputs=output)\n",
        "\n",
        "model.summary()"
      ],
      "execution_count": 18,
      "outputs": [
        {
          "output_type": "stream",
          "name": "stdout",
          "text": [
            "Model: \"model_6\"\n",
            "_________________________________________________________________\n",
            " Layer (type)                Output Shape              Param #   \n",
            "=================================================================\n",
            " input_7 (InputLayer)        [(None, 32, 32, 3)]       0         \n",
            "                                                                 \n",
            " conv2d_36 (Conv2D)          (None, 32, 32, 64)        1792      \n",
            "                                                                 \n",
            " batch_normalization_30 (Bat  (None, 32, 32, 64)       256       \n",
            " chNormalization)                                                \n",
            "                                                                 \n",
            " activation_42 (Activation)  (None, 32, 32, 64)        0         \n",
            "                                                                 \n",
            " conv2d_37 (Conv2D)          (None, 32, 32, 64)        36928     \n",
            "                                                                 \n",
            " batch_normalization_31 (Bat  (None, 32, 32, 64)       256       \n",
            " chNormalization)                                                \n",
            "                                                                 \n",
            " activation_43 (Activation)  (None, 32, 32, 64)        0         \n",
            "                                                                 \n",
            " max_pooling2d_18 (MaxPoolin  (None, 16, 16, 64)       0         \n",
            " g2D)                                                            \n",
            "                                                                 \n",
            " conv2d_38 (Conv2D)          (None, 16, 16, 128)       73856     \n",
            "                                                                 \n",
            " batch_normalization_32 (Bat  (None, 16, 16, 128)      512       \n",
            " chNormalization)                                                \n",
            "                                                                 \n",
            " activation_44 (Activation)  (None, 16, 16, 128)       0         \n",
            "                                                                 \n",
            " conv2d_39 (Conv2D)          (None, 16, 16, 128)       147584    \n",
            "                                                                 \n",
            " activation_45 (Activation)  (None, 16, 16, 128)       0         \n",
            "                                                                 \n",
            " activation_46 (Activation)  (None, 16, 16, 128)       0         \n",
            "                                                                 \n",
            " max_pooling2d_19 (MaxPoolin  (None, 8, 8, 128)        0         \n",
            " g2D)                                                            \n",
            "                                                                 \n",
            " conv2d_40 (Conv2D)          (None, 8, 8, 256)         295168    \n",
            "                                                                 \n",
            " batch_normalization_33 (Bat  (None, 8, 8, 256)        1024      \n",
            " chNormalization)                                                \n",
            "                                                                 \n",
            " activation_47 (Activation)  (None, 8, 8, 256)         0         \n",
            "                                                                 \n",
            " conv2d_41 (Conv2D)          (None, 8, 8, 256)         590080    \n",
            "                                                                 \n",
            " batch_normalization_34 (Bat  (None, 8, 8, 256)        1024      \n",
            " chNormalization)                                                \n",
            "                                                                 \n",
            " activation_48 (Activation)  (None, 8, 8, 256)         0         \n",
            "                                                                 \n",
            " conv2d_42 (Conv2D)          (None, 8, 8, 512)         1180160   \n",
            "                                                                 \n",
            " batch_normalization_35 (Bat  (None, 8, 8, 512)        2048      \n",
            " chNormalization)                                                \n",
            "                                                                 \n",
            " activation_49 (Activation)  (None, 8, 8, 512)         0         \n",
            "                                                                 \n",
            " max_pooling2d_20 (MaxPoolin  (None, 4, 4, 512)        0         \n",
            " g2D)                                                            \n",
            "                                                                 \n",
            " flatten (Flatten)           (None, 8192)              0         \n",
            "                                                                 \n",
            " dropout_12 (Dropout)        (None, 8192)              0         \n",
            "                                                                 \n",
            " fc1 (Dense)                 (None, 300)               2457900   \n",
            "                                                                 \n",
            " dropout_13 (Dropout)        (None, 300)               0         \n",
            "                                                                 \n",
            " output (Dense)              (None, 10)                3010      \n",
            "                                                                 \n",
            "=================================================================\n",
            "Total params: 4,791,598\n",
            "Trainable params: 4,789,038\n",
            "Non-trainable params: 2,560\n",
            "_________________________________________________________________\n"
          ]
        }
      ]
    },
    {
      "metadata": {
        "trusted": true,
        "colab": {
          "base_uri": "https://localhost:8080/"
        },
        "id": "MdzhjXqSAjDl",
        "outputId": "9fceafd9-d9fe-4e5c-9e31-7be5c4c64810"
      },
      "cell_type": "code",
      "source": [
        "model.compile(optimizer=Adam(lr=0.001), loss='categorical_crossentropy', metrics=['accuracy'])\n",
        "\n",
        "# 5번 iteration내에 validation loss가 향상되지 않으면 learning rate을 기존 learning rate * 0.2로 줄임.  \n",
        "rlr_cb = ReduceLROnPlateau(monitor='val_loss', factor=0.2, patience=5, mode='min', verbose=1)\n",
        "# 10번 iteration내에 validation loss가 향상되지 않으면 더 이상 학습하지 않고 종료\n",
        "ely_cb = EarlyStopping(monitor='val_loss', patience=10, mode='min', verbose=1)\n",
        "\n",
        "\n",
        "history = model.fit(x=tr_images, y=tr_oh_labels, batch_size=32, epochs=30, shuffle=True,\n",
        "                    validation_data=(val_images, val_oh_labels),  \n",
        "                    callbacks=[rlr_cb, ely_cb] )"
      ],
      "execution_count": 19,
      "outputs": [
        {
          "output_type": "stream",
          "name": "stderr",
          "text": [
            "/usr/local/lib/python3.7/dist-packages/keras/optimizer_v2/adam.py:105: UserWarning: The `lr` argument is deprecated, use `learning_rate` instead.\n",
            "  super(Adam, self).__init__(name, **kwargs)\n"
          ]
        },
        {
          "output_type": "stream",
          "name": "stdout",
          "text": [
            "Epoch 1/30\n",
            "1329/1329 [==============================] - 17s 12ms/step - loss: 1.8205 - accuracy: 0.3430 - val_loss: 1.4889 - val_accuracy: 0.4495 - lr: 0.0010\n",
            "Epoch 2/30\n",
            "1329/1329 [==============================] - 15s 11ms/step - loss: 1.3282 - accuracy: 0.5127 - val_loss: 1.1529 - val_accuracy: 0.6005 - lr: 0.0010\n",
            "Epoch 3/30\n",
            "1329/1329 [==============================] - 15s 11ms/step - loss: 1.0969 - accuracy: 0.6079 - val_loss: 1.0918 - val_accuracy: 0.6141 - lr: 0.0010\n",
            "Epoch 4/30\n",
            "1329/1329 [==============================] - 15s 11ms/step - loss: 0.9629 - accuracy: 0.6605 - val_loss: 0.8724 - val_accuracy: 0.7084 - lr: 0.0010\n",
            "Epoch 5/30\n",
            "1329/1329 [==============================] - 14s 11ms/step - loss: 0.8542 - accuracy: 0.7021 - val_loss: 0.9083 - val_accuracy: 0.6919 - lr: 0.0010\n",
            "Epoch 6/30\n",
            "1329/1329 [==============================] - 14s 11ms/step - loss: 0.7559 - accuracy: 0.7430 - val_loss: 0.9462 - val_accuracy: 0.6969 - lr: 0.0010\n",
            "Epoch 7/30\n",
            "1329/1329 [==============================] - 14s 10ms/step - loss: 0.6556 - accuracy: 0.7810 - val_loss: 0.7736 - val_accuracy: 0.7472 - lr: 0.0010\n",
            "Epoch 8/30\n",
            "1329/1329 [==============================] - 14s 11ms/step - loss: 0.5746 - accuracy: 0.8104 - val_loss: 0.7389 - val_accuracy: 0.7605 - lr: 0.0010\n",
            "Epoch 9/30\n",
            "1329/1329 [==============================] - 14s 11ms/step - loss: 0.4909 - accuracy: 0.8369 - val_loss: 0.7905 - val_accuracy: 0.7557 - lr: 0.0010\n",
            "Epoch 10/30\n",
            "1329/1329 [==============================] - 14s 11ms/step - loss: 0.4254 - accuracy: 0.8612 - val_loss: 0.8299 - val_accuracy: 0.7813 - lr: 0.0010\n",
            "Epoch 11/30\n",
            "1329/1329 [==============================] - 14s 11ms/step - loss: 0.3702 - accuracy: 0.8781 - val_loss: 0.6939 - val_accuracy: 0.7895 - lr: 0.0010\n",
            "Epoch 12/30\n",
            "1329/1329 [==============================] - 14s 10ms/step - loss: 0.3178 - accuracy: 0.8953 - val_loss: 0.7031 - val_accuracy: 0.8072 - lr: 0.0010\n",
            "Epoch 13/30\n",
            "1329/1329 [==============================] - 14s 10ms/step - loss: 0.2712 - accuracy: 0.9119 - val_loss: 0.7361 - val_accuracy: 0.7997 - lr: 0.0010\n",
            "Epoch 14/30\n",
            "1329/1329 [==============================] - 14s 11ms/step - loss: 0.2414 - accuracy: 0.9214 - val_loss: 0.5419 - val_accuracy: 0.8397 - lr: 0.0010\n",
            "Epoch 15/30\n",
            "1329/1329 [==============================] - 14s 11ms/step - loss: 0.2073 - accuracy: 0.9314 - val_loss: 0.6222 - val_accuracy: 0.8535 - lr: 0.0010\n",
            "Epoch 16/30\n",
            "1329/1329 [==============================] - 15s 11ms/step - loss: 0.1860 - accuracy: 0.9386 - val_loss: 0.5296 - val_accuracy: 0.8509 - lr: 0.0010\n",
            "Epoch 17/30\n",
            "1329/1329 [==============================] - 14s 11ms/step - loss: 0.1626 - accuracy: 0.9475 - val_loss: 0.6854 - val_accuracy: 0.8268 - lr: 0.0010\n",
            "Epoch 18/30\n",
            "1329/1329 [==============================] - 14s 11ms/step - loss: 0.1428 - accuracy: 0.9548 - val_loss: 0.6762 - val_accuracy: 0.8376 - lr: 0.0010\n",
            "Epoch 19/30\n",
            "1329/1329 [==============================] - 14s 11ms/step - loss: 0.1326 - accuracy: 0.9577 - val_loss: 0.6612 - val_accuracy: 0.8449 - lr: 0.0010\n",
            "Epoch 20/30\n",
            "1329/1329 [==============================] - 14s 11ms/step - loss: 0.1236 - accuracy: 0.9594 - val_loss: 0.7243 - val_accuracy: 0.8353 - lr: 0.0010\n",
            "Epoch 21/30\n",
            "1326/1329 [============================>.] - ETA: 0s - loss: 0.1132 - accuracy: 0.9645\n",
            "Epoch 00021: ReduceLROnPlateau reducing learning rate to 0.00020000000949949026.\n",
            "1329/1329 [==============================] - 14s 11ms/step - loss: 0.1133 - accuracy: 0.9645 - val_loss: 0.7391 - val_accuracy: 0.8447 - lr: 0.0010\n",
            "Epoch 22/30\n",
            "1329/1329 [==============================] - 15s 11ms/step - loss: 0.0394 - accuracy: 0.9871 - val_loss: 0.6405 - val_accuracy: 0.8775 - lr: 2.0000e-04\n",
            "Epoch 23/30\n",
            "1329/1329 [==============================] - 15s 11ms/step - loss: 0.0193 - accuracy: 0.9936 - val_loss: 0.7541 - val_accuracy: 0.8767 - lr: 2.0000e-04\n",
            "Epoch 24/30\n",
            "1329/1329 [==============================] - 14s 11ms/step - loss: 0.0144 - accuracy: 0.9955 - val_loss: 0.8167 - val_accuracy: 0.8775 - lr: 2.0000e-04\n",
            "Epoch 25/30\n",
            "1329/1329 [==============================] - 14s 11ms/step - loss: 0.0158 - accuracy: 0.9948 - val_loss: 0.8597 - val_accuracy: 0.8760 - lr: 2.0000e-04\n",
            "Epoch 26/30\n",
            "1327/1329 [============================>.] - ETA: 0s - loss: 0.0120 - accuracy: 0.9964\n",
            "Epoch 00026: ReduceLROnPlateau reducing learning rate to 4.0000001899898055e-05.\n",
            "1329/1329 [==============================] - 14s 11ms/step - loss: 0.0120 - accuracy: 0.9964 - val_loss: 0.8686 - val_accuracy: 0.8745 - lr: 2.0000e-04\n",
            "Epoch 00026: early stopping\n"
          ]
        }
      ]
    },
    {
      "metadata": {
        "trusted": true,
        "colab": {
          "base_uri": "https://localhost:8080/",
          "height": 283
        },
        "id": "-LZAbQe6AjDm",
        "outputId": "bc59274e-3d66-490b-b3bf-9f27894c8c82"
      },
      "cell_type": "code",
      "source": [
        "model.evaluate(test_images, test_oh_labels)\n",
        "show_history(history)"
      ],
      "execution_count": 20,
      "outputs": [
        {
          "output_type": "stream",
          "name": "stdout",
          "text": [
            "313/313 [==============================] - 2s 5ms/step - loss: 0.9296 - accuracy: 0.8662\n"
          ]
        },
        {
          "output_type": "display_data",
          "data": {
            "image/png": "[encoded data removed]",
            "text/plain": [
              "<Figure size 576x288 with 1 Axes>"
            ]
          },
          "metadata": {
            "needs_background": "light"
          }
        }
      ]
    },
    {
      "metadata": {
        "id": "qbFMlvtbAjDm"
      },
      "cell_type": "markdown",
      "source": [
        "### 맨 마지막 Conv + MaxPooling 대신 맨 마지막 Conv의 Strides를 2로 하여 Feature map 조정"
      ]
    },
    {
      "metadata": {
        "trusted": true,
        "colab": {
          "base_uri": "https://localhost:8080/"
        },
        "id": "RZI8KNctAjDm",
        "outputId": "3bee01a1-9030-4847-932d-d001ba126dc6"
      },
      "cell_type": "code",
      "source": [
        "from tensorflow.keras.models import Sequential, Model\n",
        "from tensorflow.keras.layers import Input, Dense , Conv2D , Dropout , Flatten , Activation, MaxPooling2D , GlobalAveragePooling2D\n",
        "from tensorflow.keras.optimizers import Adam , RMSprop \n",
        "from tensorflow.keras.layers import BatchNormalization\n",
        "from tensorflow.keras.callbacks import ReduceLROnPlateau , EarlyStopping , ModelCheckpoint , LearningRateScheduler\n",
        "\n",
        "input_tensor = Input(shape=(IMAGE_SIZE, IMAGE_SIZE, 3))\n",
        "\n",
        "x = Conv2D(filters=64, kernel_size=(3, 3), padding='same')(input_tensor)\n",
        "x = BatchNormalization()(x)\n",
        "x = Activation('relu')(x)\n",
        "\n",
        "x = Conv2D(filters=64, kernel_size=(3, 3), padding='same')(x)\n",
        "x = BatchNormalization()(x)\n",
        "x = Activation('relu')(x)\n",
        "x = MaxPooling2D(pool_size=(2, 2))(x)\n",
        "\n",
        "x = Conv2D(filters=128, kernel_size=3, padding='same')(x)\n",
        "x = BatchNormalization()(x)\n",
        "x = Activation('relu')(x)\n",
        "\n",
        "x = Conv2D(filters=128, kernel_size=3, padding='same')(x)\n",
        "x = Activation('relu')(x)\n",
        "x = Activation('relu')(x)\n",
        "x = MaxPooling2D(pool_size=2)(x)\n",
        "\n",
        "x = Conv2D(filters=256, kernel_size=3, padding='same')(x)\n",
        "x = BatchNormalization()(x)\n",
        "x = Activation('relu')(x)\n",
        "\n",
        "x = Conv2D(filters=256, kernel_size=3, padding='same')(x)\n",
        "x = BatchNormalization()(x)\n",
        "x = Activation('relu')(x)\n",
        "\n",
        "# 512 filters Conv layer 추가하되 이후 MaxPooling을 적용하지 않고 strides는 2로 변경하여 출력 feature map 크기 조정\n",
        "# stride = 2일때 padding = 'same'은 stride = 2 일때 커널사이즈가 안맞아서 못가는 부분을 해결, 아웃풋사이즈을 인풋사이즈와 동일하게 유지하는게 아님 \n",
        "x = Conv2D(filters=512, kernel_size=3, strides=2, padding='same')(x)\n",
        "x = BatchNormalization()(x)\n",
        "x = Activation('relu')(x)\n",
        "\n",
        "\n",
        "# cifar10의 클래스가 10개 이므로 마지막 classification의 Dense layer units갯수는 10\n",
        "x = Flatten(name='flatten')(x)\n",
        "x = Dropout(rate=0.5)(x)\n",
        "x = Dense(300, activation='relu', name='fc1')(x)\n",
        "x = Dropout(rate=0.3)(x)\n",
        "output = Dense(10, activation='softmax', name='output')(x)\n",
        "\n",
        "model = Model(inputs=input_tensor, outputs=output)\n",
        "\n",
        "model.summary()"
      ],
      "execution_count": 21,
      "outputs": [
        {
          "output_type": "stream",
          "name": "stdout",
          "text": [
            "Model: \"model_7\"\n",
            "_________________________________________________________________\n",
            " Layer (type)                Output Shape              Param #   \n",
            "=================================================================\n",
            " input_8 (InputLayer)        [(None, 32, 32, 3)]       0         \n",
            "                                                                 \n",
            " conv2d_43 (Conv2D)          (None, 32, 32, 64)        1792      \n",
            "                                                                 \n",
            " batch_normalization_36 (Bat  (None, 32, 32, 64)       256       \n",
            " chNormalization)                                                \n",
            "                                                                 \n",
            " activation_50 (Activation)  (None, 32, 32, 64)        0         \n",
            "                                                                 \n",
            " conv2d_44 (Conv2D)          (None, 32, 32, 64)        36928     \n",
            "                                                                 \n",
            " batch_normalization_37 (Bat  (None, 32, 32, 64)       256       \n",
            " chNormalization)                                                \n",
            "                                                                 \n",
            " activation_51 (Activation)  (None, 32, 32, 64)        0         \n",
            "                                                                 \n",
            " max_pooling2d_21 (MaxPoolin  (None, 16, 16, 64)       0         \n",
            " g2D)                                                            \n",
            "                                                                 \n",
            " conv2d_45 (Conv2D)          (None, 16, 16, 128)       73856     \n",
            "                                                                 \n",
            " batch_normalization_38 (Bat  (None, 16, 16, 128)      512       \n",
            " chNormalization)                                                \n",
            "                                                                 \n",
            " activation_52 (Activation)  (None, 16, 16, 128)       0         \n",
            "                                                                 \n",
            " conv2d_46 (Conv2D)          (None, 16, 16, 128)       147584    \n",
            "                                                                 \n",
            " activation_53 (Activation)  (None, 16, 16, 128)       0         \n",
            "                                                                 \n",
            " activation_54 (Activation)  (None, 16, 16, 128)       0         \n",
            "                                                                 \n",
            " max_pooling2d_22 (MaxPoolin  (None, 8, 8, 128)        0         \n",
            " g2D)                                                            \n",
            "                                                                 \n",
            " conv2d_47 (Conv2D)          (None, 8, 8, 256)         295168    \n",
            "                                                                 \n",
            " batch_normalization_39 (Bat  (None, 8, 8, 256)        1024      \n",
            " chNormalization)                                                \n",
            "                                                                 \n",
            " activation_55 (Activation)  (None, 8, 8, 256)         0         \n",
            "                                                                 \n",
            " conv2d_48 (Conv2D)          (None, 8, 8, 256)         590080    \n",
            "                                                                 \n",
            " batch_normalization_40 (Bat  (None, 8, 8, 256)        1024      \n",
            " chNormalization)                                                \n",
            "                                                                 \n",
            " activation_56 (Activation)  (None, 8, 8, 256)         0         \n",
            "                                                                 \n",
            " conv2d_49 (Conv2D)          (None, 4, 4, 512)         1180160   \n",
            "                                                                 \n",
            " batch_normalization_41 (Bat  (None, 4, 4, 512)        2048      \n",
            " chNormalization)                                                \n",
            "                                                                 \n",
            " activation_57 (Activation)  (None, 4, 4, 512)         0         \n",
            "                                                                 \n",
            " flatten (Flatten)           (None, 8192)              0         \n",
            "                                                                 \n",
            " dropout_14 (Dropout)        (None, 8192)              0         \n",
            "                                                                 \n",
            " fc1 (Dense)                 (None, 300)               2457900   \n",
            "                                                                 \n",
            " dropout_15 (Dropout)        (None, 300)               0         \n",
            "                                                                 \n",
            " output (Dense)              (None, 10)                3010      \n",
            "                                                                 \n",
            "=================================================================\n",
            "Total params: 4,791,598\n",
            "Trainable params: 4,789,038\n",
            "Non-trainable params: 2,560\n",
            "_________________________________________________________________\n"
          ]
        }
      ]
    },
    {
      "metadata": {
        "trusted": true,
        "colab": {
          "base_uri": "https://localhost:8080/"
        },
        "id": "5Ne95GClAjDn",
        "outputId": "f1482c0a-acd5-4fbf-fe24-35fe2d934bfb"
      },
      "cell_type": "code",
      "source": [
        "model.compile(optimizer=Adam(lr=0.001), loss='categorical_crossentropy', metrics=['accuracy'])\n",
        "\n",
        "# 5번 iteration내에 validation loss가 향상되지 않으면 learning rate을 기존 learning rate * 0.2로 줄임.  \n",
        "rlr_cb = ReduceLROnPlateau(monitor='val_loss', factor=0.2, patience=5, mode='min', verbose=1)\n",
        "# 10번 iteration내에 validation loss가 향상되지 않으면 더 이상 학습하지 않고 종료\n",
        "ely_cb = EarlyStopping(monitor='val_loss', patience=10, mode='min', verbose=1)\n",
        "\n",
        "\n",
        "history = model.fit(x=tr_images, y=tr_oh_labels, batch_size=32, epochs=30, shuffle=True,\n",
        "                    validation_data=(val_images, val_oh_labels),  \n",
        "                    callbacks=[rlr_cb, ely_cb] )"
      ],
      "execution_count": 22,
      "outputs": [
        {
          "output_type": "stream",
          "name": "stderr",
          "text": [
            "/usr/local/lib/python3.7/dist-packages/keras/optimizer_v2/adam.py:105: UserWarning: The `lr` argument is deprecated, use `learning_rate` instead.\n",
            "  super(Adam, self).__init__(name, **kwargs)\n"
          ]
        },
        {
          "output_type": "stream",
          "name": "stdout",
          "text": [
            "Epoch 1/30\n",
            "1329/1329 [==============================] - 16s 12ms/step - loss: 1.6296 - accuracy: 0.4114 - val_loss: 1.7655 - val_accuracy: 0.4429 - lr: 0.0010\n",
            "Epoch 2/30\n",
            "1329/1329 [==============================] - 15s 11ms/step - loss: 1.1495 - accuracy: 0.5930 - val_loss: 0.9733 - val_accuracy: 0.6583 - lr: 0.0010\n",
            "Epoch 3/30\n",
            "1329/1329 [==============================] - 15s 11ms/step - loss: 0.9472 - accuracy: 0.6719 - val_loss: 1.3299 - val_accuracy: 0.5925 - lr: 0.0010\n",
            "Epoch 4/30\n",
            "1329/1329 [==============================] - 15s 12ms/step - loss: 0.8182 - accuracy: 0.7208 - val_loss: 1.0675 - val_accuracy: 0.6460 - lr: 0.0010\n",
            "Epoch 5/30\n",
            "1329/1329 [==============================] - 15s 11ms/step - loss: 0.7080 - accuracy: 0.7605 - val_loss: 0.6536 - val_accuracy: 0.7804 - lr: 0.0010\n",
            "Epoch 6/30\n",
            "1329/1329 [==============================] - 15s 11ms/step - loss: 0.6178 - accuracy: 0.7912 - val_loss: 0.7552 - val_accuracy: 0.7628 - lr: 0.0010\n",
            "Epoch 7/30\n",
            "1329/1329 [==============================] - 14s 11ms/step - loss: 0.5426 - accuracy: 0.8203 - val_loss: 0.6829 - val_accuracy: 0.7825 - lr: 0.0010\n",
            "Epoch 8/30\n",
            "1329/1329 [==============================] - 15s 11ms/step - loss: 0.4659 - accuracy: 0.8442 - val_loss: 0.6400 - val_accuracy: 0.7996 - lr: 0.0010\n",
            "Epoch 9/30\n",
            "1329/1329 [==============================] - 15s 12ms/step - loss: 0.4065 - accuracy: 0.8653 - val_loss: 0.6594 - val_accuracy: 0.7928 - lr: 0.0010\n",
            "Epoch 10/30\n",
            "1329/1329 [==============================] - 14s 11ms/step - loss: 0.3527 - accuracy: 0.8832 - val_loss: 0.5937 - val_accuracy: 0.8183 - lr: 0.0010\n",
            "Epoch 11/30\n",
            "1329/1329 [==============================] - 14s 11ms/step - loss: 0.3055 - accuracy: 0.8980 - val_loss: 0.6394 - val_accuracy: 0.8128 - lr: 0.0010\n",
            "Epoch 12/30\n",
            "1329/1329 [==============================] - 15s 11ms/step - loss: 0.2639 - accuracy: 0.9123 - val_loss: 0.7286 - val_accuracy: 0.8081 - lr: 0.0010\n",
            "Epoch 13/30\n",
            "1329/1329 [==============================] - 15s 11ms/step - loss: 0.2256 - accuracy: 0.9242 - val_loss: 0.7932 - val_accuracy: 0.8168 - lr: 0.0010\n",
            "Epoch 14/30\n",
            "1329/1329 [==============================] - 14s 11ms/step - loss: 0.1968 - accuracy: 0.9351 - val_loss: 0.7209 - val_accuracy: 0.8311 - lr: 0.0010\n",
            "Epoch 15/30\n",
            "1328/1329 [============================>.] - ETA: 0s - loss: 0.1787 - accuracy: 0.9415\n",
            "Epoch 00015: ReduceLROnPlateau reducing learning rate to 0.00020000000949949026.\n",
            "1329/1329 [==============================] - 15s 11ms/step - loss: 0.1788 - accuracy: 0.9414 - val_loss: 0.7186 - val_accuracy: 0.8260 - lr: 0.0010\n",
            "Epoch 16/30\n",
            "1329/1329 [==============================] - 16s 12ms/step - loss: 0.0760 - accuracy: 0.9745 - val_loss: 0.6187 - val_accuracy: 0.8675 - lr: 2.0000e-04\n",
            "Epoch 17/30\n",
            "1329/1329 [==============================] - 16s 12ms/step - loss: 0.0444 - accuracy: 0.9851 - val_loss: 0.6823 - val_accuracy: 0.8665 - lr: 2.0000e-04\n",
            "Epoch 18/30\n",
            "1329/1329 [==============================] - 15s 12ms/step - loss: 0.0352 - accuracy: 0.9877 - val_loss: 0.7304 - val_accuracy: 0.8705 - lr: 2.0000e-04\n",
            "Epoch 19/30\n",
            "1329/1329 [==============================] - 15s 11ms/step - loss: 0.0289 - accuracy: 0.9901 - val_loss: 0.7981 - val_accuracy: 0.8652 - lr: 2.0000e-04\n",
            "Epoch 20/30\n",
            "1328/1329 [============================>.] - ETA: 0s - loss: 0.0258 - accuracy: 0.9910\n",
            "Epoch 00020: ReduceLROnPlateau reducing learning rate to 4.0000001899898055e-05.\n",
            "1329/1329 [==============================] - 16s 12ms/step - loss: 0.0259 - accuracy: 0.9910 - val_loss: 0.8074 - val_accuracy: 0.8637 - lr: 2.0000e-04\n",
            "Epoch 00020: early stopping\n"
          ]
        }
      ]
    },
    {
      "metadata": {
        "trusted": true,
        "colab": {
          "base_uri": "https://localhost:8080/",
          "height": 283
        },
        "id": "mWR8gJ_wAjDn",
        "outputId": "21d0046b-1e75-4ac7-de74-de3032212c67"
      },
      "cell_type": "code",
      "source": [
        "model.evaluate(test_images, test_oh_labels)\n",
        "show_history(history)"
      ],
      "execution_count": 23,
      "outputs": [
        {
          "output_type": "stream",
          "name": "stdout",
          "text": [
            "313/313 [==============================] - 2s 5ms/step - loss: 0.8524 - accuracy: 0.8571\n"
          ]
        },
        {
          "output_type": "display_data",
          "data": {
            "image/png": "[encoded data removed]",
            "text/plain": [
              "<Figure size 576x288 with 1 Axes>"
            ]
          },
          "metadata": {
            "needs_background": "light"
          }
        }
      ]
    },
    {
      "metadata": {
        "id": "Fr1pTU7OAjDn"
      },
      "cell_type": "markdown",
      "source": [
        "### Global Average Pooling의 적용\n",
        "* Global Average Pooling은 피처맵의 가로x세로의 특정 영역을 Sub sampling 않고, 채널별로 평균 값을 추출\n",
        "* 충분히 Feature map의 채널수가 많을 경우 이를 적용. 채널수가 적다면 Flatten이 유리. \n",
        "* Flatten-> Classification Dense Layer로 이어지면서 많은 파라미터들로 인한 오버피팅 유발 가능성 증대 및 학습 시간 늘어남. \n",
        "* 맨 마지막 Feature Map의 채널 수가 충분히 크다면 GlobalAveragePooling2D를 적용하여 Flatten을 제거하는데 더 유리 할 수 있음. "
      ]
    },
    {
      "metadata": {
        "trusted": true,
        "colab": {
          "base_uri": "https://localhost:8080/"
        },
        "id": "7hrf656lAjDn",
        "outputId": "78eec9f6-0d8b-4754-b62e-41ef6b40454a"
      },
      "cell_type": "code",
      "source": [
        "from tensorflow.keras.models import Sequential, Model\n",
        "from tensorflow.keras.layers import Input, Dense , Conv2D , Dropout , Flatten , Activation, MaxPooling2D , GlobalAveragePooling2D\n",
        "from tensorflow.keras.optimizers import Adam , RMSprop \n",
        "from tensorflow.keras.layers import BatchNormalization\n",
        "from tensorflow.keras.callbacks import ReduceLROnPlateau , EarlyStopping , ModelCheckpoint , LearningRateScheduler\n",
        "\n",
        "input_tensor = Input(shape=(IMAGE_SIZE, IMAGE_SIZE, 3))\n",
        "\n",
        "#x = Conv2D(filters=32, kernel_size=(5, 5), padding='valid', activation='relu')(input_tensor)\n",
        "x = Conv2D(filters=64, kernel_size=(3, 3), padding='same')(input_tensor)\n",
        "x = BatchNormalization()(x)\n",
        "x = Activation('relu')(x)\n",
        "\n",
        "x = Conv2D(filters=64, kernel_size=(3, 3), padding='same')(x)\n",
        "x = BatchNormalization()(x)\n",
        "x = Activation('relu')(x)\n",
        "x = MaxPooling2D(pool_size=(2, 2))(x)\n",
        "\n",
        "x = Conv2D(filters=128, kernel_size=3, padding='same')(x)\n",
        "x = BatchNormalization()(x)\n",
        "x = Activation('relu')(x)\n",
        "\n",
        "x = Conv2D(filters=128, kernel_size=3, padding='same')(x)\n",
        "x = Activation('relu')(x)\n",
        "x = Activation('relu')(x)\n",
        "x = MaxPooling2D(pool_size=2)(x)\n",
        "\n",
        "x = Conv2D(filters=256, kernel_size=3, padding='same')(x)\n",
        "x = BatchNormalization()(x)\n",
        "x = Activation('relu')(x)\n",
        "\n",
        "x = Conv2D(filters=256, kernel_size=3, padding='same')(x)\n",
        "x = BatchNormalization()(x)\n",
        "x = Activation('relu')(x)\n",
        "\n",
        "x = Conv2D(filters=512, kernel_size=3, strides=2, padding='same')(x)\n",
        "x = BatchNormalization()(x)\n",
        "x = Activation('relu')(x)\n",
        "\n",
        "# Flatten 대신 Global AveragePooling 을 적용. \n",
        "x = GlobalAveragePooling2D()(x)\n",
        "x = Dropout(rate=0.5)(x)\n",
        "x = Dense(50, activation='relu', name='fc1')(x)\n",
        "x = Dropout(rate=0.2)(x)\n",
        "output = Dense(10, activation='softmax', name='output')(x)\n",
        "\n",
        "model = Model(inputs=input_tensor, outputs=output)\n",
        "\n",
        "model.summary()"
      ],
      "execution_count": 24,
      "outputs": [
        {
          "output_type": "stream",
          "name": "stdout",
          "text": [
            "Model: \"model_8\"\n",
            "_________________________________________________________________\n",
            " Layer (type)                Output Shape              Param #   \n",
            "=================================================================\n",
            " input_9 (InputLayer)        [(None, 32, 32, 3)]       0         \n",
            "                                                                 \n",
            " conv2d_50 (Conv2D)          (None, 32, 32, 64)        1792      \n",
            "                                                                 \n",
            " batch_normalization_42 (Bat  (None, 32, 32, 64)       256       \n",
            " chNormalization)                                                \n",
            "                                                                 \n",
            " activation_58 (Activation)  (None, 32, 32, 64)        0         \n",
            "                                                                 \n",
            " conv2d_51 (Conv2D)          (None, 32, 32, 64)        36928     \n",
            "                                                                 \n",
            " batch_normalization_43 (Bat  (None, 32, 32, 64)       256       \n",
            " chNormalization)                                                \n",
            "                                                                 \n",
            " activation_59 (Activation)  (None, 32, 32, 64)        0         \n",
            "                                                                 \n",
            " max_pooling2d_23 (MaxPoolin  (None, 16, 16, 64)       0         \n",
            " g2D)                                                            \n",
            "                                                                 \n",
            " conv2d_52 (Conv2D)          (None, 16, 16, 128)       73856     \n",
            "                                                                 \n",
            " batch_normalization_44 (Bat  (None, 16, 16, 128)      512       \n",
            " chNormalization)                                                \n",
            "                                                                 \n",
            " activation_60 (Activation)  (None, 16, 16, 128)       0         \n",
            "                                                                 \n",
            " conv2d_53 (Conv2D)          (None, 16, 16, 128)       147584    \n",
            "                                                                 \n",
            " activation_61 (Activation)  (None, 16, 16, 128)       0         \n",
            "                                                                 \n",
            " activation_62 (Activation)  (None, 16, 16, 128)       0         \n",
            "                                                                 \n",
            " max_pooling2d_24 (MaxPoolin  (None, 8, 8, 128)        0         \n",
            " g2D)                                                            \n",
            "                                                                 \n",
            " conv2d_54 (Conv2D)          (None, 8, 8, 256)         295168    \n",
            "                                                                 \n",
            " batch_normalization_45 (Bat  (None, 8, 8, 256)        1024      \n",
            " chNormalization)                                                \n",
            "                                                                 \n",
            " activation_63 (Activation)  (None, 8, 8, 256)         0         \n",
            "                                                                 \n",
            " conv2d_55 (Conv2D)          (None, 8, 8, 256)         590080    \n",
            "                                                                 \n",
            " batch_normalization_46 (Bat  (None, 8, 8, 256)        1024      \n",
            " chNormalization)                                                \n",
            "                                                                 \n",
            " activation_64 (Activation)  (None, 8, 8, 256)         0         \n",
            "                                                                 \n",
            " conv2d_56 (Conv2D)          (None, 4, 4, 512)         1180160   \n",
            "                                                                 \n",
            " batch_normalization_47 (Bat  (None, 4, 4, 512)        2048      \n",
            " chNormalization)                                                \n",
            "                                                                 \n",
            " activation_65 (Activation)  (None, 4, 4, 512)         0         \n",
            "                                                                 \n",
            " global_average_pooling2d (G  (None, 512)              0         \n",
            " lobalAveragePooling2D)                                          \n",
            "                                                                 \n",
            " dropout_16 (Dropout)        (None, 512)               0         \n",
            "                                                                 \n",
            " fc1 (Dense)                 (None, 50)                25650     \n",
            "                                                                 \n",
            " dropout_17 (Dropout)        (None, 50)                0         \n",
            "                                                                 \n",
            " output (Dense)              (None, 10)                510       \n",
            "                                                                 \n",
            "=================================================================\n",
            "Total params: 2,356,848\n",
            "Trainable params: 2,354,288\n",
            "Non-trainable params: 2,560\n",
            "_________________________________________________________________\n"
          ]
        }
      ]
    },
    {
      "metadata": {
        "trusted": true,
        "colab": {
          "base_uri": "https://localhost:8080/"
        },
        "id": "fR9qY6xsAjDo",
        "outputId": "f452e496-828e-483d-dcd4-2e564eca1d89"
      },
      "cell_type": "code",
      "source": [
        "from tensorflow.keras.callbacks import ReduceLROnPlateau\n",
        "from tensorflow.keras.callbacks import EarlyStopping\n",
        "\n",
        "model.compile(optimizer=Adam(lr=0.001), loss='categorical_crossentropy', metrics=['accuracy'])\n",
        "\n",
        "# 5번 iteration내에 validation loss가 향상되지 않으면 learning rate을 기존 learning rate * 0.2로 줄임.  \n",
        "rlr_cb = ReduceLROnPlateau(monitor='val_loss', factor=0.2, patience=5, mode='min', verbose=1)\n",
        "# 10번 iteration내에 validation loss가 향상되지 않으면 더 이상 학습하지 않고 종료\n",
        "ely_cb = EarlyStopping(monitor='val_loss', patience=10, mode='min', verbose=1)\n",
        "\n",
        "\n",
        "history = model.fit(x=tr_images, y=tr_oh_labels, batch_size=32, epochs=30, shuffle=True,\n",
        "                    validation_data=(val_images, val_oh_labels),  \n",
        "                    callbacks=[rlr_cb, ely_cb] )"
      ],
      "execution_count": 25,
      "outputs": [
        {
          "output_type": "stream",
          "name": "stderr",
          "text": [
            "/usr/local/lib/python3.7/dist-packages/keras/optimizer_v2/adam.py:105: UserWarning: The `lr` argument is deprecated, use `learning_rate` instead.\n",
            "  super(Adam, self).__init__(name, **kwargs)\n"
          ]
        },
        {
          "output_type": "stream",
          "name": "stdout",
          "text": [
            "Epoch 1/30\n",
            "1329/1329 [==============================] - 17s 12ms/step - loss: 1.4929 - accuracy: 0.4502 - val_loss: 1.4382 - val_accuracy: 0.5055 - lr: 0.0010\n",
            "Epoch 2/30\n",
            "1329/1329 [==============================] - 15s 12ms/step - loss: 1.0508 - accuracy: 0.6281 - val_loss: 1.2205 - val_accuracy: 0.5861 - lr: 0.0010\n",
            "Epoch 3/30\n",
            "1329/1329 [==============================] - 15s 11ms/step - loss: 0.8489 - accuracy: 0.7057 - val_loss: 0.8858 - val_accuracy: 0.7025 - lr: 0.0010\n",
            "Epoch 4/30\n",
            "1329/1329 [==============================] - 16s 12ms/step - loss: 0.7124 - accuracy: 0.7579 - val_loss: 0.7889 - val_accuracy: 0.7296 - lr: 0.0010\n",
            "Epoch 5/30\n",
            "1329/1329 [==============================] - 15s 11ms/step - loss: 0.6089 - accuracy: 0.7972 - val_loss: 0.6948 - val_accuracy: 0.7700 - lr: 0.0010\n",
            "Epoch 6/30\n",
            "1329/1329 [==============================] - 15s 11ms/step - loss: 0.5154 - accuracy: 0.8267 - val_loss: 0.9243 - val_accuracy: 0.7105 - lr: 0.0010\n",
            "Epoch 7/30\n",
            "1329/1329 [==============================] - 15s 11ms/step - loss: 0.4450 - accuracy: 0.8503 - val_loss: 0.7493 - val_accuracy: 0.7545 - lr: 0.0010\n",
            "Epoch 8/30\n",
            "1329/1329 [==============================] - 15s 11ms/step - loss: 0.3794 - accuracy: 0.8728 - val_loss: 0.5811 - val_accuracy: 0.8077 - lr: 0.0010\n",
            "Epoch 9/30\n",
            "1329/1329 [==============================] - 15s 11ms/step - loss: 0.3279 - accuracy: 0.8896 - val_loss: 0.5706 - val_accuracy: 0.8197 - lr: 0.0010\n",
            "Epoch 10/30\n",
            "1329/1329 [==============================] - 16s 12ms/step - loss: 0.2745 - accuracy: 0.9079 - val_loss: 0.5469 - val_accuracy: 0.8345 - lr: 0.0010\n",
            "Epoch 11/30\n",
            "1329/1329 [==============================] - 15s 11ms/step - loss: 0.2396 - accuracy: 0.9201 - val_loss: 0.5771 - val_accuracy: 0.8236 - lr: 0.0010\n",
            "Epoch 12/30\n",
            "1329/1329 [==============================] - 15s 12ms/step - loss: 0.1960 - accuracy: 0.9341 - val_loss: 0.6638 - val_accuracy: 0.8105 - lr: 0.0010\n",
            "Epoch 13/30\n",
            "1329/1329 [==============================] - 15s 11ms/step - loss: 0.1731 - accuracy: 0.9407 - val_loss: 0.7543 - val_accuracy: 0.7979 - lr: 0.0010\n",
            "Epoch 14/30\n",
            "1329/1329 [==============================] - 15s 11ms/step - loss: 0.1485 - accuracy: 0.9500 - val_loss: 0.7162 - val_accuracy: 0.8171 - lr: 0.0010\n",
            "Epoch 15/30\n",
            "1329/1329 [==============================] - ETA: 0s - loss: 0.1317 - accuracy: 0.9571\n",
            "Epoch 00015: ReduceLROnPlateau reducing learning rate to 0.00020000000949949026.\n",
            "1329/1329 [==============================] - 14s 11ms/step - loss: 0.1317 - accuracy: 0.9571 - val_loss: 0.6175 - val_accuracy: 0.8347 - lr: 0.0010\n",
            "Epoch 16/30\n",
            "1329/1329 [==============================] - 15s 11ms/step - loss: 0.0551 - accuracy: 0.9827 - val_loss: 0.5589 - val_accuracy: 0.8675 - lr: 2.0000e-04\n",
            "Epoch 17/30\n",
            "1329/1329 [==============================] - 15s 12ms/step - loss: 0.0300 - accuracy: 0.9906 - val_loss: 0.6388 - val_accuracy: 0.8621 - lr: 2.0000e-04\n",
            "Epoch 18/30\n",
            "1329/1329 [==============================] - 15s 11ms/step - loss: 0.0253 - accuracy: 0.9920 - val_loss: 0.6393 - val_accuracy: 0.8681 - lr: 2.0000e-04\n",
            "Epoch 19/30\n",
            "1329/1329 [==============================] - 15s 12ms/step - loss: 0.0205 - accuracy: 0.9938 - val_loss: 0.6616 - val_accuracy: 0.8648 - lr: 2.0000e-04\n",
            "Epoch 20/30\n",
            "1329/1329 [==============================] - ETA: 0s - loss: 0.0189 - accuracy: 0.9941\n",
            "Epoch 00020: ReduceLROnPlateau reducing learning rate to 4.0000001899898055e-05.\n",
            "1329/1329 [==============================] - 15s 12ms/step - loss: 0.0189 - accuracy: 0.9941 - val_loss: 0.7204 - val_accuracy: 0.8660 - lr: 2.0000e-04\n",
            "Epoch 00020: early stopping\n"
          ]
        }
      ]
    },
    {
      "metadata": {
        "trusted": true,
        "colab": {
          "base_uri": "https://localhost:8080/",
          "height": 283
        },
        "id": "oJCDgMijAjDo",
        "outputId": "bc17bd1a-3b2d-4417-b03d-33d01345802c"
      },
      "cell_type": "code",
      "source": [
        "model.evaluate(test_images, test_oh_labels)\n",
        "show_history(history)"
      ],
      "execution_count": 26,
      "outputs": [
        {
          "output_type": "stream",
          "name": "stdout",
          "text": [
            "313/313 [==============================] - 2s 5ms/step - loss: 0.7426 - accuracy: 0.8594\n"
          ]
        },
        {
          "output_type": "display_data",
          "data": {
            "image/png": "[encoded data removed]",
            "text/plain": [
              "<Figure size 576x288 with 1 Axes>"
            ]
          },
          "metadata": {
            "needs_background": "light"
          }
        }
      ]
    },
    {
      "metadata": {
        "id": "5tTJSsW9AjDo"
      },
      "cell_type": "markdown",
      "source": [
        "### 가중치 규제(Weight Regularizations)\n",
        "* 개별 layer별로 tensorflow.keras.regularizers의 l1, l2, l1_l2 를 이용하여 가중치 규제를 적용할 수 있음. "
      ]
    },
    {
      "metadata": {
        "trusted": true,
        "colab": {
          "base_uri": "https://localhost:8080/"
        },
        "id": "6Oofqh8LAjDo",
        "outputId": "5feea25b-3cb3-40f7-c5e8-2ecb9352381d"
      },
      "cell_type": "code",
      "source": [
        "from tensorflow.keras.models import Sequential, Model\n",
        "from tensorflow.keras.layers import Input, Dense , Conv2D , Dropout , Flatten , Activation, MaxPooling2D , GlobalAveragePooling2D\n",
        "from tensorflow.keras.optimizers import Adam , RMSprop \n",
        "from tensorflow.keras.layers import BatchNormalization\n",
        "from tensorflow.keras.callbacks import ReduceLROnPlateau , EarlyStopping , ModelCheckpoint , LearningRateScheduler\n",
        "from tensorflow.keras.regularizers import l1, l2, l1_l2\n",
        "\n",
        "input_tensor = Input(shape=(IMAGE_SIZE, IMAGE_SIZE, 3))\n",
        "\n",
        "x = Conv2D(filters=64, kernel_size=(3, 3), padding='same', kernel_regularizer=l2(0.00001))(input_tensor)\n",
        "x = BatchNormalization()(x)\n",
        "x = Activation('relu')(x)\n",
        "\n",
        "x = Conv2D(filters=64, kernel_size=(3, 3), padding='same', kernel_regularizer=l2(0.00001))(x)\n",
        "x = BatchNormalization()(x)\n",
        "x = Activation('relu')(x)\n",
        "x = MaxPooling2D(pool_size=(2, 2))(x)\n",
        "\n",
        "x = Conv2D(filters=128, kernel_size=3, padding='same', kernel_regularizer=l1_l2(l1=1e-5, l2=1e-4))(x)\n",
        "x = BatchNormalization()(x)\n",
        "x = Activation('relu')(x)\n",
        "\n",
        "x = Conv2D(filters=128, kernel_size=3, padding='same', kernel_regularizer=l2(1e-5))(x)\n",
        "x = Activation('relu')(x)\n",
        "x = Activation('relu')(x)\n",
        "x = MaxPooling2D(pool_size=2)(x)\n",
        "\n",
        "x = Conv2D(filters=256, kernel_size=3, padding='same', kernel_regularizer=l2(1e-5))(x)\n",
        "x = BatchNormalization()(x)\n",
        "x = Activation('relu')(x)\n",
        "\n",
        "x = Conv2D(filters=256, kernel_size=3, padding='same', kernel_regularizer=l2(1e-5))(x)\n",
        "x = BatchNormalization()(x)\n",
        "x = Activation('relu')(x)\n",
        "\n",
        "# 512 filters Conv layer 추가하되 이후 MaxPooling을 적용하지 않고 strides는 2로 변경하여 출력 feature map 크기 조정\n",
        "x = Conv2D(filters=512, kernel_size=3, strides=2, padding='same', kernel_regularizer=l2(1e-5))(x)\n",
        "x = BatchNormalization()(x)\n",
        "x = Activation('relu')(x)\n",
        "\n",
        "\n",
        "# cifar10의 클래스가 10개 이므로 마지막 classification의 Dense layer units갯수는 10\n",
        "x = Flatten(name='flatten')(x)\n",
        "x = Dropout(rate=0.5)(x)\n",
        "x = Dense(300, activation='relu', kernel_regularizer=l2(1e-5), name='fc1')(x)\n",
        "x = Dropout(rate=0.3)(x)\n",
        "output = Dense(10, activation='softmax', name='output')(x)\n",
        "\n",
        "model = Model(inputs=input_tensor, outputs=output)\n",
        "\n",
        "model.summary()"
      ],
      "execution_count": 27,
      "outputs": [
        {
          "output_type": "stream",
          "name": "stdout",
          "text": [
            "Model: \"model_9\"\n",
            "_________________________________________________________________\n",
            " Layer (type)                Output Shape              Param #   \n",
            "=================================================================\n",
            " input_10 (InputLayer)       [(None, 32, 32, 3)]       0         \n",
            "                                                                 \n",
            " conv2d_57 (Conv2D)          (None, 32, 32, 64)        1792      \n",
            "                                                                 \n",
            " batch_normalization_48 (Bat  (None, 32, 32, 64)       256       \n",
            " chNormalization)                                                \n",
            "                                                                 \n",
            " activation_66 (Activation)  (None, 32, 32, 64)        0         \n",
            "                                                                 \n",
            " conv2d_58 (Conv2D)          (None, 32, 32, 64)        36928     \n",
            "                                                                 \n",
            " batch_normalization_49 (Bat  (None, 32, 32, 64)       256       \n",
            " chNormalization)                                                \n",
            "                                                                 \n",
            " activation_67 (Activation)  (None, 32, 32, 64)        0         \n",
            "                                                                 \n",
            " max_pooling2d_25 (MaxPoolin  (None, 16, 16, 64)       0         \n",
            " g2D)                                                            \n",
            "                                                                 \n",
            " conv2d_59 (Conv2D)          (None, 16, 16, 128)       73856     \n",
            "                                                                 \n",
            " batch_normalization_50 (Bat  (None, 16, 16, 128)      512       \n",
            " chNormalization)                                                \n",
            "                                                                 \n",
            " activation_68 (Activation)  (None, 16, 16, 128)       0         \n",
            "                                                                 \n",
            " conv2d_60 (Conv2D)          (None, 16, 16, 128)       147584    \n",
            "                                                                 \n",
            " activation_69 (Activation)  (None, 16, 16, 128)       0         \n",
            "                                                                 \n",
            " activation_70 (Activation)  (None, 16, 16, 128)       0         \n",
            "                                                                 \n",
            " max_pooling2d_26 (MaxPoolin  (None, 8, 8, 128)        0         \n",
            " g2D)                                                            \n",
            "                                                                 \n",
            " conv2d_61 (Conv2D)          (None, 8, 8, 256)         295168    \n",
            "                                                                 \n",
            " batch_normalization_51 (Bat  (None, 8, 8, 256)        1024      \n",
            " chNormalization)                                                \n",
            "                                                                 \n",
            " activation_71 (Activation)  (None, 8, 8, 256)         0         \n",
            "                                                                 \n",
            " conv2d_62 (Conv2D)          (None, 8, 8, 256)         590080    \n",
            "                                                                 \n",
            " batch_normalization_52 (Bat  (None, 8, 8, 256)        1024      \n",
            " chNormalization)                                                \n",
            "                                                                 \n",
            " activation_72 (Activation)  (None, 8, 8, 256)         0         \n",
            "                                                                 \n",
            " conv2d_63 (Conv2D)          (None, 4, 4, 512)         1180160   \n",
            "                                                                 \n",
            " batch_normalization_53 (Bat  (None, 4, 4, 512)        2048      \n",
            " chNormalization)                                                \n",
            "                                                                 \n",
            " activation_73 (Activation)  (None, 4, 4, 512)         0         \n",
            "                                                                 \n",
            " flatten (Flatten)           (None, 8192)              0         \n",
            "                                                                 \n",
            " dropout_18 (Dropout)        (None, 8192)              0         \n",
            "                                                                 \n",
            " fc1 (Dense)                 (None, 300)               2457900   \n",
            "                                                                 \n",
            " dropout_19 (Dropout)        (None, 300)               0         \n",
            "                                                                 \n",
            " output (Dense)              (None, 10)                3010      \n",
            "                                                                 \n",
            "=================================================================\n",
            "Total params: 4,791,598\n",
            "Trainable params: 4,789,038\n",
            "Non-trainable params: 2,560\n",
            "_________________________________________________________________\n"
          ]
        }
      ]
    },
    {
      "metadata": {
        "trusted": true,
        "colab": {
          "base_uri": "https://localhost:8080/"
        },
        "id": "Dcx_S2M9AjDp",
        "outputId": "26f1609e-ddb1-4694-e230-55d7ca7c5e0d"
      },
      "cell_type": "code",
      "source": [
        "model.compile(optimizer=Adam(lr=0.001), loss='categorical_crossentropy', metrics=['accuracy'])\n",
        "\n",
        "# 5번 iteration내에 validation loss가 향상되지 않으면 learning rate을 기존 learning rate * 0.2로 줄임.  \n",
        "rlr_cb = ReduceLROnPlateau(monitor='val_loss', factor=0.2, patience=5, mode='min', verbose=1)\n",
        "# 10번 iteration내에 validation loss가 향상되지 않으면 더 이상 학습하지 않고 종료\n",
        "ely_cb = EarlyStopping(monitor='val_loss', patience=10, mode='min', verbose=1)\n",
        "\n",
        "\n",
        "history = model.fit(x=tr_images, y=tr_oh_labels, batch_size=32, epochs=30, shuffle=True,\n",
        "                    validation_data=(val_images, val_oh_labels),  \n",
        "                    callbacks=[rlr_cb, ely_cb] )"
      ],
      "execution_count": 28,
      "outputs": [
        {
          "output_type": "stream",
          "name": "stderr",
          "text": [
            "/usr/local/lib/python3.7/dist-packages/keras/optimizer_v2/adam.py:105: UserWarning: The `lr` argument is deprecated, use `learning_rate` instead.\n",
            "  super(Adam, self).__init__(name, **kwargs)\n"
          ]
        },
        {
          "output_type": "stream",
          "name": "stdout",
          "text": [
            "Epoch 1/30\n",
            "1329/1329 [==============================] - 18s 13ms/step - loss: 1.7054 - accuracy: 0.3923 - val_loss: 1.4175 - val_accuracy: 0.4956 - lr: 0.0010\n",
            "Epoch 2/30\n",
            "1329/1329 [==============================] - 17s 13ms/step - loss: 1.2434 - accuracy: 0.5737 - val_loss: 1.2266 - val_accuracy: 0.5936 - lr: 0.0010\n",
            "Epoch 3/30\n",
            "1329/1329 [==============================] - 17s 13ms/step - loss: 1.0508 - accuracy: 0.6608 - val_loss: 1.1437 - val_accuracy: 0.6540 - lr: 0.0010\n",
            "Epoch 4/30\n",
            "1329/1329 [==============================] - 17s 13ms/step - loss: 0.9518 - accuracy: 0.7035 - val_loss: 1.5322 - val_accuracy: 0.5769 - lr: 0.0010\n",
            "Epoch 5/30\n",
            "1329/1329 [==============================] - 16s 12ms/step - loss: 0.8744 - accuracy: 0.7404 - val_loss: 1.2216 - val_accuracy: 0.6780 - lr: 0.0010\n",
            "Epoch 6/30\n",
            "1329/1329 [==============================] - 17s 12ms/step - loss: 0.7977 - accuracy: 0.7785 - val_loss: 0.7688 - val_accuracy: 0.7931 - lr: 0.0010\n",
            "Epoch 7/30\n",
            "1329/1329 [==============================] - 16s 12ms/step - loss: 0.7357 - accuracy: 0.8074 - val_loss: 1.0433 - val_accuracy: 0.7315 - lr: 0.0010\n",
            "Epoch 8/30\n",
            "1329/1329 [==============================] - 16s 12ms/step - loss: 0.6895 - accuracy: 0.8303 - val_loss: 0.7895 - val_accuracy: 0.7996 - lr: 0.0010\n",
            "Epoch 9/30\n",
            "1329/1329 [==============================] - 16s 12ms/step - loss: 0.6438 - accuracy: 0.8504 - val_loss: 0.8664 - val_accuracy: 0.7872 - lr: 0.0010\n",
            "Epoch 10/30\n",
            "1329/1329 [==============================] - 16s 12ms/step - loss: 0.6065 - accuracy: 0.8698 - val_loss: 0.9420 - val_accuracy: 0.7827 - lr: 0.0010\n",
            "Epoch 11/30\n",
            "1325/1329 [============================>.] - ETA: 0s - loss: 0.5703 - accuracy: 0.8864\n",
            "Epoch 00011: ReduceLROnPlateau reducing learning rate to 0.00020000000949949026.\n",
            "1329/1329 [==============================] - 16s 12ms/step - loss: 0.5704 - accuracy: 0.8865 - val_loss: 0.8338 - val_accuracy: 0.8112 - lr: 0.0010\n",
            "Epoch 12/30\n",
            "1329/1329 [==============================] - 16s 12ms/step - loss: 0.4098 - accuracy: 0.9400 - val_loss: 0.6860 - val_accuracy: 0.8700 - lr: 2.0000e-04\n",
            "Epoch 13/30\n",
            "1329/1329 [==============================] - 16s 12ms/step - loss: 0.3508 - accuracy: 0.9574 - val_loss: 0.7556 - val_accuracy: 0.8581 - lr: 2.0000e-04\n",
            "Epoch 14/30\n",
            "1329/1329 [==============================] - 16s 12ms/step - loss: 0.3149 - accuracy: 0.9676 - val_loss: 0.7833 - val_accuracy: 0.8613 - lr: 2.0000e-04\n",
            "Epoch 15/30\n",
            "1329/1329 [==============================] - 16s 12ms/step - loss: 0.2899 - accuracy: 0.9734 - val_loss: 0.7817 - val_accuracy: 0.8656 - lr: 2.0000e-04\n",
            "Epoch 16/30\n",
            "1329/1329 [==============================] - 15s 12ms/step - loss: 0.2671 - accuracy: 0.9796 - val_loss: 0.8399 - val_accuracy: 0.8631 - lr: 2.0000e-04\n",
            "Epoch 17/30\n",
            "1328/1329 [============================>.] - ETA: 0s - loss: 0.2538 - accuracy: 0.9826\n",
            "Epoch 00017: ReduceLROnPlateau reducing learning rate to 4.0000001899898055e-05.\n",
            "1329/1329 [==============================] - 15s 12ms/step - loss: 0.2538 - accuracy: 0.9826 - val_loss: 0.9280 - val_accuracy: 0.8561 - lr: 2.0000e-04\n",
            "Epoch 18/30\n",
            "1329/1329 [==============================] - 16s 12ms/step - loss: 0.2306 - accuracy: 0.9896 - val_loss: 0.8466 - val_accuracy: 0.8761 - lr: 4.0000e-05\n",
            "Epoch 19/30\n",
            "1329/1329 [==============================] - 16s 12ms/step - loss: 0.2227 - accuracy: 0.9917 - val_loss: 0.8538 - val_accuracy: 0.8767 - lr: 4.0000e-05\n",
            "Epoch 20/30\n",
            "1329/1329 [==============================] - 16s 12ms/step - loss: 0.2161 - accuracy: 0.9935 - val_loss: 0.9042 - val_accuracy: 0.8747 - lr: 4.0000e-05\n",
            "Epoch 21/30\n",
            "1329/1329 [==============================] - 15s 12ms/step - loss: 0.2100 - accuracy: 0.9953 - val_loss: 0.9043 - val_accuracy: 0.8753 - lr: 4.0000e-05\n",
            "Epoch 22/30\n",
            "1326/1329 [============================>.] - ETA: 0s - loss: 0.2078 - accuracy: 0.9951\n",
            "Epoch 00022: ReduceLROnPlateau reducing learning rate to 8.000000525498762e-06.\n",
            "1329/1329 [==============================] - 15s 12ms/step - loss: 0.2078 - accuracy: 0.9950 - val_loss: 0.9202 - val_accuracy: 0.8751 - lr: 4.0000e-05\n",
            "Epoch 00022: early stopping\n"
          ]
        }
      ]
    },
    {
      "metadata": {
        "trusted": true,
        "colab": {
          "base_uri": "https://localhost:8080/",
          "height": 283
        },
        "id": "UKazG5TlAjDp",
        "outputId": "71cab111-5a18-41ac-b2ae-dd40649713be"
      },
      "cell_type": "code",
      "source": [
        "model.evaluate(test_images, test_oh_labels)\n",
        "show_history(history)"
      ],
      "execution_count": 29,
      "outputs": [
        {
          "output_type": "stream",
          "name": "stdout",
          "text": [
            "313/313 [==============================] - 2s 6ms/step - loss: 0.9805 - accuracy: 0.8653\n"
          ]
        },
        {
          "output_type": "display_data",
          "data": {
            "image/png": "[encoded data removed]",
            "text/plain": [
              "<Figure size 576x288 with 1 Axes>"
            ]
          },
          "metadata": {
            "needs_background": "light"
          }
        }
      ]
    }
  ],
  "metadata": {
    "kernelspec": {
      "language": "python",
      "display_name": "Python 3",
      "name": "python3"
    },
    "language_info": {
      "pygments_lexer": "ipython3",
      "nbconvert_exporter": "python",
      "version": "3.6.4",
      "file_extension": ".py",
      "codemirror_mode": {
        "name": "ipython",
        "version": 3
      },
      "name": "python",
      "mimetype": "text/x-python"
    },
    "colab": {
      "name": "CIFAR10_Custom_CB_Filters_Decay.ipynb",
      "provenance": [],
      "include_colab_link": true
    },
    "accelerator": "GPU"
  },
  "nbformat": 4,
  "nbformat_minor": 0
}