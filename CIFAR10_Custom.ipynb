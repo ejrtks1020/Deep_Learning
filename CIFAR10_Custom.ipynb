{
  "metadata": {
    "language_info": {
      "pygments_lexer": "ipython3",
      "nbconvert_exporter": "python",
      "version": "3.6.4",
      "file_extension": ".py",
      "codemirror_mode": {
        "name": "ipython",
        "version": 3
      },
      "name": "python",
      "mimetype": "text/x-python"
    },
    "kernelspec": {
      "language": "python",
      "display_name": "Python 3",
      "name": "python3"
    },
    "colab": {
      "name": "CIFAR10_Custom.ipynb",
      "provenance": [],
      "include_colab_link": true
    },
    "accelerator": "GPU"
  },
  "nbformat_minor": 0,
  "nbformat": 4,
  "cells": [
    {
      "cell_type": "markdown",
      "metadata": {
        "id": "view-in-github",
        "colab_type": "text"
      },
      "source": [
        "<a href=\"https://colab.research.google.com/github/ejrtks1020/Deep_Learning/blob/main/CIFAR10_Custom.ipynb\" target=\"_parent\"><img src=\"https://colab.research.google.com/assets/colab-badge.svg\" alt=\"Open In Colab\"/></a>"
      ]
    },
    {
      "cell_type": "code",
      "source": [
        "import numpy as np # linear algebra\n",
        "import pandas as pd # data processing, CSV file I/O (e.g. pd.read_csv)\n",
        "\n",
        "import os"
      ],
      "metadata": {
        "_uuid": "8f2839f25d086af736a60e9eeb907d3b93b6e0e5",
        "_cell_guid": "b1076dfc-b9ad-4769-8c92-a6c4dae69d19",
        "trusted": true,
        "id": "QzQqmxn4OQAB"
      },
      "execution_count": 1,
      "outputs": []
    },
    {
      "cell_type": "markdown",
      "source": [
        "### CIFAR10 Dataset 생성 \n",
        "* tf.keras.datasets의 cifar10.load_data()는 웹에서 Local computer로 Download후 train과 test용 image와 label array로 로딩. "
      ],
      "metadata": {
        "id": "G71UsUUcOQAF"
      }
    },
    {
      "cell_type": "code",
      "source": [
        "from tensorflow.keras.datasets import cifar10\n",
        "\n",
        "# 전체 6만개 데이터 중, 5만개는 학습 데이터용, 1만개는 테스트 데이터용으로 분리\n",
        "(train_images, train_labels), (test_images, test_labels) = cifar10.load_data()\n",
        "print(\"train dataset shape:\", train_images.shape, train_labels.shape)\n",
        "print(\"test dataset shape:\", test_images.shape, test_labels.shape)"
      ],
      "metadata": {
        "trusted": true,
        "colab": {
          "base_uri": "https://localhost:8080/"
        },
        "id": "WSEbUTWXOQAH",
        "outputId": "96e12005-a13f-4c0e-da4f-c4aa0f6fd71c"
      },
      "execution_count": 2,
      "outputs": [
        {
          "output_type": "stream",
          "name": "stdout",
          "text": [
            "Downloading data from https://www.cs.toronto.edu/~kriz/cifar-10-python.tar.gz\n",
            "170500096/170498071 [==============================] - 3s 0us/step\n",
            "170508288/170498071 [==============================] - 3s 0us/step\n",
            "train dataset shape: (50000, 32, 32, 3) (50000, 1)\n",
            "test dataset shape: (10000, 32, 32, 3) (10000, 1)\n"
          ]
        }
      ]
    },
    {
      "cell_type": "code",
      "source": [
        "train_images[0, :, :, :], train_labels[0, :]"
      ],
      "metadata": {
        "trusted": true,
        "colab": {
          "base_uri": "https://localhost:8080/"
        },
        "id": "Avz8g5X9OQAI",
        "outputId": "7a424897-af08-4785-8a41-a423622de345"
      },
      "execution_count": 3,
      "outputs": [
        {
          "output_type": "execute_result",
          "data": {
            "text/plain": [
              "(array([[[ 59,  62,  63],\n",
              "         [ 43,  46,  45],\n",
              "         [ 50,  48,  43],\n",
              "         ...,\n",
              "         [158, 132, 108],\n",
              "         [152, 125, 102],\n",
              "         [148, 124, 103]],\n",
              " \n",
              "        [[ 16,  20,  20],\n",
              "         [  0,   0,   0],\n",
              "         [ 18,   8,   0],\n",
              "         ...,\n",
              "         [123,  88,  55],\n",
              "         [119,  83,  50],\n",
              "         [122,  87,  57]],\n",
              " \n",
              "        [[ 25,  24,  21],\n",
              "         [ 16,   7,   0],\n",
              "         [ 49,  27,   8],\n",
              "         ...,\n",
              "         [118,  84,  50],\n",
              "         [120,  84,  50],\n",
              "         [109,  73,  42]],\n",
              " \n",
              "        ...,\n",
              " \n",
              "        [[208, 170,  96],\n",
              "         [201, 153,  34],\n",
              "         [198, 161,  26],\n",
              "         ...,\n",
              "         [160, 133,  70],\n",
              "         [ 56,  31,   7],\n",
              "         [ 53,  34,  20]],\n",
              " \n",
              "        [[180, 139,  96],\n",
              "         [173, 123,  42],\n",
              "         [186, 144,  30],\n",
              "         ...,\n",
              "         [184, 148,  94],\n",
              "         [ 97,  62,  34],\n",
              "         [ 83,  53,  34]],\n",
              " \n",
              "        [[177, 144, 116],\n",
              "         [168, 129,  94],\n",
              "         [179, 142,  87],\n",
              "         ...,\n",
              "         [216, 184, 140],\n",
              "         [151, 118,  84],\n",
              "         [123,  92,  72]]], dtype=uint8), array([6], dtype=uint8))"
            ]
          },
          "metadata": {},
          "execution_count": 3
        }
      ]
    },
    {
      "cell_type": "code",
      "source": [
        "NAMES = np.array(['airplane', 'automobile', 'bird', 'cat', 'deer', 'dog', 'frog', 'horse', 'ship', 'truck'])\n",
        "print(train_labels[:10])"
      ],
      "metadata": {
        "trusted": true,
        "colab": {
          "base_uri": "https://localhost:8080/"
        },
        "id": "CjJ7lg6AOQAI",
        "outputId": "47d59dd5-b38e-424c-cac2-65c1ef047c6b"
      },
      "execution_count": 4,
      "outputs": [
        {
          "output_type": "stream",
          "name": "stdout",
          "text": [
            "[[6]\n",
            " [9]\n",
            " [9]\n",
            " [4]\n",
            " [1]\n",
            " [1]\n",
            " [2]\n",
            " [7]\n",
            " [8]\n",
            " [3]]\n"
          ]
        }
      ]
    },
    {
      "cell_type": "markdown",
      "source": [
        "### CIFAR10 데이터 시각화\n",
        "* 이미지 크기는 32x32이며 RGB채널. \n",
        "* 전반적으로 Label에 해당하는 대상이 이미지의 중앙에 있고, Label 대상 오브젝트 위주로 이미지가 구성. "
      ],
      "metadata": {
        "id": "L2gDZ3cFOQAJ"
      }
    },
    {
      "cell_type": "code",
      "source": [
        "import matplotlib.pyplot as plt\n",
        "import cv2\n",
        "%matplotlib inline \n",
        "\n",
        "def show_images(images, labels, ncols=8):\n",
        "    figure, axs = plt.subplots(figsize=(22, 6), nrows=1, ncols=ncols)\n",
        "    for i in range(ncols):\n",
        "        axs[i].imshow(images[i])\n",
        "        label = labels[i].squeeze()\n",
        "        axs[i].set_title(NAMES[int(label)])\n",
        "        \n",
        "show_images(train_images[:8], train_labels[:8], ncols=8)\n",
        "show_images(train_images[8:16], train_labels[8:16], ncols=8)"
      ],
      "metadata": {
        "trusted": true,
        "colab": {
          "base_uri": "https://localhost:8080/",
          "height": 253
        },
        "id": "LTu8wCkwOQAJ",
        "outputId": "c196c651-23e6-41e3-8e40-6b0c1bfb51df"
      },
      "execution_count": 5,
      "outputs": [
        {
          "output_type": "display_data",
          "data": {
            "image/png": "[encoded data removed]",
            "text/plain": [
              "<Figure size 1584x432 with 8 Axes>"
            ]
          },
          "metadata": {
            "needs_background": "light"
          }
        },
        {
          "output_type": "display_data",
          "data": {
            "image/png": "[encoded data removed]",
            "text/plain": [
              "<Figure size 1584x432 with 8 Axes>"
            ]
          },
          "metadata": {
            "needs_background": "light"
          }
        }
      ]
    },
    {
      "cell_type": "markdown",
      "source": [
        "### Data preprocessing\n",
        "* image array의 0 ~ 255 사이의 값으로 되어 있는 pixel intensity 값을 0 ~ 1 사이 값으로 변환. 정수값 pixel 값을 255.0 으로 나눔. \n",
        "* label array는 숫자형 값으로 바꾸되, 원-핫 인코딩을 적용할지 선택. 일반적으로 원-핫 인코딩을 적용하는게 Keras Framework활용이 용이\n",
        "* image array, label array 모두 float32 형으로 변환. numpy 의 float32는 tensor 변환시 tf.float32 로 변환되며 기본적으로 Tensorflow backend Keras는 tf.float32를 기반으로 함. \n"
      ],
      "metadata": {
        "id": "EaazZY5gOQAK"
      }
    },
    {
      "cell_type": "code",
      "source": [
        "(train_images, train_labels), (test_images, test_labels) = cifar10.load_data()\n",
        "\n",
        "# label은 원-핫 인코딩이 Keras에서는 활용이 용이하나, 여기서는 sparse categorical crossentropy 테스트를 위해 적용하지 않음. \n",
        "def get_preprocessed_data(images, labels):\n",
        "    \n",
        "    # 학습과 테스트 이미지 array를 0~1 사이값으로 scale 및 float32 형 변형. \n",
        "    images = np.array(images/255.0, dtype=np.float32)\n",
        "    labels = np.array(labels, dtype=np.float32)\n",
        "    \n",
        "    return images, labels\n",
        "\n",
        "train_images, train_labels = get_preprocessed_data(train_images, train_labels)\n",
        "test_images, test_labels = get_preprocessed_data(test_images, test_labels)"
      ],
      "metadata": {
        "trusted": true,
        "id": "fBehcOUnOQAL"
      },
      "execution_count": 6,
      "outputs": []
    },
    {
      "cell_type": "code",
      "source": [
        "train_images[0, :, :, :]"
      ],
      "metadata": {
        "trusted": true,
        "colab": {
          "base_uri": "https://localhost:8080/"
        },
        "id": "ReyeZ1g_OQAM",
        "outputId": "5d10099f-b0e5-4c21-c6cd-2c883849cdbb"
      },
      "execution_count": 7,
      "outputs": [
        {
          "output_type": "execute_result",
          "data": {
            "text/plain": [
              "array([[[0.23137255, 0.24313726, 0.24705882],\n",
              "        [0.16862746, 0.18039216, 0.1764706 ],\n",
              "        [0.19607843, 0.1882353 , 0.16862746],\n",
              "        ...,\n",
              "        [0.61960787, 0.5176471 , 0.42352942],\n",
              "        [0.59607846, 0.49019608, 0.4       ],\n",
              "        [0.5803922 , 0.4862745 , 0.40392157]],\n",
              "\n",
              "       [[0.0627451 , 0.07843138, 0.07843138],\n",
              "        [0.        , 0.        , 0.        ],\n",
              "        [0.07058824, 0.03137255, 0.        ],\n",
              "        ...,\n",
              "        [0.48235294, 0.34509805, 0.21568628],\n",
              "        [0.46666667, 0.3254902 , 0.19607843],\n",
              "        [0.47843137, 0.34117648, 0.22352941]],\n",
              "\n",
              "       [[0.09803922, 0.09411765, 0.08235294],\n",
              "        [0.0627451 , 0.02745098, 0.        ],\n",
              "        [0.19215687, 0.10588235, 0.03137255],\n",
              "        ...,\n",
              "        [0.4627451 , 0.32941177, 0.19607843],\n",
              "        [0.47058824, 0.32941177, 0.19607843],\n",
              "        [0.42745098, 0.28627452, 0.16470589]],\n",
              "\n",
              "       ...,\n",
              "\n",
              "       [[0.8156863 , 0.6666667 , 0.3764706 ],\n",
              "        [0.7882353 , 0.6       , 0.13333334],\n",
              "        [0.7764706 , 0.6313726 , 0.10196079],\n",
              "        ...,\n",
              "        [0.627451  , 0.52156866, 0.27450982],\n",
              "        [0.21960784, 0.12156863, 0.02745098],\n",
              "        [0.20784314, 0.13333334, 0.07843138]],\n",
              "\n",
              "       [[0.7058824 , 0.54509807, 0.3764706 ],\n",
              "        [0.6784314 , 0.48235294, 0.16470589],\n",
              "        [0.7294118 , 0.5647059 , 0.11764706],\n",
              "        ...,\n",
              "        [0.72156864, 0.5803922 , 0.36862746],\n",
              "        [0.38039216, 0.24313726, 0.13333334],\n",
              "        [0.3254902 , 0.20784314, 0.13333334]],\n",
              "\n",
              "       [[0.69411767, 0.5647059 , 0.45490196],\n",
              "        [0.65882355, 0.5058824 , 0.36862746],\n",
              "        [0.7019608 , 0.5568628 , 0.34117648],\n",
              "        ...,\n",
              "        [0.84705883, 0.72156864, 0.54901963],\n",
              "        [0.5921569 , 0.4627451 , 0.32941177],\n",
              "        [0.48235294, 0.36078432, 0.28235295]]], dtype=float32)"
            ]
          },
          "metadata": {},
          "execution_count": 7
        }
      ]
    },
    {
      "cell_type": "code",
      "source": [
        "# Keras는 CNN(정확히는 CNN 2D) 모델에 학습 데이터를 입력할 시 반드시 Image array는 4차원 배열이 되어야 함. \n",
        "# RGB 채널 이미지 array는 기본적으로 3차원임. 여기에 이미지의 갯수를 포함하므로 4차원이 됨.  \n",
        "# 만일 Grayscale인 2차원 이미지 array라도 의도적으로 채널을 명시해서 3차원으로 만들어 주고, 여기에 이미지 개수를 포함해서 4차원이 됨. \n",
        "\n",
        "print(train_images.shape, train_labels.shape)"
      ],
      "metadata": {
        "trusted": true,
        "colab": {
          "base_uri": "https://localhost:8080/"
        },
        "id": "0uBFB0WoOQAN",
        "outputId": "4f251174-0d8e-4411-80a5-98abcc819ea3"
      },
      "execution_count": 8,
      "outputs": [
        {
          "output_type": "stream",
          "name": "stdout",
          "text": [
            "(50000, 32, 32, 3) (50000, 1)\n"
          ]
        }
      ]
    },
    {
      "cell_type": "code",
      "source": [
        "# label 데이터가 2차원임. 이를 Keras 모델에 입력해도 별 문제없이 동작하지만, label의 경우는 OHE적용이 안되었는지를 알 수 있게 명확하게 1차원으로 표현해 주는것이 좋음. \n",
        "# 2차원인 labels 데이터를 1차원으로 변경. \n",
        "train_labels = train_labels.squeeze()\n",
        "test_labels = test_labels.squeeze()"
      ],
      "metadata": {
        "trusted": true,
        "id": "jnLtVKl_OQAN"
      },
      "execution_count": 9,
      "outputs": []
    },
    {
      "cell_type": "markdown",
      "source": [
        "### Custom Model 생성\n",
        "* CNN Model의 맨처음 Layer는 Input layer. Input layer의 shape를 이미지 사이즈와 RGB 3채널에 맞게 (32, 32, 3) 으로 설정.\n",
        "* Conv 연산을 연달아 적용하고 MaxPooling을 적용하는 루틴으로 모델 생성. MaxPooling을 적용 후에는 필터 갯수를 더욱 증가 시킴. \n",
        "* MaxPooling 적용 후에 출력 피처맵의 사이즈는 작아지되, 채널(깊이)는 늘어나는 형태로 모델 생성. \n",
        "* CIFAR10의 Label수가 10개이므로 Classification을 위한 맨 마지막 Dense layer의 units 갯수는 10개임\n",
        "* label값이 원-핫 인코딩 되지 않았기 때문에 model.compile()에서 loss는 반드시 sparse_categorical_crossentropy여야함. \n",
        "* 만일 label값이 원-핫 인코딩 되었다면 loss는 categorical_crossentropy 임. "
      ],
      "metadata": {
        "id": "AxxKJB2vOQAO"
      }
    },
    {
      "cell_type": "code",
      "source": [
        "IMAGE_SIZE = 32"
      ],
      "metadata": {
        "trusted": true,
        "id": "imDCUnR-OQAO"
      },
      "execution_count": 10,
      "outputs": []
    },
    {
      "cell_type": "code",
      "source": [
        "from tensorflow.keras.models import Sequential, Model\n",
        "from tensorflow.keras.layers import Input, Dense , Conv2D , Dropout , Flatten , Activation, MaxPooling2D , GlobalAveragePooling2D\n",
        "from tensorflow.keras.optimizers import Adam , RMSprop \n",
        "from tensorflow.keras.layers import BatchNormalization\n",
        "from tensorflow.keras.callbacks import ReduceLROnPlateau , EarlyStopping , ModelCheckpoint , LearningRateScheduler\n",
        "\n",
        "input_tensor = Input(shape=(IMAGE_SIZE, IMAGE_SIZE, 3))\n",
        "\n",
        "#x = Conv2D(filters=32, kernel_size=(5, 5), padding='valid', activation='relu')(input_tensor)\n",
        "x = Conv2D(filters=32, kernel_size=(3, 3), padding='same', activation='relu')(input_tensor)\n",
        "x = Conv2D(filters=32, kernel_size=(3, 3), padding='same', activation='relu')(x)\n",
        "x = MaxPooling2D(pool_size=(2, 2))(x)\n",
        "\n",
        "x = Conv2D(filters=64, kernel_size=(3, 3), padding='same', activation='relu')(x)\n",
        "x = Conv2D(filters=64, kernel_size=(3, 3), padding='same')(x)\n",
        "x = Activation('relu')(x)\n",
        "x = MaxPooling2D(pool_size=2)(x)\n",
        "\n",
        "x = Conv2D(filters=128, kernel_size=(3,3), padding='same', activation='relu')(x)\n",
        "x = Conv2D(filters=128, kernel_size=(3,3), padding='same', activation='relu')(x)\n",
        "x = MaxPooling2D(pool_size=2)(x)\n",
        "\n",
        "# cifar10의 클래스가 10개 이므로 마지막 classification의 Dense layer units갯수는 10\n",
        "x = Flatten(name='flatten')(x)\n",
        "x = Dropout(rate=0.5)(x)\n",
        "x = Dense(300, activation='relu', name='fc1')(x)\n",
        "x = Dropout(rate=0.3)(x)\n",
        "output = Dense(10, activation='softmax', name='output')(x)\n",
        "\n",
        "model = Model(inputs=input_tensor, outputs=output)\n",
        "\n",
        "model.summary()"
      ],
      "metadata": {
        "trusted": true,
        "colab": {
          "base_uri": "https://localhost:8080/"
        },
        "id": "lckHUi_COQAP",
        "outputId": "daa08a64-1277-4e6b-c11e-9a9f92697d2c"
      },
      "execution_count": 11,
      "outputs": [
        {
          "output_type": "stream",
          "name": "stdout",
          "text": [
            "Model: \"model\"\n",
            "_________________________________________________________________\n",
            " Layer (type)                Output Shape              Param #   \n",
            "=================================================================\n",
            " input_1 (InputLayer)        [(None, 32, 32, 3)]       0         \n",
            "                                                                 \n",
            " conv2d (Conv2D)             (None, 32, 32, 32)        896       \n",
            "                                                                 \n",
            " conv2d_1 (Conv2D)           (None, 32, 32, 32)        9248      \n",
            "                                                                 \n",
            " max_pooling2d (MaxPooling2D  (None, 16, 16, 32)       0         \n",
            " )                                                               \n",
            "                                                                 \n",
            " conv2d_2 (Conv2D)           (None, 16, 16, 64)        18496     \n",
            "                                                                 \n",
            " conv2d_3 (Conv2D)           (None, 16, 16, 64)        36928     \n",
            "                                                                 \n",
            " activation (Activation)     (None, 16, 16, 64)        0         \n",
            "                                                                 \n",
            " max_pooling2d_1 (MaxPooling  (None, 8, 8, 64)         0         \n",
            " 2D)                                                             \n",
            "                                                                 \n",
            " conv2d_4 (Conv2D)           (None, 8, 8, 128)         73856     \n",
            "                                                                 \n",
            " conv2d_5 (Conv2D)           (None, 8, 8, 128)         147584    \n",
            "                                                                 \n",
            " max_pooling2d_2 (MaxPooling  (None, 4, 4, 128)        0         \n",
            " 2D)                                                             \n",
            "                                                                 \n",
            " flatten (Flatten)           (None, 2048)              0         \n",
            "                                                                 \n",
            " dropout (Dropout)           (None, 2048)              0         \n",
            "                                                                 \n",
            " fc1 (Dense)                 (None, 300)               614700    \n",
            "                                                                 \n",
            " dropout_1 (Dropout)         (None, 300)               0         \n",
            "                                                                 \n",
            " output (Dense)              (None, 10)                3010      \n",
            "                                                                 \n",
            "=================================================================\n",
            "Total params: 904,718\n",
            "Trainable params: 904,718\n",
            "Non-trainable params: 0\n",
            "_________________________________________________________________\n"
          ]
        }
      ]
    },
    {
      "cell_type": "code",
      "source": [
        "# optimizer는 Adam으로 설정하고, label값이 원-핫 인코딩이 아니므로 loss는 sparse_categorical_crossentropy 임. \n",
        "model.compile(optimizer=Adam(), loss='sparse_categorical_crossentropy', metrics=['accuracy'])"
      ],
      "metadata": {
        "trusted": true,
        "id": "0dCBa6MPOQAP"
      },
      "execution_count": 12,
      "outputs": []
    },
    {
      "cell_type": "markdown",
      "source": [
        "### Model 학습 수행 및 테스트 데이터로 평가 \n",
        "* Model의 fit() 메소드를 호출하여 학습\n",
        "* fit()은 학습 데이터가 Numpy array 자체로 들어올때, Generator 형태로 들어올때 약간의 수행로직 차이가 있음. \n",
        "* 인자로 x에는 학습 image data, y는 학습 label 데이터. \n",
        "* batch_size는 한번에 가져올 image/label array 갯수. 1개씩 가져오면 수행속도가 너무 느리고, 전체를 가져오면 GPU Memory 부족이 발생할 수 있으므로 적절한 batch_size 설정이 필요. 만약 학습 데이터가 generator일 경우, fit()에서 batch_size를 설정하지 않음. \n",
        "* epochs 는 전체 학습 데이터 학습을 반복 수행할 횟수\n",
        "* steps_per_epoch는 전체 학습 데이터를 몇번 배치 작업으로 수행하는가를 의미. 보통 입력데이터가 generator일 경우 설정. \n",
        "* validation_data는 검증용 데이터 세트\n",
        "* validation_steps는 검증용 데이터의 steps_per_epoch임. \n",
        "* validation_split는 validation_data로 별도의 검증용 데이터 세트를 설정하지 않고 자동으로 학습용 데이터에서 검증용 데이터 세트 분할. \n"
      ],
      "metadata": {
        "id": "itfrsx1NOQAP"
      }
    },
    {
      "cell_type": "code",
      "source": [
        "!nvidia-smi"
      ],
      "metadata": {
        "colab": {
          "base_uri": "https://localhost:8080/"
        },
        "id": "t-Gw8fGVTonW",
        "outputId": "c2ae3419-b10f-47fb-f463-bd7a3255809b"
      },
      "execution_count": 13,
      "outputs": [
        {
          "output_type": "stream",
          "name": "stdout",
          "text": [
            "Wed Jan  5 20:30:13 2022       \n",
            "+-----------------------------------------------------------------------------+\n",
            "| NVIDIA-SMI 495.44       Driver Version: 460.32.03    CUDA Version: 11.2     |\n",
            "|-------------------------------+----------------------+----------------------+\n",
            "| GPU  Name        Persistence-M| Bus-Id        Disp.A | Volatile Uncorr. ECC |\n",
            "| Fan  Temp  Perf  Pwr:Usage/Cap|         Memory-Usage | GPU-Util  Compute M. |\n",
            "|                               |                      |               MIG M. |\n",
            "|===============================+======================+======================|\n",
            "|   0  Tesla P100-PCIE...  Off  | 00000000:00:04.0 Off |                    0 |\n",
            "| N/A   39C    P0    33W / 250W |    389MiB / 16280MiB |      0%      Default |\n",
            "|                               |                      |                  N/A |\n",
            "+-------------------------------+----------------------+----------------------+\n",
            "                                                                               \n",
            "+-----------------------------------------------------------------------------+\n",
            "| Processes:                                                                  |\n",
            "|  GPU   GI   CI        PID   Type   Process name                  GPU Memory |\n",
            "|        ID   ID                                                   Usage      |\n",
            "|=============================================================================|\n",
            "|  No running processes found                                                 |\n",
            "+-----------------------------------------------------------------------------+\n"
          ]
        }
      ]
    },
    {
      "cell_type": "code",
      "source": [
        "history = model.fit(x=train_images, y=train_labels, batch_size=64, epochs=30, validation_split=0.15 )"
      ],
      "metadata": {
        "trusted": true,
        "colab": {
          "base_uri": "https://localhost:8080/"
        },
        "id": "Fpfc8PjvOQAQ",
        "outputId": "f9acaa32-1ece-48d5-b7ea-945505d2f612"
      },
      "execution_count": null,
      "outputs": [
        {
          "output_type": "stream",
          "name": "stdout",
          "text": [
            "Epoch 1/30\n",
            "665/665 [==============================] - 13s 7ms/step - loss: 1.6788 - accuracy: 0.3750 - val_loss: 1.2883 - val_accuracy: 0.5268\n",
            "Epoch 2/30\n",
            "665/665 [==============================] - 5s 7ms/step - loss: 1.2063 - accuracy: 0.5647 - val_loss: 1.0503 - val_accuracy: 0.6143\n",
            "Epoch 3/30\n",
            "626/665 [===========================>..] - ETA: 0s - loss: 1.0087 - accuracy: 0.6427"
          ]
        }
      ]
    },
    {
      "cell_type": "code",
      "source": [
        "import matplotlib.pyplot as plt\n",
        "%matplotlib inline\n",
        "\n",
        "def show_history(history):\n",
        "    plt.figure(figsize=(6, 6))\n",
        "    plt.yticks(np.arange(0, 1, 0.05))\n",
        "    plt.plot(history.history['accuracy'], label='train')\n",
        "    plt.plot(history.history['val_accuracy'], label='valid')\n",
        "    plt.legend()\n",
        "    \n",
        "show_history(history)\n",
        "\n",
        "# 테스트 데이터로 성능 평가\n",
        "model.evaluate(test_images, test_labels)"
      ],
      "metadata": {
        "trusted": true,
        "id": "7J3M83BSOQAQ"
      },
      "execution_count": null,
      "outputs": []
    },
    {
      "cell_type": "markdown",
      "source": [
        "### model.predict()를 통해 이미지 분류 예측\n",
        "* 4차원 이미지 배열을 입력해서 모델학습함. predict()시에도 4차원 이미지 배열을 입력해야함. \n",
        "* 학습 데이터의 원-핫 인코딩 적용 여부와 관계없이 softmax 적용 결과는 무조건 2차원 임에 유의  "
      ],
      "metadata": {
        "id": "1yJckrREOQAR"
      }
    },
    {
      "cell_type": "code",
      "source": [
        "# 아래 코드는 오류 발생. Conv2D를 사용한 모델에 4차원 이미지 배열을 입력해서 모델을 학습했으므로 predict()시에도 테스트용 4차원 이미지 배열을 입력해야 함.  \n",
        "preds = model.predict(test_images[0])"
      ],
      "metadata": {
        "trusted": true,
        "id": "lSKgGXWzOQAR"
      },
      "execution_count": null,
      "outputs": []
    },
    {
      "cell_type": "code",
      "source": [
        "# 테스트용 4차원 이미지 배열을 입력해서 predict()수행. \n",
        "# predict()의 결과는 softmax 적용 결과임. 학습 데이터의 원-핫 인코딩 적용 여부와 관계없이 softmax 적용 결과는 무조건 2차원 임에 유의 \n",
        "preds = model.predict(np.expand_dims(test_images[0], axis=0))\n",
        "print('예측 결과 shape:', preds.shape)\n",
        "print('예측 결과:', preds)"
      ],
      "metadata": {
        "trusted": true,
        "id": "lgqpgPYTOQAR"
      },
      "execution_count": null,
      "outputs": []
    },
    {
      "cell_type": "code",
      "source": [
        "preds = model.predict(test_images[:32], batch_size=32)\n",
        "print('예측 결과 shape:', preds.shape)\n",
        "print('예측 결과:', preds)"
      ],
      "metadata": {
        "trusted": true,
        "id": "nMr-J2eHOQAS"
      },
      "execution_count": null,
      "outputs": []
    },
    {
      "cell_type": "code",
      "source": [
        "predicted_class = np.argmax(preds, axis=1)\n",
        "print('예측 클래스 값:', predicted_class)"
      ],
      "metadata": {
        "trusted": true,
        "colab": {
          "base_uri": "https://localhost:8080/"
        },
        "id": "gDaQD8nBOQAS",
        "outputId": "947728f2-b390-4792-ddfa-f2015f52cc04"
      },
      "execution_count": 22,
      "outputs": [
        {
          "output_type": "stream",
          "name": "stdout",
          "text": [
            "예측 클래스 값: [3 8 8 0 6 6 1 4 3 1 0 9 5 7 9 8 5 7 8 6 7 0 4 9 5 2 4 0 9 6 6 5]\n"
          ]
        }
      ]
    },
    {
      "cell_type": "code",
      "source": [
        "show_images(test_images[:8], predicted_class[:8], ncols=8)\n",
        "show_images(test_images[:8], test_labels[:8], ncols=8)"
      ],
      "metadata": {
        "trusted": true,
        "id": "W4W24jjHOQAS"
      },
      "execution_count": null,
      "outputs": []
    },
    {
      "cell_type": "code",
      "source": [
        ""
      ],
      "metadata": {
        "trusted": true,
        "id": "hs_T7V0nOQAT"
      },
      "execution_count": null,
      "outputs": []
    },
    {
      "cell_type": "markdown",
      "source": [
        "### 평균이 1 이고 표준편차가 1인 표준 정규분포에서 난수 추출\n",
        "* 표준 편차가 클 수록 개별 값의 크기가 일반적으로 커짐."
      ],
      "metadata": {
        "id": "4nqLsgrBOQAT"
      }
    },
    {
      "cell_type": "code",
      "source": [
        "numbers = np.random.normal(loc=0.0,scale=1,size=[100, 100])\n",
        "print(numbers)\n",
        "print(numbers.mean())\n",
        "print(numbers.std())\n",
        "print(numbers.sum())"
      ],
      "metadata": {
        "trusted": true,
        "id": "fRhfd5moOQAT"
      },
      "execution_count": null,
      "outputs": []
    },
    {
      "cell_type": "markdown",
      "source": [
        "### Xavier initialization - 정규분포(glorot_normal), 균일분포(glorot_uniform) "
      ],
      "metadata": {
        "id": "KRKddfgDOQAT"
      }
    },
    {
      "cell_type": "code",
      "source": [
        "# glorot_normal\n",
        "fan_in = 20\n",
        "fan_out = 15\n",
        "scale_value = np.sqrt(2/(fan_in + fan_out))\n",
        "print('scale:', scale_value)\n",
        "weights = np.random.normal(loc=0.0, scale=scale_value, size=(100, 100))\n",
        "print(weights)\n",
        "print('weights mean:',weights.mean(), 'std:', weights.std(), 'sum:', weights.sum())"
      ],
      "metadata": {
        "trusted": true,
        "id": "VSE_0-65OQAT"
      },
      "execution_count": null,
      "outputs": []
    },
    {
      "cell_type": "code",
      "source": [
        "# glorot_uniform\n",
        "fan_in = 10\n",
        "fan_out = 8\n",
        "limit = np.sqrt(6/(fan_in + fan_out))\n",
        "print('limit:', limit)\n",
        "weights = np.random.uniform(-1*limit, limit, size=(100, 100))\n",
        "print(weights)\n",
        "print('weights mean:',weights.mean(), 'std:', weights.std(), 'sum:', weights.sum())"
      ],
      "metadata": {
        "trusted": true,
        "id": "kZ3O9hF-OQAU"
      },
      "execution_count": null,
      "outputs": []
    },
    {
      "cell_type": "markdown",
      "source": [
        "### He initialization - 정규분포(he_normal), 균일분포(he_uniform) "
      ],
      "metadata": {
        "id": "SaOhO_UJOQAU"
      }
    },
    {
      "cell_type": "code",
      "source": [
        "fan_in = 10\n",
        "fan_out = 8\n",
        "scale_value = np.sqrt(2/(fan_in))\n",
        "print('scale:', scale_value)\n",
        "weights = np.random.normal(loc=0.0, scale=scale_value, size=(100, 100))\n",
        "print(weights)\n",
        "print('weights mean:',weights.mean(), 'std:', weights.std(), 'sum:', weights.sum())"
      ],
      "metadata": {
        "trusted": true,
        "id": "Bz_bnQdIOQAU"
      },
      "execution_count": null,
      "outputs": []
    },
    {
      "cell_type": "code",
      "source": [
        "fan_in = 10\n",
        "fan_out = 8\n",
        "limit = np.sqrt(6/(fan_in))\n",
        "print('limit:', limit)\n",
        "weights = np.random.uniform(-1*limit, limit, size=(100, 100))\n",
        "print(weights)\n",
        "print('weights mean:',weights.mean(), 'std:', weights.std(), 'sum:', weights.sum())"
      ],
      "metadata": {
        "trusted": true,
        "id": "m5Z6xziVOQAU"
      },
      "execution_count": null,
      "outputs": []
    },
    {
      "cell_type": "markdown",
      "source": [
        "### weight 초기화를 He Normal로 변경 후 성능 검증\n",
        "* Keras Conv2D의 기본 weight 초기화는 glorot_uniform임. 이를 he_normal로 변경 후 동일 모델로 성능 테스트 \n",
        "* label은 원-핫 인코딩을 적용 "
      ],
      "metadata": {
        "id": "ft0HMZVROQAU"
      }
    },
    {
      "cell_type": "code",
      "source": [
        "from tensorflow.keras.datasets import cifar10\n",
        "from tensorflow.keras.utils import to_categorical\n",
        "import numpy as np\n",
        "\n",
        "\n",
        "def get_preprocessed_data(images, labels):\n",
        "    \n",
        "    # 학습과 테스트 이미지 array를 0~1 사이값으로 scale 및 float32 형 변형. \n",
        "    images = np.array(images/255.0, dtype=np.float32)\n",
        "    labels = np.array(labels, dtype=np.float32)\n",
        "    labels = labels.squeeze()\n",
        "    \n",
        "    return images, labels\n",
        "\n",
        "# 0 ~ 1사이값 float32로 변경하는 함수 호출 한 뒤 OHE 적용 \n",
        "def get_preprocessed_ohe(images, labels):\n",
        "    images, labels = get_preprocessed_data(images, labels)\n",
        "    # OHE 적용 \n",
        "    oh_labels = to_categorical(labels)\n",
        "    return images, oh_labels\n",
        "\n",
        "(train_images, train_labels), (test_images, test_labels) = cifar10.load_data()\n",
        "\n",
        "train_images, train_oh_labels = get_preprocessed_ohe(train_images, train_labels)\n",
        "test_images, test_oh_labels = get_preprocessed_ohe(test_images, test_labels)\n",
        "print(train_images.shape, train_oh_labels.shape, test_images.shape, test_oh_labels.shape)"
      ],
      "metadata": {
        "trusted": true,
        "colab": {
          "base_uri": "https://localhost:8080/"
        },
        "id": "g5S4MOioOQAU",
        "outputId": "40b32918-f60e-4c13-ee3e-5bcb2b180353"
      },
      "execution_count": 3,
      "outputs": [
        {
          "output_type": "stream",
          "name": "stdout",
          "text": [
            "(50000, 32, 32, 3) (50000, 10) (10000, 32, 32, 3) (10000, 10)\n"
          ]
        }
      ]
    },
    {
      "cell_type": "code",
      "source": [
        "from tensorflow.keras.models import Sequential, Model\n",
        "from tensorflow.keras.layers import Input, Dense , Conv2D , Dropout , Flatten , Activation, MaxPooling2D , GlobalAveragePooling2D\n",
        "from tensorflow.keras.optimizers import Adam , RMSprop \n",
        "from tensorflow.keras.layers import BatchNormalization\n",
        "from tensorflow.keras.callbacks import ReduceLROnPlateau , EarlyStopping , ModelCheckpoint , LearningRateScheduler\n",
        "IMAGE_SIZE = 32\n",
        "input_tensor = Input(shape=(IMAGE_SIZE, IMAGE_SIZE, 3))\n",
        "\n",
        "#x = Conv2D(filters=32, kernel_size=(5, 5), padding='valid', activation='relu')(input_tensor)\n",
        "x = Conv2D(filters=32, kernel_size=(3, 3), padding='same', activation='relu', kernel_initializer='he_normal')(input_tensor)\n",
        "x = Conv2D(filters=32, kernel_size=(3, 3), padding='same', activation='relu', kernel_initializer='he_normal')(x)\n",
        "x = MaxPooling2D(pool_size=(2, 2))(x)\n",
        "\n",
        "x = Conv2D(filters=64, kernel_size=3, padding='same', activation='relu', kernel_initializer='he_normal')(x)\n",
        "x = Conv2D(filters=64, kernel_size=3, padding='same', kernel_initializer='he_normal')(x)\n",
        "x = Activation('relu')(x)\n",
        "x = MaxPooling2D(pool_size=2)(x)\n",
        "\n",
        "x = Conv2D(filters=128, kernel_size=3, padding='same', activation='relu', kernel_initializer='he_normal')(x)\n",
        "x = Conv2D(filters=128, kernel_size=3, padding='same', activation='relu', kernel_initializer='he_normal')(x)\n",
        "x = MaxPooling2D(pool_size=2)(x)\n",
        "\n",
        "# cifar10의 클래스가 10개 이므로 마지막 classification의 Dense layer units갯수는 10\n",
        "x = Flatten(name='flatten')(x)\n",
        "x = Dropout(rate=0.5)(x)\n",
        "x = Dense(300, activation='relu', name='fc1')(x)\n",
        "x = Dropout(rate=0.3)(x)\n",
        "output = Dense(10, activation='softmax', name='output')(x)\n",
        "\n",
        "model = Model(inputs=input_tensor, outputs=output)\n",
        "\n",
        "model.summary()"
      ],
      "metadata": {
        "trusted": true,
        "colab": {
          "base_uri": "https://localhost:8080/"
        },
        "id": "76-BRkfoOQAV",
        "outputId": "c6457b64-49ef-493b-c175-d00507268ff4"
      },
      "execution_count": 5,
      "outputs": [
        {
          "output_type": "stream",
          "name": "stdout",
          "text": [
            "Model: \"model\"\n",
            "_________________________________________________________________\n",
            " Layer (type)                Output Shape              Param #   \n",
            "=================================================================\n",
            " input_1 (InputLayer)        [(None, 32, 32, 3)]       0         \n",
            "                                                                 \n",
            " conv2d (Conv2D)             (None, 32, 32, 32)        896       \n",
            "                                                                 \n",
            " conv2d_1 (Conv2D)           (None, 32, 32, 32)        9248      \n",
            "                                                                 \n",
            " max_pooling2d (MaxPooling2D  (None, 16, 16, 32)       0         \n",
            " )                                                               \n",
            "                                                                 \n",
            " conv2d_2 (Conv2D)           (None, 16, 16, 64)        18496     \n",
            "                                                                 \n",
            " conv2d_3 (Conv2D)           (None, 16, 16, 64)        36928     \n",
            "                                                                 \n",
            " activation (Activation)     (None, 16, 16, 64)        0         \n",
            "                                                                 \n",
            " max_pooling2d_1 (MaxPooling  (None, 8, 8, 64)         0         \n",
            " 2D)                                                             \n",
            "                                                                 \n",
            " conv2d_4 (Conv2D)           (None, 8, 8, 128)         73856     \n",
            "                                                                 \n",
            " conv2d_5 (Conv2D)           (None, 8, 8, 128)         147584    \n",
            "                                                                 \n",
            " max_pooling2d_2 (MaxPooling  (None, 4, 4, 128)        0         \n",
            " 2D)                                                             \n",
            "                                                                 \n",
            " flatten (Flatten)           (None, 2048)              0         \n",
            "                                                                 \n",
            " dropout (Dropout)           (None, 2048)              0         \n",
            "                                                                 \n",
            " fc1 (Dense)                 (None, 300)               614700    \n",
            "                                                                 \n",
            " dropout_1 (Dropout)         (None, 300)               0         \n",
            "                                                                 \n",
            " output (Dense)              (None, 10)                3010      \n",
            "                                                                 \n",
            "=================================================================\n",
            "Total params: 904,718\n",
            "Trainable params: 904,718\n",
            "Non-trainable params: 0\n",
            "_________________________________________________________________\n"
          ]
        }
      ]
    },
    {
      "cell_type": "code",
      "source": [
        "# optimizer는 Adam으로 설정하고, label값이 원-핫 인코딩이므로 loss는 categorical_crossentropy 임. \n",
        "model.compile(optimizer=Adam(), loss='categorical_crossentropy', metrics=['accuracy'])\n",
        "history = model.fit(x=train_images, y=train_oh_labels, batch_size=64, epochs=30, validation_split=0.15 )"
      ],
      "metadata": {
        "trusted": true,
        "colab": {
          "base_uri": "https://localhost:8080/"
        },
        "id": "_kQxEJ0UOQAV",
        "outputId": "870d3da5-eb74-4268-8317-f010a37324a0"
      },
      "execution_count": 6,
      "outputs": [
        {
          "output_type": "stream",
          "name": "stdout",
          "text": [
            "Epoch 1/30\n",
            "665/665 [==============================] - 6s 7ms/step - loss: 1.6064 - accuracy: 0.4065 - val_loss: 1.2081 - val_accuracy: 0.5585\n",
            "Epoch 2/30\n",
            "665/665 [==============================] - 5s 7ms/step - loss: 1.1625 - accuracy: 0.5834 - val_loss: 0.9716 - val_accuracy: 0.6437\n",
            "Epoch 3/30\n",
            "665/665 [==============================] - 4s 7ms/step - loss: 0.9551 - accuracy: 0.6630 - val_loss: 0.8785 - val_accuracy: 0.6917\n",
            "Epoch 4/30\n",
            "665/665 [==============================] - 5s 7ms/step - loss: 0.8348 - accuracy: 0.7083 - val_loss: 0.8191 - val_accuracy: 0.7137\n",
            "Epoch 5/30\n",
            "665/665 [==============================] - 5s 7ms/step - loss: 0.7496 - accuracy: 0.7372 - val_loss: 0.7166 - val_accuracy: 0.7505\n",
            "Epoch 6/30\n",
            "665/665 [==============================] - 5s 7ms/step - loss: 0.6676 - accuracy: 0.7664 - val_loss: 0.6707 - val_accuracy: 0.7663\n",
            "Epoch 7/30\n",
            "665/665 [==============================] - 5s 7ms/step - loss: 0.6188 - accuracy: 0.7819 - val_loss: 0.6443 - val_accuracy: 0.7785\n",
            "Epoch 8/30\n",
            "665/665 [==============================] - 5s 7ms/step - loss: 0.5638 - accuracy: 0.8015 - val_loss: 0.6724 - val_accuracy: 0.7684\n",
            "Epoch 9/30\n",
            "665/665 [==============================] - 4s 7ms/step - loss: 0.5279 - accuracy: 0.8134 - val_loss: 0.6517 - val_accuracy: 0.7787\n",
            "Epoch 10/30\n",
            "665/665 [==============================] - 5s 7ms/step - loss: 0.4999 - accuracy: 0.8244 - val_loss: 0.6273 - val_accuracy: 0.7895\n",
            "Epoch 11/30\n",
            "665/665 [==============================] - 5s 7ms/step - loss: 0.4615 - accuracy: 0.8384 - val_loss: 0.6355 - val_accuracy: 0.7880\n",
            "Epoch 12/30\n",
            "665/665 [==============================] - 4s 7ms/step - loss: 0.4444 - accuracy: 0.8428 - val_loss: 0.6618 - val_accuracy: 0.7816\n",
            "Epoch 13/30\n",
            "665/665 [==============================] - 4s 7ms/step - loss: 0.4237 - accuracy: 0.8507 - val_loss: 0.6432 - val_accuracy: 0.7916\n",
            "Epoch 14/30\n",
            "665/665 [==============================] - 5s 7ms/step - loss: 0.3956 - accuracy: 0.8595 - val_loss: 0.6412 - val_accuracy: 0.7917\n",
            "Epoch 15/30\n",
            "665/665 [==============================] - 5s 7ms/step - loss: 0.3847 - accuracy: 0.8632 - val_loss: 0.6346 - val_accuracy: 0.7960\n",
            "Epoch 16/30\n",
            "665/665 [==============================] - 5s 7ms/step - loss: 0.3592 - accuracy: 0.8730 - val_loss: 0.6586 - val_accuracy: 0.7851\n",
            "Epoch 17/30\n",
            "665/665 [==============================] - 5s 7ms/step - loss: 0.3496 - accuracy: 0.8761 - val_loss: 0.6624 - val_accuracy: 0.8004\n",
            "Epoch 18/30\n",
            "665/665 [==============================] - 5s 7ms/step - loss: 0.3517 - accuracy: 0.8740 - val_loss: 0.6555 - val_accuracy: 0.7993\n",
            "Epoch 19/30\n",
            "665/665 [==============================] - 4s 7ms/step - loss: 0.3249 - accuracy: 0.8856 - val_loss: 0.6867 - val_accuracy: 0.7985\n",
            "Epoch 20/30\n",
            "665/665 [==============================] - 5s 7ms/step - loss: 0.3179 - accuracy: 0.8862 - val_loss: 0.6786 - val_accuracy: 0.7936\n",
            "Epoch 21/30\n",
            "665/665 [==============================] - 5s 7ms/step - loss: 0.3043 - accuracy: 0.8928 - val_loss: 0.6733 - val_accuracy: 0.7967\n",
            "Epoch 22/30\n",
            "665/665 [==============================] - 5s 7ms/step - loss: 0.3053 - accuracy: 0.8906 - val_loss: 0.7108 - val_accuracy: 0.7853\n",
            "Epoch 23/30\n",
            "665/665 [==============================] - 4s 7ms/step - loss: 0.2909 - accuracy: 0.8983 - val_loss: 0.7354 - val_accuracy: 0.7863\n",
            "Epoch 24/30\n",
            "665/665 [==============================] - 5s 7ms/step - loss: 0.2798 - accuracy: 0.9007 - val_loss: 0.7163 - val_accuracy: 0.7981\n",
            "Epoch 25/30\n",
            "665/665 [==============================] - 5s 7ms/step - loss: 0.2874 - accuracy: 0.8990 - val_loss: 0.7338 - val_accuracy: 0.7959\n",
            "Epoch 26/30\n",
            "665/665 [==============================] - 5s 7ms/step - loss: 0.2786 - accuracy: 0.9025 - val_loss: 0.7184 - val_accuracy: 0.7947\n",
            "Epoch 27/30\n",
            "665/665 [==============================] - 5s 7ms/step - loss: 0.2625 - accuracy: 0.9081 - val_loss: 0.7430 - val_accuracy: 0.7892\n",
            "Epoch 28/30\n",
            "665/665 [==============================] - 5s 7ms/step - loss: 0.2721 - accuracy: 0.9054 - val_loss: 0.7132 - val_accuracy: 0.7931\n",
            "Epoch 29/30\n",
            "665/665 [==============================] - 5s 7ms/step - loss: 0.2634 - accuracy: 0.9097 - val_loss: 0.7348 - val_accuracy: 0.7904\n",
            "Epoch 30/30\n",
            "665/665 [==============================] - 5s 7ms/step - loss: 0.2580 - accuracy: 0.9123 - val_loss: 0.7210 - val_accuracy: 0.7956\n"
          ]
        }
      ]
    },
    {
      "cell_type": "code",
      "source": [
        "import matplotlib.pyplot as plt\n",
        "%matplotlib inline\n",
        "\n",
        "def show_history(history):\n",
        "    plt.figure(figsize=(6, 6))\n",
        "    plt.yticks(np.arange(0, 1, 0.05))\n",
        "    plt.plot(history.history['accuracy'], label='train')\n",
        "    plt.plot(history.history['val_accuracy'], label='valid')\n",
        "    plt.legend()"
      ],
      "metadata": {
        "id": "8Zfi4r1Z6lUT"
      },
      "execution_count": 8,
      "outputs": []
    },
    {
      "cell_type": "code",
      "source": [
        "show_history(history)\n",
        "\n",
        "# 테스트 데이터로 성능 평가\n",
        "model.evaluate(test_images, test_oh_labels)"
      ],
      "metadata": {
        "trusted": true,
        "colab": {
          "base_uri": "https://localhost:8080/",
          "height": 411
        },
        "id": "NYBRcG9iOQAV",
        "outputId": "1be9c451-ad1c-476c-a393-9091ef5c6dea"
      },
      "execution_count": 10,
      "outputs": [
        {
          "output_type": "stream",
          "name": "stdout",
          "text": [
            "313/313 [==============================] - 1s 3ms/step - loss: 0.7318 - accuracy: 0.7904\n"
          ]
        },
        {
          "output_type": "execute_result",
          "data": {
            "text/plain": [
              "[0.7318275570869446, 0.7904000282287598]"
            ]
          },
          "metadata": {},
          "execution_count": 10
        },
        {
          "output_type": "display_data",
          "data": {
            "image/png": "[encoded data removed]",
            "text/plain": [
              "<Figure size 432x432 with 1 Axes>"
            ]
          },
          "metadata": {
            "needs_background": "light"
          }
        }
      ]
    },
    {
      "cell_type": "code",
      "source": [
        ""
      ],
      "metadata": {
        "trusted": true,
        "id": "gDhIXMTQOQAW"
      },
      "execution_count": null,
      "outputs": []
    },
    {
      "cell_type": "markdown",
      "source": [
        "### Batch Normalization을 모델에 적용 후 성능 검증"
      ],
      "metadata": {
        "id": "MC0EoH4XOQAW"
      }
    },
    {
      "cell_type": "code",
      "source": [
        "import tensorflow as tf\n",
        "import numpy as np\n",
        "import random as python_random\n",
        "\n",
        "np.random.seed(2021)\n",
        "python_random.seed(2021)\n",
        "tf.random.set_seed(2021)"
      ],
      "metadata": {
        "trusted": true,
        "id": "GduUX0AmOQAW"
      },
      "execution_count": 11,
      "outputs": []
    },
    {
      "cell_type": "code",
      "source": [
        "from tensorflow.keras.models import Sequential, Model\n",
        "from tensorflow.keras.layers import Input, Dense , Conv2D , Dropout , Flatten , Activation, MaxPooling2D , GlobalAveragePooling2D\n",
        "from tensorflow.keras.optimizers import Adam , RMSprop \n",
        "from tensorflow.keras.layers import BatchNormalization\n",
        "from tensorflow.keras.callbacks import ReduceLROnPlateau , EarlyStopping , ModelCheckpoint , LearningRateScheduler\n",
        "\n",
        "input_tensor = Input(shape=(IMAGE_SIZE, IMAGE_SIZE, 3))\n",
        "\n",
        "#x = Conv2D(filters=32, kernel_size=(5, 5), padding='valid', activation='relu')(input_tensor)\n",
        "x = Conv2D(filters=32, kernel_size=(3, 3), padding='same')(input_tensor)\n",
        "x = BatchNormalization()(x)\n",
        "x = Activation('relu')(x)\n",
        "\n",
        "x = Conv2D(filters=32, kernel_size=(3, 3), padding='same')(x)\n",
        "x = BatchNormalization()(x)\n",
        "x = Activation('relu')(x)\n",
        "x = MaxPooling2D(pool_size=(2, 2))(x)\n",
        "\n",
        "x = Conv2D(filters=64, kernel_size=3, padding='same')(x)\n",
        "x = BatchNormalization()(x)\n",
        "x = Activation('relu')(x)\n",
        "\n",
        "x = Conv2D(filters=64, kernel_size=3, padding='same')(x)\n",
        "x = Activation('relu')(x)\n",
        "x = Activation('relu')(x)\n",
        "x = MaxPooling2D(pool_size=2)(x)\n",
        "\n",
        "x = Conv2D(filters=128, kernel_size=3, padding='same')(x)\n",
        "x = BatchNormalization()(x)\n",
        "x = Activation('relu')(x)\n",
        "\n",
        "x = Conv2D(filters=128, kernel_size=3, padding='same')(x)\n",
        "x = BatchNormalization()(x)\n",
        "x = Activation('relu')(x)\n",
        "x = MaxPooling2D(pool_size=2)(x)\n",
        "\n",
        "# cifar10의 클래스가 10개 이므로 마지막 classification의 Dense layer units갯수는 10\n",
        "x = Flatten(name='flatten')(x)\n",
        "x = Dropout(rate=0.5)(x)\n",
        "x = Dense(300, activation='relu', name='fc1')(x)\n",
        "x = Dropout(rate=0.3)(x)\n",
        "output = Dense(10, activation='softmax', name='output')(x)\n",
        "\n",
        "model = Model(inputs=input_tensor, outputs=output)\n",
        "\n",
        "model.summary()"
      ],
      "metadata": {
        "trusted": true,
        "colab": {
          "base_uri": "https://localhost:8080/"
        },
        "id": "_rtev0onOQAW",
        "outputId": "ba9c64ef-f2f3-47b5-80e4-a36530247923"
      },
      "execution_count": 12,
      "outputs": [
        {
          "output_type": "stream",
          "name": "stdout",
          "text": [
            "Model: \"model_1\"\n",
            "_________________________________________________________________\n",
            " Layer (type)                Output Shape              Param #   \n",
            "=================================================================\n",
            " input_2 (InputLayer)        [(None, 32, 32, 3)]       0         \n",
            "                                                                 \n",
            " conv2d_6 (Conv2D)           (None, 32, 32, 32)        896       \n",
            "                                                                 \n",
            " batch_normalization (BatchN  (None, 32, 32, 32)       128       \n",
            " ormalization)                                                   \n",
            "                                                                 \n",
            " activation_1 (Activation)   (None, 32, 32, 32)        0         \n",
            "                                                                 \n",
            " conv2d_7 (Conv2D)           (None, 32, 32, 32)        9248      \n",
            "                                                                 \n",
            " batch_normalization_1 (Batc  (None, 32, 32, 32)       128       \n",
            " hNormalization)                                                 \n",
            "                                                                 \n",
            " activation_2 (Activation)   (None, 32, 32, 32)        0         \n",
            "                                                                 \n",
            " max_pooling2d_3 (MaxPooling  (None, 16, 16, 32)       0         \n",
            " 2D)                                                             \n",
            "                                                                 \n",
            " conv2d_8 (Conv2D)           (None, 16, 16, 64)        18496     \n",
            "                                                                 \n",
            " batch_normalization_2 (Batc  (None, 16, 16, 64)       256       \n",
            " hNormalization)                                                 \n",
            "                                                                 \n",
            " activation_3 (Activation)   (None, 16, 16, 64)        0         \n",
            "                                                                 \n",
            " conv2d_9 (Conv2D)           (None, 16, 16, 64)        36928     \n",
            "                                                                 \n",
            " activation_4 (Activation)   (None, 16, 16, 64)        0         \n",
            "                                                                 \n",
            " activation_5 (Activation)   (None, 16, 16, 64)        0         \n",
            "                                                                 \n",
            " max_pooling2d_4 (MaxPooling  (None, 8, 8, 64)         0         \n",
            " 2D)                                                             \n",
            "                                                                 \n",
            " conv2d_10 (Conv2D)          (None, 8, 8, 128)         73856     \n",
            "                                                                 \n",
            " batch_normalization_3 (Batc  (None, 8, 8, 128)        512       \n",
            " hNormalization)                                                 \n",
            "                                                                 \n",
            " activation_6 (Activation)   (None, 8, 8, 128)         0         \n",
            "                                                                 \n",
            " conv2d_11 (Conv2D)          (None, 8, 8, 128)         147584    \n",
            "                                                                 \n",
            " batch_normalization_4 (Batc  (None, 8, 8, 128)        512       \n",
            " hNormalization)                                                 \n",
            "                                                                 \n",
            " activation_7 (Activation)   (None, 8, 8, 128)         0         \n",
            "                                                                 \n",
            " max_pooling2d_5 (MaxPooling  (None, 4, 4, 128)        0         \n",
            " 2D)                                                             \n",
            "                                                                 \n",
            " flatten (Flatten)           (None, 2048)              0         \n",
            "                                                                 \n",
            " dropout_2 (Dropout)         (None, 2048)              0         \n",
            "                                                                 \n",
            " fc1 (Dense)                 (None, 300)               614700    \n",
            "                                                                 \n",
            " dropout_3 (Dropout)         (None, 300)               0         \n",
            "                                                                 \n",
            " output (Dense)              (None, 10)                3010      \n",
            "                                                                 \n",
            "=================================================================\n",
            "Total params: 906,254\n",
            "Trainable params: 905,486\n",
            "Non-trainable params: 768\n",
            "_________________________________________________________________\n"
          ]
        }
      ]
    },
    {
      "cell_type": "code",
      "source": [
        "# label값이 원-핫 인코딩이 아니므로 loss는 categorical_crossentropy 임. \n",
        "model.compile(optimizer=Adam(), loss='categorical_crossentropy', metrics=['accuracy'])\n",
        "history = model.fit(x=train_images, y=train_oh_labels, batch_size=64, epochs=30, validation_split=0.15)"
      ],
      "metadata": {
        "trusted": true,
        "colab": {
          "base_uri": "https://localhost:8080/"
        },
        "id": "XMTJpA4dOQAW",
        "outputId": "7e1da3fd-af63-4bac-ced6-781206a82c03"
      },
      "execution_count": 13,
      "outputs": [
        {
          "output_type": "stream",
          "name": "stdout",
          "text": [
            "Epoch 1/30\n",
            "665/665 [==============================] - 6s 8ms/step - loss: 1.5736 - accuracy: 0.4296 - val_loss: 1.2199 - val_accuracy: 0.5564\n",
            "Epoch 2/30\n",
            "665/665 [==============================] - 5s 8ms/step - loss: 1.1146 - accuracy: 0.6031 - val_loss: 0.9905 - val_accuracy: 0.6472\n",
            "Epoch 3/30\n",
            "665/665 [==============================] - 5s 8ms/step - loss: 0.9283 - accuracy: 0.6740 - val_loss: 1.2866 - val_accuracy: 0.5820\n",
            "Epoch 4/30\n",
            "665/665 [==============================] - 5s 8ms/step - loss: 0.8101 - accuracy: 0.7183 - val_loss: 0.8085 - val_accuracy: 0.7121\n",
            "Epoch 5/30\n",
            "665/665 [==============================] - 5s 8ms/step - loss: 0.7225 - accuracy: 0.7489 - val_loss: 0.7674 - val_accuracy: 0.7397\n",
            "Epoch 6/30\n",
            "665/665 [==============================] - 5s 8ms/step - loss: 0.6550 - accuracy: 0.7739 - val_loss: 1.0278 - val_accuracy: 0.6909\n",
            "Epoch 7/30\n",
            "665/665 [==============================] - 5s 8ms/step - loss: 0.5977 - accuracy: 0.7937 - val_loss: 1.0110 - val_accuracy: 0.6764\n",
            "Epoch 8/30\n",
            "665/665 [==============================] - 5s 8ms/step - loss: 0.5502 - accuracy: 0.8096 - val_loss: 0.6268 - val_accuracy: 0.7931\n",
            "Epoch 9/30\n",
            "665/665 [==============================] - 5s 8ms/step - loss: 0.5019 - accuracy: 0.8275 - val_loss: 0.7672 - val_accuracy: 0.7451\n",
            "Epoch 10/30\n",
            "665/665 [==============================] - 5s 8ms/step - loss: 0.4646 - accuracy: 0.8404 - val_loss: 0.7229 - val_accuracy: 0.7636\n",
            "Epoch 11/30\n",
            "665/665 [==============================] - 5s 8ms/step - loss: 0.4299 - accuracy: 0.8545 - val_loss: 0.6794 - val_accuracy: 0.7847\n",
            "Epoch 12/30\n",
            "665/665 [==============================] - 5s 8ms/step - loss: 0.3936 - accuracy: 0.8650 - val_loss: 0.6480 - val_accuracy: 0.7973\n",
            "Epoch 13/30\n",
            "665/665 [==============================] - 5s 8ms/step - loss: 0.3678 - accuracy: 0.8737 - val_loss: 0.5977 - val_accuracy: 0.8051\n",
            "Epoch 14/30\n",
            "665/665 [==============================] - 5s 8ms/step - loss: 0.3388 - accuracy: 0.8859 - val_loss: 0.7023 - val_accuracy: 0.7839\n",
            "Epoch 15/30\n",
            "665/665 [==============================] - 5s 8ms/step - loss: 0.3205 - accuracy: 0.8893 - val_loss: 0.6692 - val_accuracy: 0.7852\n",
            "Epoch 16/30\n",
            "665/665 [==============================] - 5s 8ms/step - loss: 0.3117 - accuracy: 0.8925 - val_loss: 0.6005 - val_accuracy: 0.8152\n",
            "Epoch 17/30\n",
            "665/665 [==============================] - 5s 8ms/step - loss: 0.2763 - accuracy: 0.9061 - val_loss: 0.6672 - val_accuracy: 0.8095\n",
            "Epoch 18/30\n",
            "665/665 [==============================] - 5s 8ms/step - loss: 0.2574 - accuracy: 0.9118 - val_loss: 0.5801 - val_accuracy: 0.8224\n",
            "Epoch 19/30\n",
            "665/665 [==============================] - 5s 8ms/step - loss: 0.2439 - accuracy: 0.9157 - val_loss: 0.7674 - val_accuracy: 0.7917\n",
            "Epoch 20/30\n",
            "665/665 [==============================] - 5s 8ms/step - loss: 0.2170 - accuracy: 0.9254 - val_loss: 0.6736 - val_accuracy: 0.8107\n",
            "Epoch 21/30\n",
            "665/665 [==============================] - 5s 8ms/step - loss: 0.2194 - accuracy: 0.9248 - val_loss: 0.6260 - val_accuracy: 0.8157\n",
            "Epoch 22/30\n",
            "665/665 [==============================] - 5s 8ms/step - loss: 0.2056 - accuracy: 0.9298 - val_loss: 0.6208 - val_accuracy: 0.8277\n",
            "Epoch 23/30\n",
            "665/665 [==============================] - 5s 8ms/step - loss: 0.1949 - accuracy: 0.9333 - val_loss: 0.6118 - val_accuracy: 0.8299\n",
            "Epoch 24/30\n",
            "665/665 [==============================] - 5s 8ms/step - loss: 0.1944 - accuracy: 0.9331 - val_loss: 0.7080 - val_accuracy: 0.8189\n",
            "Epoch 25/30\n",
            "665/665 [==============================] - 5s 8ms/step - loss: 0.1677 - accuracy: 0.9427 - val_loss: 0.6987 - val_accuracy: 0.8269\n",
            "Epoch 26/30\n",
            "665/665 [==============================] - 5s 8ms/step - loss: 0.1556 - accuracy: 0.9456 - val_loss: 0.7140 - val_accuracy: 0.8121\n",
            "Epoch 27/30\n",
            "665/665 [==============================] - 5s 8ms/step - loss: 0.1663 - accuracy: 0.9445 - val_loss: 0.8059 - val_accuracy: 0.8095\n",
            "Epoch 28/30\n",
            "665/665 [==============================] - 5s 8ms/step - loss: 0.1513 - accuracy: 0.9485 - val_loss: 0.7847 - val_accuracy: 0.8099\n",
            "Epoch 29/30\n",
            "665/665 [==============================] - 5s 8ms/step - loss: 0.1495 - accuracy: 0.9494 - val_loss: 0.7524 - val_accuracy: 0.8156\n",
            "Epoch 30/30\n",
            "665/665 [==============================] - 5s 8ms/step - loss: 0.1290 - accuracy: 0.9562 - val_loss: 0.7106 - val_accuracy: 0.8265\n"
          ]
        }
      ]
    },
    {
      "cell_type": "code",
      "source": [
        "model.evaluate(test_images, test_oh_labels)"
      ],
      "metadata": {
        "trusted": true,
        "colab": {
          "base_uri": "https://localhost:8080/"
        },
        "id": "1G8nYh4DOQAX",
        "outputId": "49a535f6-568a-4e57-d61c-d916a1578afd"
      },
      "execution_count": 14,
      "outputs": [
        {
          "output_type": "stream",
          "name": "stdout",
          "text": [
            "313/313 [==============================] - 1s 4ms/step - loss: 0.7301 - accuracy: 0.8156\n"
          ]
        },
        {
          "output_type": "execute_result",
          "data": {
            "text/plain": [
              "[0.7300921082496643, 0.8155999779701233]"
            ]
          },
          "metadata": {},
          "execution_count": 14
        }
      ]
    },
    {
      "cell_type": "markdown",
      "source": [
        "### He Normal 적용 후 Batch Normalization"
      ],
      "metadata": {
        "id": "RbzjB1GMOQAX"
      }
    },
    {
      "cell_type": "code",
      "source": [
        "from tensorflow.keras.models import Sequential, Model\n",
        "from tensorflow.keras.layers import Input, Dense , Conv2D , Dropout , Flatten , Activation, MaxPooling2D , GlobalAveragePooling2D\n",
        "from tensorflow.keras.optimizers import Adam , RMSprop \n",
        "from tensorflow.keras.layers import BatchNormalization\n",
        "from tensorflow.keras.callbacks import ReduceLROnPlateau , EarlyStopping , ModelCheckpoint , LearningRateScheduler\n",
        "\n",
        "input_tensor = Input(shape=(IMAGE_SIZE, IMAGE_SIZE, 3))\n",
        "\n",
        "#x = Conv2D(filters=32, kernel_size=(5, 5), padding='valid', activation='relu')(input_tensor)\n",
        "x = Conv2D(filters=32, kernel_size=(3, 3), padding='same', kernel_initializer='he_normal')(input_tensor)\n",
        "x = BatchNormalization()(x)\n",
        "x = Activation('relu')(x)\n",
        "\n",
        "x = Conv2D(filters=32, kernel_size=(3, 3), padding='same', kernel_initializer='he_normal')(x)\n",
        "x = BatchNormalization()(x)\n",
        "x = Activation('relu')(x)\n",
        "x = MaxPooling2D(pool_size=(2, 2))(x)\n",
        "\n",
        "x = Conv2D(filters=64, kernel_size=3, padding='same', kernel_initializer='he_normal')(x)\n",
        "x = BatchNormalization()(x)\n",
        "x = Activation('relu')(x)\n",
        "\n",
        "x = Conv2D(filters=64, kernel_size=3, padding='same', kernel_initializer='he_normal')(x)\n",
        "x = Activation('relu')(x)\n",
        "x = Activation('relu')(x)\n",
        "x = MaxPooling2D(pool_size=2)(x)\n",
        "\n",
        "x = Conv2D(filters=128, kernel_size=3, padding='same', kernel_initializer='he_normal')(x)\n",
        "x = BatchNormalization()(x)\n",
        "x = Activation('relu')(x)\n",
        "\n",
        "x = Conv2D(filters=128, kernel_size=3, padding='same', kernel_initializer='he_normal')(x)\n",
        "x = BatchNormalization()(x)\n",
        "x = Activation('relu')(x)\n",
        "x = MaxPooling2D(pool_size=2)(x)\n",
        "\n",
        "# cifar10의 클래스가 10개 이므로 마지막 classification의 Dense layer units갯수는 10\n",
        "x = Flatten(name='flatten')(x)\n",
        "x = Dropout(rate=0.5)(x)\n",
        "x = Dense(300, activation='relu', name='fc1')(x)\n",
        "x = Dropout(rate=0.3)(x)\n",
        "output = Dense(10, activation='softmax', name='output')(x)\n",
        "\n",
        "model = Model(inputs=input_tensor, outputs=output)\n",
        "\n",
        "model.summary()"
      ],
      "metadata": {
        "trusted": true,
        "colab": {
          "base_uri": "https://localhost:8080/"
        },
        "id": "zfR8tLDAOQAX",
        "outputId": "29a76f2b-c742-4054-8104-b1c7bbfdf2fd"
      },
      "execution_count": 15,
      "outputs": [
        {
          "output_type": "stream",
          "name": "stdout",
          "text": [
            "Model: \"model_2\"\n",
            "_________________________________________________________________\n",
            " Layer (type)                Output Shape              Param #   \n",
            "=================================================================\n",
            " input_3 (InputLayer)        [(None, 32, 32, 3)]       0         \n",
            "                                                                 \n",
            " conv2d_12 (Conv2D)          (None, 32, 32, 32)        896       \n",
            "                                                                 \n",
            " batch_normalization_5 (Batc  (None, 32, 32, 32)       128       \n",
            " hNormalization)                                                 \n",
            "                                                                 \n",
            " activation_8 (Activation)   (None, 32, 32, 32)        0         \n",
            "                                                                 \n",
            " conv2d_13 (Conv2D)          (None, 32, 32, 32)        9248      \n",
            "                                                                 \n",
            " batch_normalization_6 (Batc  (None, 32, 32, 32)       128       \n",
            " hNormalization)                                                 \n",
            "                                                                 \n",
            " activation_9 (Activation)   (None, 32, 32, 32)        0         \n",
            "                                                                 \n",
            " max_pooling2d_6 (MaxPooling  (None, 16, 16, 32)       0         \n",
            " 2D)                                                             \n",
            "                                                                 \n",
            " conv2d_14 (Conv2D)          (None, 16, 16, 64)        18496     \n",
            "                                                                 \n",
            " batch_normalization_7 (Batc  (None, 16, 16, 64)       256       \n",
            " hNormalization)                                                 \n",
            "                                                                 \n",
            " activation_10 (Activation)  (None, 16, 16, 64)        0         \n",
            "                                                                 \n",
            " conv2d_15 (Conv2D)          (None, 16, 16, 64)        36928     \n",
            "                                                                 \n",
            " activation_11 (Activation)  (None, 16, 16, 64)        0         \n",
            "                                                                 \n",
            " activation_12 (Activation)  (None, 16, 16, 64)        0         \n",
            "                                                                 \n",
            " max_pooling2d_7 (MaxPooling  (None, 8, 8, 64)         0         \n",
            " 2D)                                                             \n",
            "                                                                 \n",
            " conv2d_16 (Conv2D)          (None, 8, 8, 128)         73856     \n",
            "                                                                 \n",
            " batch_normalization_8 (Batc  (None, 8, 8, 128)        512       \n",
            " hNormalization)                                                 \n",
            "                                                                 \n",
            " activation_13 (Activation)  (None, 8, 8, 128)         0         \n",
            "                                                                 \n",
            " conv2d_17 (Conv2D)          (None, 8, 8, 128)         147584    \n",
            "                                                                 \n",
            " batch_normalization_9 (Batc  (None, 8, 8, 128)        512       \n",
            " hNormalization)                                                 \n",
            "                                                                 \n",
            " activation_14 (Activation)  (None, 8, 8, 128)         0         \n",
            "                                                                 \n",
            " max_pooling2d_8 (MaxPooling  (None, 4, 4, 128)        0         \n",
            " 2D)                                                             \n",
            "                                                                 \n",
            " flatten (Flatten)           (None, 2048)              0         \n",
            "                                                                 \n",
            " dropout_4 (Dropout)         (None, 2048)              0         \n",
            "                                                                 \n",
            " fc1 (Dense)                 (None, 300)               614700    \n",
            "                                                                 \n",
            " dropout_5 (Dropout)         (None, 300)               0         \n",
            "                                                                 \n",
            " output (Dense)              (None, 10)                3010      \n",
            "                                                                 \n",
            "=================================================================\n",
            "Total params: 906,254\n",
            "Trainable params: 905,486\n",
            "Non-trainable params: 768\n",
            "_________________________________________________________________\n"
          ]
        }
      ]
    },
    {
      "cell_type": "code",
      "source": [
        "model.compile(optimizer=Adam(), loss='categorical_crossentropy', metrics=['accuracy'])\n",
        "history = model.fit(x=train_images, y=train_oh_labels, batch_size=64, epochs=30, validation_split=0.15)"
      ],
      "metadata": {
        "trusted": true,
        "colab": {
          "base_uri": "https://localhost:8080/"
        },
        "id": "KFW_6r_8OQAX",
        "outputId": "d5e79a7f-7d8c-4a18-d466-55ee3d4c1002"
      },
      "execution_count": 16,
      "outputs": [
        {
          "output_type": "stream",
          "name": "stdout",
          "text": [
            "Epoch 1/30\n",
            "665/665 [==============================] - 6s 8ms/step - loss: 1.5706 - accuracy: 0.4336 - val_loss: 1.3330 - val_accuracy: 0.5147\n",
            "Epoch 2/30\n",
            "665/665 [==============================] - 5s 8ms/step - loss: 1.1291 - accuracy: 0.5924 - val_loss: 1.0719 - val_accuracy: 0.6193\n",
            "Epoch 3/30\n",
            "665/665 [==============================] - 5s 8ms/step - loss: 0.9363 - accuracy: 0.6684 - val_loss: 1.0130 - val_accuracy: 0.6533\n",
            "Epoch 4/30\n",
            "665/665 [==============================] - 5s 8ms/step - loss: 0.8163 - accuracy: 0.7156 - val_loss: 0.7718 - val_accuracy: 0.7301\n",
            "Epoch 5/30\n",
            "665/665 [==============================] - 5s 8ms/step - loss: 0.7321 - accuracy: 0.7443 - val_loss: 1.0647 - val_accuracy: 0.6700\n",
            "Epoch 6/30\n",
            "665/665 [==============================] - 5s 8ms/step - loss: 0.6693 - accuracy: 0.7676 - val_loss: 0.7128 - val_accuracy: 0.7495\n",
            "Epoch 7/30\n",
            "665/665 [==============================] - 5s 8ms/step - loss: 0.6054 - accuracy: 0.7908 - val_loss: 0.6948 - val_accuracy: 0.7591\n",
            "Epoch 8/30\n",
            "665/665 [==============================] - 5s 8ms/step - loss: 0.5577 - accuracy: 0.8075 - val_loss: 0.7394 - val_accuracy: 0.7620\n",
            "Epoch 9/30\n",
            "665/665 [==============================] - 5s 8ms/step - loss: 0.5107 - accuracy: 0.8256 - val_loss: 0.6299 - val_accuracy: 0.7871\n",
            "Epoch 10/30\n",
            "665/665 [==============================] - 5s 8ms/step - loss: 0.4829 - accuracy: 0.8321 - val_loss: 0.6175 - val_accuracy: 0.7883\n",
            "Epoch 11/30\n",
            "665/665 [==============================] - 5s 8ms/step - loss: 0.4383 - accuracy: 0.8478 - val_loss: 0.6160 - val_accuracy: 0.7961\n",
            "Epoch 12/30\n",
            "665/665 [==============================] - 5s 8ms/step - loss: 0.4009 - accuracy: 0.8607 - val_loss: 0.6898 - val_accuracy: 0.7897\n",
            "Epoch 13/30\n",
            "665/665 [==============================] - 5s 8ms/step - loss: 0.3769 - accuracy: 0.8687 - val_loss: 0.6673 - val_accuracy: 0.7960\n",
            "Epoch 14/30\n",
            "665/665 [==============================] - 5s 8ms/step - loss: 0.3497 - accuracy: 0.8788 - val_loss: 0.6518 - val_accuracy: 0.7967\n",
            "Epoch 15/30\n",
            "665/665 [==============================] - 5s 8ms/step - loss: 0.3178 - accuracy: 0.8903 - val_loss: 0.7824 - val_accuracy: 0.7677\n",
            "Epoch 16/30\n",
            "665/665 [==============================] - 5s 8ms/step - loss: 0.3018 - accuracy: 0.8968 - val_loss: 0.6000 - val_accuracy: 0.8165\n",
            "Epoch 17/30\n",
            "665/665 [==============================] - 5s 8ms/step - loss: 0.2809 - accuracy: 0.9019 - val_loss: 0.6799 - val_accuracy: 0.7956\n",
            "Epoch 18/30\n",
            "665/665 [==============================] - 5s 8ms/step - loss: 0.2780 - accuracy: 0.9052 - val_loss: 0.6534 - val_accuracy: 0.8135\n",
            "Epoch 19/30\n",
            "665/665 [==============================] - 5s 8ms/step - loss: 0.2450 - accuracy: 0.9170 - val_loss: 0.7044 - val_accuracy: 0.8097\n",
            "Epoch 20/30\n",
            "665/665 [==============================] - 5s 8ms/step - loss: 0.2260 - accuracy: 0.9224 - val_loss: 0.7101 - val_accuracy: 0.7951\n",
            "Epoch 21/30\n",
            "665/665 [==============================] - 5s 8ms/step - loss: 0.2176 - accuracy: 0.9243 - val_loss: 0.6342 - val_accuracy: 0.8225\n",
            "Epoch 22/30\n",
            "665/665 [==============================] - 5s 8ms/step - loss: 0.2141 - accuracy: 0.9257 - val_loss: 0.6780 - val_accuracy: 0.8224\n",
            "Epoch 23/30\n",
            "665/665 [==============================] - 5s 8ms/step - loss: 0.2039 - accuracy: 0.9290 - val_loss: 0.7723 - val_accuracy: 0.7936\n",
            "Epoch 24/30\n",
            "665/665 [==============================] - 5s 8ms/step - loss: 0.1816 - accuracy: 0.9371 - val_loss: 0.7354 - val_accuracy: 0.8007\n",
            "Epoch 25/30\n",
            "665/665 [==============================] - 5s 8ms/step - loss: 0.1807 - accuracy: 0.9363 - val_loss: 0.7150 - val_accuracy: 0.8196\n",
            "Epoch 26/30\n",
            "665/665 [==============================] - 5s 8ms/step - loss: 0.1706 - accuracy: 0.9416 - val_loss: 0.6289 - val_accuracy: 0.8272\n",
            "Epoch 27/30\n",
            "665/665 [==============================] - 5s 8ms/step - loss: 0.1605 - accuracy: 0.9460 - val_loss: 0.6727 - val_accuracy: 0.8100\n",
            "Epoch 28/30\n",
            "665/665 [==============================] - 5s 8ms/step - loss: 0.1551 - accuracy: 0.9460 - val_loss: 0.7266 - val_accuracy: 0.8209\n",
            "Epoch 29/30\n",
            "665/665 [==============================] - 5s 8ms/step - loss: 0.1484 - accuracy: 0.9493 - val_loss: 0.7340 - val_accuracy: 0.8136\n",
            "Epoch 30/30\n",
            "665/665 [==============================] - 6s 8ms/step - loss: 0.1527 - accuracy: 0.9492 - val_loss: 0.7769 - val_accuracy: 0.8171\n"
          ]
        }
      ]
    },
    {
      "cell_type": "code",
      "source": [
        "model.evaluate(test_images, test_oh_labels, batch_size=64)"
      ],
      "metadata": {
        "trusted": true,
        "colab": {
          "base_uri": "https://localhost:8080/"
        },
        "id": "RkMmkZnGOQAY",
        "outputId": "eb0cd6f8-8298-49fd-c1a6-c2dd8bcef4d7"
      },
      "execution_count": 17,
      "outputs": [
        {
          "output_type": "stream",
          "name": "stdout",
          "text": [
            "157/157 [==============================] - 1s 4ms/step - loss: 0.7933 - accuracy: 0.8146\n"
          ]
        },
        {
          "output_type": "execute_result",
          "data": {
            "text/plain": [
              "[0.7933454513549805, 0.8145999908447266]"
            ]
          },
          "metadata": {},
          "execution_count": 17
        }
      ]
    },
    {
      "cell_type": "code",
      "source": [
        "preds = model.predict(np.expand_dims(test_images[0], axis=0))\n",
        "predicted_class = np.argmax(preds, axis=1)\n",
        "print('예측 클래스 값:', predicted_class)"
      ],
      "metadata": {
        "trusted": true,
        "colab": {
          "base_uri": "https://localhost:8080/"
        },
        "id": "qWHisSAwOQAY",
        "outputId": "68405804-fb98-46c7-b1d5-560d8b892386"
      },
      "execution_count": 18,
      "outputs": [
        {
          "output_type": "stream",
          "name": "stdout",
          "text": [
            "예측 클래스 값: [3]\n"
          ]
        }
      ]
    },
    {
      "cell_type": "markdown",
      "source": [
        "### 학습 시 데이터를 섞는 shuffle 적용 유무에 따른  성능 테스트"
      ],
      "metadata": {
        "id": "0urzSOK8OQAY"
      }
    },
    {
      "cell_type": "code",
      "source": [
        "import tensorflow as tf\n",
        "import numpy as np\n",
        "import random as python_random\n",
        "from tensorflow.keras.utils import to_categorical\n",
        "from sklearn.model_selection import train_test_split\n",
        "\n",
        "# seed 를 설정해서 학습시마다 동일한 결과 유도. 불행히도 의도한 대로 동작하지 않음. \n",
        "def set_random_seed(seed_value):\n",
        "    np.random.seed(seed_value)\n",
        "    python_random.seed(seed_value)\n",
        "    tf.random.set_seed(seed_value)\n",
        "\n",
        "# 0 ~ 1사이값의 float32로 변경하는 함수\n",
        "def get_preprocessed_data(images, labels):\n",
        "    \n",
        "    # 학습과 테스트 이미지 array를 0~1 사이값으로 scale 및 float32 형 변형. \n",
        "    images = np.array(images/255.0, dtype=np.float32)\n",
        "    labels = np.array(labels, dtype=np.float32)\n",
        "    \n",
        "    return images, labels\n",
        "\n",
        "# 0 ~ 1사이값 float32로 변경하는 함수 호출 한 뒤 OHE 적용 \n",
        "def get_preprocessed_ohe(images, labels):\n",
        "    images, labels = get_preprocessed_data(images, labels)\n",
        "    # OHE 적용 \n",
        "    oh_labels = to_categorical(labels)\n",
        "    return images, oh_labels\n",
        "\n",
        "# 학습/검증/테스트 데이터 세트에 전처리 및 OHE 적용한 뒤 반환 \n",
        "def get_train_valid_test_set(train_images, train_labels, test_images, test_labels, valid_size=0.15, random_state=2021):\n",
        "    # 학습 및 테스트 데이터 세트를  0 ~ 1사이값 float32로 변경 및 OHE 적용. \n",
        "    train_images, train_oh_labels = get_preprocessed_ohe(train_images, train_labels)\n",
        "    test_images, test_oh_labels = get_preprocessed_ohe(test_images, test_labels)\n",
        "    \n",
        "    # 학습 데이터를 검증 데이터 세트로 다시 분리\n",
        "    tr_images, val_images, tr_oh_labels, val_oh_labels = train_test_split(train_images, train_oh_labels, test_size=valid_size, random_state=random_state)\n",
        "    \n",
        "    return (tr_images, tr_oh_labels), (val_images, val_oh_labels), (test_images, test_oh_labels ) "
      ],
      "metadata": {
        "trusted": true,
        "id": "LGDKV3XpOQAY"
      },
      "execution_count": 19,
      "outputs": []
    },
    {
      "cell_type": "code",
      "source": [
        "from tensorflow.keras.datasets import cifar10\n",
        "\n",
        "# random seed는 2021로 고정.\n",
        "set_random_seed(2021)\n",
        "# CIFAR10 데이터 재 로딩 및 Scaling/OHE 전처리 적용하여 학습/검증/데이터 세트 생성. \n",
        "(train_images, train_labels), (test_images, test_labels) = cifar10.load_data()\n",
        "print(train_images.shape, train_labels.shape, test_images.shape, test_labels.shape)\n",
        "(tr_images, tr_oh_labels), (val_images, val_oh_labels), (test_images, test_oh_labels) = \\\n",
        "    get_train_valid_test_set(train_images, train_labels, test_images, test_labels, valid_size=0.15, random_state=2021)\n",
        "\n",
        "print(tr_images.shape, tr_oh_labels.shape, val_images.shape, val_oh_labels.shape, test_images.shape, test_oh_labels.shape)"
      ],
      "metadata": {
        "trusted": true,
        "colab": {
          "base_uri": "https://localhost:8080/"
        },
        "id": "7akXWPX_OQAY",
        "outputId": "a2af4f4e-a6f9-4916-a3ea-06fd248e19d2"
      },
      "execution_count": 20,
      "outputs": [
        {
          "output_type": "stream",
          "name": "stdout",
          "text": [
            "(50000, 32, 32, 3) (50000, 1) (10000, 32, 32, 3) (10000, 1)\n",
            "(42500, 32, 32, 3) (42500, 10) (7500, 32, 32, 3) (7500, 10) (10000, 32, 32, 3) (10000, 10)\n"
          ]
        }
      ]
    },
    {
      "cell_type": "markdown",
      "source": [
        "### model 생성을 위한 별도 함수 생성"
      ],
      "metadata": {
        "id": "YIpiuZOlOQAY"
      }
    },
    {
      "cell_type": "code",
      "source": [
        "from tensorflow.keras.models import Sequential, Model\n",
        "from tensorflow.keras.layers import Input, Dense , Conv2D , Dropout , Flatten , Activation, MaxPooling2D , GlobalAveragePooling2D\n",
        "from tensorflow.keras.optimizers import Adam , RMSprop \n",
        "from tensorflow.keras.layers import BatchNormalization\n",
        "from tensorflow.keras.callbacks import ReduceLROnPlateau , EarlyStopping , ModelCheckpoint , LearningRateScheduler\n",
        "\n",
        "def create_model():\n",
        "    input_tensor = Input(shape=(IMAGE_SIZE, IMAGE_SIZE, 3))\n",
        "\n",
        "    #x = Conv2D(filters=32, kernel_size=(5, 5), padding='valid', activation='relu')(input_tensor)\n",
        "    x = Conv2D(filters=32, kernel_size=(3, 3), padding='same')(input_tensor)\n",
        "    x = BatchNormalization()(x)\n",
        "    x = Activation('relu')(x)\n",
        "\n",
        "    x = Conv2D(filters=32, kernel_size=(3, 3), padding='same')(x)\n",
        "    x = BatchNormalization()(x)\n",
        "    x = Activation('relu')(x)\n",
        "    x = MaxPooling2D(pool_size=(2, 2))(x)\n",
        "\n",
        "    x = Conv2D(filters=64, kernel_size=3, padding='same')(x)\n",
        "    x = BatchNormalization()(x)\n",
        "    x = Activation('relu')(x)\n",
        "\n",
        "    x = Conv2D(filters=64, kernel_size=3, padding='same')(x)\n",
        "    x = Activation('relu')(x)\n",
        "    x = Activation('relu')(x)\n",
        "    x = MaxPooling2D(pool_size=2)(x)\n",
        "\n",
        "    x = Conv2D(filters=128, kernel_size=3, padding='same')(x)\n",
        "    x = BatchNormalization()(x)\n",
        "    x = Activation('relu')(x)\n",
        "\n",
        "    x = Conv2D(filters=128, kernel_size=3, padding='same')(x)\n",
        "    x = BatchNormalization()(x)\n",
        "    x = Activation('relu')(x)\n",
        "    x = MaxPooling2D(pool_size=2)(x)\n",
        "\n",
        "    # cifar10의 클래스가 10개 이므로 마지막 classification의 Dense layer units갯수는 10\n",
        "    x = Flatten(name='flatten')(x)\n",
        "    x = Dropout(rate=0.5)(x)\n",
        "    x = Dense(300, activation='relu', name='fc1')(x)\n",
        "    x = Dropout(rate=0.3)(x)\n",
        "    output = Dense(10, activation='softmax', name='output')(x)\n",
        "\n",
        "    model = Model(inputs=input_tensor, outputs=output)\n",
        "    #model.summary()\n",
        "    \n",
        "    return model\n"
      ],
      "metadata": {
        "trusted": true,
        "id": "HRqSss5MOQAZ"
      },
      "execution_count": 21,
      "outputs": []
    },
    {
      "cell_type": "markdown",
      "source": [
        "### shuffle을 False/True 변경하면서 테스트 "
      ],
      "metadata": {
        "id": "sEw6gQoBOQAZ"
      }
    },
    {
      "cell_type": "code",
      "source": [
        "model = create_model()\n",
        "model.compile(optimizer=Adam(), loss='categorical_crossentropy', metrics=['accuracy'])\n",
        "# 먼저 shuffle을 false로 테스트 \n",
        "noshuffle_history = model.fit(x=tr_images, y=tr_oh_labels, batch_size=64, epochs=30, shuffle=False, \n",
        "                    validation_data=(val_images, val_oh_labels))\n",
        "evaluation_result = model.evaluate(test_images, test_oh_labels, batch_size=64)\n",
        "print('#### 테스트 세트로 evaluation 결과 :', evaluation_result)\n",
        "\n",
        "# model이 반복적으로 메모리 차지하는것을 없애기 위해서 수행. \n",
        "tf.keras.backend.clear_session()"
      ],
      "metadata": {
        "_kg_hide-output": true,
        "trusted": true,
        "colab": {
          "base_uri": "https://localhost:8080/"
        },
        "id": "HLnJWEc-OQAZ",
        "outputId": "71786c89-6a28-402b-c48e-75ab71c44fe8"
      },
      "execution_count": 22,
      "outputs": [
        {
          "output_type": "stream",
          "name": "stdout",
          "text": [
            "Epoch 1/30\n",
            "665/665 [==============================] - 6s 8ms/step - loss: 1.5656 - accuracy: 0.4331 - val_loss: 1.4790 - val_accuracy: 0.4725\n",
            "Epoch 2/30\n",
            "665/665 [==============================] - 5s 8ms/step - loss: 1.1145 - accuracy: 0.6043 - val_loss: 1.0644 - val_accuracy: 0.6289\n",
            "Epoch 3/30\n",
            "665/665 [==============================] - 5s 8ms/step - loss: 0.9205 - accuracy: 0.6764 - val_loss: 0.7982 - val_accuracy: 0.7196\n",
            "Epoch 4/30\n",
            "665/665 [==============================] - 5s 8ms/step - loss: 0.8017 - accuracy: 0.7211 - val_loss: 0.8631 - val_accuracy: 0.7020\n",
            "Epoch 5/30\n",
            "665/665 [==============================] - 5s 8ms/step - loss: 0.7107 - accuracy: 0.7532 - val_loss: 0.7421 - val_accuracy: 0.7483\n",
            "Epoch 6/30\n",
            "665/665 [==============================] - 5s 8ms/step - loss: 0.6444 - accuracy: 0.7754 - val_loss: 0.7642 - val_accuracy: 0.7408\n",
            "Epoch 7/30\n",
            "665/665 [==============================] - 5s 8ms/step - loss: 0.5841 - accuracy: 0.7959 - val_loss: 0.7863 - val_accuracy: 0.7473\n",
            "Epoch 8/30\n",
            "665/665 [==============================] - 5s 8ms/step - loss: 0.5258 - accuracy: 0.8172 - val_loss: 0.7265 - val_accuracy: 0.7711\n",
            "Epoch 9/30\n",
            "665/665 [==============================] - 5s 8ms/step - loss: 0.4812 - accuracy: 0.8342 - val_loss: 0.8636 - val_accuracy: 0.7417\n",
            "Epoch 10/30\n",
            "665/665 [==============================] - 5s 8ms/step - loss: 0.4399 - accuracy: 0.8482 - val_loss: 0.9772 - val_accuracy: 0.7328\n",
            "Epoch 11/30\n",
            "665/665 [==============================] - 5s 8ms/step - loss: 0.4041 - accuracy: 0.8587 - val_loss: 0.7878 - val_accuracy: 0.7659\n",
            "Epoch 12/30\n",
            "665/665 [==============================] - 5s 8ms/step - loss: 0.3704 - accuracy: 0.8736 - val_loss: 0.7425 - val_accuracy: 0.7795\n",
            "Epoch 13/30\n",
            "665/665 [==============================] - 5s 8ms/step - loss: 0.3404 - accuracy: 0.8803 - val_loss: 0.7361 - val_accuracy: 0.7941\n",
            "Epoch 14/30\n",
            "665/665 [==============================] - 6s 8ms/step - loss: 0.3137 - accuracy: 0.8918 - val_loss: 0.6804 - val_accuracy: 0.8089\n",
            "Epoch 15/30\n",
            "665/665 [==============================] - 5s 8ms/step - loss: 0.2964 - accuracy: 0.8955 - val_loss: 1.4045 - val_accuracy: 0.6987\n",
            "Epoch 16/30\n",
            "665/665 [==============================] - 5s 8ms/step - loss: 0.2773 - accuracy: 0.9034 - val_loss: 0.7814 - val_accuracy: 0.7915\n",
            "Epoch 17/30\n",
            "665/665 [==============================] - 5s 8ms/step - loss: 0.2485 - accuracy: 0.9143 - val_loss: 0.8005 - val_accuracy: 0.7912\n",
            "Epoch 18/30\n",
            "665/665 [==============================] - 5s 8ms/step - loss: 0.2350 - accuracy: 0.9175 - val_loss: 0.9347 - val_accuracy: 0.7715\n",
            "Epoch 19/30\n",
            "665/665 [==============================] - 5s 8ms/step - loss: 0.2295 - accuracy: 0.9211 - val_loss: 0.7178 - val_accuracy: 0.8080\n",
            "Epoch 20/30\n",
            "665/665 [==============================] - 5s 8ms/step - loss: 0.2061 - accuracy: 0.9273 - val_loss: 0.8352 - val_accuracy: 0.7967\n",
            "Epoch 21/30\n",
            "665/665 [==============================] - 5s 8ms/step - loss: 0.1975 - accuracy: 0.9331 - val_loss: 0.7565 - val_accuracy: 0.8080\n",
            "Epoch 22/30\n",
            "665/665 [==============================] - 5s 8ms/step - loss: 0.1863 - accuracy: 0.9343 - val_loss: 0.7767 - val_accuracy: 0.8015\n",
            "Epoch 23/30\n",
            "665/665 [==============================] - 5s 8ms/step - loss: 0.1763 - accuracy: 0.9375 - val_loss: 0.9720 - val_accuracy: 0.7837\n",
            "Epoch 24/30\n",
            "665/665 [==============================] - 5s 8ms/step - loss: 0.1644 - accuracy: 0.9413 - val_loss: 0.9120 - val_accuracy: 0.7991\n",
            "Epoch 25/30\n",
            "665/665 [==============================] - 5s 8ms/step - loss: 0.1642 - accuracy: 0.9439 - val_loss: 0.7996 - val_accuracy: 0.8164\n",
            "Epoch 26/30\n",
            "665/665 [==============================] - 5s 8ms/step - loss: 0.1484 - accuracy: 0.9479 - val_loss: 1.0009 - val_accuracy: 0.7824\n",
            "Epoch 27/30\n",
            "665/665 [==============================] - 5s 8ms/step - loss: 0.1408 - accuracy: 0.9518 - val_loss: 0.7959 - val_accuracy: 0.8228\n",
            "Epoch 28/30\n",
            "665/665 [==============================] - 5s 8ms/step - loss: 0.1405 - accuracy: 0.9525 - val_loss: 1.0301 - val_accuracy: 0.8012\n",
            "Epoch 29/30\n",
            "665/665 [==============================] - 5s 8ms/step - loss: 0.1380 - accuracy: 0.9531 - val_loss: 0.8895 - val_accuracy: 0.8121\n",
            "Epoch 30/30\n",
            "665/665 [==============================] - 5s 8ms/step - loss: 0.1258 - accuracy: 0.9568 - val_loss: 0.7495 - val_accuracy: 0.8309\n",
            "157/157 [==============================] - 1s 4ms/step - loss: 0.7815 - accuracy: 0.8163\n",
            "#### 테스트 세트로 evaluation 결과 : [0.781528890132904, 0.8162999749183655]\n"
          ]
        }
      ]
    },
    {
      "cell_type": "markdown",
      "source": [
        "### shuffle을 True로 변경하고 학습 및 테스트"
      ],
      "metadata": {
        "id": "BY3b-gkHOQAZ"
      }
    },
    {
      "cell_type": "code",
      "source": [
        "model = create_model()\n",
        "model.compile(optimizer=Adam(), loss='categorical_crossentropy', metrics=['accuracy'])\n",
        "# shuffle을 True로 변경하여 학습 및 테스트\n",
        "shuffle_history = model.fit(x=tr_images, y=tr_oh_labels, batch_size=64, epochs=30, shuffle=True, \n",
        "                    validation_data=(val_images, val_oh_labels))\n",
        "evaluation_result = model.evaluate(test_images, test_oh_labels, batch_size=64)\n",
        "print('#### 테스트 세트로 evaluation 결과 :', evaluation_result)\n",
        "\n",
        "tf.keras.backend.clear_session()"
      ],
      "metadata": {
        "trusted": true,
        "colab": {
          "base_uri": "https://localhost:8080/"
        },
        "id": "KAq7wbZyOQAZ",
        "outputId": "3dc2ecab-c5e2-45b0-dcaf-cbb9ab6aac8b"
      },
      "execution_count": 23,
      "outputs": [
        {
          "output_type": "stream",
          "name": "stdout",
          "text": [
            "Epoch 1/30\n",
            "665/665 [==============================] - 6s 8ms/step - loss: 1.5693 - accuracy: 0.4323 - val_loss: 1.3692 - val_accuracy: 0.5111\n",
            "Epoch 2/30\n",
            "665/665 [==============================] - 5s 8ms/step - loss: 1.1031 - accuracy: 0.6056 - val_loss: 0.9669 - val_accuracy: 0.6504\n",
            "Epoch 3/30\n",
            "665/665 [==============================] - 5s 8ms/step - loss: 0.9177 - accuracy: 0.6770 - val_loss: 0.9279 - val_accuracy: 0.6719\n",
            "Epoch 4/30\n",
            "665/665 [==============================] - 5s 8ms/step - loss: 0.8084 - accuracy: 0.7178 - val_loss: 0.8668 - val_accuracy: 0.6968\n",
            "Epoch 5/30\n",
            "665/665 [==============================] - 5s 8ms/step - loss: 0.7298 - accuracy: 0.7492 - val_loss: 0.7733 - val_accuracy: 0.7331\n",
            "Epoch 6/30\n",
            "665/665 [==============================] - 5s 8ms/step - loss: 0.6566 - accuracy: 0.7759 - val_loss: 0.8554 - val_accuracy: 0.7141\n",
            "Epoch 7/30\n",
            "665/665 [==============================] - 5s 8ms/step - loss: 0.5964 - accuracy: 0.7962 - val_loss: 0.7205 - val_accuracy: 0.7573\n",
            "Epoch 8/30\n",
            "665/665 [==============================] - 5s 8ms/step - loss: 0.5481 - accuracy: 0.8116 - val_loss: 0.7400 - val_accuracy: 0.7484\n",
            "Epoch 9/30\n",
            "665/665 [==============================] - 5s 8ms/step - loss: 0.5045 - accuracy: 0.8268 - val_loss: 0.6590 - val_accuracy: 0.7772\n",
            "Epoch 10/30\n",
            "665/665 [==============================] - 5s 8ms/step - loss: 0.4640 - accuracy: 0.8418 - val_loss: 0.6552 - val_accuracy: 0.7885\n",
            "Epoch 11/30\n",
            "665/665 [==============================] - 5s 8ms/step - loss: 0.4229 - accuracy: 0.8548 - val_loss: 0.8141 - val_accuracy: 0.7456\n",
            "Epoch 12/30\n",
            "665/665 [==============================] - 5s 8ms/step - loss: 0.3884 - accuracy: 0.8644 - val_loss: 0.6874 - val_accuracy: 0.7771\n",
            "Epoch 13/30\n",
            "665/665 [==============================] - 5s 8ms/step - loss: 0.3571 - accuracy: 0.8776 - val_loss: 0.8388 - val_accuracy: 0.7447\n",
            "Epoch 14/30\n",
            "665/665 [==============================] - 5s 8ms/step - loss: 0.3310 - accuracy: 0.8866 - val_loss: 0.7384 - val_accuracy: 0.7855\n",
            "Epoch 15/30\n",
            "665/665 [==============================] - 5s 8ms/step - loss: 0.3101 - accuracy: 0.8937 - val_loss: 0.6248 - val_accuracy: 0.8023\n",
            "Epoch 16/30\n",
            "665/665 [==============================] - 5s 8ms/step - loss: 0.2918 - accuracy: 0.8990 - val_loss: 0.6592 - val_accuracy: 0.8077\n",
            "Epoch 17/30\n",
            "665/665 [==============================] - 6s 8ms/step - loss: 0.2679 - accuracy: 0.9063 - val_loss: 0.7533 - val_accuracy: 0.7887\n",
            "Epoch 18/30\n",
            "665/665 [==============================] - 5s 8ms/step - loss: 0.2515 - accuracy: 0.9135 - val_loss: 0.6093 - val_accuracy: 0.8217\n",
            "Epoch 19/30\n",
            "665/665 [==============================] - 5s 8ms/step - loss: 0.2294 - accuracy: 0.9207 - val_loss: 0.6338 - val_accuracy: 0.8201\n",
            "Epoch 20/30\n",
            "665/665 [==============================] - 5s 8ms/step - loss: 0.2170 - accuracy: 0.9250 - val_loss: 0.7176 - val_accuracy: 0.8063\n",
            "Epoch 21/30\n",
            "665/665 [==============================] - 5s 8ms/step - loss: 0.2084 - accuracy: 0.9278 - val_loss: 0.6552 - val_accuracy: 0.8204\n",
            "Epoch 22/30\n",
            "665/665 [==============================] - 5s 8ms/step - loss: 0.1926 - accuracy: 0.9343 - val_loss: 0.7763 - val_accuracy: 0.8061\n",
            "Epoch 23/30\n",
            "665/665 [==============================] - 5s 8ms/step - loss: 0.1781 - accuracy: 0.9382 - val_loss: 0.7375 - val_accuracy: 0.8129\n",
            "Epoch 24/30\n",
            "665/665 [==============================] - 5s 8ms/step - loss: 0.1682 - accuracy: 0.9415 - val_loss: 0.6925 - val_accuracy: 0.8161\n",
            "Epoch 25/30\n",
            "665/665 [==============================] - 5s 8ms/step - loss: 0.1612 - accuracy: 0.9445 - val_loss: 0.7256 - val_accuracy: 0.8208\n",
            "Epoch 26/30\n",
            "665/665 [==============================] - 5s 8ms/step - loss: 0.1544 - accuracy: 0.9466 - val_loss: 0.7315 - val_accuracy: 0.8209\n",
            "Epoch 27/30\n",
            "665/665 [==============================] - 5s 8ms/step - loss: 0.1663 - accuracy: 0.9422 - val_loss: 0.8409 - val_accuracy: 0.7959\n",
            "Epoch 28/30\n",
            "665/665 [==============================] - 5s 8ms/step - loss: 0.1392 - accuracy: 0.9523 - val_loss: 0.7180 - val_accuracy: 0.8156\n",
            "Epoch 29/30\n",
            "665/665 [==============================] - 6s 8ms/step - loss: 0.1644 - accuracy: 0.9445 - val_loss: 0.6890 - val_accuracy: 0.8164\n",
            "Epoch 30/30\n",
            "665/665 [==============================] - 5s 8ms/step - loss: 0.1244 - accuracy: 0.9580 - val_loss: 1.0955 - val_accuracy: 0.7816\n",
            "157/157 [==============================] - 1s 4ms/step - loss: 1.1051 - accuracy: 0.7658\n",
            "#### 테스트 세트로 evaluation 결과 : [1.1050827503204346, 0.7657999992370605]\n"
          ]
        }
      ]
    },
    {
      "cell_type": "markdown",
      "source": [
        "### 위에서 수행한 Shuffle테스트 시 validation 데이터 기반 성능 검증 시각화 "
      ],
      "metadata": {
        "id": "zMvqsMjUOQAa"
      }
    },
    {
      "cell_type": "code",
      "source": [
        "import matplotlib.pyplot as plt\n",
        "%matplotlib inline\n",
        "\n",
        "def show_history_shuffle(noshuffle_history, shuffle_history):\n",
        "    figure, axs = plt.subplots(nrows=1, ncols=2, figsize=(16, 4))\n",
        "    # shuffle과 no shuffle의 validation accuracy 비교 \n",
        "    axs[0].plot(noshuffle_history.history['val_accuracy'], label='no shuffle acc')\n",
        "    axs[0].plot(shuffle_history.history['val_accuracy'], label='shuffle acc')\n",
        "    # shuffle과 no shuffle의 validation loss 비교 \n",
        "    axs[1].plot(noshuffle_history.history['val_loss'], label='no shuffle loss')\n",
        "    axs[1].plot(shuffle_history.history['val_loss'], label='shuffle loss')\n",
        "    axs[0].legend()\n",
        "    axs[1].legend()\n",
        "\n",
        "show_history_shuffle(noshuffle_history, shuffle_history)\n"
      ],
      "metadata": {
        "trusted": true,
        "colab": {
          "base_uri": "https://localhost:8080/",
          "height": 240
        },
        "id": "SBssA62IOQAa",
        "outputId": "0002bb46-9944-4089-f4d8-fcfc4b8b408f"
      },
      "execution_count": 24,
      "outputs": [
        {
          "output_type": "display_data",
          "data": {
            "image/png": "[encoded data removed]",
            "text/plain": [
              "<Figure size 1152x288 with 2 Axes>"
            ]
          },
          "metadata": {
            "needs_background": "light"
          }
        }
      ]
    },
    {
      "cell_type": "markdown",
      "source": [
        "### batch 크기를 32, 64, 256, 512로 변경하면서 테스트"
      ],
      "metadata": {
        "id": "DLQHmMXaOQAa"
      }
    },
    {
      "cell_type": "code",
      "source": [
        "b_sizes = [32, 64, 256, 512]\n",
        "histories = []\n",
        "evaluations = []\n",
        "for b_size in b_sizes:\n",
        "    model = create_model()\n",
        "    model.compile(optimizer=Adam(), loss='categorical_crossentropy', metrics=['accuracy'])\n",
        "    # batch_size를 순차적으로 32, 64, 256, 512로 변경하여 학습 및 evaluation 수행. \n",
        "    print('##### batch size :', b_size, '학습 #####')\n",
        "    history = model.fit(x=tr_images, y=tr_oh_labels, batch_size=b_size, epochs=30, \n",
        "                        shuffle=True, validation_data=(val_images, val_oh_labels))\n",
        "    # batch size별 학습 history 결과 저장. \n",
        "    histories.append(history)\n",
        "    # 테스트 세트로 evaluation 수행하고 batch size별 결과 저장. \n",
        "    evaluation_result = model.evaluate(test_images, test_oh_labels, batch_size=b_size)\n",
        "    print('#### 테스트 세트로 evaluation 결과 :', evaluation_result)\n",
        "    evaluations.append(evaluation_result)\n",
        "    \n",
        "    tf.keras.backend.clear_session()"
      ],
      "metadata": {
        "trusted": true,
        "colab": {
          "base_uri": "https://localhost:8080/"
        },
        "id": "XB_uTWZkOQAa",
        "outputId": "8a39dc80-481d-46bb-a538-73c7f50afe77"
      },
      "execution_count": 25,
      "outputs": [
        {
          "output_type": "stream",
          "name": "stdout",
          "text": [
            "##### batch size : 32 학습 #####\n",
            "Epoch 1/30\n",
            "1329/1329 [==============================] - 10s 7ms/step - loss: 1.5638 - accuracy: 0.4370 - val_loss: 1.2746 - val_accuracy: 0.5453\n",
            "Epoch 2/30\n",
            "1329/1329 [==============================] - 9s 6ms/step - loss: 1.1097 - accuracy: 0.6077 - val_loss: 1.0078 - val_accuracy: 0.6487\n",
            "Epoch 3/30\n",
            "1329/1329 [==============================] - 9s 7ms/step - loss: 0.9133 - accuracy: 0.6805 - val_loss: 0.9634 - val_accuracy: 0.6763\n",
            "Epoch 4/30\n",
            "1329/1329 [==============================] - 8s 6ms/step - loss: 0.8045 - accuracy: 0.7217 - val_loss: 0.7139 - val_accuracy: 0.7564\n",
            "Epoch 5/30\n",
            "1329/1329 [==============================] - 8s 6ms/step - loss: 0.7164 - accuracy: 0.7565 - val_loss: 0.8334 - val_accuracy: 0.7223\n",
            "Epoch 6/30\n",
            "1329/1329 [==============================] - 9s 7ms/step - loss: 0.6493 - accuracy: 0.7801 - val_loss: 0.7361 - val_accuracy: 0.7491\n",
            "Epoch 7/30\n",
            "1329/1329 [==============================] - 8s 6ms/step - loss: 0.5893 - accuracy: 0.7993 - val_loss: 0.6581 - val_accuracy: 0.7748\n",
            "Epoch 8/30\n",
            "1329/1329 [==============================] - 8s 6ms/step - loss: 0.5321 - accuracy: 0.8192 - val_loss: 0.7940 - val_accuracy: 0.7429\n",
            "Epoch 9/30\n",
            "1329/1329 [==============================] - 8s 6ms/step - loss: 0.4949 - accuracy: 0.8319 - val_loss: 0.6722 - val_accuracy: 0.7864\n",
            "Epoch 10/30\n",
            "1329/1329 [==============================] - 9s 7ms/step - loss: 0.4519 - accuracy: 0.8460 - val_loss: 0.5417 - val_accuracy: 0.8185\n",
            "Epoch 11/30\n",
            "1329/1329 [==============================] - 8s 6ms/step - loss: 0.4169 - accuracy: 0.8546 - val_loss: 0.6517 - val_accuracy: 0.7945\n",
            "Epoch 12/30\n",
            "1329/1329 [==============================] - 8s 6ms/step - loss: 0.3869 - accuracy: 0.8675 - val_loss: 0.6897 - val_accuracy: 0.7780\n",
            "Epoch 13/30\n",
            "1329/1329 [==============================] - 9s 7ms/step - loss: 0.3544 - accuracy: 0.8772 - val_loss: 0.7353 - val_accuracy: 0.7760\n",
            "Epoch 14/30\n",
            "1329/1329 [==============================] - 8s 6ms/step - loss: 0.3307 - accuracy: 0.8870 - val_loss: 0.8279 - val_accuracy: 0.7644\n",
            "Epoch 15/30\n",
            "1329/1329 [==============================] - 8s 6ms/step - loss: 0.3121 - accuracy: 0.8920 - val_loss: 0.6897 - val_accuracy: 0.7933\n",
            "Epoch 16/30\n",
            "1329/1329 [==============================] - 9s 6ms/step - loss: 0.2939 - accuracy: 0.8995 - val_loss: 0.5699 - val_accuracy: 0.8211\n",
            "Epoch 17/30\n",
            "1329/1329 [==============================] - 9s 7ms/step - loss: 0.2705 - accuracy: 0.9074 - val_loss: 0.6127 - val_accuracy: 0.8224\n",
            "Epoch 18/30\n",
            "1329/1329 [==============================] - 8s 6ms/step - loss: 0.2541 - accuracy: 0.9123 - val_loss: 0.8079 - val_accuracy: 0.7723\n",
            "Epoch 19/30\n",
            "1329/1329 [==============================] - 8s 6ms/step - loss: 0.2371 - accuracy: 0.9173 - val_loss: 0.5644 - val_accuracy: 0.8309\n",
            "Epoch 20/30\n",
            "1329/1329 [==============================] - 8s 6ms/step - loss: 0.2256 - accuracy: 0.9232 - val_loss: 0.5116 - val_accuracy: 0.8436\n",
            "Epoch 21/30\n",
            "1329/1329 [==============================] - 8s 6ms/step - loss: 0.2141 - accuracy: 0.9269 - val_loss: 0.6326 - val_accuracy: 0.8240\n",
            "Epoch 22/30\n",
            "1329/1329 [==============================] - 8s 6ms/step - loss: 0.2037 - accuracy: 0.9289 - val_loss: 0.7034 - val_accuracy: 0.8101\n",
            "Epoch 23/30\n",
            "1329/1329 [==============================] - 9s 7ms/step - loss: 0.2016 - accuracy: 0.9310 - val_loss: 0.6420 - val_accuracy: 0.8148\n",
            "Epoch 24/30\n",
            "1329/1329 [==============================] - 8s 6ms/step - loss: 0.1865 - accuracy: 0.9364 - val_loss: 0.6202 - val_accuracy: 0.8287\n",
            "Epoch 25/30\n",
            "1329/1329 [==============================] - 9s 7ms/step - loss: 0.1749 - accuracy: 0.9401 - val_loss: 0.5665 - val_accuracy: 0.8367\n",
            "Epoch 26/30\n",
            "1329/1329 [==============================] - 8s 6ms/step - loss: 0.1671 - accuracy: 0.9432 - val_loss: 0.6325 - val_accuracy: 0.8291\n",
            "Epoch 27/30\n",
            "1329/1329 [==============================] - 9s 7ms/step - loss: 0.1683 - accuracy: 0.9424 - val_loss: 0.6468 - val_accuracy: 0.8319\n",
            "Epoch 28/30\n",
            "1329/1329 [==============================] - 9s 7ms/step - loss: 0.1580 - accuracy: 0.9456 - val_loss: 0.5653 - val_accuracy: 0.8448\n",
            "Epoch 29/30\n",
            "1329/1329 [==============================] - 9s 7ms/step - loss: 0.1561 - accuracy: 0.9478 - val_loss: 0.5885 - val_accuracy: 0.8409\n",
            "Epoch 30/30\n",
            "1329/1329 [==============================] - 8s 6ms/step - loss: 0.1516 - accuracy: 0.9479 - val_loss: 0.6965 - val_accuracy: 0.8176\n",
            "313/313 [==============================] - 1s 4ms/step - loss: 0.7281 - accuracy: 0.8193\n",
            "#### 테스트 세트로 evaluation 결과 : [0.728147029876709, 0.8192999958992004]\n",
            "##### batch size : 64 학습 #####\n",
            "Epoch 1/30\n",
            "665/665 [==============================] - 7s 8ms/step - loss: 1.5919 - accuracy: 0.4221 - val_loss: 1.3171 - val_accuracy: 0.5304\n",
            "Epoch 2/30\n",
            "665/665 [==============================] - 5s 8ms/step - loss: 1.1306 - accuracy: 0.5941 - val_loss: 1.1400 - val_accuracy: 0.5789\n",
            "Epoch 3/30\n",
            "665/665 [==============================] - 6s 8ms/step - loss: 0.9286 - accuracy: 0.6761 - val_loss: 0.9075 - val_accuracy: 0.6892\n",
            "Epoch 4/30\n",
            "665/665 [==============================] - 5s 8ms/step - loss: 0.8105 - accuracy: 0.7157 - val_loss: 1.1468 - val_accuracy: 0.6023\n",
            "Epoch 5/30\n",
            "665/665 [==============================] - 5s 8ms/step - loss: 0.7277 - accuracy: 0.7474 - val_loss: 0.9656 - val_accuracy: 0.6859\n",
            "Epoch 6/30\n",
            "665/665 [==============================] - 5s 8ms/step - loss: 0.6603 - accuracy: 0.7720 - val_loss: 0.6709 - val_accuracy: 0.7739\n",
            "Epoch 7/30\n",
            "665/665 [==============================] - 5s 8ms/step - loss: 0.6014 - accuracy: 0.7921 - val_loss: 0.7469 - val_accuracy: 0.7485\n",
            "Epoch 8/30\n",
            "665/665 [==============================] - 5s 8ms/step - loss: 0.5538 - accuracy: 0.8105 - val_loss: 0.7744 - val_accuracy: 0.7492\n",
            "Epoch 9/30\n",
            "665/665 [==============================] - 5s 8ms/step - loss: 0.5026 - accuracy: 0.8289 - val_loss: 0.5887 - val_accuracy: 0.8055\n",
            "Epoch 10/30\n",
            "665/665 [==============================] - 5s 8ms/step - loss: 0.4605 - accuracy: 0.8429 - val_loss: 0.7306 - val_accuracy: 0.7631\n",
            "Epoch 11/30\n",
            "665/665 [==============================] - 5s 8ms/step - loss: 0.4293 - accuracy: 0.8532 - val_loss: 0.6571 - val_accuracy: 0.7921\n",
            "Epoch 12/30\n",
            "665/665 [==============================] - 6s 8ms/step - loss: 0.4072 - accuracy: 0.8593 - val_loss: 0.8639 - val_accuracy: 0.7468\n",
            "Epoch 13/30\n",
            "665/665 [==============================] - 5s 8ms/step - loss: 0.3719 - accuracy: 0.8722 - val_loss: 0.5421 - val_accuracy: 0.8197\n",
            "Epoch 14/30\n",
            "665/665 [==============================] - 5s 8ms/step - loss: 0.3362 - accuracy: 0.8853 - val_loss: 0.6849 - val_accuracy: 0.7971\n",
            "Epoch 15/30\n",
            "665/665 [==============================] - 6s 8ms/step - loss: 0.3155 - accuracy: 0.8911 - val_loss: 0.6053 - val_accuracy: 0.8035\n",
            "Epoch 16/30\n",
            "665/665 [==============================] - 5s 8ms/step - loss: 0.2963 - accuracy: 0.8983 - val_loss: 0.6115 - val_accuracy: 0.8148\n",
            "Epoch 17/30\n",
            "665/665 [==============================] - 6s 8ms/step - loss: 0.2734 - accuracy: 0.9054 - val_loss: 0.5752 - val_accuracy: 0.8255\n",
            "Epoch 18/30\n",
            "665/665 [==============================] - 5s 8ms/step - loss: 0.2520 - accuracy: 0.9121 - val_loss: 0.8014 - val_accuracy: 0.7869\n",
            "Epoch 19/30\n",
            "665/665 [==============================] - 5s 8ms/step - loss: 0.2351 - accuracy: 0.9180 - val_loss: 0.6420 - val_accuracy: 0.8092\n",
            "Epoch 20/30\n",
            "665/665 [==============================] - 5s 8ms/step - loss: 0.2211 - accuracy: 0.9241 - val_loss: 0.6209 - val_accuracy: 0.8203\n",
            "Epoch 21/30\n",
            "665/665 [==============================] - 5s 8ms/step - loss: 0.2083 - accuracy: 0.9274 - val_loss: 0.6411 - val_accuracy: 0.8185\n",
            "Epoch 22/30\n",
            "665/665 [==============================] - 5s 8ms/step - loss: 0.2047 - accuracy: 0.9310 - val_loss: 0.6380 - val_accuracy: 0.8229\n",
            "Epoch 23/30\n",
            "665/665 [==============================] - 6s 8ms/step - loss: 0.1837 - accuracy: 0.9365 - val_loss: 0.5947 - val_accuracy: 0.8353\n",
            "Epoch 24/30\n",
            "665/665 [==============================] - 6s 8ms/step - loss: 0.1708 - accuracy: 0.9420 - val_loss: 0.6982 - val_accuracy: 0.8185\n",
            "Epoch 25/30\n",
            "665/665 [==============================] - 6s 8ms/step - loss: 0.1786 - accuracy: 0.9392 - val_loss: 0.7269 - val_accuracy: 0.8029\n",
            "Epoch 26/30\n",
            "665/665 [==============================] - 5s 8ms/step - loss: 0.1543 - accuracy: 0.9466 - val_loss: 0.7321 - val_accuracy: 0.8064\n",
            "Epoch 27/30\n",
            "665/665 [==============================] - 5s 8ms/step - loss: 0.1658 - accuracy: 0.9426 - val_loss: 0.6941 - val_accuracy: 0.8223\n",
            "Epoch 28/30\n",
            "665/665 [==============================] - 6s 8ms/step - loss: 0.1386 - accuracy: 0.9519 - val_loss: 0.8365 - val_accuracy: 0.8081\n",
            "Epoch 29/30\n",
            "665/665 [==============================] - 5s 8ms/step - loss: 0.1589 - accuracy: 0.9458 - val_loss: 0.5876 - val_accuracy: 0.8415\n",
            "Epoch 30/30\n",
            "665/665 [==============================] - 6s 8ms/step - loss: 0.1340 - accuracy: 0.9564 - val_loss: 0.7479 - val_accuracy: 0.8192\n",
            "157/157 [==============================] - 1s 4ms/step - loss: 0.7650 - accuracy: 0.8186\n",
            "#### 테스트 세트로 evaluation 결과 : [0.765016496181488, 0.8185999989509583]\n",
            "##### batch size : 256 학습 #####\n",
            "Epoch 1/30\n",
            "167/167 [==============================] - 4s 20ms/step - loss: 1.8643 - accuracy: 0.3399 - val_loss: 3.7669 - val_accuracy: 0.1307\n",
            "Epoch 2/30\n",
            "167/167 [==============================] - 3s 19ms/step - loss: 1.3667 - accuracy: 0.4991 - val_loss: 3.2420 - val_accuracy: 0.1579\n",
            "Epoch 3/30\n",
            "167/167 [==============================] - 3s 19ms/step - loss: 1.2287 - accuracy: 0.5558 - val_loss: 1.4448 - val_accuracy: 0.4820\n",
            "Epoch 4/30\n",
            "167/167 [==============================] - 3s 19ms/step - loss: 0.9892 - accuracy: 0.6512 - val_loss: 1.8471 - val_accuracy: 0.4433\n",
            "Epoch 5/30\n",
            "167/167 [==============================] - 3s 19ms/step - loss: 0.9301 - accuracy: 0.6677 - val_loss: 0.8336 - val_accuracy: 0.7087\n",
            "Epoch 6/30\n",
            "167/167 [==============================] - 3s 19ms/step - loss: 0.8131 - accuracy: 0.7148 - val_loss: 0.9359 - val_accuracy: 0.6737\n",
            "Epoch 7/30\n",
            "167/167 [==============================] - 3s 18ms/step - loss: 0.7207 - accuracy: 0.7478 - val_loss: 1.0121 - val_accuracy: 0.6623\n",
            "Epoch 8/30\n",
            "167/167 [==============================] - 3s 18ms/step - loss: 0.6845 - accuracy: 0.7594 - val_loss: 0.9406 - val_accuracy: 0.6979\n",
            "Epoch 9/30\n",
            "167/167 [==============================] - 3s 18ms/step - loss: 0.6320 - accuracy: 0.7774 - val_loss: 0.7930 - val_accuracy: 0.7329\n",
            "Epoch 10/30\n",
            "167/167 [==============================] - 3s 19ms/step - loss: 0.5935 - accuracy: 0.7941 - val_loss: 0.6295 - val_accuracy: 0.7849\n",
            "Epoch 11/30\n",
            "167/167 [==============================] - 3s 19ms/step - loss: 0.5293 - accuracy: 0.8156 - val_loss: 0.8637 - val_accuracy: 0.7227\n",
            "Epoch 12/30\n",
            "167/167 [==============================] - 3s 18ms/step - loss: 0.5826 - accuracy: 0.7984 - val_loss: 0.9729 - val_accuracy: 0.6972\n",
            "Epoch 13/30\n",
            "167/167 [==============================] - 3s 19ms/step - loss: 0.4942 - accuracy: 0.8277 - val_loss: 0.6421 - val_accuracy: 0.7857\n",
            "Epoch 14/30\n",
            "167/167 [==============================] - 3s 19ms/step - loss: 0.4421 - accuracy: 0.8463 - val_loss: 0.9115 - val_accuracy: 0.7204\n",
            "Epoch 15/30\n",
            "167/167 [==============================] - 3s 19ms/step - loss: 0.4103 - accuracy: 0.8571 - val_loss: 0.8103 - val_accuracy: 0.7495\n",
            "Epoch 16/30\n",
            "167/167 [==============================] - 3s 19ms/step - loss: 0.4570 - accuracy: 0.8406 - val_loss: 0.7179 - val_accuracy: 0.7656\n",
            "Epoch 17/30\n",
            "167/167 [==============================] - 3s 19ms/step - loss: 0.3899 - accuracy: 0.8638 - val_loss: 0.8465 - val_accuracy: 0.7433\n",
            "Epoch 18/30\n",
            "167/167 [==============================] - 3s 19ms/step - loss: 0.4480 - accuracy: 0.8448 - val_loss: 0.6152 - val_accuracy: 0.7952\n",
            "Epoch 19/30\n",
            "167/167 [==============================] - 3s 18ms/step - loss: 0.3821 - accuracy: 0.8674 - val_loss: 0.7537 - val_accuracy: 0.7736\n",
            "Epoch 20/30\n",
            "167/167 [==============================] - 3s 18ms/step - loss: 0.3385 - accuracy: 0.8825 - val_loss: 0.8848 - val_accuracy: 0.7383\n",
            "Epoch 21/30\n",
            "167/167 [==============================] - 3s 18ms/step - loss: 0.4127 - accuracy: 0.8581 - val_loss: 0.7450 - val_accuracy: 0.7701\n",
            "Epoch 22/30\n",
            "167/167 [==============================] - 3s 18ms/step - loss: 0.3667 - accuracy: 0.8735 - val_loss: 0.6095 - val_accuracy: 0.8060\n",
            "Epoch 23/30\n",
            "167/167 [==============================] - 3s 18ms/step - loss: 0.3062 - accuracy: 0.8942 - val_loss: 0.7340 - val_accuracy: 0.7836\n",
            "Epoch 24/30\n",
            "167/167 [==============================] - 3s 19ms/step - loss: 0.4054 - accuracy: 0.8615 - val_loss: 0.6305 - val_accuracy: 0.7977\n",
            "Epoch 25/30\n",
            "167/167 [==============================] - 3s 18ms/step - loss: 0.3615 - accuracy: 0.8747 - val_loss: 0.6212 - val_accuracy: 0.8057\n",
            "Epoch 26/30\n",
            "167/167 [==============================] - 3s 19ms/step - loss: 0.2511 - accuracy: 0.9118 - val_loss: 0.9490 - val_accuracy: 0.7581\n",
            "Epoch 27/30\n",
            "167/167 [==============================] - 3s 19ms/step - loss: 0.3831 - accuracy: 0.8691 - val_loss: 0.7382 - val_accuracy: 0.7811\n",
            "Epoch 28/30\n",
            "167/167 [==============================] - 3s 18ms/step - loss: 0.2594 - accuracy: 0.9107 - val_loss: 0.7395 - val_accuracy: 0.7819\n",
            "Epoch 29/30\n",
            "167/167 [==============================] - 3s 19ms/step - loss: 0.3569 - accuracy: 0.8763 - val_loss: 0.5507 - val_accuracy: 0.8315\n",
            "Epoch 30/30\n",
            "167/167 [==============================] - 3s 19ms/step - loss: 0.2214 - accuracy: 0.9215 - val_loss: 0.5755 - val_accuracy: 0.8295\n",
            "40/40 [==============================] - 0s 7ms/step - loss: 0.6105 - accuracy: 0.8202\n",
            "#### 테스트 세트로 evaluation 결과 : [0.6104903817176819, 0.8202000260353088]\n",
            "##### batch size : 512 학습 #####\n",
            "Epoch 1/30\n",
            "84/84 [==============================] - 4s 36ms/step - loss: 1.8983 - accuracy: 0.3266 - val_loss: 2.8020 - val_accuracy: 0.1025\n",
            "Epoch 2/30\n",
            "84/84 [==============================] - 3s 33ms/step - loss: 1.4589 - accuracy: 0.4621 - val_loss: 3.0692 - val_accuracy: 0.1045\n",
            "Epoch 3/30\n",
            "84/84 [==============================] - 3s 33ms/step - loss: 1.3297 - accuracy: 0.5173 - val_loss: 3.6008 - val_accuracy: 0.1044\n",
            "Epoch 4/30\n",
            "84/84 [==============================] - 3s 33ms/step - loss: 1.1228 - accuracy: 0.5988 - val_loss: 2.6472 - val_accuracy: 0.2375\n",
            "Epoch 5/30\n",
            "84/84 [==============================] - 3s 35ms/step - loss: 1.0711 - accuracy: 0.6185 - val_loss: 2.1016 - val_accuracy: 0.3461\n",
            "Epoch 6/30\n",
            "84/84 [==============================] - 3s 33ms/step - loss: 0.9758 - accuracy: 0.6523 - val_loss: 1.1974 - val_accuracy: 0.5680\n",
            "Epoch 7/30\n",
            "84/84 [==============================] - 3s 33ms/step - loss: 0.8485 - accuracy: 0.7011 - val_loss: 1.1295 - val_accuracy: 0.6279\n",
            "Epoch 8/30\n",
            "84/84 [==============================] - 3s 33ms/step - loss: 0.8446 - accuracy: 0.7032 - val_loss: 1.0530 - val_accuracy: 0.6555\n",
            "Epoch 9/30\n",
            "84/84 [==============================] - 3s 33ms/step - loss: 0.7698 - accuracy: 0.7275 - val_loss: 1.1286 - val_accuracy: 0.6296\n",
            "Epoch 10/30\n",
            "84/84 [==============================] - 3s 33ms/step - loss: 0.8937 - accuracy: 0.6856 - val_loss: 0.8994 - val_accuracy: 0.6884\n",
            "Epoch 11/30\n",
            "84/84 [==============================] - 3s 33ms/step - loss: 0.6987 - accuracy: 0.7532 - val_loss: 1.4136 - val_accuracy: 0.5757\n",
            "Epoch 12/30\n",
            "84/84 [==============================] - 3s 33ms/step - loss: 0.7560 - accuracy: 0.7348 - val_loss: 0.8167 - val_accuracy: 0.7149\n",
            "Epoch 13/30\n",
            "84/84 [==============================] - 3s 34ms/step - loss: 0.7449 - accuracy: 0.7390 - val_loss: 0.8475 - val_accuracy: 0.7073\n",
            "Epoch 14/30\n",
            "84/84 [==============================] - 3s 33ms/step - loss: 0.6525 - accuracy: 0.7693 - val_loss: 0.6370 - val_accuracy: 0.7737\n",
            "Epoch 15/30\n",
            "84/84 [==============================] - 3s 33ms/step - loss: 0.5814 - accuracy: 0.7947 - val_loss: 0.8294 - val_accuracy: 0.7163\n",
            "Epoch 16/30\n",
            "84/84 [==============================] - 3s 33ms/step - loss: 0.7269 - accuracy: 0.7482 - val_loss: 0.6786 - val_accuracy: 0.7677\n",
            "Epoch 17/30\n",
            "84/84 [==============================] - 3s 33ms/step - loss: 0.6218 - accuracy: 0.7830 - val_loss: 0.8707 - val_accuracy: 0.7092\n",
            "Epoch 18/30\n",
            "84/84 [==============================] - 3s 33ms/step - loss: 0.6257 - accuracy: 0.7802 - val_loss: 0.6670 - val_accuracy: 0.7728\n",
            "Epoch 19/30\n",
            "84/84 [==============================] - 3s 33ms/step - loss: 0.5520 - accuracy: 0.8080 - val_loss: 0.6820 - val_accuracy: 0.7720\n",
            "Epoch 20/30\n",
            "84/84 [==============================] - 3s 33ms/step - loss: 0.5543 - accuracy: 0.8070 - val_loss: 0.6690 - val_accuracy: 0.7605\n",
            "Epoch 21/30\n",
            "84/84 [==============================] - 3s 33ms/step - loss: 0.5656 - accuracy: 0.8008 - val_loss: 0.8569 - val_accuracy: 0.7193\n",
            "Epoch 22/30\n",
            "84/84 [==============================] - 3s 33ms/step - loss: 0.5587 - accuracy: 0.8056 - val_loss: 0.8164 - val_accuracy: 0.7385\n",
            "Epoch 23/30\n",
            "84/84 [==============================] - 3s 33ms/step - loss: 0.4780 - accuracy: 0.8328 - val_loss: 0.5632 - val_accuracy: 0.8097\n",
            "Epoch 24/30\n",
            "84/84 [==============================] - 3s 33ms/step - loss: 0.4327 - accuracy: 0.8481 - val_loss: 0.7586 - val_accuracy: 0.7549\n",
            "Epoch 25/30\n",
            "84/84 [==============================] - 3s 33ms/step - loss: 0.4715 - accuracy: 0.8340 - val_loss: 0.6401 - val_accuracy: 0.7859\n",
            "Epoch 26/30\n",
            "84/84 [==============================] - 3s 33ms/step - loss: 0.3821 - accuracy: 0.8642 - val_loss: 0.7059 - val_accuracy: 0.7689\n",
            "Epoch 27/30\n",
            "84/84 [==============================] - 3s 33ms/step - loss: 0.5540 - accuracy: 0.8086 - val_loss: 0.6007 - val_accuracy: 0.7999\n",
            "Epoch 28/30\n",
            "84/84 [==============================] - 3s 33ms/step - loss: 0.4076 - accuracy: 0.8574 - val_loss: 0.9118 - val_accuracy: 0.7301\n",
            "Epoch 29/30\n",
            "84/84 [==============================] - 3s 33ms/step - loss: 0.5338 - accuracy: 0.8136 - val_loss: 0.8741 - val_accuracy: 0.7353\n",
            "Epoch 30/30\n",
            "84/84 [==============================] - 3s 33ms/step - loss: 0.4928 - accuracy: 0.8289 - val_loss: 0.5956 - val_accuracy: 0.8052\n",
            "20/20 [==============================] - 0s 16ms/step - loss: 0.6213 - accuracy: 0.7924\n",
            "#### 테스트 세트로 evaluation 결과 : [0.6213474869728088, 0.7924000024795532]\n"
          ]
        }
      ]
    },
    {
      "cell_type": "code",
      "source": [
        "import matplotlib.pyplot as plt\n",
        "%matplotlib inline\n",
        "\n",
        "def show_history_batch(histories):\n",
        "    figure, axs = plt.subplots(nrows=1, ncols=2, figsize=(16, 4))  \n",
        "    # batch 크기별 validation accuracy 비교 \n",
        "    axs[0].plot(histories[0].history['val_accuracy'], label='batch 32 acc')\n",
        "    axs[0].plot(histories[1].history['val_accuracy'], label='batch 64 acc')\n",
        "    axs[0].plot(histories[2].history['val_accuracy'], label='batch 256 acc')\n",
        "    axs[0].plot(histories[3].history['val_accuracy'], label='batch 512 acc')\n",
        "    \n",
        "    # batch 크기별 validation loss 비교\n",
        "    axs[1].plot(histories[0].history['val_loss'], label='batch 32 loss')\n",
        "    axs[1].plot(histories[1].history['val_loss'], label='batch 64 loss')\n",
        "    axs[1].plot(histories[2].history['val_loss'], label='batch 256 loss')\n",
        "    axs[1].plot(histories[3].history['val_loss'], label='batch 512 loss')\n",
        "    \n",
        "    axs[0].legend()\n",
        "    axs[1].legend()\n",
        "\n",
        "show_history_batch(histories)"
      ],
      "metadata": {
        "trusted": true,
        "id": "kT59QJlJOQAa"
      },
      "execution_count": null,
      "outputs": []
    },
    {
      "cell_type": "code",
      "source": [
        ""
      ],
      "metadata": {
        "trusted": true,
        "id": "5d9kedUiOQAa"
      },
      "execution_count": null,
      "outputs": []
    }
  ]
}