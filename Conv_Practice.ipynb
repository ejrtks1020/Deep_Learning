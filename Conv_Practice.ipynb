{
  "cells": [
    {
      "cell_type": "markdown",
      "metadata": {
        "id": "view-in-github",
        "colab_type": "text"
      },
      "source": [
        "<a href=\"https://colab.research.google.com/github/ejrtks1020/Deep_Learning/blob/main/Conv_Practice.ipynb\" target=\"_parent\"><img src=\"https://colab.research.google.com/assets/colab-badge.svg\" alt=\"Open In Colab\"/></a>"
      ]
    },
    {
      "metadata": {
        "_uuid": "8f2839f25d086af736a60e9eeb907d3b93b6e0e5",
        "_cell_guid": "b1076dfc-b9ad-4769-8c92-a6c4dae69d19",
        "trusted": true,
        "id": "_XDv4ezQdMvB"
      },
      "cell_type": "code",
      "source": [
        "import numpy as np # linear algebra\n",
        "import pandas as pd # data processing, CSV file I/O (e.g. pd.read_csv)\n",
        "import os"
      ],
      "execution_count": null,
      "outputs": []
    },
    {
      "metadata": {
        "id": "e1u0cDkidMvF"
      },
      "cell_type": "markdown",
      "source": [
        "### Conv2D 적용하기\n",
        "* Conv2D() 를 모델에 적용 시에는 반드시 입력은 배치 크기를 제외하고 3차원이 되어야 함(즉 배치를 포함하면 4차원)  "
      ]
    },
    {
      "metadata": {
        "trusted": true,
        "colab": {
          "base_uri": "https://localhost:8080/"
        },
        "id": "1tGNQdOtdMvG",
        "outputId": "9da0e1e0-be2d-45d3-93e5-f7c46a2d22ff"
      },
      "cell_type": "code",
      "source": [
        "from tensorflow.keras.layers import Input, Conv2D, MaxPooling2D\n",
        "from tensorflow.keras.models import Model\n",
        "\n",
        "input_tensor = Input(shape=(28, 28, 1))\n",
        "x = Conv2D(filters=4, kernel_size=3, strides=1, padding='same', activation='relu')(input_tensor)\n",
        "print('x type:', type(x), 'x:', x)"
      ],
      "execution_count": null,
      "outputs": [
        {
          "output_type": "stream",
          "name": "stdout",
          "text": [
            "x type: <class 'keras.engine.keras_tensor.KerasTensor'> x: KerasTensor(type_spec=TensorSpec(shape=(None, 28, 28, 4), dtype=tf.float32, name=None), name='conv2d/Relu:0', description=\"created by layer 'conv2d'\")\n"
          ]
        }
      ]
    },
    {
      "metadata": {
        "id": "PCOX1fZkdMvH"
      },
      "cell_type": "markdown",
      "source": [
        "### Pooling 적용하기"
      ]
    },
    {
      "metadata": {
        "trusted": true,
        "colab": {
          "base_uri": "https://localhost:8080/"
        },
        "id": "wpmcmx-fdMvI",
        "outputId": "53e33125-0de9-4064-9acb-4773964fc85d"
      },
      "cell_type": "code",
      "source": [
        "input_tensor = Input(shape=(28, 28, 1))\n",
        "x = Conv2D(filters=16, kernel_size=3, strides=1, padding='same', activation='relu')(input_tensor)\n",
        "x = MaxPooling2D(2)(x)\n",
        "print(x)"
      ],
      "execution_count": null,
      "outputs": [
        {
          "output_type": "stream",
          "name": "stdout",
          "text": [
            "KerasTensor(type_spec=TensorSpec(shape=(None, 14, 14, 16), dtype=tf.float32, name=None), name='max_pooling2d/MaxPool:0', description=\"created by layer 'max_pooling2d'\")\n"
          ]
        }
      ]
    },
    {
      "metadata": {
        "id": "OB-V02D0dMvJ"
      },
      "cell_type": "markdown",
      "source": [
        "### CNN 모델 생성"
      ]
    },
    {
      "metadata": {
        "trusted": true,
        "colab": {
          "base_uri": "https://localhost:8080/"
        },
        "id": "4p5DaftAdMvJ",
        "outputId": "b7e8fdd9-aeae-4949-d593-c9a665168e70"
      },
      "cell_type": "code",
      "source": [
        "input_tensor = Input(shape=(28, 28, 1))\n",
        "x = Conv2D(filters=32, kernel_size=3, strides=1, padding='same', activation='relu')(input_tensor)\n",
        "x = Conv2D(filters=64, kernel_size=3, activation='relu')(x)\n",
        "x = MaxPooling2D(2)(x)\n",
        "\n",
        "model = Model(inputs=input_tensor, outputs=x)\n",
        "model.summary()"
      ],
      "execution_count": null,
      "outputs": [
        {
          "output_type": "stream",
          "name": "stdout",
          "text": [
            "Model: \"model\"\n",
            "_________________________________________________________________\n",
            " Layer (type)                Output Shape              Param #   \n",
            "=================================================================\n",
            " input_3 (InputLayer)        [(None, 28, 28, 1)]       0         \n",
            "                                                                 \n",
            " conv2d_2 (Conv2D)           (None, 28, 28, 32)        320       \n",
            "                                                                 \n",
            " conv2d_3 (Conv2D)           (None, 26, 26, 64)        18496     \n",
            "                                                                 \n",
            " max_pooling2d_1 (MaxPooling  (None, 13, 13, 64)       0         \n",
            " 2D)                                                             \n",
            "                                                                 \n",
            "=================================================================\n",
            "Total params: 18,816\n",
            "Trainable params: 18,816\n",
            "Non-trainable params: 0\n",
            "_________________________________________________________________\n"
          ]
        }
      ]
    },
    {
      "metadata": {
        "trusted": true,
        "colab": {
          "base_uri": "https://localhost:8080/"
        },
        "id": "N649o7MgdMvK",
        "outputId": "9a1dbba1-cfc5-49af-f7b1-a1cbc232f0dd"
      },
      "cell_type": "code",
      "source": [
        "from tensorflow.keras.layers import Dense, Flatten\n",
        "\n",
        "input_tensor = Input(shape=(28, 28, 1))\n",
        "x = Conv2D(filters=32, kernel_size=3, strides=1, padding='same', activation='relu')(input_tensor)\n",
        "x = Conv2D(filters=64, kernel_size=3, activation='relu')(x)\n",
        "x = MaxPooling2D(2)(x)\n",
        "\n",
        "# 3차원으로 되어있는 Feature map 결과를 Fully Connected 연결하기 위해서는 Flatten()을 적용해야함. \n",
        "x = Flatten()(x)\n",
        "x = Dense(100, activation='relu')(x)\n",
        "output = Dense(10, activation='softmax')(x)\n",
        "model = Model(inputs=input_tensor, outputs=output)\n",
        "model.summary()\n",
        "\n"
      ],
      "execution_count": null,
      "outputs": [
        {
          "output_type": "stream",
          "name": "stdout",
          "text": [
            "Model: \"model_1\"\n",
            "_________________________________________________________________\n",
            " Layer (type)                Output Shape              Param #   \n",
            "=================================================================\n",
            " input_4 (InputLayer)        [(None, 28, 28, 1)]       0         \n",
            "                                                                 \n",
            " conv2d_4 (Conv2D)           (None, 28, 28, 32)        320       \n",
            "                                                                 \n",
            " conv2d_5 (Conv2D)           (None, 26, 26, 64)        18496     \n",
            "                                                                 \n",
            " max_pooling2d_2 (MaxPooling  (None, 13, 13, 64)       0         \n",
            " 2D)                                                             \n",
            "                                                                 \n",
            " flatten (Flatten)           (None, 10816)             0         \n",
            "                                                                 \n",
            " dense (Dense)               (None, 100)               1081700   \n",
            "                                                                 \n",
            " dense_1 (Dense)             (None, 10)                1010      \n",
            "                                                                 \n",
            "=================================================================\n",
            "Total params: 1,101,526\n",
            "Trainable params: 1,101,526\n",
            "Non-trainable params: 0\n",
            "_________________________________________________________________\n"
          ]
        }
      ]
    },
    {
      "metadata": {
        "id": "Y0kllx4gdMvL"
      },
      "cell_type": "markdown",
      "source": [
        "### Fashion MNIST 데이터 전처리후 모델 학습"
      ]
    },
    {
      "metadata": {
        "trusted": true,
        "colab": {
          "base_uri": "https://localhost:8080/"
        },
        "id": "uhjNPQHHdMvM",
        "outputId": "3a15977c-8aa2-4f07-e89e-980326bbb64c"
      },
      "cell_type": "code",
      "source": [
        "from tensorflow.keras.datasets import fashion_mnist\n",
        "import numpy as np\n",
        "from tensorflow.keras.utils import to_categorical\n",
        "from sklearn.model_selection import train_test_split\n",
        "\n",
        "# 전체 6만개 데이터 중, 5만개는 학습 데이터용, 1만개는 테스트 데이터용으로 분리\n",
        "(train_images, train_labels), (test_images, test_labels) = fashion_mnist.load_data()\n",
        "\n",
        "def get_preprocessed_data(images, labels):\n",
        "    \n",
        "    # 학습과 테스트 이미지 array를 0~1 사이값으로 scale 및 float32 형 변형. \n",
        "    images = np.array(images/255.0, dtype=np.float32)\n",
        "    labels = np.array(labels, dtype=np.float32)\n",
        "    \n",
        "    return images, labels\n",
        "\n",
        "# 0 ~ 1사이값 float32로 변경하는 함수 호출 한 뒤 OHE 적용 \n",
        "def get_preprocessed_ohe(images, labels):\n",
        "    images, labels = get_preprocessed_data(images, labels)\n",
        "    # OHE 적용 \n",
        "    oh_labels = to_categorical(labels)\n",
        "    return images, oh_labels\n",
        "\n",
        "# 학습/검증/테스트 데이터 세트에 전처리 및 OHE 적용한 뒤 반환 \n",
        "def get_train_valid_test_set(train_images, train_labels, test_images, test_labels, valid_size=0.15, random_state=2021):\n",
        "    # 학습 및 테스트 데이터 세트를  0 ~ 1사이값 float32로 변경 및 OHE 적용. \n",
        "    train_images, train_oh_labels = get_preprocessed_ohe(train_images, train_labels)\n",
        "    test_images, test_oh_labels = get_preprocessed_ohe(test_images, test_labels)\n",
        "    \n",
        "    # 학습 데이터를 검증 데이터 세트로 다시 분리\n",
        "    tr_images, val_images, tr_oh_labels, val_oh_labels = train_test_split(train_images, train_oh_labels, test_size=valid_size, random_state=random_state)\n",
        "    \n",
        "    return (tr_images, tr_oh_labels), (val_images, val_oh_labels), (test_images, test_oh_labels ) \n",
        "\n",
        "\n",
        "# Fashion MNIST 데이터 재 로딩 및 전처리 적용하여 학습/검증/데이터 세트 생성. \n",
        "\n",
        "(train_images, train_labels), (test_images, test_labels) = fashion_mnist.load_data()\n",
        "print(train_images.shape, train_labels.shape, test_images.shape, test_labels.shape)\n",
        "(tr_images, tr_oh_labels), (val_images, val_oh_labels), (test_images, test_oh_labels) = \\\n",
        "    get_train_valid_test_set(train_images, train_labels, test_images, test_labels, valid_size=0.15, random_state=2021)\n",
        "print(tr_images.shape, tr_oh_labels.shape, val_images.shape, val_oh_labels.shape, test_images.shape, test_labels.shape)"
      ],
      "execution_count": null,
      "outputs": [
        {
          "output_type": "stream",
          "name": "stdout",
          "text": [
            "Downloading data from https://storage.googleapis.com/tensorflow/tf-keras-datasets/train-labels-idx1-ubyte.gz\n",
            "32768/29515 [=================================] - 0s 0us/step\n",
            "40960/29515 [=========================================] - 0s 0us/step\n",
            "Downloading data from https://storage.googleapis.com/tensorflow/tf-keras-datasets/train-images-idx3-ubyte.gz\n",
            "26427392/26421880 [==============================] - 0s 0us/step\n",
            "26435584/26421880 [==============================] - 0s 0us/step\n",
            "Downloading data from https://storage.googleapis.com/tensorflow/tf-keras-datasets/t10k-labels-idx1-ubyte.gz\n",
            "16384/5148 [===============================================================================================] - 0s 0us/step\n",
            "Downloading data from https://storage.googleapis.com/tensorflow/tf-keras-datasets/t10k-images-idx3-ubyte.gz\n",
            "4423680/4422102 [==============================] - 0s 0us/step\n",
            "4431872/4422102 [==============================] - 0s 0us/step\n",
            "(60000, 28, 28) (60000,) (10000, 28, 28) (10000,)\n",
            "(51000, 28, 28) (51000, 10) (9000, 28, 28) (9000, 10) (10000, 28, 28) (10000,)\n"
          ]
        }
      ]
    },
    {
      "metadata": {
        "trusted": true,
        "id": "YYtZo7pcdMvN"
      },
      "cell_type": "code",
      "source": [
        "from tensorflow.keras.utils import to_categorical\n",
        "from tensorflow.keras.optimizers import Adam\n",
        "from tensorflow.keras.losses import CategoricalCrossentropy\n",
        "from tensorflow.keras.metrics import Accuracy\n",
        "\n",
        "model.compile(optimizer=Adam(0.001), loss='categorical_crossentropy', metrics=['accuracy'])"
      ],
      "execution_count": null,
      "outputs": []
    },
    {
      "metadata": {
        "trusted": true,
        "colab": {
          "base_uri": "https://localhost:8080/"
        },
        "id": "TPzWimiQdMvN",
        "outputId": "e200e0eb-0bca-47a9-ddd5-a9e2c8d291f8"
      },
      "cell_type": "code",
      "source": [
        "history = model.fit(x=tr_images, y=tr_oh_labels, batch_size=128, epochs=30, validation_data=(val_images, val_oh_labels))"
      ],
      "execution_count": null,
      "outputs": [
        {
          "output_type": "stream",
          "name": "stdout",
          "text": [
            "Epoch 1/30\n",
            "399/399 [==============================] - 16s 10ms/step - loss: 0.4482 - accuracy: 0.8406 - val_loss: 0.3148 - val_accuracy: 0.8907\n",
            "Epoch 2/30\n",
            "399/399 [==============================] - 4s 9ms/step - loss: 0.2770 - accuracy: 0.9016 - val_loss: 0.2637 - val_accuracy: 0.9031\n",
            "Epoch 3/30\n",
            "399/399 [==============================] - 4s 9ms/step - loss: 0.2231 - accuracy: 0.9195 - val_loss: 0.2348 - val_accuracy: 0.9148\n",
            "Epoch 4/30\n",
            "399/399 [==============================] - 4s 9ms/step - loss: 0.1875 - accuracy: 0.9313 - val_loss: 0.2439 - val_accuracy: 0.9130\n",
            "Epoch 5/30\n",
            "399/399 [==============================] - 4s 9ms/step - loss: 0.1609 - accuracy: 0.9408 - val_loss: 0.2202 - val_accuracy: 0.9244\n",
            "Epoch 6/30\n",
            "399/399 [==============================] - 4s 9ms/step - loss: 0.1301 - accuracy: 0.9526 - val_loss: 0.2299 - val_accuracy: 0.9224\n",
            "Epoch 7/30\n",
            "399/399 [==============================] - 4s 9ms/step - loss: 0.1095 - accuracy: 0.9601 - val_loss: 0.2429 - val_accuracy: 0.9208\n",
            "Epoch 8/30\n",
            "399/399 [==============================] - 4s 9ms/step - loss: 0.0893 - accuracy: 0.9678 - val_loss: 0.2416 - val_accuracy: 0.9261\n",
            "Epoch 9/30\n",
            "399/399 [==============================] - 4s 9ms/step - loss: 0.0696 - accuracy: 0.9750 - val_loss: 0.2575 - val_accuracy: 0.9234\n",
            "Epoch 10/30\n",
            "399/399 [==============================] - 4s 9ms/step - loss: 0.0526 - accuracy: 0.9813 - val_loss: 0.2879 - val_accuracy: 0.9219\n",
            "Epoch 11/30\n",
            "399/399 [==============================] - 4s 9ms/step - loss: 0.0432 - accuracy: 0.9845 - val_loss: 0.2875 - val_accuracy: 0.9287\n",
            "Epoch 12/30\n",
            "399/399 [==============================] - 4s 9ms/step - loss: 0.0386 - accuracy: 0.9870 - val_loss: 0.3193 - val_accuracy: 0.9241\n",
            "Epoch 13/30\n",
            "399/399 [==============================] - 4s 9ms/step - loss: 0.0279 - accuracy: 0.9906 - val_loss: 0.3368 - val_accuracy: 0.9214\n",
            "Epoch 14/30\n",
            "399/399 [==============================] - 4s 9ms/step - loss: 0.0257 - accuracy: 0.9914 - val_loss: 0.3686 - val_accuracy: 0.9230\n",
            "Epoch 15/30\n",
            "399/399 [==============================] - 4s 9ms/step - loss: 0.0178 - accuracy: 0.9946 - val_loss: 0.4043 - val_accuracy: 0.9246\n",
            "Epoch 16/30\n",
            "399/399 [==============================] - 4s 9ms/step - loss: 0.0167 - accuracy: 0.9942 - val_loss: 0.3983 - val_accuracy: 0.9242\n",
            "Epoch 17/30\n",
            "399/399 [==============================] - 4s 9ms/step - loss: 0.0179 - accuracy: 0.9939 - val_loss: 0.4188 - val_accuracy: 0.9234\n",
            "Epoch 18/30\n",
            "399/399 [==============================] - 4s 9ms/step - loss: 0.0136 - accuracy: 0.9955 - val_loss: 0.4645 - val_accuracy: 0.9174\n",
            "Epoch 19/30\n",
            "399/399 [==============================] - 4s 9ms/step - loss: 0.0149 - accuracy: 0.9949 - val_loss: 0.4250 - val_accuracy: 0.9227\n",
            "Epoch 20/30\n",
            "399/399 [==============================] - 4s 9ms/step - loss: 0.0098 - accuracy: 0.9968 - val_loss: 0.4959 - val_accuracy: 0.9199\n",
            "Epoch 21/30\n",
            "399/399 [==============================] - 4s 9ms/step - loss: 0.0126 - accuracy: 0.9956 - val_loss: 0.4758 - val_accuracy: 0.9224\n",
            "Epoch 22/30\n",
            "399/399 [==============================] - 4s 9ms/step - loss: 0.0150 - accuracy: 0.9950 - val_loss: 0.5083 - val_accuracy: 0.9166\n",
            "Epoch 23/30\n",
            "399/399 [==============================] - 4s 9ms/step - loss: 0.0150 - accuracy: 0.9949 - val_loss: 0.4705 - val_accuracy: 0.9237\n",
            "Epoch 24/30\n",
            "399/399 [==============================] - 4s 9ms/step - loss: 0.0066 - accuracy: 0.9979 - val_loss: 0.5125 - val_accuracy: 0.9236\n",
            "Epoch 25/30\n",
            "399/399 [==============================] - 5s 12ms/step - loss: 0.0077 - accuracy: 0.9975 - val_loss: 0.5121 - val_accuracy: 0.9240\n",
            "Epoch 26/30\n",
            "399/399 [==============================] - 4s 9ms/step - loss: 0.0065 - accuracy: 0.9978 - val_loss: 0.5125 - val_accuracy: 0.9210\n",
            "Epoch 27/30\n",
            "399/399 [==============================] - 4s 9ms/step - loss: 0.0095 - accuracy: 0.9967 - val_loss: 0.5054 - val_accuracy: 0.9228\n",
            "Epoch 28/30\n",
            "399/399 [==============================] - 4s 9ms/step - loss: 0.0118 - accuracy: 0.9959 - val_loss: 0.5257 - val_accuracy: 0.9203\n",
            "Epoch 29/30\n",
            "399/399 [==============================] - 4s 9ms/step - loss: 0.0066 - accuracy: 0.9979 - val_loss: 0.5632 - val_accuracy: 0.9179\n",
            "Epoch 30/30\n",
            "399/399 [==============================] - 4s 9ms/step - loss: 0.0113 - accuracy: 0.9964 - val_loss: 0.5228 - val_accuracy: 0.9234\n"
          ]
        }
      ]
    },
    {
      "metadata": {
        "id": "v5D8RjJ0dMvN"
      },
      "cell_type": "markdown",
      "source": [
        "### 모델 성능 평가"
      ]
    },
    {
      "metadata": {
        "trusted": true,
        "colab": {
          "base_uri": "https://localhost:8080/",
          "height": 265
        },
        "id": "qlWHR3qJdMvO",
        "outputId": "d36e1be8-a8cb-4534-bd00-d7b833a25a39"
      },
      "cell_type": "code",
      "source": [
        "import matplotlib.pyplot as plt\n",
        "%matplotlib inline\n",
        "\n",
        "def show_history(history):\n",
        "    plt.plot(history.history['accuracy'], label='train')\n",
        "    plt.plot(history.history['val_accuracy'], label='valid')\n",
        "    plt.legend()\n",
        "    \n",
        "show_history(history)"
      ],
      "execution_count": null,
      "outputs": [
        {
          "output_type": "display_data",
          "data": {
            "image/png": "[encoded data removed]",
            "text/plain": [
              "<Figure size 432x288 with 1 Axes>"
            ]
          },
          "metadata": {
            "needs_background": "light"
          }
        }
      ]
    },
    {
      "metadata": {
        "trusted": true,
        "colab": {
          "base_uri": "https://localhost:8080/"
        },
        "id": "TxH2-aVIdMvO",
        "outputId": "603727aa-9a97-4df1-dc02-8ef68035187d"
      },
      "cell_type": "code",
      "source": [
        "# 테스트 데이터 세트로 모델 성능 검증\n",
        "model.evaluate(test_images, test_oh_labels, batch_size=256, verbose=1)"
      ],
      "execution_count": null,
      "outputs": [
        {
          "output_type": "stream",
          "name": "stdout",
          "text": [
            "40/40 [==============================] - 0s 7ms/step - loss: 0.5477 - accuracy: 0.9212\n"
          ]
        },
        {
          "output_type": "execute_result",
          "data": {
            "text/plain": [
              "[0.5477200150489807, 0.9211999773979187]"
            ]
          },
          "metadata": {},
          "execution_count": 10
        }
      ]
    },
    {
      "metadata": {
        "id": "l1lu0RiadMvO"
      },
      "cell_type": "markdown",
      "source": [
        "### Dropout을 적용하여 Fully Connected Layer의 오버피팅 조정\n",
        "* CNN은 일반적으로 Dense Layer보다는 파라미터수(weight 수) 작음\n",
        "* 하지만 많은 Filter 들을 적용하고 이를  Fully Connected Layer로 연결 시 파라미터 수가 늘어남. \n",
        "* Flatten() 이후 Dropout을 적용하여 특정 비율로 FC Layer 연결을 누락 적용. "
      ]
    },
    {
      "metadata": {
        "trusted": true,
        "colab": {
          "base_uri": "https://localhost:8080/"
        },
        "id": "holXg-HVdMvP",
        "outputId": "cda0bd5a-abb4-447a-f18f-5b3a43aa22e8"
      },
      "cell_type": "code",
      "source": [
        "from tensorflow.keras.layers import Dense, Flatten, Dropout\n",
        "\n",
        "input_tensor = Input(shape=(28, 28, 1))\n",
        "x = Conv2D(filters=32, kernel_size=3, strides=1, padding='same', activation='relu')(input_tensor)\n",
        "x = Conv2D(filters=64, kernel_size=3, activation='relu')(x)\n",
        "x = MaxPooling2D(2)(x)\n",
        "\n",
        "x = Flatten()(x)\n",
        "x = Dropout(rate=0.5)(x)\n",
        "x = Dense(100, activation='relu')(x)\n",
        "output = Dense(10, activation='softmax')(x)\n",
        "model = Model(inputs=input_tensor, outputs=output)\n",
        "model.summary()"
      ],
      "execution_count": null,
      "outputs": [
        {
          "output_type": "stream",
          "name": "stdout",
          "text": [
            "Model: \"model_2\"\n",
            "_________________________________________________________________\n",
            " Layer (type)                Output Shape              Param #   \n",
            "=================================================================\n",
            " input_5 (InputLayer)        [(None, 28, 28, 1)]       0         \n",
            "                                                                 \n",
            " conv2d_6 (Conv2D)           (None, 28, 28, 32)        320       \n",
            "                                                                 \n",
            " conv2d_7 (Conv2D)           (None, 26, 26, 64)        18496     \n",
            "                                                                 \n",
            " max_pooling2d_3 (MaxPooling  (None, 13, 13, 64)       0         \n",
            " 2D)                                                             \n",
            "                                                                 \n",
            " flatten_1 (Flatten)         (None, 10816)             0         \n",
            "                                                                 \n",
            " dropout (Dropout)           (None, 10816)             0         \n",
            "                                                                 \n",
            " dense_2 (Dense)             (None, 100)               1081700   \n",
            "                                                                 \n",
            " dense_3 (Dense)             (None, 10)                1010      \n",
            "                                                                 \n",
            "=================================================================\n",
            "Total params: 1,101,526\n",
            "Trainable params: 1,101,526\n",
            "Non-trainable params: 0\n",
            "_________________________________________________________________\n"
          ]
        }
      ]
    },
    {
      "metadata": {
        "trusted": true,
        "colab": {
          "base_uri": "https://localhost:8080/"
        },
        "id": "Cvo-G0SndMvP",
        "outputId": "cda61e7e-c4be-4fd6-f3b6-40819f14b359"
      },
      "cell_type": "code",
      "source": [
        "model.compile(optimizer=Adam(0.001), loss='categorical_crossentropy', metrics=['accuracy'])\n",
        "history = model.fit(x=tr_images, y=tr_oh_labels, batch_size=128, epochs=30, validation_data=(val_images, val_oh_labels))"
      ],
      "execution_count": null,
      "outputs": [
        {
          "output_type": "stream",
          "name": "stdout",
          "text": [
            "Epoch 1/30\n",
            "399/399 [==============================] - 4s 10ms/step - loss: 0.4482 - accuracy: 0.8391 - val_loss: 0.3133 - val_accuracy: 0.8896\n",
            "Epoch 2/30\n",
            "399/399 [==============================] - 4s 10ms/step - loss: 0.2983 - accuracy: 0.8928 - val_loss: 0.2685 - val_accuracy: 0.9040\n",
            "Epoch 3/30\n",
            "399/399 [==============================] - 4s 9ms/step - loss: 0.2543 - accuracy: 0.9073 - val_loss: 0.2392 - val_accuracy: 0.9130\n",
            "Epoch 4/30\n",
            "399/399 [==============================] - 4s 9ms/step - loss: 0.2212 - accuracy: 0.9188 - val_loss: 0.2456 - val_accuracy: 0.9083\n",
            "Epoch 5/30\n",
            "399/399 [==============================] - 4s 9ms/step - loss: 0.1947 - accuracy: 0.9272 - val_loss: 0.2203 - val_accuracy: 0.9194\n",
            "Epoch 6/30\n",
            "399/399 [==============================] - 4s 10ms/step - loss: 0.1754 - accuracy: 0.9352 - val_loss: 0.2069 - val_accuracy: 0.9276\n",
            "Epoch 7/30\n",
            "399/399 [==============================] - 4s 9ms/step - loss: 0.1579 - accuracy: 0.9413 - val_loss: 0.2044 - val_accuracy: 0.9261\n",
            "Epoch 8/30\n",
            "399/399 [==============================] - 4s 10ms/step - loss: 0.1430 - accuracy: 0.9465 - val_loss: 0.2088 - val_accuracy: 0.9287\n",
            "Epoch 9/30\n",
            "399/399 [==============================] - 4s 10ms/step - loss: 0.1276 - accuracy: 0.9503 - val_loss: 0.2052 - val_accuracy: 0.9297\n",
            "Epoch 10/30\n",
            "399/399 [==============================] - 4s 10ms/step - loss: 0.1164 - accuracy: 0.9562 - val_loss: 0.2013 - val_accuracy: 0.9324\n",
            "Epoch 11/30\n",
            "399/399 [==============================] - 4s 10ms/step - loss: 0.1041 - accuracy: 0.9606 - val_loss: 0.2099 - val_accuracy: 0.9339\n",
            "Epoch 12/30\n",
            "399/399 [==============================] - 4s 10ms/step - loss: 0.0961 - accuracy: 0.9641 - val_loss: 0.2108 - val_accuracy: 0.9309\n",
            "Epoch 13/30\n",
            "399/399 [==============================] - 4s 10ms/step - loss: 0.0866 - accuracy: 0.9675 - val_loss: 0.2237 - val_accuracy: 0.9274\n",
            "Epoch 14/30\n",
            "399/399 [==============================] - 4s 10ms/step - loss: 0.0808 - accuracy: 0.9692 - val_loss: 0.2215 - val_accuracy: 0.9332\n",
            "Epoch 15/30\n",
            "399/399 [==============================] - 4s 10ms/step - loss: 0.0708 - accuracy: 0.9736 - val_loss: 0.2341 - val_accuracy: 0.9299\n",
            "Epoch 16/30\n",
            "399/399 [==============================] - 4s 10ms/step - loss: 0.0634 - accuracy: 0.9764 - val_loss: 0.2491 - val_accuracy: 0.9297\n",
            "Epoch 17/30\n",
            "399/399 [==============================] - 4s 11ms/step - loss: 0.0612 - accuracy: 0.9768 - val_loss: 0.2335 - val_accuracy: 0.9330\n",
            "Epoch 18/30\n",
            "399/399 [==============================] - 6s 14ms/step - loss: 0.0567 - accuracy: 0.9780 - val_loss: 0.2496 - val_accuracy: 0.9322\n",
            "Epoch 19/30\n",
            "399/399 [==============================] - 4s 11ms/step - loss: 0.0519 - accuracy: 0.9806 - val_loss: 0.2562 - val_accuracy: 0.9341\n",
            "Epoch 20/30\n",
            "399/399 [==============================] - 4s 10ms/step - loss: 0.0483 - accuracy: 0.9825 - val_loss: 0.2605 - val_accuracy: 0.9323\n",
            "Epoch 21/30\n",
            "399/399 [==============================] - 4s 9ms/step - loss: 0.0468 - accuracy: 0.9827 - val_loss: 0.2535 - val_accuracy: 0.9358\n",
            "Epoch 22/30\n",
            "399/399 [==============================] - 4s 10ms/step - loss: 0.0437 - accuracy: 0.9838 - val_loss: 0.2875 - val_accuracy: 0.9278\n",
            "Epoch 23/30\n",
            "399/399 [==============================] - 4s 10ms/step - loss: 0.0401 - accuracy: 0.9856 - val_loss: 0.2815 - val_accuracy: 0.9296\n",
            "Epoch 24/30\n",
            "399/399 [==============================] - 4s 10ms/step - loss: 0.0387 - accuracy: 0.9859 - val_loss: 0.2739 - val_accuracy: 0.9338\n",
            "Epoch 25/30\n",
            "399/399 [==============================] - 4s 10ms/step - loss: 0.0374 - accuracy: 0.9863 - val_loss: 0.2845 - val_accuracy: 0.9341\n",
            "Epoch 26/30\n",
            "399/399 [==============================] - 4s 10ms/step - loss: 0.0339 - accuracy: 0.9875 - val_loss: 0.3006 - val_accuracy: 0.9308\n",
            "Epoch 27/30\n",
            "399/399 [==============================] - 4s 10ms/step - loss: 0.0350 - accuracy: 0.9872 - val_loss: 0.2979 - val_accuracy: 0.9336\n",
            "Epoch 28/30\n",
            "399/399 [==============================] - 4s 9ms/step - loss: 0.0299 - accuracy: 0.9893 - val_loss: 0.3229 - val_accuracy: 0.9319\n",
            "Epoch 29/30\n",
            "399/399 [==============================] - 4s 9ms/step - loss: 0.0321 - accuracy: 0.9885 - val_loss: 0.2896 - val_accuracy: 0.9337\n",
            "Epoch 30/30\n",
            "399/399 [==============================] - 4s 10ms/step - loss: 0.0278 - accuracy: 0.9902 - val_loss: 0.3144 - val_accuracy: 0.9320\n"
          ]
        }
      ]
    },
    {
      "metadata": {
        "trusted": true,
        "colab": {
          "base_uri": "https://localhost:8080/",
          "height": 302
        },
        "id": "b7MvN_WAdMvQ",
        "outputId": "07d58924-f2c3-4c69-f8fb-74a5ff69e749"
      },
      "cell_type": "code",
      "source": [
        "show_history(history)\n",
        "model.evaluate(test_images, test_oh_labels, batch_size=256, verbose=1)"
      ],
      "execution_count": null,
      "outputs": [
        {
          "output_type": "stream",
          "name": "stdout",
          "text": [
            "40/40 [==============================] - 0s 6ms/step - loss: 0.3557 - accuracy: 0.9274\n"
          ]
        },
        {
          "output_type": "execute_result",
          "data": {
            "text/plain": [
              "[0.3557157516479492, 0.9273999929428101]"
            ]
          },
          "metadata": {},
          "execution_count": 13
        },
        {
          "output_type": "display_data",
          "data": {
            "image/png": "[encoded data removed]",
            "text/plain": [
              "<Figure size 432x288 with 1 Axes>"
            ]
          },
          "metadata": {
            "needs_background": "light"
          }
        }
      ]
    },
    {
      "metadata": {
        "trusted": true,
        "colab": {
          "base_uri": "https://localhost:8080/"
        },
        "id": "d3wS-N6idMvQ",
        "outputId": "ece88d3b-ce36-4b50-94d4-0acf16d4328f"
      },
      "cell_type": "code",
      "source": [
        "from tensorflow.keras.layers import Dense, Flatten, Dropout, GlobalAveragePooling2D\n",
        "\n",
        "def create_model():\n",
        "    input_tensor = Input(shape=(28, 28, 1))\n",
        "    x = Conv2D(filters=32, kernel_size=3, strides=1, padding='same', activation='relu')(input_tensor)\n",
        "    x = Conv2D(filters=64, kernel_size=3, activation='relu')(x)\n",
        "    x = MaxPooling2D(2)(x)\n",
        "\n",
        "    #x = Dropout(rate=0.5)(x)\n",
        "    x = Flatten()(x)\n",
        "    x = Dropout(rate=0.5)(x)\n",
        "    x = Dense(200, activation='relu')(x)\n",
        "    X = Dropout(rate=0.2)(x)\n",
        "    output = Dense(10, activation='softmax')(x)\n",
        "    model = Model(inputs=input_tensor, outputs=output)\n",
        "    model.summary()\n",
        "    \n",
        "    return model\n",
        "\n",
        "model = create_model()"
      ],
      "execution_count": null,
      "outputs": [
        {
          "output_type": "stream",
          "name": "stdout",
          "text": [
            "Model: \"model_3\"\n",
            "_________________________________________________________________\n",
            " Layer (type)                Output Shape              Param #   \n",
            "=================================================================\n",
            " input_6 (InputLayer)        [(None, 28, 28, 1)]       0         \n",
            "                                                                 \n",
            " conv2d_8 (Conv2D)           (None, 28, 28, 32)        320       \n",
            "                                                                 \n",
            " conv2d_9 (Conv2D)           (None, 26, 26, 64)        18496     \n",
            "                                                                 \n",
            " max_pooling2d_4 (MaxPooling  (None, 13, 13, 64)       0         \n",
            " 2D)                                                             \n",
            "                                                                 \n",
            " flatten_2 (Flatten)         (None, 10816)             0         \n",
            "                                                                 \n",
            " dropout_1 (Dropout)         (None, 10816)             0         \n",
            "                                                                 \n",
            " dense_4 (Dense)             (None, 200)               2163400   \n",
            "                                                                 \n",
            " dense_5 (Dense)             (None, 10)                2010      \n",
            "                                                                 \n",
            "=================================================================\n",
            "Total params: 2,184,226\n",
            "Trainable params: 2,184,226\n",
            "Non-trainable params: 0\n",
            "_________________________________________________________________\n"
          ]
        }
      ]
    },
    {
      "metadata": {
        "trusted": true,
        "colab": {
          "base_uri": "https://localhost:8080/"
        },
        "id": "oFE9pMOXdMvQ",
        "outputId": "03a2d833-9fc1-402a-841f-f521ee97f147"
      },
      "cell_type": "code",
      "source": [
        "model.compile(optimizer=Adam(0.001), loss='categorical_crossentropy', metrics=['accuracy'])\n",
        "history = model.fit(x=tr_images, y=tr_oh_labels, batch_size=128, epochs=30, validation_data=(val_images, val_oh_labels))"
      ],
      "execution_count": null,
      "outputs": [
        {
          "output_type": "stream",
          "name": "stdout",
          "text": [
            "Epoch 1/30\n",
            "399/399 [==============================] - 5s 11ms/step - loss: 0.4520 - accuracy: 0.8385 - val_loss: 0.3250 - val_accuracy: 0.8814\n",
            "Epoch 2/30\n",
            "399/399 [==============================] - 4s 11ms/step - loss: 0.2872 - accuracy: 0.8962 - val_loss: 0.2670 - val_accuracy: 0.9033\n",
            "Epoch 3/30\n",
            "399/399 [==============================] - 4s 10ms/step - loss: 0.2405 - accuracy: 0.9116 - val_loss: 0.2360 - val_accuracy: 0.9149\n",
            "Epoch 4/30\n",
            "399/399 [==============================] - 4s 10ms/step - loss: 0.2086 - accuracy: 0.9230 - val_loss: 0.2253 - val_accuracy: 0.9174\n",
            "Epoch 5/30\n",
            "399/399 [==============================] - 4s 10ms/step - loss: 0.1841 - accuracy: 0.9324 - val_loss: 0.2168 - val_accuracy: 0.9232\n",
            "Epoch 6/30\n",
            "399/399 [==============================] - 4s 10ms/step - loss: 0.1594 - accuracy: 0.9411 - val_loss: 0.2143 - val_accuracy: 0.9257\n",
            "Epoch 7/30\n",
            "399/399 [==============================] - 4s 10ms/step - loss: 0.1406 - accuracy: 0.9480 - val_loss: 0.2094 - val_accuracy: 0.9261\n",
            "Epoch 8/30\n",
            "399/399 [==============================] - 4s 10ms/step - loss: 0.1241 - accuracy: 0.9534 - val_loss: 0.2041 - val_accuracy: 0.9299\n",
            "Epoch 9/30\n",
            "399/399 [==============================] - 5s 13ms/step - loss: 0.1063 - accuracy: 0.9593 - val_loss: 0.2205 - val_accuracy: 0.9291\n",
            "Epoch 10/30\n",
            "399/399 [==============================] - 5s 13ms/step - loss: 0.0937 - accuracy: 0.9655 - val_loss: 0.2180 - val_accuracy: 0.9313\n",
            "Epoch 11/30\n",
            "399/399 [==============================] - 5s 11ms/step - loss: 0.0843 - accuracy: 0.9686 - val_loss: 0.2285 - val_accuracy: 0.9259\n",
            "Epoch 12/30\n",
            "399/399 [==============================] - 4s 10ms/step - loss: 0.0742 - accuracy: 0.9720 - val_loss: 0.2296 - val_accuracy: 0.9271\n",
            "Epoch 13/30\n",
            "399/399 [==============================] - 4s 10ms/step - loss: 0.0645 - accuracy: 0.9765 - val_loss: 0.2388 - val_accuracy: 0.9307\n",
            "Epoch 14/30\n",
            "399/399 [==============================] - 4s 10ms/step - loss: 0.0587 - accuracy: 0.9777 - val_loss: 0.2394 - val_accuracy: 0.9294\n",
            "Epoch 15/30\n",
            "399/399 [==============================] - 4s 10ms/step - loss: 0.0526 - accuracy: 0.9806 - val_loss: 0.2308 - val_accuracy: 0.9306\n",
            "Epoch 16/30\n",
            "399/399 [==============================] - 4s 10ms/step - loss: 0.0503 - accuracy: 0.9814 - val_loss: 0.2571 - val_accuracy: 0.9321\n",
            "Epoch 17/30\n",
            "399/399 [==============================] - 4s 10ms/step - loss: 0.0433 - accuracy: 0.9842 - val_loss: 0.2942 - val_accuracy: 0.9262\n",
            "Epoch 18/30\n",
            "399/399 [==============================] - 4s 10ms/step - loss: 0.0392 - accuracy: 0.9864 - val_loss: 0.2794 - val_accuracy: 0.9314\n",
            "Epoch 19/30\n",
            "399/399 [==============================] - 4s 10ms/step - loss: 0.0376 - accuracy: 0.9863 - val_loss: 0.2780 - val_accuracy: 0.9307\n",
            "Epoch 20/30\n",
            "399/399 [==============================] - 4s 10ms/step - loss: 0.0359 - accuracy: 0.9869 - val_loss: 0.2928 - val_accuracy: 0.9307\n",
            "Epoch 21/30\n",
            "399/399 [==============================] - 4s 10ms/step - loss: 0.0321 - accuracy: 0.9884 - val_loss: 0.3071 - val_accuracy: 0.9316\n",
            "Epoch 22/30\n",
            "399/399 [==============================] - 4s 10ms/step - loss: 0.0317 - accuracy: 0.9884 - val_loss: 0.2902 - val_accuracy: 0.9314\n",
            "Epoch 23/30\n",
            "399/399 [==============================] - 4s 10ms/step - loss: 0.0264 - accuracy: 0.9905 - val_loss: 0.3110 - val_accuracy: 0.9308\n",
            "Epoch 24/30\n",
            "399/399 [==============================] - 4s 10ms/step - loss: 0.0266 - accuracy: 0.9901 - val_loss: 0.3258 - val_accuracy: 0.9330\n",
            "Epoch 25/30\n",
            "399/399 [==============================] - 4s 10ms/step - loss: 0.0232 - accuracy: 0.9920 - val_loss: 0.3226 - val_accuracy: 0.9320\n",
            "Epoch 26/30\n",
            "399/399 [==============================] - 4s 10ms/step - loss: 0.0267 - accuracy: 0.9905 - val_loss: 0.3195 - val_accuracy: 0.9323\n",
            "Epoch 27/30\n",
            "399/399 [==============================] - 4s 10ms/step - loss: 0.0246 - accuracy: 0.9915 - val_loss: 0.3324 - val_accuracy: 0.9359\n",
            "Epoch 28/30\n",
            "399/399 [==============================] - 4s 10ms/step - loss: 0.0215 - accuracy: 0.9919 - val_loss: 0.3415 - val_accuracy: 0.9344\n",
            "Epoch 29/30\n",
            "399/399 [==============================] - 4s 10ms/step - loss: 0.0223 - accuracy: 0.9921 - val_loss: 0.3445 - val_accuracy: 0.9338\n",
            "Epoch 30/30\n",
            "399/399 [==============================] - 4s 10ms/step - loss: 0.0221 - accuracy: 0.9922 - val_loss: 0.3492 - val_accuracy: 0.9337\n"
          ]
        }
      ]
    },
    {
      "metadata": {
        "trusted": true,
        "colab": {
          "base_uri": "https://localhost:8080/",
          "height": 302
        },
        "id": "RlwVRdMxdMvR",
        "outputId": "3da1bb1a-2189-470b-c50a-12154068f48c"
      },
      "cell_type": "code",
      "source": [
        "show_history(history)\n",
        "model.evaluate(test_images, test_oh_labels, batch_size=256, verbose=1)"
      ],
      "execution_count": null,
      "outputs": [
        {
          "output_type": "stream",
          "name": "stdout",
          "text": [
            "40/40 [==============================] - 0s 5ms/step - loss: 0.3530 - accuracy: 0.9313\n"
          ]
        },
        {
          "output_type": "execute_result",
          "data": {
            "text/plain": [
              "[0.35296109318733215, 0.9312999844551086]"
            ]
          },
          "metadata": {},
          "execution_count": 16
        },
        {
          "output_type": "display_data",
          "data": {
            "image/png": "[encoded data removed]",
            "text/plain": [
              "<Figure size 432x288 with 1 Axes>"
            ]
          },
          "metadata": {
            "needs_background": "light"
          }
        }
      ]
    },
    {
      "metadata": {
        "id": "AX6kgd-KdMvR"
      },
      "cell_type": "markdown",
      "source": [
        "### 입력 이미지는 배치를 포함하여 4차원이 되어야 함(즉 배치를 제외하면 3차원)\n",
        "* Conv2D()는 입력으로 배치를 제외하고 3차원 입력이 되어야 함. \n",
        "* 하지만 2차원으로 입력해도 Input(shape=(28, 28, 1)) 에서 3차원으로 변경함. \n",
        "* 명확하게는 2차원 Grayscale이미지더라도 입력 numpy 이미지 배열에서 배치를 제외한 3차원 입력을 만들어 주는게 좋음. "
      ]
    },
    {
      "metadata": {
        "trusted": true,
        "colab": {
          "base_uri": "https://localhost:8080/"
        },
        "id": "Ggr3BTaSdMvR",
        "outputId": "d9e4a09e-f807-4b38-a7d8-4a8f8750cbf5"
      },
      "cell_type": "code",
      "source": [
        "(train_images, train_labels), (test_images, test_labels) = fashion_mnist.load_data()\n",
        "\n",
        "print('before reshape:', train_images.shape, test_images.shape)\n",
        "train_images = np.reshape(train_images, (60000, 28, 28, 1))\n",
        "test_images = np.reshape(test_images, (10000, 28, 28, 1))\n",
        "print('after reshape:', train_images.shape, train_labels.shape, test_images.shape, test_labels.shape)\n",
        "\n",
        "(tr_images, tr_oh_labels), (val_images, val_oh_labels), (test_images, test_oh_labels) = \\\n",
        "    get_train_valid_test_set(train_images, train_labels, test_images, test_labels, valid_size=0.15, random_state=2021)\n",
        "print(tr_images.shape, tr_oh_labels.shape, val_images.shape, val_oh_labels.shape, test_images.shape, test_labels.shape)"
      ],
      "execution_count": null,
      "outputs": [
        {
          "output_type": "stream",
          "name": "stdout",
          "text": [
            "before reshape: (60000, 28, 28) (10000, 28, 28)\n",
            "after reshape: (60000, 28, 28, 1) (60000,) (10000, 28, 28, 1) (10000,)\n",
            "(51000, 28, 28, 1) (51000, 10) (9000, 28, 28, 1) (9000, 10) (10000, 28, 28, 1) (10000,)\n"
          ]
        }
      ]
    },
    {
      "metadata": {
        "id": "8-NnTioNdMvS"
      },
      "cell_type": "markdown",
      "source": [
        "### Stride가 1이고 Padding이 없는 경우\n",
        "* I는 입력 Feature Map의 크기, F는 Filter의 크기(Kernel size), P는 Padding(정수), S는 Strides(정수)\n",
        "* O = (I - F + 2P)/2 + 1 = (5 - 3 + 0 )/1 + 1 = 3"
      ]
    },
    {
      "metadata": {
        "trusted": true,
        "colab": {
          "base_uri": "https://localhost:8080/"
        },
        "id": "LwHzOhXXdMvS",
        "outputId": "e75ff681-841b-4381-f3d9-219646cabbb5"
      },
      "cell_type": "code",
      "source": [
        "from tensorflow.keras.layers import Input, Conv2D, MaxPooling2D\n",
        "from tensorflow.keras.models import Model\n",
        "\n",
        "input_tensor = Input(shape=(5, 5, 1))\n",
        "x = Conv2D(filters=1, kernel_size=3, strides=1)(input_tensor)\n",
        "print('x.shape:', x.shape)"
      ],
      "execution_count": null,
      "outputs": [
        {
          "output_type": "stream",
          "name": "stdout",
          "text": [
            "x.shape: (None, 3, 3, 1)\n"
          ]
        }
      ]
    },
    {
      "metadata": {
        "id": "041Bp6IYdMvT"
      },
      "cell_type": "markdown",
      "source": [
        "### Stride가 1이고 Padding이 1인 경우\n",
        "* O = (I - F + 2P)/2 + 1 = (5 - 3 + 2 )/1 + 1 = 5"
      ]
    },
    {
      "metadata": {
        "trusted": true,
        "colab": {
          "base_uri": "https://localhost:8080/"
        },
        "id": "fK7qAb-8dMvT",
        "outputId": "aaffc209-cc03-47da-94f2-214cd9027e13"
      },
      "cell_type": "code",
      "source": [
        "input_tensor = Input(shape=(5, 5, 1))\n",
        "x = Conv2D(filters=1, kernel_size=3, strides=1, padding='same')(input_tensor)\n",
        "print('x.shape:', x.shape)"
      ],
      "execution_count": null,
      "outputs": [
        {
          "output_type": "stream",
          "name": "stdout",
          "text": [
            "x.shape: (None, 5, 5, 1)\n"
          ]
        }
      ]
    },
    {
      "metadata": {
        "trusted": true,
        "colab": {
          "base_uri": "https://localhost:8080/"
        },
        "id": "j0fiE-lsdMvT",
        "outputId": "2e40fc49-63d1-466e-fb7a-c8aa386cf49b"
      },
      "cell_type": "code",
      "source": [
        "# ZeroPadding2D Layer를 이용하여 padding을 수동으로 적용. \n",
        "from tensorflow.keras.layers import ZeroPadding2D\n",
        "\n",
        "input_tensor = Input(shape=(5, 5, 1))\n",
        "padded_input = ZeroPadding2D(padding=1)(input_tensor)\n",
        "print('shape after padding:', padded_input.shape)\n",
        "x = Conv2D(filters=1, kernel_size=3, strides=1)(padded_input)\n",
        "print('x.shape:', x.shape)\n"
      ],
      "execution_count": null,
      "outputs": [
        {
          "output_type": "stream",
          "name": "stdout",
          "text": [
            "shape after padding: (None, 7, 7, 1)\n",
            "x.shape: (None, 5, 5, 1)\n"
          ]
        }
      ]
    },
    {
      "metadata": {
        "id": "LnLiDgNGdMvT"
      },
      "cell_type": "markdown",
      "source": [
        "### Stride가 2이고 Padding이 없는 경우 \n",
        "* O = (I - F + 2P)/2 + 1 = (5 - 3)/2 + 1 = 2"
      ]
    },
    {
      "metadata": {
        "trusted": true,
        "colab": {
          "base_uri": "https://localhost:8080/"
        },
        "id": "yJOo_6UldMvT",
        "outputId": "ec41c42d-17b0-47fb-8ca3-780cc7522735"
      },
      "cell_type": "code",
      "source": [
        "input_tensor = Input(shape=(5, 5, 1))\n",
        "x = Conv2D(filters=1, kernel_size=3, strides=2)(input_tensor)\n",
        "print('x.shape:', x.shape)"
      ],
      "execution_count": null,
      "outputs": [
        {
          "output_type": "stream",
          "name": "stdout",
          "text": [
            "x.shape: (None, 2, 2, 1)\n"
          ]
        }
      ]
    },
    {
      "metadata": {
        "id": "-baWUiZRdMvU"
      },
      "cell_type": "markdown",
      "source": [
        "### Stride가 2이고 Padding은 1 적용\n",
        "* O = (I - F + 2P)/2 + 1 = (5 - 3 + 2)/2 + 1 = 3"
      ]
    },
    {
      "metadata": {
        "trusted": true,
        "colab": {
          "base_uri": "https://localhost:8080/"
        },
        "id": "VA-lRQiSdMvU",
        "outputId": "a9e036ec-7654-4ac9-a485-7837a2c4aa69"
      },
      "cell_type": "code",
      "source": [
        "input_tensor = Input(shape=(5, 5, 1))\n",
        "padded_input = ZeroPadding2D(padding=1)(input_tensor)\n",
        "print('shape after padding:', padded_input.shape)\n",
        "x = Conv2D(filters=1, kernel_size=3, strides=2)(padded_input)\n",
        "print('x.shape:', x.shape)"
      ],
      "execution_count": null,
      "outputs": [
        {
          "output_type": "stream",
          "name": "stdout",
          "text": [
            "shape after padding: (None, 7, 7, 1)\n",
            "x.shape: (None, 3, 3, 1)\n"
          ]
        }
      ]
    },
    {
      "metadata": {
        "id": "GNwCFfVMdMvU"
      },
      "cell_type": "markdown",
      "source": [
        "### 입력이 6X6에서 Stride가 2 적용\n",
        "* O = (I - F + 2P)/2 + 1 = (6 - 3 + 0)/2 + 1 = 2.5 = 2"
      ]
    },
    {
      "metadata": {
        "trusted": true,
        "colab": {
          "base_uri": "https://localhost:8080/"
        },
        "id": "W6hKRac8dMvU",
        "outputId": "23c3b0e7-0f3b-40d8-89a2-0da8723a6538"
      },
      "cell_type": "code",
      "source": [
        "input_tensor = Input(shape=(6, 6, 1))\n",
        "x = Conv2D(filters=1, kernel_size=3, strides=2)(input_tensor)\n",
        "print('x.shape:', x.shape)"
      ],
      "execution_count": null,
      "outputs": [
        {
          "output_type": "stream",
          "name": "stdout",
          "text": [
            "x.shape: (None, 2, 2, 1)\n"
          ]
        }
      ]
    },
    {
      "metadata": {
        "trusted": true,
        "colab": {
          "base_uri": "https://localhost:8080/"
        },
        "id": "PBrzAXc9dMvU",
        "outputId": "31f413df-44cc-43c4-b375-d4d23cab10e8"
      },
      "cell_type": "code",
      "source": [
        "input_tensor = Input(shape=(6, 6, 1))\n",
        "x = Conv2D(filters=1, kernel_size=3, strides=2, padding='same')(input_tensor)\n",
        "print('x.shape:', x.shape)"
      ],
      "execution_count": null,
      "outputs": [
        {
          "output_type": "stream",
          "name": "stdout",
          "text": [
            "x.shape: (None, 3, 3, 1)\n"
          ]
        }
      ]
    },
    {
      "metadata": {
        "trusted": true,
        "colab": {
          "base_uri": "https://localhost:8080/"
        },
        "id": "SZELnQL-dMvV",
        "outputId": "e2eedc78-b154-4f5e-b3cb-719dabceadb6"
      },
      "cell_type": "code",
      "source": [
        "input_tensor = Input(shape=(6, 6, 1))\n",
        "padded_input = ZeroPadding2D(padding=1)(input_tensor)\n",
        "x = Conv2D(filters=1, kernel_size=3, strides=2, padding='valid')(padded_input)\n",
        "print('x.shape:', x.shape)"
      ],
      "execution_count": null,
      "outputs": [
        {
          "output_type": "stream",
          "name": "stdout",
          "text": [
            "x.shape: (None, 3, 3, 1)\n"
          ]
        }
      ]
    },
    {
      "metadata": {
        "trusted": true,
        "colab": {
          "base_uri": "https://localhost:8080/"
        },
        "id": "Tgjg_mwodMvV",
        "outputId": "c6474cc5-e4ca-45ae-aacb-1b0e437415d6"
      },
      "cell_type": "code",
      "source": [
        "input_tensor = Input(shape=(6, 6, 1))\n",
        "padded_input = ZeroPadding2D(padding=((1, 0),(1,0)))(input_tensor)\n",
        "x = Conv2D(filters=1, kernel_size=3, strides=2)(padded_input)\n",
        "print('x.shape:', x.shape)"
      ],
      "execution_count": null,
      "outputs": [
        {
          "output_type": "stream",
          "name": "stdout",
          "text": [
            "x.shape: (None, 3, 3, 1)\n"
          ]
        }
      ]
    },
    {
      "metadata": {
        "id": "EgbxTlzFdMvV"
      },
      "cell_type": "markdown",
      "source": [
        "### Maxpooling 적용"
      ]
    },
    {
      "metadata": {
        "trusted": true,
        "colab": {
          "base_uri": "https://localhost:8080/"
        },
        "id": "HCAHL_63dMvW",
        "outputId": "45007d57-6cac-498f-f7f3-55f326bbacc1"
      },
      "cell_type": "code",
      "source": [
        "input_tensor = Input(shape=(223, 223, 1))\n",
        "x = MaxPooling2D(2)(input_tensor)\n",
        "print('x.shape:', x.shape)"
      ],
      "execution_count": null,
      "outputs": [
        {
          "output_type": "stream",
          "name": "stdout",
          "text": [
            "x.shape: (None, 111, 111, 1)\n"
          ]
        }
      ]
    }
  ],
  "metadata": {
    "kernelspec": {
      "language": "python",
      "display_name": "Python 3",
      "name": "python3"
    },
    "language_info": {
      "pygments_lexer": "ipython3",
      "nbconvert_exporter": "python",
      "version": "3.6.4",
      "file_extension": ".py",
      "codemirror_mode": {
        "name": "ipython",
        "version": 3
      },
      "name": "python",
      "mimetype": "text/x-python"
    },
    "colab": {
      "name": "Conv_Practice.ipynb",
      "provenance": [],
      "collapsed_sections": [],
      "include_colab_link": true
    },
    "accelerator": "GPU"
  },
  "nbformat": 4,
  "nbformat_minor": 0
}