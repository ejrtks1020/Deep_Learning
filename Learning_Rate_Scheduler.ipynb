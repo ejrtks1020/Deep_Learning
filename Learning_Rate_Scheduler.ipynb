{
  "metadata": {
    "kernelspec": {
      "language": "python",
      "display_name": "Python 3",
      "name": "python3"
    },
    "language_info": {
      "name": "python",
      "version": "3.7.9",
      "mimetype": "text/x-python",
      "codemirror_mode": {
        "name": "ipython",
        "version": 3
      },
      "pygments_lexer": "ipython3",
      "nbconvert_exporter": "python",
      "file_extension": ".py"
    },
    "colab": {
      "name": "Learning_Rate_Scheduler.ipynb",
      "provenance": [],
      "include_colab_link": true
    },
    "accelerator": "GPU"
  },
  "nbformat_minor": 0,
  "nbformat": 4,
  "cells": [
    {
      "cell_type": "markdown",
      "metadata": {
        "id": "view-in-github",
        "colab_type": "text"
      },
      "source": [
        "<a href=\"https://colab.research.google.com/github/ejrtks1020/Deep_Learning/blob/main/Learning_Rate_Scheduler.ipynb\" target=\"_parent\"><img src=\"https://colab.research.google.com/assets/colab-badge.svg\" alt=\"Open In Colab\"/></a>"
      ]
    },
    {
      "cell_type": "markdown",
      "source": [
        "### LearningRateScheduler callback 객체에 입력될 scheduler 함수 선언. \n",
        "* epoch 증가 시 마다 LR이 exponentially decay 되도록 설정. "
      ],
      "metadata": {
        "id": "AlkQXu1fNiQi"
      }
    },
    {
      "cell_type": "code",
      "source": [
        "import tensorflow as tf\n",
        "import numpy as np\n",
        "\n",
        "def scheduler_exp(epoch, lr):\n",
        "    if epoch < 1:\n",
        "        return lr\n",
        "    else:\n",
        "        return lr * np.exp(-1.0)"
      ],
      "metadata": {
        "trusted": true,
        "id": "IpDSHE9ONiQm"
      },
      "execution_count": 1,
      "outputs": []
    },
    {
      "cell_type": "code",
      "source": [
        "np.exp(-2.0)"
      ],
      "metadata": {
        "trusted": true,
        "colab": {
          "base_uri": "https://localhost:8080/"
        },
        "id": "-gdG8dLDNiQn",
        "outputId": "b5f7670a-becc-4320-fb9d-0b8ad1e44129"
      },
      "execution_count": 2,
      "outputs": [
        {
          "output_type": "execute_result",
          "data": {
            "text/plain": [
              "0.1353352832366127"
            ]
          },
          "metadata": {},
          "execution_count": 2
        }
      ]
    },
    {
      "cell_type": "markdown",
      "source": [
        "### LearningRateScheduler 로 Learning Rate를 epochs 시마다 변경하기\n",
        "* LearningRateScheduler 객체 생성 시 인자로 scheduler 함수 입력하여 생성\n",
        "* model.fit() callbacks인자로 LearningRateScheduler 객체 입력"
      ],
      "metadata": {
        "id": "nML1LSOxNiQo"
      }
    },
    {
      "cell_type": "code",
      "source": [
        "from tensorflow.keras.models import Sequential\n",
        "from tensorflow.keras.layers import Dense\n",
        "from tensorflow.keras.optimizers import SGD\n",
        "\n",
        "from tensorflow.keras.callbacks import LearningRateScheduler\n",
        "\n",
        "\n",
        "def scheduler_exp(epoch, lr):\n",
        "    if epoch < 1:\n",
        "        return lr\n",
        "    else:\n",
        "        return lr * np.exp(-1.0)\n",
        "    \n",
        "# 테스트용 임시 모델을 생성. \n",
        "model = Sequential([Dense(10)])\n",
        "model.compile(optimizer=SGD(), loss='mse')\n",
        "print('최초 learning rated:', round(model.optimizer.lr.numpy(), 5))\n",
        "\n",
        "# LearningRateScheduler 객체에 인자로 scheduler_exp 함수 등록 \n",
        "lr_scheduler = LearningRateScheduler(scheduler_exp, verbose=1)\n",
        "\n",
        "history = model.fit(np.arange(100).reshape(5, 20), np.zeros(5),\n",
        "                    epochs=15, callbacks=[lr_scheduler], verbose=1)"
      ],
      "metadata": {
        "trusted": true,
        "colab": {
          "base_uri": "https://localhost:8080/"
        },
        "id": "N1lOgZYiNiQo",
        "outputId": "17500c29-2800-4c31-bc47-056e636d228a"
      },
      "execution_count": 3,
      "outputs": [
        {
          "output_type": "stream",
          "name": "stdout",
          "text": [
            "최초 learning rated: 0.01\n",
            "\n",
            "Epoch 00001: LearningRateScheduler setting learning rate to 0.009999999776482582.\n",
            "Epoch 1/15\n",
            "1/1 [==============================] - 2s 2s/step - loss: 2596.4526 - lr: 0.0100\n",
            "\n",
            "Epoch 00002: LearningRateScheduler setting learning rate to 0.0036787943294869607.\n",
            "Epoch 2/15\n",
            "1/1 [==============================] - 0s 9ms/step - loss: 43802376.0000 - lr: 0.0037\n",
            "\n",
            "Epoch 00003: LearningRateScheduler setting learning rate to 0.0013533527735202996.\n",
            "Epoch 3/15\n",
            "1/1 [==============================] - 0s 10ms/step - loss: 97577787392.0000 - lr: 0.0014\n",
            "\n",
            "Epoch 00004: LearningRateScheduler setting learning rate to 0.0004978706704056293.\n",
            "Epoch 4/15\n",
            "1/1 [==============================] - 0s 11ms/step - loss: 27315172016128.0000 - lr: 4.9787e-04\n",
            "\n",
            "Epoch 00005: LearningRateScheduler setting learning rate to 0.00018315638425888493.\n",
            "Epoch 5/15\n",
            "1/1 [==============================] - 0s 10ms/step - loss: 833189564121088.0000 - lr: 1.8316e-04\n",
            "\n",
            "Epoch 00006: LearningRateScheduler setting learning rate to 6.73794688923822e-05.\n",
            "Epoch 6/15\n",
            "1/1 [==============================] - 0s 8ms/step - loss: 1632244070350848.0000 - lr: 6.7379e-05\n",
            "\n",
            "Epoch 00007: LearningRateScheduler setting learning rate to 2.4787522192144945e-05.\n",
            "Epoch 7/15\n",
            "1/1 [==============================] - 0s 9ms/step - loss: 22426620526592.0000 - lr: 2.4788e-05\n",
            "\n",
            "Epoch 00008: LearningRateScheduler setting learning rate to 9.118819519637878e-06.\n",
            "Epoch 8/15\n",
            "1/1 [==============================] - 0s 10ms/step - loss: 10225461493760.0000 - lr: 9.1188e-06\n",
            "\n",
            "Epoch 00009: LearningRateScheduler setting learning rate to 3.35462619776653e-06.\n",
            "Epoch 9/15\n",
            "1/1 [==============================] - 0s 8ms/step - loss: 7928108023808.0000 - lr: 3.3546e-06\n",
            "\n",
            "Epoch 00010: LearningRateScheduler setting learning rate to 1.2340980071972145e-06.\n",
            "Epoch 10/15\n",
            "1/1 [==============================] - 0s 10ms/step - loss: 7246522613760.0000 - lr: 1.2341e-06\n",
            "\n",
            "Epoch 00011: LearningRateScheduler setting learning rate to 4.539992906826829e-07.\n",
            "Epoch 11/15\n",
            "1/1 [==============================] - 0s 11ms/step - loss: 7014082150400.0000 - lr: 4.5400e-07\n",
            "\n",
            "Epoch 00012: LearningRateScheduler setting learning rate to 1.670170056471376e-07.\n",
            "Epoch 12/15\n",
            "1/1 [==============================] - 0s 7ms/step - loss: 6930890227712.0000 - lr: 1.6702e-07\n",
            "\n",
            "Epoch 00013: LearningRateScheduler setting learning rate to 6.144212299791121e-08.\n",
            "Epoch 13/15\n",
            "1/1 [==============================] - 0s 12ms/step - loss: 6900590575616.0000 - lr: 6.1442e-08\n",
            "\n",
            "Epoch 00014: LearningRateScheduler setting learning rate to 2.2603293690026104e-08.\n",
            "Epoch 14/15\n",
            "1/1 [==============================] - 0s 11ms/step - loss: 6889485107200.0000 - lr: 2.2603e-08\n",
            "\n",
            "Epoch 00015: LearningRateScheduler setting learning rate to 8.31528696638835e-09.\n",
            "Epoch 15/15\n",
            "1/1 [==============================] - 0s 9ms/step - loss: 6885405622272.0000 - lr: 8.3153e-09\n"
          ]
        }
      ]
    },
    {
      "cell_type": "markdown",
      "source": [
        "### scheduler_exp 함수 결과를 시각화"
      ],
      "metadata": {
        "id": "Q70OjI7dNiQp"
      }
    },
    {
      "cell_type": "code",
      "source": [
        "def scheduler_exp(epoch):\n",
        "    initial_lr = 0.01\n",
        "    if epoch < 1:\n",
        "        return initial_lr\n",
        "    else:\n",
        "        return initial_lr * np.exp(-1.0)**epoch\n",
        "\n",
        "    \n",
        "model = Sequential([Dense(10)])\n",
        "model.compile(optimizer=SGD(), loss='mse')\n",
        "print('최초 learning rated:', round(model.optimizer.lr.numpy(), 5))\n",
        "\n",
        "# LearningRateScheduler 객체에 인자로 scheduler_exp 함수 등록 \n",
        "lr_scheduler = LearningRateScheduler(scheduler_exp, verbose=1)\n",
        "history = model.fit(np.arange(100).reshape(5, 20), np.zeros(5),\n",
        "                    epochs=15, callbacks=[lr_scheduler], verbose=1)"
      ],
      "metadata": {
        "trusted": true,
        "colab": {
          "base_uri": "https://localhost:8080/"
        },
        "id": "3cwarfghNiQq",
        "outputId": "0e57cac9-c97b-4f1e-c62e-c83c8f1a657d"
      },
      "execution_count": 4,
      "outputs": [
        {
          "output_type": "stream",
          "name": "stdout",
          "text": [
            "최초 learning rated: 0.01\n",
            "\n",
            "Epoch 00001: LearningRateScheduler setting learning rate to 0.01.\n",
            "Epoch 1/15\n",
            "1/1 [==============================] - 0s 267ms/step - loss: 7040.3350 - lr: 0.0100\n",
            "\n",
            "Epoch 00002: LearningRateScheduler setting learning rate to 0.0036787944117144234.\n",
            "Epoch 2/15\n",
            "1/1 [==============================] - 0s 7ms/step - loss: 118886312.0000 - lr: 0.0037\n",
            "\n",
            "Epoch 00003: LearningRateScheduler setting learning rate to 0.0013533528323661271.\n",
            "Epoch 3/15\n",
            "1/1 [==============================] - 0s 8ms/step - loss: 264841019392.0000 - lr: 0.0014\n",
            "\n",
            "Epoch 00004: LearningRateScheduler setting learning rate to 0.0004978706836786395.\n",
            "Epoch 4/15\n",
            "1/1 [==============================] - 0s 6ms/step - loss: 74137552814080.0000 - lr: 4.9787e-04\n",
            "\n",
            "Epoch 00005: LearningRateScheduler setting learning rate to 0.00018315638888734184.\n",
            "Epoch 5/15\n",
            "1/1 [==============================] - 0s 8ms/step - loss: 2261403897430016.0000 - lr: 1.8316e-04\n",
            "\n",
            "Epoch 00006: LearningRateScheduler setting learning rate to 6.737946999085469e-05.\n",
            "Epoch 6/15\n",
            "1/1 [==============================] - 0s 8ms/step - loss: 4430160786882560.0000 - lr: 6.7379e-05\n",
            "\n",
            "Epoch 00007: LearningRateScheduler setting learning rate to 2.4787521766663588e-05.\n",
            "Epoch 7/15\n",
            "1/1 [==============================] - 0s 11ms/step - loss: 60869257986048.0000 - lr: 2.4788e-05\n",
            "\n",
            "Epoch 00008: LearningRateScheduler setting learning rate to 9.118819655545164e-06.\n",
            "Epoch 8/15\n",
            "1/1 [==============================] - 0s 8ms/step - loss: 27753457909760.0000 - lr: 9.1188e-06\n",
            "\n",
            "Epoch 00009: LearningRateScheduler setting learning rate to 3.354626279025119e-06.\n",
            "Epoch 9/15\n",
            "1/1 [==============================] - 0s 10ms/step - loss: 21518092337152.0000 - lr: 3.3546e-06\n",
            "\n",
            "Epoch 00010: LearningRateScheduler setting learning rate to 1.234098040866796e-06.\n",
            "Epoch 10/15\n",
            "1/1 [==============================] - 0s 7ms/step - loss: 19668165197824.0000 - lr: 1.2341e-06\n",
            "\n",
            "Epoch 00011: LearningRateScheduler setting learning rate to 4.539992976248487e-07.\n",
            "Epoch 11/15\n",
            "1/1 [==============================] - 0s 7ms/step - loss: 19037287350272.0000 - lr: 4.5400e-07\n",
            "\n",
            "Epoch 00012: LearningRateScheduler setting learning rate to 1.6701700790245666e-07.\n",
            "Epoch 12/15\n",
            "1/1 [==============================] - 0s 14ms/step - loss: 18811489091584.0000 - lr: 1.6702e-07\n",
            "\n",
            "Epoch 00013: LearningRateScheduler setting learning rate to 6.144212353328212e-08.\n",
            "Epoch 13/15\n",
            "1/1 [==============================] - 0s 7ms/step - loss: 18729249275904.0000 - lr: 6.1442e-08\n",
            "\n",
            "Epoch 00014: LearningRateScheduler setting learning rate to 2.2603294069810555e-08.\n",
            "Epoch 14/15\n",
            "1/1 [==============================] - 0s 12ms/step - loss: 18699109007360.0000 - lr: 2.2603e-08\n",
            "\n",
            "Epoch 00015: LearningRateScheduler setting learning rate to 8.315287191035682e-09.\n",
            "Epoch 15/15\n",
            "1/1 [==============================] - 0s 8ms/step - loss: 18688036044800.0000 - lr: 8.3153e-09\n"
          ]
        }
      ]
    },
    {
      "cell_type": "code",
      "source": [
        "epochs_list = range(30)\n",
        "lr_list = [ scheduler_exp(epoch) for epoch in epochs_list]"
      ],
      "metadata": {
        "trusted": true,
        "id": "hYDrfWRMNiQr"
      },
      "execution_count": 5,
      "outputs": []
    },
    {
      "cell_type": "code",
      "source": [
        "import matplotlib.pyplot as plt\n",
        "%matplotlib inline\n",
        "\n",
        "def plot_scheduler(epochs_list, lr_list, title=None):\n",
        "    plt.figure(figsize=(6,4))\n",
        "    plt.plot(epochs_list, lr_list)\n",
        "    plt.xlabel('epochs')\n",
        "    plt.ylabel('learning rate')\n",
        "    plt.title(title)"
      ],
      "metadata": {
        "trusted": true,
        "id": "aPUysOOhNiQs"
      },
      "execution_count": 6,
      "outputs": []
    },
    {
      "cell_type": "code",
      "source": [
        "plot_scheduler(epochs_list, lr_list, 'exponentially decay')"
      ],
      "metadata": {
        "trusted": true,
        "colab": {
          "base_uri": "https://localhost:8080/",
          "height": 295
        },
        "id": "KVivlZu5NiQs",
        "outputId": "2aabfcf2-368c-4f2b-8bc8-e61454c70637"
      },
      "execution_count": 7,
      "outputs": [
        {
          "output_type": "display_data",
          "data": {
            "image/png": "[encoded data removed]",
            "text/plain": [
              "<Figure size 432x288 with 1 Axes>"
            ]
          },
          "metadata": {
            "needs_background": "light"
          }
        }
      ]
    },
    {
      "cell_type": "markdown",
      "source": [
        "### 또 다른 함수(step_decay)로 LearningRateScheduler 객체 생성하여 LR 조절. "
      ],
      "metadata": {
        "id": "sGSuVoitNiQt"
      }
    },
    {
      "cell_type": "code",
      "source": [
        "import tensorflow as tf\n",
        "\n",
        "def step_decay(epoch):\n",
        "    initial_lr = 0.1\n",
        "    drop = 0.5\n",
        "    epochs_drop = 5.0\n",
        "    lr = initial_lr * (drop ** np.floor((epoch)/epochs_drop))\n",
        "    print('epoch:',epoch,'lr:', lr)\n",
        "    return lr\n",
        "\n",
        "lr_list = [step_decay(epoch) for epoch  in epochs_list]\n",
        "plot_scheduler(epochs_list, lr_list, title='Step Decay')"
      ],
      "metadata": {
        "trusted": true,
        "colab": {
          "base_uri": "https://localhost:8080/",
          "height": 853
        },
        "id": "wqz2Yym2NiQt",
        "outputId": "19d1fcca-0d5d-44f7-cfc5-66252734368b"
      },
      "execution_count": 8,
      "outputs": [
        {
          "output_type": "stream",
          "name": "stdout",
          "text": [
            "epoch: 0 lr: 0.1\n",
            "epoch: 1 lr: 0.1\n",
            "epoch: 2 lr: 0.1\n",
            "epoch: 3 lr: 0.1\n",
            "epoch: 4 lr: 0.1\n",
            "epoch: 5 lr: 0.05\n",
            "epoch: 6 lr: 0.05\n",
            "epoch: 7 lr: 0.05\n",
            "epoch: 8 lr: 0.05\n",
            "epoch: 9 lr: 0.05\n",
            "epoch: 10 lr: 0.025\n",
            "epoch: 11 lr: 0.025\n",
            "epoch: 12 lr: 0.025\n",
            "epoch: 13 lr: 0.025\n",
            "epoch: 14 lr: 0.025\n",
            "epoch: 15 lr: 0.0125\n",
            "epoch: 16 lr: 0.0125\n",
            "epoch: 17 lr: 0.0125\n",
            "epoch: 18 lr: 0.0125\n",
            "epoch: 19 lr: 0.0125\n",
            "epoch: 20 lr: 0.00625\n",
            "epoch: 21 lr: 0.00625\n",
            "epoch: 22 lr: 0.00625\n",
            "epoch: 23 lr: 0.00625\n",
            "epoch: 24 lr: 0.00625\n",
            "epoch: 25 lr: 0.003125\n",
            "epoch: 26 lr: 0.003125\n",
            "epoch: 27 lr: 0.003125\n",
            "epoch: 28 lr: 0.003125\n",
            "epoch: 29 lr: 0.003125\n"
          ]
        },
        {
          "output_type": "display_data",
          "data": {
            "image/png": "[encoded data removed]",
            "text/plain": [
              "<Figure size 432x288 with 1 Axes>"
            ]
          },
          "metadata": {
            "needs_background": "light"
          }
        }
      ]
    },
    {
      "cell_type": "code",
      "source": [
        "model = Sequential([Dense(10)])\n",
        "model.compile(optimizer=SGD(), loss='mse')\n",
        "print('최초 learning rated:', round(model.optimizer.lr.numpy(), 5))\n",
        "\n",
        "lr_scheduler = LearningRateScheduler(step_decay, verbose=1)\n",
        "history = model.fit(np.arange(100).reshape(5, 20), np.zeros(5),\n",
        "                    epochs=15, callbacks=[lr_scheduler], verbose=1)"
      ],
      "metadata": {
        "trusted": true,
        "colab": {
          "base_uri": "https://localhost:8080/"
        },
        "id": "gV1LslHINiQt",
        "outputId": "7eb2786a-497b-4a12-8c15-dc04942a8cb9"
      },
      "execution_count": 9,
      "outputs": [
        {
          "output_type": "stream",
          "name": "stdout",
          "text": [
            "최초 learning rated: 0.01\n",
            "epoch: 0 lr: 0.1\n",
            "\n",
            "Epoch 00001: LearningRateScheduler setting learning rate to 0.1.\n",
            "Epoch 1/15\n",
            "1/1 [==============================] - 0s 271ms/step - loss: 2064.8408 - lr: 0.1000\n",
            "epoch: 1 lr: 0.1\n",
            "\n",
            "Epoch 00002: LearningRateScheduler setting learning rate to 0.1.\n",
            "Epoch 2/15\n",
            "1/1 [==============================] - 0s 11ms/step - loss: 3519965696.0000 - lr: 0.1000\n",
            "epoch: 2 lr: 0.1\n",
            "\n",
            "Epoch 00003: LearningRateScheduler setting learning rate to 0.1.\n",
            "Epoch 3/15\n",
            "1/1 [==============================] - 0s 8ms/step - loss: 6032930107293696.0000 - lr: 0.1000\n",
            "epoch: 3 lr: 0.1\n",
            "\n",
            "Epoch 00004: LearningRateScheduler setting learning rate to 0.1.\n",
            "Epoch 4/15\n",
            "1/1 [==============================] - 0s 9ms/step - loss: 10339943862969208668160.0000 - lr: 0.1000\n",
            "epoch: 4 lr: 0.1\n",
            "\n",
            "Epoch 00005: LearningRateScheduler setting learning rate to 0.1.\n",
            "Epoch 5/15\n",
            "1/1 [==============================] - 0s 10ms/step - loss: 17721810053149370227011616768.0000 - lr: 0.1000\n",
            "epoch: 5 lr: 0.05\n",
            "\n",
            "Epoch 00006: LearningRateScheduler setting learning rate to 0.05.\n",
            "Epoch 6/15\n",
            "1/1 [==============================] - 0s 9ms/step - loss: 30373713042493911957039693231554560.0000 - lr: 0.0500\n",
            "epoch: 6 lr: 0.05\n",
            "\n",
            "Epoch 00007: LearningRateScheduler setting learning rate to 0.05.\n",
            "Epoch 7/15\n",
            "1/1 [==============================] - 0s 7ms/step - loss: inf - lr: 0.0500\n",
            "epoch: 7 lr: 0.05\n",
            "\n",
            "Epoch 00008: LearningRateScheduler setting learning rate to 0.05.\n",
            "Epoch 8/15\n",
            "1/1 [==============================] - 0s 16ms/step - loss: inf - lr: 0.0500\n",
            "epoch: 8 lr: 0.05\n",
            "\n",
            "Epoch 00009: LearningRateScheduler setting learning rate to 0.05.\n",
            "Epoch 9/15\n",
            "1/1 [==============================] - 0s 6ms/step - loss: inf - lr: 0.0500\n",
            "epoch: 9 lr: 0.05\n",
            "\n",
            "Epoch 00010: LearningRateScheduler setting learning rate to 0.05.\n",
            "Epoch 10/15\n",
            "1/1 [==============================] - 0s 12ms/step - loss: inf - lr: 0.0500\n",
            "epoch: 10 lr: 0.025\n",
            "\n",
            "Epoch 00011: LearningRateScheduler setting learning rate to 0.025.\n",
            "Epoch 11/15\n",
            "1/1 [==============================] - 0s 15ms/step - loss: inf - lr: 0.0250\n",
            "epoch: 11 lr: 0.025\n",
            "\n",
            "Epoch 00012: LearningRateScheduler setting learning rate to 0.025.\n",
            "Epoch 12/15\n",
            "1/1 [==============================] - 0s 11ms/step - loss: inf - lr: 0.0250\n",
            "epoch: 12 lr: 0.025\n",
            "\n",
            "Epoch 00013: LearningRateScheduler setting learning rate to 0.025.\n",
            "Epoch 13/15\n",
            "1/1 [==============================] - 0s 12ms/step - loss: inf - lr: 0.0250\n",
            "epoch: 13 lr: 0.025\n",
            "\n",
            "Epoch 00014: LearningRateScheduler setting learning rate to 0.025.\n",
            "Epoch 14/15\n",
            "1/1 [==============================] - 0s 9ms/step - loss: inf - lr: 0.0250\n",
            "epoch: 14 lr: 0.025\n",
            "\n",
            "Epoch 00015: LearningRateScheduler setting learning rate to 0.025.\n",
            "Epoch 15/15\n",
            "1/1 [==============================] - 0s 11ms/step - loss: nan - lr: 0.0250\n"
          ]
        }
      ]
    },
    {
      "cell_type": "code",
      "source": [
        ""
      ],
      "metadata": {
        "trusted": true,
        "id": "kHOzrBuuNiQu"
      },
      "execution_count": null,
      "outputs": []
    },
    {
      "cell_type": "markdown",
      "source": [
        "### Cosine Decay 적용하기\n",
        "* Tensorflow 2.x은 Cosine Decay를 tf.keras.experimental.CosineDecay로 제공\n",
        "* tf.keras.experimental.CosineDecay는 callback이 아니라 optimizer의 LearningRateSchedule 이며, model.compile()의 optimizer 인자의 learning_rate로 값 입력 부여\n",
        "* initial_learning_rate는 최초 LR\n",
        "* decay_steps는 감소 적용할 steps \n",
        "* alpha는 최소 LR\n"
      ],
      "metadata": {
        "id": "aDtUrrp0NiQu"
      }
    },
    {
      "cell_type": "code",
      "source": [
        "cos_decay = tf.keras.experimental.CosineDecay(initial_learning_rate=1e-2, decay_steps=30, alpha=1e-2)"
      ],
      "metadata": {
        "trusted": true,
        "id": "bW4sglYANiQu"
      },
      "execution_count": 10,
      "outputs": []
    },
    {
      "cell_type": "code",
      "source": [
        "type(cos_decay)"
      ],
      "metadata": {
        "trusted": true,
        "colab": {
          "base_uri": "https://localhost:8080/"
        },
        "id": "jh6VR4J9NiQv",
        "outputId": "322c7d2c-3521-4661-d5e9-f73575631582"
      },
      "execution_count": 11,
      "outputs": [
        {
          "output_type": "execute_result",
          "data": {
            "text/plain": [
              "keras.optimizer_v2.learning_rate_schedule.CosineDecay"
            ]
          },
          "metadata": {},
          "execution_count": 11
        }
      ]
    },
    {
      "cell_type": "code",
      "source": [
        "import matplotlib.pyplot as plt\n",
        "%matplotlib inline\n",
        "\n",
        "def plot_scheduler(epochs_list, lr_list, title=None):\n",
        "    plt.figure(figsize=(6,4))\n",
        "    plt.plot(epochs_list, lr_list)\n",
        "    plt.xlabel('epochs')\n",
        "    plt.ylabel('learning rate')\n",
        "    plt.title(title)\n",
        "\n",
        "cos_decay = tf.keras.experimental.CosineDecay(initial_learning_rate=1e-2, decay_steps=30, alpha=1e-2)\n",
        "\n",
        "steps_list = range(0, 30)\n",
        "lr_list = cos_decay(steps_list)\n",
        "\n",
        "plot_scheduler(steps_list, lr_list, 'Cosine Decay')"
      ],
      "metadata": {
        "trusted": true,
        "colab": {
          "base_uri": "https://localhost:8080/",
          "height": 295
        },
        "id": "t-JB8VgwNiQv",
        "outputId": "f0ad3c7c-469e-4a06-ea93-4e21d55435b8"
      },
      "execution_count": 12,
      "outputs": [
        {
          "output_type": "display_data",
          "data": {
            "image/png": "[encoded data removed]",
            "text/plain": [
              "<Figure size 432x288 with 1 Axes>"
            ]
          },
          "metadata": {
            "needs_background": "light"
          }
        }
      ]
    },
    {
      "cell_type": "markdown",
      "source": [
        "### tf.keras.experimental.CosineDecay는 optimizer의 learning_rate 인자로 입력 되어야 함\n",
        "* Callback이 아니므로 epochs시마다 변경되는 learning rate값을 알 수가 없음"
      ],
      "metadata": {
        "id": "4mdzK0guNiQv"
      }
    },
    {
      "cell_type": "code",
      "source": [
        "model = tf.keras.models.Sequential([tf.keras.layers.Dense(10)])\n",
        "# CosineDecay 객체는 optimizer의 learning_rate 인자로 입력되어야 함. \n",
        "model.compile(tf.keras.optimizers.Adam(learning_rate=cos_decay), loss='mse')\n",
        "\n",
        "history = model.fit(np.arange(100).reshape(5, 20), np.zeros(5),\n",
        "                    epochs=15, verbose=1)"
      ],
      "metadata": {
        "trusted": true,
        "colab": {
          "base_uri": "https://localhost:8080/"
        },
        "id": "IUsCq0hfNiQv",
        "outputId": "d1e28aa7-b561-4024-c195-46d933fb75e6"
      },
      "execution_count": 13,
      "outputs": [
        {
          "output_type": "stream",
          "name": "stdout",
          "text": [
            "Epoch 1/15\n",
            "1/1 [==============================] - 0s 379ms/step - loss: 5608.5674\n",
            "Epoch 2/15\n",
            "1/1 [==============================] - 0s 7ms/step - loss: 4257.6709\n",
            "Epoch 3/15\n",
            "1/1 [==============================] - 0s 7ms/step - loss: 3171.6331\n",
            "Epoch 4/15\n",
            "1/1 [==============================] - 0s 9ms/step - loss: 2322.9636\n",
            "Epoch 5/15\n",
            "1/1 [==============================] - 0s 13ms/step - loss: 1683.7041\n",
            "Epoch 6/15\n",
            "1/1 [==============================] - 0s 9ms/step - loss: 1224.0425\n",
            "Epoch 7/15\n",
            "1/1 [==============================] - 0s 10ms/step - loss: 908.8320\n",
            "Epoch 8/15\n",
            "1/1 [==============================] - 0s 16ms/step - loss: 698.7773\n",
            "Epoch 9/15\n",
            "1/1 [==============================] - 0s 8ms/step - loss: 556.7141\n",
            "Epoch 10/15\n",
            "1/1 [==============================] - 0s 10ms/step - loss: 455.3150\n",
            "Epoch 11/15\n",
            "1/1 [==============================] - 0s 10ms/step - loss: 378.4685\n",
            "Epoch 12/15\n",
            "1/1 [==============================] - 0s 6ms/step - loss: 317.7974\n",
            "Epoch 13/15\n",
            "1/1 [==============================] - 0s 12ms/step - loss: 268.9303\n",
            "Epoch 14/15\n",
            "1/1 [==============================] - 0s 10ms/step - loss: 229.2537\n",
            "Epoch 15/15\n",
            "1/1 [==============================] - 0s 10ms/step - loss: 196.9813\n"
          ]
        }
      ]
    },
    {
      "cell_type": "code",
      "source": [
        "decay_steps = 30\n",
        "alpha = 0.0\n",
        "initial_learning_rate = 0.01\n",
        "\n",
        "def decayed_learning_rate(step):\n",
        "    step = min(step, decay_steps)\n",
        "    cosine_decay = 0.5 * (1 + np.cos(np.pi * step / decay_steps))\n",
        "    decayed = (1 - alpha) * cosine_decay + alpha\n",
        "    return initial_learning_rate * decayed\n",
        "\n",
        "steps_list = range(0, 30)\n",
        "lr_list = [decayed_learning_rate(step) for step in steps_list]\n",
        "\n",
        "plot_scheduler(steps_list, lr_list, 'Cosine Decay')"
      ],
      "metadata": {
        "trusted": true,
        "colab": {
          "base_uri": "https://localhost:8080/",
          "height": 295
        },
        "id": "jcJb_1MGNiQw",
        "outputId": "39ee8995-ffc2-4bfa-f81d-1105072d6024"
      },
      "execution_count": 14,
      "outputs": [
        {
          "output_type": "display_data",
          "data": {
            "image/png": "[encoded data removed]",
            "text/plain": [
              "<Figure size 432x288 with 1 Axes>"
            ]
          },
          "metadata": {
            "needs_background": "light"
          }
        }
      ]
    },
    {
      "cell_type": "markdown",
      "source": [
        "### Cosine Decay Restart(Cosine Annealing) 적용하기\n",
        "* tf.keras.experimental.CosineDecayRestarts 객체를 이용하여 적용\n",
        "* CosineDecay 객체와 마찬가지로 Callback이 아니므로 optimizer의 learning_rate인자로 입력 되어야 함. \n",
        "* initial_learning_rate는 최초 LR, first_decay_steps는 최초 decay step 수\n",
        "* t_mul는 전체 steps수를 감안해서 얼마나 cosine annealing을 반복할 지 결정하는 계수. 1이면 전체 steps/first_decay_steps, 2이면 분모를 이전 값 대비 2배로 증가 시킴\n",
        "* m_mul은 warm restart시 수행시마다 적용될 초기 learning rate\n",
        "* alpha는 최소 learning rate로 설정 계수로 최소 lr은 initial learning rate * alpha로 설정됨. "
      ],
      "metadata": {
        "id": "J_mMErRlNiQw"
      }
    },
    {
      "cell_type": "code",
      "source": [
        "from tensorflow.keras.experimental import CosineDecayRestarts\n",
        "\n",
        "cos_decay_restarts = CosineDecayRestarts(initial_learning_rate=0.01, first_decay_steps=10, t_mul=1, m_mul=0.9, alpha=0)\n",
        "steps_list = range(0, 120)\n",
        "lr_list = cos_decay_restarts(steps_list)\n",
        "\n",
        "plot_scheduler(steps_list, lr_list, 'Cosine Decay Restarts')"
      ],
      "metadata": {
        "trusted": true,
        "colab": {
          "base_uri": "https://localhost:8080/",
          "height": 295
        },
        "id": "L_j9_elQNiQw",
        "outputId": "a344eeab-1a8f-4383-effa-2e33fde667c2"
      },
      "execution_count": 15,
      "outputs": [
        {
          "output_type": "display_data",
          "data": {
            "image/png": "[encoded data removed]",
            "text/plain": [
              "<Figure size 432x288 with 1 Axes>"
            ]
          },
          "metadata": {
            "needs_background": "light"
          }
        }
      ]
    },
    {
      "cell_type": "code",
      "source": [
        "model = tf.keras.models.Sequential([tf.keras.layers.Dense(10)])\n",
        "# CosineDecay 객체는 optimizer의 learning_rate 인자로 입력되어야 함. \n",
        "model.compile(tf.keras.optimizers.Adam(learning_rate=cos_decay_restarts), loss='mse')\n",
        "\n",
        "history = model.fit(np.arange(100).reshape(5, 20), np.zeros(5),\n",
        "                    epochs=15, verbose=1)"
      ],
      "metadata": {
        "trusted": true,
        "colab": {
          "base_uri": "https://localhost:8080/"
        },
        "id": "SNn9kiULNiQw",
        "outputId": "3efc9fe9-43d5-4843-feea-0ee0c02aa921"
      },
      "execution_count": 16,
      "outputs": [
        {
          "output_type": "stream",
          "name": "stdout",
          "text": [
            "Epoch 1/15\n",
            "1/1 [==============================] - 0s 450ms/step - loss: 5533.9468\n",
            "Epoch 2/15\n",
            "1/1 [==============================] - 0s 11ms/step - loss: 4413.5566\n",
            "Epoch 3/15\n",
            "1/1 [==============================] - 0s 5ms/step - loss: 3533.1016\n",
            "Epoch 4/15\n",
            "1/1 [==============================] - 0s 12ms/step - loss: 2880.6104\n",
            "Epoch 5/15\n",
            "1/1 [==============================] - 0s 9ms/step - loss: 2392.5728\n",
            "Epoch 6/15\n",
            "1/1 [==============================] - 0s 8ms/step - loss: 2027.6049\n",
            "Epoch 7/15\n",
            "1/1 [==============================] - 0s 7ms/step - loss: 1768.4551\n",
            "Epoch 8/15\n",
            "1/1 [==============================] - 0s 5ms/step - loss: 1600.0779\n",
            "Epoch 9/15\n",
            "1/1 [==============================] - 0s 8ms/step - loss: 1504.1786\n",
            "Epoch 10/15\n",
            "1/1 [==============================] - 0s 9ms/step - loss: 1460.9431\n",
            "Epoch 11/15\n",
            "1/1 [==============================] - 0s 7ms/step - loss: 1449.9736\n",
            "Epoch 12/15\n",
            "1/1 [==============================] - 0s 9ms/step - loss: 1087.7811\n",
            "Epoch 13/15\n",
            "1/1 [==============================] - 0s 9ms/step - loss: 812.7046\n",
            "Epoch 14/15\n",
            "1/1 [==============================] - 0s 7ms/step - loss: 615.8277\n",
            "Epoch 15/15\n",
            "1/1 [==============================] - 0s 12ms/step - loss: 478.2834\n"
          ]
        }
      ]
    },
    {
      "cell_type": "markdown",
      "source": [
        ""
      ],
      "metadata": {
        "id": "a4XonWH9NiQx"
      }
    },
    {
      "cell_type": "markdown",
      "source": [
        "### Ramp Up and Step Down Decay\n",
        "* Ramp up으로 warm up 수행 후 Step 형식으로 Decay 하는 방식. \n",
        "* Kaggle의 Chris Deotte 가 제안하여 사용됨. "
      ],
      "metadata": {
        "id": "TsYVXTPaNiQx"
      }
    },
    {
      "cell_type": "code",
      "source": [
        "LR_START = 1e-5\n",
        "LR_MAX = 1e-2\n",
        "LR_RAMPUP_EPOCHS = 5\n",
        "LR_SUSTAIN_EPOCHS = 10\n",
        "LR_STEP_DECAY = 0.75\n",
        "\n",
        "def lrfn(epoch):\n",
        "    if epoch < LR_RAMPUP_EPOCHS:\n",
        "        lr = ((LR_MAX - LR_START) / LR_RAMPUP_EPOCHS) * epoch + LR_START\n",
        "    elif epoch < LR_RAMPUP_EPOCHS + LR_SUSTAIN_EPOCHS:\n",
        "        lr = LR_MAX\n",
        "    else:\n",
        "        lr = LR_MAX * LR_STEP_DECAY**((epoch - LR_RAMPUP_EPOCHS - LR_SUSTAIN_EPOCHS)//2)\n",
        "    #print('epoch:', epoch, 'lr:', lr)\n",
        "    return lr\n",
        "\n",
        "lr_list = [lrfn(epoch) for epoch  in epochs_list]\n",
        "\n",
        "plot_scheduler(epochs_list, lr_list, title='WarmUp')"
      ],
      "metadata": {
        "trusted": true,
        "id": "ubB9cxS2NiQx"
      },
      "execution_count": null,
      "outputs": []
    },
    {
      "cell_type": "markdown",
      "source": [
        "### 아래와 같이 내포 함수로 생성하는 것을 권장. "
      ],
      "metadata": {
        "id": "2ux33q2xNiQx"
      }
    },
    {
      "cell_type": "code",
      "source": [
        "def lrfn(epoch):\n",
        "    LR_START = 1e-5\n",
        "    LR_MAX = 1e-2\n",
        "    LR_RAMPUP_EPOCHS = 3\n",
        "    LR_SUSTAIN_EPOCHS = 3\n",
        "    LR_STEP_DECAY = 0.75\n",
        "    \n",
        "    def calc_fn(epoch):\n",
        "        if epoch < LR_RAMPUP_EPOCHS:\n",
        "            lr = ((LR_MAX - LR_START) / LR_RAMPUP_EPOCHS) * epoch + LR_START\n",
        "        elif epoch < LR_RAMPUP_EPOCHS + LR_SUSTAIN_EPOCHS:\n",
        "            lr = LR_MAX\n",
        "        else:\n",
        "            lr = LR_MAX * LR_STEP_DECAY**((epoch - LR_RAMPUP_EPOCHS - LR_SUSTAIN_EPOCHS)//2)\n",
        "        \n",
        "        print('epoch:', epoch, 'lr:', lr)\n",
        "        \n",
        "        return lr\n",
        "    \n",
        "    # 반드시 내포 함수인 calc_fn(epoch)를 호출해야함. \n",
        "    return calc_fn(epoch)"
      ],
      "metadata": {
        "trusted": true,
        "id": "HaS-uMAxNiQx"
      },
      "execution_count": null,
      "outputs": []
    },
    {
      "cell_type": "code",
      "source": [
        "import tensorflow as tf\n",
        "import numpy as np\n",
        "\n",
        "\n",
        "model = tf.keras.models.Sequential([tf.keras.layers.Dense(10)])\n",
        "model.compile(tf.keras.optimizers.SGD(), loss='mse')\n",
        "\n",
        "lr_scheduler = tf.keras.callbacks.LearningRateScheduler(lrfn)\n",
        "history = model.fit(np.arange(100).reshape(5, 20), np.zeros(5),\n",
        "                    epochs=30, callbacks=[lr_scheduler], verbose=1)\n"
      ],
      "metadata": {
        "trusted": true,
        "id": "z1nNFSf5NiQy"
      },
      "execution_count": null,
      "outputs": []
    },
    {
      "cell_type": "code",
      "source": [
        ""
      ],
      "metadata": {
        "trusted": true,
        "id": "7rVavGP3NiQy"
      },
      "execution_count": null,
      "outputs": []
    },
    {
      "cell_type": "markdown",
      "source": [
        "### Cosine Decay를 Callback 으로 구현. "
      ],
      "metadata": {
        "id": "gLanV_nDNiQy"
      }
    },
    {
      "cell_type": "code",
      "source": [
        "from collections.abc import Iterable\n",
        "from tensorflow.keras.callbacks import *\n",
        "from tensorflow.keras import backend as K\n",
        "import tensorflow as tf\n",
        "from tensorflow.python.ops import math_ops\n",
        "from tensorflow.python.ops import control_flow_ops\n",
        "from tensorflow.python.framework import constant_op\n",
        "import math\n",
        "\n",
        "\n",
        "class CosineDecayCB(tf.keras.callbacks.Callback):\n",
        "    def __init__(self, initial_learning_rate, decay_steps):\n",
        "        super(CosineDecayCB, self).__init__()\n",
        "        self.initial_learning_rate = initial_learning_rate\n",
        "        self.decay_steps = decay_steps\n",
        "        self.batch_step = 0\n",
        "        self.calc_lr = 0.0\n",
        "\n",
        "    def on_train_batch_begin(self, step, logs=None):\n",
        "        if not hasattr(self.model.optimizer, \"lr\"):\n",
        "            raise ValueError('Optimizer must have a \"lr\" attribute.')\n",
        "        # optimizer의 현재 learning rate를 가져옴. \n",
        "        lr = float(tf.keras.backend.get_value(self.model.optimizer.learning_rate))\n",
        "        # schedule 함수에 batch_step과 lr을 입력하여 step에 따른 lr 계산. \n",
        "        scheduled_lr = self.schedule(self.batch_step, lr)\n",
        "        # 계산된 scheduled_lr을 optimizer의 lr로 입력. \n",
        "        tf.keras.backend.set_value(self.model.optimizer.lr, scheduled_lr)\n",
        "        self.batch_step += 1\n",
        "        self.calc_lr = scheduled_lr\n",
        "        \n",
        "    def on_epoch_end(self, epoch, logs=None):\n",
        "        print('learning rate:', self.calc_lr)\n",
        "        \n",
        "    # cosine decay learning rate를 step 별로 계산. \n",
        "    def schedule(self, step, lr):\n",
        "        def decayed_learning_rate(step, lr):\n",
        "            step = min(step, self.decay_steps)\n",
        "            cosine_decay = 0.5 * (1 + np.cos(np.pi * step / self.decay_steps))\n",
        "            decayed = (1 - alpha) * cosine_decay + alpha\n",
        "            return lr * decayed\n",
        "        \n",
        "        return decayed_learning_rate(step, lr)\n",
        "        "
      ],
      "metadata": {
        "trusted": true,
        "id": "K6WfuInvNiQy"
      },
      "execution_count": null,
      "outputs": []
    },
    {
      "cell_type": "code",
      "source": [
        "model = tf.keras.models.Sequential([tf.keras.layers.Dense(10)])\n",
        "model.compile(tf.keras.optimizers.Adam(learning_rate=0.01), loss='mse')\n",
        "\n",
        "cosine_scheduler = CosineDecayCB(0.01, 100)\n",
        "#lr_scheduler = tf.keras.callbacks.LearningRateScheduler(scheduler)\n",
        "#lr_monitor = LearningRateMonitor()\n",
        "history = model.fit(np.arange(100).reshape(5, 20), np.zeros(5),\n",
        "                    epochs=30, callbacks=[cosine_scheduler], verbose=1)"
      ],
      "metadata": {
        "trusted": true,
        "id": "5CiH8__mNiQz"
      },
      "execution_count": null,
      "outputs": []
    },
    {
      "cell_type": "markdown",
      "source": [
        "### Cosine Decay Restart 를 Callback으로 구현. \n",
        "* https://gist.github.com/jeremyjordan/5a222e04bb78c242f5763ad40626c452"
      ],
      "metadata": {
        "id": "o8Fnf9b_NiQz"
      }
    },
    {
      "cell_type": "code",
      "source": [
        "from tensorflow.keras import backend as K\n",
        "\n",
        "class LearningRateMonitor(Callback):\n",
        "    # start of training\n",
        "    def on_train_begin(self, logs={}):\n",
        "        self.lrates = list()\n",
        "\n",
        "    # end of each training epoch\n",
        "    def on_epoch_end(self, epoch, logs={}):\n",
        "        # get and store the learning rate\n",
        "        optimizer = self.model.optimizer\n",
        "        lrate = float(K.get_value(self.model.optimizer.lr))\n",
        "        print('learning rate:', lrate)\n",
        "        self.lrates.append(lrate)"
      ],
      "metadata": {
        "trusted": true,
        "id": "TZFXleiQNiQz"
      },
      "execution_count": null,
      "outputs": []
    },
    {
      "cell_type": "code",
      "source": [
        "# https://gist.github.com/jeremyjordan/5a222e04bb78c242f5763ad40626c452\n",
        "\n",
        "from collections.abc import Iterable\n",
        "from tensorflow.keras.callbacks import *\n",
        "from tensorflow.keras import backend as K\n",
        "import tensorflow as tf\n",
        "from tensorflow.python.ops import math_ops\n",
        "from tensorflow.python.ops import control_flow_ops\n",
        "from tensorflow.python.framework import constant_op\n",
        "import math\n",
        "\n",
        "\n",
        "class CosineDecayRestarts(tf.keras.callbacks.Callback):\n",
        "    def __init__(self, initial_learning_rate, first_decay_steps, alpha=0.0, t_mul=2.0, m_mul=1.0):\n",
        "        super(CosineDecayRestarts, self).__init__()\n",
        "        self.initial_learning_rate = initial_learning_rate\n",
        "        self.first_decay_steps = first_decay_steps\n",
        "        self.alpha = alpha\n",
        "        self.t_mul = t_mul\n",
        "        self.m_mul = m_mul\n",
        "        self.batch_step = 0\n",
        "\n",
        "    def on_train_batch_begin(self, step, logs=None):\n",
        "        if not hasattr(self.model.optimizer, \"lr\"):\n",
        "            raise ValueError('Optimizer must have a \"lr\" attribute.')\n",
        "        # Get the current learning rate from model's optimizer.\n",
        "        lr = float(tf.keras.backend.get_value(self.model.optimizer.learning_rate))\n",
        "        # Call schedule function to get the scheduled learning rate.\n",
        "        scheduled_lr = self.schedule(self.batch_step, lr)\n",
        "        # Set the value back to the optimizer before this epoch starts\n",
        "        tf.keras.backend.set_value(self.model.optimizer.lr, scheduled_lr)\n",
        "        self.batch_step += 1\n",
        "\n",
        "    def schedule(self, step, lr):\n",
        "        def compute_step(completed_fraction, geometric=False):\n",
        "            \"\"\"Helper for `cond` operation.\"\"\"\n",
        "            if geometric:\n",
        "                i_restart = math_ops.floor(\n",
        "                  math_ops.log(1.0 - completed_fraction * (1.0 - self.t_mul)) /\n",
        "                  math_ops.log(self.t_mul))\n",
        "\n",
        "                sum_r = (1.0 - self.t_mul**i_restart) / (1.0 - self.t_mul)\n",
        "                completed_fraction = (completed_fraction - sum_r) / self.t_mul**i_restart\n",
        "\n",
        "            else:\n",
        "                i_restart = math_ops.floor(completed_fraction)\n",
        "                completed_fraction -= i_restart\n",
        "\n",
        "            return i_restart, completed_fraction\n",
        "\n",
        "        completed_fraction = step / self.first_decay_steps\n",
        "\n",
        "        i_restart, completed_fraction = control_flow_ops.cond(\n",
        "          math_ops.equal(self.t_mul, 1.0),\n",
        "          lambda: compute_step(completed_fraction, geometric=False),\n",
        "          lambda: compute_step(completed_fraction, geometric=True))\n",
        "\n",
        "        m_fac = self.m_mul**i_restart\n",
        "        cosine_decayed = 0.5 * m_fac * (1.0 + math_ops.cos(\n",
        "          constant_op.constant(math.pi) * completed_fraction))\n",
        "        decayed = (1 - self.alpha) * cosine_decayed + self.alpha\n",
        "\n",
        "        return math_ops.multiply(self.initial_learning_rate, decayed)"
      ],
      "metadata": {
        "trusted": true,
        "id": "6ghck22lNiQz"
      },
      "execution_count": null,
      "outputs": []
    },
    {
      "cell_type": "code",
      "source": [
        "model = tf.keras.models.Sequential([tf.keras.layers.Dense(10)])\n",
        "model.compile(tf.keras.optimizers.Adam(learning_rate=0.01), loss='mse')\n",
        "\n",
        "cosine_scheduler = CosineDecayRestarts(0.01, 100)\n",
        "lr_monitor = LearningRateMonitor()\n",
        "history = model.fit(np.arange(100).reshape(5, 20), np.zeros(5),\n",
        "                    epochs=15, callbacks=[cosine_scheduler, lr_monitor], verbose=1)"
      ],
      "metadata": {
        "trusted": true,
        "id": "DZ2OaKzgNiQ0"
      },
      "execution_count": null,
      "outputs": []
    },
    {
      "cell_type": "code",
      "source": [
        ""
      ],
      "metadata": {
        "trusted": true,
        "id": "pXJjvDm1NiQ0"
      },
      "execution_count": null,
      "outputs": []
    }
  ]
}